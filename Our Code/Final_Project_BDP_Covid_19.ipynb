{
  "cells": [
    {
      "cell_type": "markdown",
      "source": [
        "# 1. Environment setup"
      ],
      "metadata": {
        "id": "I6GD1f_jpqMS"
      }
    },
    {
      "cell_type": "code",
      "execution_count": null,
      "metadata": {
        "id": "llLAQGT9RrnJ",
        "colab": {
          "base_uri": "https://localhost:8080/"
        },
        "outputId": "010d532d-8af4-4d5b-9191-ade405b42dff"
      },
      "outputs": [
        {
          "output_type": "stream",
          "name": "stdout",
          "text": [
            "3.8.10\n"
          ]
        }
      ],
      "source": [
        "\n",
        "from platform import python_version\n",
        "\n",
        "print(python_version())"
      ]
    },
    {
      "cell_type": "markdown",
      "source": [
        "env python should be 3.8.10"
      ],
      "metadata": {
        "id": "Mjv72AF4py-Y"
      }
    },
    {
      "cell_type": "code",
      "source": [
        "!apt-get install openjdk-8-jdk-headless -qq > /dev/null\n",
        "\n",
        "\n"
      ],
      "metadata": {
        "id": "hlZoNHyvruvK"
      },
      "execution_count": null,
      "outputs": []
    },
    {
      "cell_type": "code",
      "source": [
        "#install spark 3.3.1\n",
        "#!wget -O ./spark-3.3.1-bin-hadoop3.tgz  https://dlcdn.apache.org/spark/spark-3.3.1/spark-3.3.1-bin-hadoop3.tgz\n",
        "#alternatives\n",
        "#!wget -O ./spark-3.3.1-bin-hadoop3.tgz https://archive.apache.org/dist/spark/spark-3.3.1/spark-3.3.1-bin-hadoop3.2.tgz\n",
        "!wget -O ./spark-3.3.1-bin-hadoop3.tgz https://mirror.ibcp.fr/pub/apache/spark/spark-3.3.1/spark-3.3.1-bin-hadoop3.2.tgz\n",
        "!tar zxvf ./spark-3.3.1-bin-hadoop3.tgz\n",
        "\n"
      ],
      "metadata": {
        "colab": {
          "base_uri": "https://localhost:8080/"
        },
        "id": "tSAC0dAauMYH",
        "outputId": "5766b9b5-b915-494c-ad3c-8a8b5cf93fc9"
      },
      "execution_count": null,
      "outputs": [
        {
          "output_type": "stream",
          "name": "stdout",
          "text": [
            "--2023-02-18 21:41:35--  https://mirror.ibcp.fr/pub/apache/spark/spark-3.3.1/spark-3.3.1-bin-hadoop3.2.tgz\n",
            "Resolving mirror.ibcp.fr (mirror.ibcp.fr)... 194.254.245.145, 2001:660:500b:245::145\n",
            "Connecting to mirror.ibcp.fr (mirror.ibcp.fr)|194.254.245.145|:443... connected.\n",
            "HTTP request sent, awaiting response... 404 Not Found\n",
            "2023-02-18 21:41:38 ERROR 404: Not Found.\n",
            "\n",
            "\n",
            "gzip: stdin: unexpected end of file\n",
            "tar: Child returned status 1\n",
            "tar: Error is not recoverable: exiting now\n"
          ]
        }
      ]
    },
    {
      "cell_type": "code",
      "source": [
        "#!wget -O ./spark-3.3.1-bin-hadoop3.tgz https://archive.apache.org/dist/spark/spark-3.3.1/spark-3.3.1-bin-hadoop3.2.tgz\n",
        "#!wget -O ./spark-3.3.1-bin-hadoop3.tgz https://mirror.ibcp.fr/pub/apache/spark/spark-3.3.1/spark-3.3.1-bin-hadoop3.2.tgz\n",
        "!wget -O ./spark-3.3.2-bin-hadoop3.tgz https://dlcdn.apache.org/spark/spark-3.3.2/spark-3.3.2-bin-hadoop3.tgz\n",
        "!tar zxvf ./spark-3.3.2-bin-hadoop3.tgz"
      ],
      "metadata": {
        "colab": {
          "base_uri": "https://localhost:8080/"
        },
        "id": "SrZ36J0esgik",
        "outputId": "6713dfa3-b5f7-478e-916a-9054e7599d5b"
      },
      "execution_count": null,
      "outputs": [
        {
          "output_type": "stream",
          "name": "stdout",
          "text": [
            "--2023-02-18 21:41:38--  https://dlcdn.apache.org/spark/spark-3.3.2/spark-3.3.2-bin-hadoop3.tgz\n",
            "Resolving dlcdn.apache.org (dlcdn.apache.org)... 151.101.2.132, 2a04:4e42::644\n",
            "Connecting to dlcdn.apache.org (dlcdn.apache.org)|151.101.2.132|:443... connected.\n",
            "HTTP request sent, awaiting response... 200 OK\n",
            "Length: 299360284 (285M) [application/x-gzip]\n",
            "Saving to: ‘./spark-3.3.2-bin-hadoop3.tgz’\n",
            "\n",
            "./spark-3.3.2-bin-h 100%[===================>] 285.49M  99.2MB/s    in 2.9s    \n",
            "\n",
            "2023-02-18 21:41:41 (99.2 MB/s) - ‘./spark-3.3.2-bin-hadoop3.tgz’ saved [299360284/299360284]\n",
            "\n",
            "spark-3.3.2-bin-hadoop3/\n",
            "spark-3.3.2-bin-hadoop3/LICENSE\n",
            "spark-3.3.2-bin-hadoop3/NOTICE\n",
            "spark-3.3.2-bin-hadoop3/R/\n",
            "spark-3.3.2-bin-hadoop3/R/lib/\n",
            "spark-3.3.2-bin-hadoop3/R/lib/SparkR/\n",
            "spark-3.3.2-bin-hadoop3/R/lib/SparkR/DESCRIPTION\n",
            "spark-3.3.2-bin-hadoop3/R/lib/SparkR/INDEX\n",
            "spark-3.3.2-bin-hadoop3/R/lib/SparkR/Meta/\n",
            "spark-3.3.2-bin-hadoop3/R/lib/SparkR/Meta/Rd.rds\n",
            "spark-3.3.2-bin-hadoop3/R/lib/SparkR/Meta/features.rds\n",
            "spark-3.3.2-bin-hadoop3/R/lib/SparkR/Meta/hsearch.rds\n",
            "spark-3.3.2-bin-hadoop3/R/lib/SparkR/Meta/links.rds\n",
            "spark-3.3.2-bin-hadoop3/R/lib/SparkR/Meta/nsInfo.rds\n",
            "spark-3.3.2-bin-hadoop3/R/lib/SparkR/Meta/package.rds\n",
            "spark-3.3.2-bin-hadoop3/R/lib/SparkR/Meta/vignette.rds\n",
            "spark-3.3.2-bin-hadoop3/R/lib/SparkR/NAMESPACE\n",
            "spark-3.3.2-bin-hadoop3/R/lib/SparkR/R/\n",
            "spark-3.3.2-bin-hadoop3/R/lib/SparkR/R/SparkR\n",
            "spark-3.3.2-bin-hadoop3/R/lib/SparkR/R/SparkR.rdb\n",
            "spark-3.3.2-bin-hadoop3/R/lib/SparkR/R/SparkR.rdx\n",
            "spark-3.3.2-bin-hadoop3/R/lib/SparkR/doc/\n",
            "spark-3.3.2-bin-hadoop3/R/lib/SparkR/doc/index.html\n",
            "spark-3.3.2-bin-hadoop3/R/lib/SparkR/doc/sparkr-vignettes.R\n",
            "spark-3.3.2-bin-hadoop3/R/lib/SparkR/doc/sparkr-vignettes.Rmd\n",
            "spark-3.3.2-bin-hadoop3/R/lib/SparkR/doc/sparkr-vignettes.html\n",
            "spark-3.3.2-bin-hadoop3/R/lib/SparkR/help/\n",
            "spark-3.3.2-bin-hadoop3/R/lib/SparkR/help/AnIndex\n",
            "spark-3.3.2-bin-hadoop3/R/lib/SparkR/help/SparkR.rdb\n",
            "spark-3.3.2-bin-hadoop3/R/lib/SparkR/help/SparkR.rdx\n",
            "spark-3.3.2-bin-hadoop3/R/lib/SparkR/help/aliases.rds\n",
            "spark-3.3.2-bin-hadoop3/R/lib/SparkR/help/paths.rds\n",
            "spark-3.3.2-bin-hadoop3/R/lib/SparkR/html/\n",
            "spark-3.3.2-bin-hadoop3/R/lib/SparkR/html/00Index.html\n",
            "spark-3.3.2-bin-hadoop3/R/lib/SparkR/html/R.css\n",
            "spark-3.3.2-bin-hadoop3/R/lib/SparkR/profile/\n",
            "spark-3.3.2-bin-hadoop3/R/lib/SparkR/profile/general.R\n",
            "spark-3.3.2-bin-hadoop3/R/lib/SparkR/profile/shell.R\n",
            "spark-3.3.2-bin-hadoop3/R/lib/SparkR/tests/\n",
            "spark-3.3.2-bin-hadoop3/R/lib/SparkR/tests/testthat/\n",
            "spark-3.3.2-bin-hadoop3/R/lib/SparkR/tests/testthat/test_basic.R\n",
            "spark-3.3.2-bin-hadoop3/R/lib/SparkR/worker/\n",
            "spark-3.3.2-bin-hadoop3/R/lib/SparkR/worker/daemon.R\n",
            "spark-3.3.2-bin-hadoop3/R/lib/SparkR/worker/worker.R\n",
            "spark-3.3.2-bin-hadoop3/R/lib/sparkr.zip\n",
            "spark-3.3.2-bin-hadoop3/README.md\n",
            "spark-3.3.2-bin-hadoop3/RELEASE\n",
            "spark-3.3.2-bin-hadoop3/bin/\n",
            "spark-3.3.2-bin-hadoop3/bin/beeline\n",
            "spark-3.3.2-bin-hadoop3/bin/beeline.cmd\n",
            "spark-3.3.2-bin-hadoop3/bin/docker-image-tool.sh\n",
            "spark-3.3.2-bin-hadoop3/bin/find-spark-home\n",
            "spark-3.3.2-bin-hadoop3/bin/find-spark-home.cmd\n",
            "spark-3.3.2-bin-hadoop3/bin/load-spark-env.cmd\n",
            "spark-3.3.2-bin-hadoop3/bin/load-spark-env.sh\n",
            "spark-3.3.2-bin-hadoop3/bin/pyspark\n",
            "spark-3.3.2-bin-hadoop3/bin/pyspark.cmd\n",
            "spark-3.3.2-bin-hadoop3/bin/pyspark2.cmd\n",
            "spark-3.3.2-bin-hadoop3/bin/run-example\n",
            "spark-3.3.2-bin-hadoop3/bin/run-example.cmd\n",
            "spark-3.3.2-bin-hadoop3/bin/spark-class\n",
            "spark-3.3.2-bin-hadoop3/bin/spark-class.cmd\n",
            "spark-3.3.2-bin-hadoop3/bin/spark-class2.cmd\n",
            "spark-3.3.2-bin-hadoop3/bin/spark-shell\n",
            "spark-3.3.2-bin-hadoop3/bin/spark-shell.cmd\n",
            "spark-3.3.2-bin-hadoop3/bin/spark-shell2.cmd\n",
            "spark-3.3.2-bin-hadoop3/bin/spark-sql\n",
            "spark-3.3.2-bin-hadoop3/bin/spark-sql.cmd\n",
            "spark-3.3.2-bin-hadoop3/bin/spark-sql2.cmd\n",
            "spark-3.3.2-bin-hadoop3/bin/spark-submit\n",
            "spark-3.3.2-bin-hadoop3/bin/spark-submit.cmd\n",
            "spark-3.3.2-bin-hadoop3/bin/spark-submit2.cmd\n",
            "spark-3.3.2-bin-hadoop3/bin/sparkR\n",
            "spark-3.3.2-bin-hadoop3/bin/sparkR.cmd\n",
            "spark-3.3.2-bin-hadoop3/bin/sparkR2.cmd\n",
            "spark-3.3.2-bin-hadoop3/conf/\n",
            "spark-3.3.2-bin-hadoop3/conf/fairscheduler.xml.template\n",
            "spark-3.3.2-bin-hadoop3/conf/log4j2.properties.template\n",
            "spark-3.3.2-bin-hadoop3/conf/metrics.properties.template\n",
            "spark-3.3.2-bin-hadoop3/conf/spark-defaults.conf.template\n",
            "spark-3.3.2-bin-hadoop3/conf/spark-env.sh.template\n",
            "spark-3.3.2-bin-hadoop3/conf/workers.template\n",
            "spark-3.3.2-bin-hadoop3/data/\n",
            "spark-3.3.2-bin-hadoop3/data/graphx/\n",
            "spark-3.3.2-bin-hadoop3/data/graphx/followers.txt\n",
            "spark-3.3.2-bin-hadoop3/data/graphx/users.txt\n",
            "spark-3.3.2-bin-hadoop3/data/mllib/\n",
            "spark-3.3.2-bin-hadoop3/data/mllib/als/\n",
            "spark-3.3.2-bin-hadoop3/data/mllib/als/sample_movielens_ratings.txt\n",
            "spark-3.3.2-bin-hadoop3/data/mllib/als/test.data\n",
            "spark-3.3.2-bin-hadoop3/data/mllib/gmm_data.txt\n",
            "spark-3.3.2-bin-hadoop3/data/mllib/images/\n",
            "spark-3.3.2-bin-hadoop3/data/mllib/images/license.txt\n",
            "spark-3.3.2-bin-hadoop3/data/mllib/images/origin/\n",
            "spark-3.3.2-bin-hadoop3/data/mllib/images/origin/kittens/\n",
            "spark-3.3.2-bin-hadoop3/data/mllib/images/origin/kittens/29.5.a_b_EGDP022204.jpg\n",
            "spark-3.3.2-bin-hadoop3/data/mllib/images/origin/kittens/54893.jpg\n",
            "spark-3.3.2-bin-hadoop3/data/mllib/images/origin/kittens/DP153539.jpg\n",
            "spark-3.3.2-bin-hadoop3/data/mllib/images/origin/kittens/DP802813.jpg\n",
            "spark-3.3.2-bin-hadoop3/data/mllib/images/origin/kittens/not-image.txt\n",
            "spark-3.3.2-bin-hadoop3/data/mllib/images/origin/license.txt\n",
            "spark-3.3.2-bin-hadoop3/data/mllib/images/origin/multi-channel/\n",
            "spark-3.3.2-bin-hadoop3/data/mllib/images/origin/multi-channel/BGRA.png\n",
            "spark-3.3.2-bin-hadoop3/data/mllib/images/origin/multi-channel/BGRA_alpha_60.png\n",
            "spark-3.3.2-bin-hadoop3/data/mllib/images/origin/multi-channel/chr30.4.184.jpg\n",
            "spark-3.3.2-bin-hadoop3/data/mllib/images/origin/multi-channel/grayscale.jpg\n",
            "spark-3.3.2-bin-hadoop3/data/mllib/kmeans_data.txt\n",
            "spark-3.3.2-bin-hadoop3/data/mllib/pagerank_data.txt\n",
            "spark-3.3.2-bin-hadoop3/data/mllib/pic_data.txt\n",
            "spark-3.3.2-bin-hadoop3/data/mllib/ridge-data/\n",
            "spark-3.3.2-bin-hadoop3/data/mllib/ridge-data/lpsa.data\n",
            "spark-3.3.2-bin-hadoop3/data/mllib/sample_binary_classification_data.txt\n",
            "spark-3.3.2-bin-hadoop3/data/mllib/sample_fpgrowth.txt\n",
            "spark-3.3.2-bin-hadoop3/data/mllib/sample_isotonic_regression_libsvm_data.txt\n",
            "spark-3.3.2-bin-hadoop3/data/mllib/sample_kmeans_data.txt\n",
            "spark-3.3.2-bin-hadoop3/data/mllib/sample_lda_data.txt\n",
            "spark-3.3.2-bin-hadoop3/data/mllib/sample_lda_libsvm_data.txt\n",
            "spark-3.3.2-bin-hadoop3/data/mllib/sample_libsvm_data.txt\n",
            "spark-3.3.2-bin-hadoop3/data/mllib/sample_linear_regression_data.txt\n",
            "spark-3.3.2-bin-hadoop3/data/mllib/sample_movielens_data.txt\n",
            "spark-3.3.2-bin-hadoop3/data/mllib/sample_multiclass_classification_data.txt\n",
            "spark-3.3.2-bin-hadoop3/data/mllib/sample_svm_data.txt\n",
            "spark-3.3.2-bin-hadoop3/data/mllib/streaming_kmeans_data_test.txt\n",
            "spark-3.3.2-bin-hadoop3/data/streaming/\n",
            "spark-3.3.2-bin-hadoop3/data/streaming/AFINN-111.txt\n",
            "spark-3.3.2-bin-hadoop3/examples/\n",
            "spark-3.3.2-bin-hadoop3/examples/jars/\n",
            "spark-3.3.2-bin-hadoop3/examples/jars/scopt_2.12-3.7.1.jar\n",
            "spark-3.3.2-bin-hadoop3/examples/jars/spark-examples_2.12-3.3.2.jar\n",
            "spark-3.3.2-bin-hadoop3/examples/src/\n",
            "spark-3.3.2-bin-hadoop3/examples/src/main/\n",
            "spark-3.3.2-bin-hadoop3/examples/src/main/java/\n",
            "spark-3.3.2-bin-hadoop3/examples/src/main/java/org/\n",
            "spark-3.3.2-bin-hadoop3/examples/src/main/java/org/apache/\n",
            "spark-3.3.2-bin-hadoop3/examples/src/main/java/org/apache/spark/\n",
            "spark-3.3.2-bin-hadoop3/examples/src/main/java/org/apache/spark/examples/\n",
            "spark-3.3.2-bin-hadoop3/examples/src/main/java/org/apache/spark/examples/JavaHdfsLR.java\n",
            "spark-3.3.2-bin-hadoop3/examples/src/main/java/org/apache/spark/examples/JavaLogQuery.java\n",
            "spark-3.3.2-bin-hadoop3/examples/src/main/java/org/apache/spark/examples/JavaPageRank.java\n",
            "spark-3.3.2-bin-hadoop3/examples/src/main/java/org/apache/spark/examples/JavaSparkPi.java\n",
            "spark-3.3.2-bin-hadoop3/examples/src/main/java/org/apache/spark/examples/JavaStatusTrackerDemo.java\n",
            "spark-3.3.2-bin-hadoop3/examples/src/main/java/org/apache/spark/examples/JavaTC.java\n",
            "spark-3.3.2-bin-hadoop3/examples/src/main/java/org/apache/spark/examples/JavaWordCount.java\n",
            "spark-3.3.2-bin-hadoop3/examples/src/main/java/org/apache/spark/examples/ml/\n",
            "spark-3.3.2-bin-hadoop3/examples/src/main/java/org/apache/spark/examples/ml/JavaAFTSurvivalRegressionExample.java\n",
            "spark-3.3.2-bin-hadoop3/examples/src/main/java/org/apache/spark/examples/ml/JavaALSExample.java\n",
            "spark-3.3.2-bin-hadoop3/examples/src/main/java/org/apache/spark/examples/ml/JavaBinarizerExample.java\n",
            "spark-3.3.2-bin-hadoop3/examples/src/main/java/org/apache/spark/examples/ml/JavaBisectingKMeansExample.java\n",
            "spark-3.3.2-bin-hadoop3/examples/src/main/java/org/apache/spark/examples/ml/JavaBucketedRandomProjectionLSHExample.java\n",
            "spark-3.3.2-bin-hadoop3/examples/src/main/java/org/apache/spark/examples/ml/JavaBucketizerExample.java\n",
            "spark-3.3.2-bin-hadoop3/examples/src/main/java/org/apache/spark/examples/ml/JavaChiSqSelectorExample.java\n",
            "spark-3.3.2-bin-hadoop3/examples/src/main/java/org/apache/spark/examples/ml/JavaChiSquareTestExample.java\n",
            "spark-3.3.2-bin-hadoop3/examples/src/main/java/org/apache/spark/examples/ml/JavaCorrelationExample.java\n",
            "spark-3.3.2-bin-hadoop3/examples/src/main/java/org/apache/spark/examples/ml/JavaCountVectorizerExample.java\n",
            "spark-3.3.2-bin-hadoop3/examples/src/main/java/org/apache/spark/examples/ml/JavaDCTExample.java\n",
            "spark-3.3.2-bin-hadoop3/examples/src/main/java/org/apache/spark/examples/ml/JavaDecisionTreeClassificationExample.java\n",
            "spark-3.3.2-bin-hadoop3/examples/src/main/java/org/apache/spark/examples/ml/JavaDecisionTreeRegressionExample.java\n",
            "spark-3.3.2-bin-hadoop3/examples/src/main/java/org/apache/spark/examples/ml/JavaDocument.java\n",
            "spark-3.3.2-bin-hadoop3/examples/src/main/java/org/apache/spark/examples/ml/JavaElementwiseProductExample.java\n",
            "spark-3.3.2-bin-hadoop3/examples/src/main/java/org/apache/spark/examples/ml/JavaEstimatorTransformerParamExample.java\n",
            "spark-3.3.2-bin-hadoop3/examples/src/main/java/org/apache/spark/examples/ml/JavaFMClassifierExample.java\n",
            "spark-3.3.2-bin-hadoop3/examples/src/main/java/org/apache/spark/examples/ml/JavaFMRegressorExample.java\n",
            "spark-3.3.2-bin-hadoop3/examples/src/main/java/org/apache/spark/examples/ml/JavaFPGrowthExample.java\n",
            "spark-3.3.2-bin-hadoop3/examples/src/main/java/org/apache/spark/examples/ml/JavaFeatureHasherExample.java\n",
            "spark-3.3.2-bin-hadoop3/examples/src/main/java/org/apache/spark/examples/ml/JavaGaussianMixtureExample.java\n",
            "spark-3.3.2-bin-hadoop3/examples/src/main/java/org/apache/spark/examples/ml/JavaGeneralizedLinearRegressionExample.java\n",
            "spark-3.3.2-bin-hadoop3/examples/src/main/java/org/apache/spark/examples/ml/JavaGradientBoostedTreeClassifierExample.java\n",
            "spark-3.3.2-bin-hadoop3/examples/src/main/java/org/apache/spark/examples/ml/JavaGradientBoostedTreeRegressorExample.java\n",
            "spark-3.3.2-bin-hadoop3/examples/src/main/java/org/apache/spark/examples/ml/JavaImputerExample.java\n",
            "spark-3.3.2-bin-hadoop3/examples/src/main/java/org/apache/spark/examples/ml/JavaIndexToStringExample.java\n",
            "spark-3.3.2-bin-hadoop3/examples/src/main/java/org/apache/spark/examples/ml/JavaInteractionExample.java\n",
            "spark-3.3.2-bin-hadoop3/examples/src/main/java/org/apache/spark/examples/ml/JavaIsotonicRegressionExample.java\n",
            "spark-3.3.2-bin-hadoop3/examples/src/main/java/org/apache/spark/examples/ml/JavaKMeansExample.java\n",
            "spark-3.3.2-bin-hadoop3/examples/src/main/java/org/apache/spark/examples/ml/JavaLDAExample.java\n",
            "spark-3.3.2-bin-hadoop3/examples/src/main/java/org/apache/spark/examples/ml/JavaLabeledDocument.java\n",
            "spark-3.3.2-bin-hadoop3/examples/src/main/java/org/apache/spark/examples/ml/JavaLinearRegressionWithElasticNetExample.java\n",
            "spark-3.3.2-bin-hadoop3/examples/src/main/java/org/apache/spark/examples/ml/JavaLinearSVCExample.java\n",
            "spark-3.3.2-bin-hadoop3/examples/src/main/java/org/apache/spark/examples/ml/JavaLogisticRegressionSummaryExample.java\n",
            "spark-3.3.2-bin-hadoop3/examples/src/main/java/org/apache/spark/examples/ml/JavaLogisticRegressionWithElasticNetExample.java\n",
            "spark-3.3.2-bin-hadoop3/examples/src/main/java/org/apache/spark/examples/ml/JavaMaxAbsScalerExample.java\n",
            "spark-3.3.2-bin-hadoop3/examples/src/main/java/org/apache/spark/examples/ml/JavaMinHashLSHExample.java\n",
            "spark-3.3.2-bin-hadoop3/examples/src/main/java/org/apache/spark/examples/ml/JavaMinMaxScalerExample.java\n",
            "spark-3.3.2-bin-hadoop3/examples/src/main/java/org/apache/spark/examples/ml/JavaModelSelectionViaCrossValidationExample.java\n",
            "spark-3.3.2-bin-hadoop3/examples/src/main/java/org/apache/spark/examples/ml/JavaModelSelectionViaTrainValidationSplitExample.java\n",
            "spark-3.3.2-bin-hadoop3/examples/src/main/java/org/apache/spark/examples/ml/JavaMulticlassLogisticRegressionWithElasticNetExample.java\n",
            "spark-3.3.2-bin-hadoop3/examples/src/main/java/org/apache/spark/examples/ml/JavaMultilayerPerceptronClassifierExample.java\n",
            "spark-3.3.2-bin-hadoop3/examples/src/main/java/org/apache/spark/examples/ml/JavaNGramExample.java\n",
            "spark-3.3.2-bin-hadoop3/examples/src/main/java/org/apache/spark/examples/ml/JavaNaiveBayesExample.java\n",
            "spark-3.3.2-bin-hadoop3/examples/src/main/java/org/apache/spark/examples/ml/JavaNormalizerExample.java\n",
            "spark-3.3.2-bin-hadoop3/examples/src/main/java/org/apache/spark/examples/ml/JavaOneHotEncoderExample.java\n",
            "spark-3.3.2-bin-hadoop3/examples/src/main/java/org/apache/spark/examples/ml/JavaOneVsRestExample.java\n",
            "spark-3.3.2-bin-hadoop3/examples/src/main/java/org/apache/spark/examples/ml/JavaPCAExample.java\n",
            "spark-3.3.2-bin-hadoop3/examples/src/main/java/org/apache/spark/examples/ml/JavaPipelineExample.java\n",
            "spark-3.3.2-bin-hadoop3/examples/src/main/java/org/apache/spark/examples/ml/JavaPolynomialExpansionExample.java\n",
            "spark-3.3.2-bin-hadoop3/examples/src/main/java/org/apache/spark/examples/ml/JavaPowerIterationClusteringExample.java\n",
            "spark-3.3.2-bin-hadoop3/examples/src/main/java/org/apache/spark/examples/ml/JavaPrefixSpanExample.java\n",
            "spark-3.3.2-bin-hadoop3/examples/src/main/java/org/apache/spark/examples/ml/JavaQuantileDiscretizerExample.java\n",
            "spark-3.3.2-bin-hadoop3/examples/src/main/java/org/apache/spark/examples/ml/JavaRFormulaExample.java\n",
            "spark-3.3.2-bin-hadoop3/examples/src/main/java/org/apache/spark/examples/ml/JavaRandomForestClassifierExample.java\n",
            "spark-3.3.2-bin-hadoop3/examples/src/main/java/org/apache/spark/examples/ml/JavaRandomForestRegressorExample.java\n",
            "spark-3.3.2-bin-hadoop3/examples/src/main/java/org/apache/spark/examples/ml/JavaRobustScalerExample.java\n",
            "spark-3.3.2-bin-hadoop3/examples/src/main/java/org/apache/spark/examples/ml/JavaSQLTransformerExample.java\n",
            "spark-3.3.2-bin-hadoop3/examples/src/main/java/org/apache/spark/examples/ml/JavaStandardScalerExample.java\n",
            "spark-3.3.2-bin-hadoop3/examples/src/main/java/org/apache/spark/examples/ml/JavaStopWordsRemoverExample.java\n",
            "spark-3.3.2-bin-hadoop3/examples/src/main/java/org/apache/spark/examples/ml/JavaStringIndexerExample.java\n",
            "spark-3.3.2-bin-hadoop3/examples/src/main/java/org/apache/spark/examples/ml/JavaSummarizerExample.java\n",
            "spark-3.3.2-bin-hadoop3/examples/src/main/java/org/apache/spark/examples/ml/JavaTfIdfExample.java\n",
            "spark-3.3.2-bin-hadoop3/examples/src/main/java/org/apache/spark/examples/ml/JavaTokenizerExample.java\n",
            "spark-3.3.2-bin-hadoop3/examples/src/main/java/org/apache/spark/examples/ml/JavaUnivariateFeatureSelectorExample.java\n",
            "spark-3.3.2-bin-hadoop3/examples/src/main/java/org/apache/spark/examples/ml/JavaVarianceThresholdSelectorExample.java\n",
            "spark-3.3.2-bin-hadoop3/examples/src/main/java/org/apache/spark/examples/ml/JavaVectorAssemblerExample.java\n",
            "spark-3.3.2-bin-hadoop3/examples/src/main/java/org/apache/spark/examples/ml/JavaVectorIndexerExample.java\n",
            "spark-3.3.2-bin-hadoop3/examples/src/main/java/org/apache/spark/examples/ml/JavaVectorSizeHintExample.java\n",
            "spark-3.3.2-bin-hadoop3/examples/src/main/java/org/apache/spark/examples/ml/JavaVectorSlicerExample.java\n",
            "spark-3.3.2-bin-hadoop3/examples/src/main/java/org/apache/spark/examples/ml/JavaWord2VecExample.java\n",
            "spark-3.3.2-bin-hadoop3/examples/src/main/java/org/apache/spark/examples/mllib/\n",
            "spark-3.3.2-bin-hadoop3/examples/src/main/java/org/apache/spark/examples/mllib/JavaALS.java\n",
            "spark-3.3.2-bin-hadoop3/examples/src/main/java/org/apache/spark/examples/mllib/JavaAssociationRulesExample.java\n",
            "spark-3.3.2-bin-hadoop3/examples/src/main/java/org/apache/spark/examples/mllib/JavaBinaryClassificationMetricsExample.java\n",
            "spark-3.3.2-bin-hadoop3/examples/src/main/java/org/apache/spark/examples/mllib/JavaBisectingKMeansExample.java\n",
            "spark-3.3.2-bin-hadoop3/examples/src/main/java/org/apache/spark/examples/mllib/JavaChiSqSelectorExample.java\n",
            "spark-3.3.2-bin-hadoop3/examples/src/main/java/org/apache/spark/examples/mllib/JavaCorrelationsExample.java\n",
            "spark-3.3.2-bin-hadoop3/examples/src/main/java/org/apache/spark/examples/mllib/JavaDecisionTreeClassificationExample.java\n",
            "spark-3.3.2-bin-hadoop3/examples/src/main/java/org/apache/spark/examples/mllib/JavaDecisionTreeRegressionExample.java\n",
            "spark-3.3.2-bin-hadoop3/examples/src/main/java/org/apache/spark/examples/mllib/JavaElementwiseProductExample.java\n",
            "spark-3.3.2-bin-hadoop3/examples/src/main/java/org/apache/spark/examples/mllib/JavaGaussianMixtureExample.java\n",
            "spark-3.3.2-bin-hadoop3/examples/src/main/java/org/apache/spark/examples/mllib/JavaGradientBoostingClassificationExample.java\n",
            "spark-3.3.2-bin-hadoop3/examples/src/main/java/org/apache/spark/examples/mllib/JavaGradientBoostingRegressionExample.java\n",
            "spark-3.3.2-bin-hadoop3/examples/src/main/java/org/apache/spark/examples/mllib/JavaHypothesisTestingExample.java\n",
            "spark-3.3.2-bin-hadoop3/examples/src/main/java/org/apache/spark/examples/mllib/JavaHypothesisTestingKolmogorovSmirnovTestExample.java\n",
            "spark-3.3.2-bin-hadoop3/examples/src/main/java/org/apache/spark/examples/mllib/JavaIsotonicRegressionExample.java\n",
            "spark-3.3.2-bin-hadoop3/examples/src/main/java/org/apache/spark/examples/mllib/JavaKMeansExample.java\n",
            "spark-3.3.2-bin-hadoop3/examples/src/main/java/org/apache/spark/examples/mllib/JavaKernelDensityEstimationExample.java\n",
            "spark-3.3.2-bin-hadoop3/examples/src/main/java/org/apache/spark/examples/mllib/JavaLBFGSExample.java\n",
            "spark-3.3.2-bin-hadoop3/examples/src/main/java/org/apache/spark/examples/mllib/JavaLatentDirichletAllocationExample.java\n",
            "spark-3.3.2-bin-hadoop3/examples/src/main/java/org/apache/spark/examples/mllib/JavaLogisticRegressionWithLBFGSExample.java\n",
            "spark-3.3.2-bin-hadoop3/examples/src/main/java/org/apache/spark/examples/mllib/JavaMultiLabelClassificationMetricsExample.java\n",
            "spark-3.3.2-bin-hadoop3/examples/src/main/java/org/apache/spark/examples/mllib/JavaMulticlassClassificationMetricsExample.java\n",
            "spark-3.3.2-bin-hadoop3/examples/src/main/java/org/apache/spark/examples/mllib/JavaNaiveBayesExample.java\n",
            "spark-3.3.2-bin-hadoop3/examples/src/main/java/org/apache/spark/examples/mllib/JavaPCAExample.java\n",
            "spark-3.3.2-bin-hadoop3/examples/src/main/java/org/apache/spark/examples/mllib/JavaPowerIterationClusteringExample.java\n",
            "spark-3.3.2-bin-hadoop3/examples/src/main/java/org/apache/spark/examples/mllib/JavaPrefixSpanExample.java\n",
            "spark-3.3.2-bin-hadoop3/examples/src/main/java/org/apache/spark/examples/mllib/JavaRandomForestClassificationExample.java\n",
            "spark-3.3.2-bin-hadoop3/examples/src/main/java/org/apache/spark/examples/mllib/JavaRandomForestRegressionExample.java\n",
            "spark-3.3.2-bin-hadoop3/examples/src/main/java/org/apache/spark/examples/mllib/JavaRankingMetricsExample.java\n",
            "spark-3.3.2-bin-hadoop3/examples/src/main/java/org/apache/spark/examples/mllib/JavaRecommendationExample.java\n",
            "spark-3.3.2-bin-hadoop3/examples/src/main/java/org/apache/spark/examples/mllib/JavaSVDExample.java\n",
            "spark-3.3.2-bin-hadoop3/examples/src/main/java/org/apache/spark/examples/mllib/JavaSVMWithSGDExample.java\n",
            "spark-3.3.2-bin-hadoop3/examples/src/main/java/org/apache/spark/examples/mllib/JavaSimpleFPGrowth.java\n",
            "spark-3.3.2-bin-hadoop3/examples/src/main/java/org/apache/spark/examples/mllib/JavaStratifiedSamplingExample.java\n",
            "spark-3.3.2-bin-hadoop3/examples/src/main/java/org/apache/spark/examples/mllib/JavaStreamingTestExample.java\n",
            "spark-3.3.2-bin-hadoop3/examples/src/main/java/org/apache/spark/examples/mllib/JavaSummaryStatisticsExample.java\n",
            "spark-3.3.2-bin-hadoop3/examples/src/main/java/org/apache/spark/examples/sql/\n",
            "spark-3.3.2-bin-hadoop3/examples/src/main/java/org/apache/spark/examples/sql/JavaSQLDataSourceExample.java\n",
            "spark-3.3.2-bin-hadoop3/examples/src/main/java/org/apache/spark/examples/sql/JavaSparkSQLExample.java\n",
            "spark-3.3.2-bin-hadoop3/examples/src/main/java/org/apache/spark/examples/sql/JavaUserDefinedScalar.java\n",
            "spark-3.3.2-bin-hadoop3/examples/src/main/java/org/apache/spark/examples/sql/JavaUserDefinedTypedAggregation.java\n",
            "spark-3.3.2-bin-hadoop3/examples/src/main/java/org/apache/spark/examples/sql/JavaUserDefinedUntypedAggregation.java\n",
            "spark-3.3.2-bin-hadoop3/examples/src/main/java/org/apache/spark/examples/sql/hive/\n",
            "spark-3.3.2-bin-hadoop3/examples/src/main/java/org/apache/spark/examples/sql/hive/JavaSparkHiveExample.java\n",
            "spark-3.3.2-bin-hadoop3/examples/src/main/java/org/apache/spark/examples/sql/streaming/\n",
            "spark-3.3.2-bin-hadoop3/examples/src/main/java/org/apache/spark/examples/sql/streaming/JavaStructuredComplexSessionization.java\n",
            "spark-3.3.2-bin-hadoop3/examples/src/main/java/org/apache/spark/examples/sql/streaming/JavaStructuredKafkaWordCount.java\n",
            "spark-3.3.2-bin-hadoop3/examples/src/main/java/org/apache/spark/examples/sql/streaming/JavaStructuredKerberizedKafkaWordCount.java\n",
            "spark-3.3.2-bin-hadoop3/examples/src/main/java/org/apache/spark/examples/sql/streaming/JavaStructuredNetworkWordCount.java\n",
            "spark-3.3.2-bin-hadoop3/examples/src/main/java/org/apache/spark/examples/sql/streaming/JavaStructuredNetworkWordCountWindowed.java\n",
            "spark-3.3.2-bin-hadoop3/examples/src/main/java/org/apache/spark/examples/sql/streaming/JavaStructuredSessionization.java\n",
            "spark-3.3.2-bin-hadoop3/examples/src/main/java/org/apache/spark/examples/streaming/\n",
            "spark-3.3.2-bin-hadoop3/examples/src/main/java/org/apache/spark/examples/streaming/JavaCustomReceiver.java\n",
            "spark-3.3.2-bin-hadoop3/examples/src/main/java/org/apache/spark/examples/streaming/JavaDirectKafkaWordCount.java\n",
            "spark-3.3.2-bin-hadoop3/examples/src/main/java/org/apache/spark/examples/streaming/JavaDirectKerberizedKafkaWordCount.java\n",
            "spark-3.3.2-bin-hadoop3/examples/src/main/java/org/apache/spark/examples/streaming/JavaNetworkWordCount.java\n",
            "spark-3.3.2-bin-hadoop3/examples/src/main/java/org/apache/spark/examples/streaming/JavaQueueStream.java\n",
            "spark-3.3.2-bin-hadoop3/examples/src/main/java/org/apache/spark/examples/streaming/JavaRecord.java\n",
            "spark-3.3.2-bin-hadoop3/examples/src/main/java/org/apache/spark/examples/streaming/JavaRecoverableNetworkWordCount.java\n",
            "spark-3.3.2-bin-hadoop3/examples/src/main/java/org/apache/spark/examples/streaming/JavaSqlNetworkWordCount.java\n",
            "spark-3.3.2-bin-hadoop3/examples/src/main/java/org/apache/spark/examples/streaming/JavaStatefulNetworkWordCount.java\n",
            "spark-3.3.2-bin-hadoop3/examples/src/main/python/\n",
            "spark-3.3.2-bin-hadoop3/examples/src/main/python/__init__.py\n",
            "spark-3.3.2-bin-hadoop3/examples/src/main/python/als.py\n",
            "spark-3.3.2-bin-hadoop3/examples/src/main/python/avro_inputformat.py\n",
            "spark-3.3.2-bin-hadoop3/examples/src/main/python/kmeans.py\n",
            "spark-3.3.2-bin-hadoop3/examples/src/main/python/logistic_regression.py\n",
            "spark-3.3.2-bin-hadoop3/examples/src/main/python/ml/\n",
            "spark-3.3.2-bin-hadoop3/examples/src/main/python/ml/__init__,py\n",
            "spark-3.3.2-bin-hadoop3/examples/src/main/python/ml/aft_survival_regression.py\n",
            "spark-3.3.2-bin-hadoop3/examples/src/main/python/ml/als_example.py\n",
            "spark-3.3.2-bin-hadoop3/examples/src/main/python/ml/binarizer_example.py\n",
            "spark-3.3.2-bin-hadoop3/examples/src/main/python/ml/bisecting_k_means_example.py\n",
            "spark-3.3.2-bin-hadoop3/examples/src/main/python/ml/bucketed_random_projection_lsh_example.py\n",
            "spark-3.3.2-bin-hadoop3/examples/src/main/python/ml/bucketizer_example.py\n",
            "spark-3.3.2-bin-hadoop3/examples/src/main/python/ml/chi_square_test_example.py\n",
            "spark-3.3.2-bin-hadoop3/examples/src/main/python/ml/chisq_selector_example.py\n",
            "spark-3.3.2-bin-hadoop3/examples/src/main/python/ml/correlation_example.py\n",
            "spark-3.3.2-bin-hadoop3/examples/src/main/python/ml/count_vectorizer_example.py\n",
            "spark-3.3.2-bin-hadoop3/examples/src/main/python/ml/cross_validator.py\n",
            "spark-3.3.2-bin-hadoop3/examples/src/main/python/ml/dataframe_example.py\n",
            "spark-3.3.2-bin-hadoop3/examples/src/main/python/ml/dct_example.py\n",
            "spark-3.3.2-bin-hadoop3/examples/src/main/python/ml/decision_tree_classification_example.py\n",
            "spark-3.3.2-bin-hadoop3/examples/src/main/python/ml/decision_tree_regression_example.py\n",
            "spark-3.3.2-bin-hadoop3/examples/src/main/python/ml/elementwise_product_example.py\n",
            "spark-3.3.2-bin-hadoop3/examples/src/main/python/ml/estimator_transformer_param_example.py\n",
            "spark-3.3.2-bin-hadoop3/examples/src/main/python/ml/feature_hasher_example.py\n",
            "spark-3.3.2-bin-hadoop3/examples/src/main/python/ml/fm_classifier_example.py\n",
            "spark-3.3.2-bin-hadoop3/examples/src/main/python/ml/fm_regressor_example.py\n",
            "spark-3.3.2-bin-hadoop3/examples/src/main/python/ml/fpgrowth_example.py\n",
            "spark-3.3.2-bin-hadoop3/examples/src/main/python/ml/gaussian_mixture_example.py\n",
            "spark-3.3.2-bin-hadoop3/examples/src/main/python/ml/generalized_linear_regression_example.py\n",
            "spark-3.3.2-bin-hadoop3/examples/src/main/python/ml/gradient_boosted_tree_classifier_example.py\n",
            "spark-3.3.2-bin-hadoop3/examples/src/main/python/ml/gradient_boosted_tree_regressor_example.py\n",
            "spark-3.3.2-bin-hadoop3/examples/src/main/python/ml/imputer_example.py\n",
            "spark-3.3.2-bin-hadoop3/examples/src/main/python/ml/index_to_string_example.py\n",
            "spark-3.3.2-bin-hadoop3/examples/src/main/python/ml/interaction_example.py\n",
            "spark-3.3.2-bin-hadoop3/examples/src/main/python/ml/isotonic_regression_example.py\n",
            "spark-3.3.2-bin-hadoop3/examples/src/main/python/ml/kmeans_example.py\n",
            "spark-3.3.2-bin-hadoop3/examples/src/main/python/ml/lda_example.py\n",
            "spark-3.3.2-bin-hadoop3/examples/src/main/python/ml/linear_regression_with_elastic_net.py\n",
            "spark-3.3.2-bin-hadoop3/examples/src/main/python/ml/linearsvc.py\n",
            "spark-3.3.2-bin-hadoop3/examples/src/main/python/ml/logistic_regression_summary_example.py\n",
            "spark-3.3.2-bin-hadoop3/examples/src/main/python/ml/logistic_regression_with_elastic_net.py\n",
            "spark-3.3.2-bin-hadoop3/examples/src/main/python/ml/max_abs_scaler_example.py\n",
            "spark-3.3.2-bin-hadoop3/examples/src/main/python/ml/min_hash_lsh_example.py\n",
            "spark-3.3.2-bin-hadoop3/examples/src/main/python/ml/min_max_scaler_example.py\n",
            "spark-3.3.2-bin-hadoop3/examples/src/main/python/ml/multiclass_logistic_regression_with_elastic_net.py\n",
            "spark-3.3.2-bin-hadoop3/examples/src/main/python/ml/multilayer_perceptron_classification.py\n",
            "spark-3.3.2-bin-hadoop3/examples/src/main/python/ml/n_gram_example.py\n",
            "spark-3.3.2-bin-hadoop3/examples/src/main/python/ml/naive_bayes_example.py\n",
            "spark-3.3.2-bin-hadoop3/examples/src/main/python/ml/normalizer_example.py\n",
            "spark-3.3.2-bin-hadoop3/examples/src/main/python/ml/one_vs_rest_example.py\n",
            "spark-3.3.2-bin-hadoop3/examples/src/main/python/ml/onehot_encoder_example.py\n",
            "spark-3.3.2-bin-hadoop3/examples/src/main/python/ml/pca_example.py\n",
            "spark-3.3.2-bin-hadoop3/examples/src/main/python/ml/pipeline_example.py\n",
            "spark-3.3.2-bin-hadoop3/examples/src/main/python/ml/polynomial_expansion_example.py\n",
            "spark-3.3.2-bin-hadoop3/examples/src/main/python/ml/power_iteration_clustering_example.py\n",
            "spark-3.3.2-bin-hadoop3/examples/src/main/python/ml/prefixspan_example.py\n",
            "spark-3.3.2-bin-hadoop3/examples/src/main/python/ml/quantile_discretizer_example.py\n",
            "spark-3.3.2-bin-hadoop3/examples/src/main/python/ml/random_forest_classifier_example.py\n",
            "spark-3.3.2-bin-hadoop3/examples/src/main/python/ml/random_forest_regressor_example.py\n",
            "spark-3.3.2-bin-hadoop3/examples/src/main/python/ml/rformula_example.py\n",
            "spark-3.3.2-bin-hadoop3/examples/src/main/python/ml/robust_scaler_example.py\n",
            "spark-3.3.2-bin-hadoop3/examples/src/main/python/ml/sql_transformer.py\n",
            "spark-3.3.2-bin-hadoop3/examples/src/main/python/ml/standard_scaler_example.py\n",
            "spark-3.3.2-bin-hadoop3/examples/src/main/python/ml/stopwords_remover_example.py\n",
            "spark-3.3.2-bin-hadoop3/examples/src/main/python/ml/string_indexer_example.py\n",
            "spark-3.3.2-bin-hadoop3/examples/src/main/python/ml/summarizer_example.py\n",
            "spark-3.3.2-bin-hadoop3/examples/src/main/python/ml/tf_idf_example.py\n",
            "spark-3.3.2-bin-hadoop3/examples/src/main/python/ml/tokenizer_example.py\n",
            "spark-3.3.2-bin-hadoop3/examples/src/main/python/ml/train_validation_split.py\n",
            "spark-3.3.2-bin-hadoop3/examples/src/main/python/ml/univariate_feature_selector_example.py\n",
            "spark-3.3.2-bin-hadoop3/examples/src/main/python/ml/variance_threshold_selector_example.py\n",
            "spark-3.3.2-bin-hadoop3/examples/src/main/python/ml/vector_assembler_example.py\n",
            "spark-3.3.2-bin-hadoop3/examples/src/main/python/ml/vector_indexer_example.py\n",
            "spark-3.3.2-bin-hadoop3/examples/src/main/python/ml/vector_size_hint_example.py\n",
            "spark-3.3.2-bin-hadoop3/examples/src/main/python/ml/vector_slicer_example.py\n",
            "spark-3.3.2-bin-hadoop3/examples/src/main/python/ml/word2vec_example.py\n",
            "spark-3.3.2-bin-hadoop3/examples/src/main/python/mllib/\n",
            "spark-3.3.2-bin-hadoop3/examples/src/main/python/mllib/__init__.py\n",
            "spark-3.3.2-bin-hadoop3/examples/src/main/python/mllib/binary_classification_metrics_example.py\n",
            "spark-3.3.2-bin-hadoop3/examples/src/main/python/mllib/bisecting_k_means_example.py\n",
            "spark-3.3.2-bin-hadoop3/examples/src/main/python/mllib/correlations.py\n",
            "spark-3.3.2-bin-hadoop3/examples/src/main/python/mllib/correlations_example.py\n",
            "spark-3.3.2-bin-hadoop3/examples/src/main/python/mllib/decision_tree_classification_example.py\n",
            "spark-3.3.2-bin-hadoop3/examples/src/main/python/mllib/decision_tree_regression_example.py\n",
            "spark-3.3.2-bin-hadoop3/examples/src/main/python/mllib/elementwise_product_example.py\n",
            "spark-3.3.2-bin-hadoop3/examples/src/main/python/mllib/fpgrowth_example.py\n",
            "spark-3.3.2-bin-hadoop3/examples/src/main/python/mllib/gaussian_mixture_example.py\n",
            "spark-3.3.2-bin-hadoop3/examples/src/main/python/mllib/gaussian_mixture_model.py\n",
            "spark-3.3.2-bin-hadoop3/examples/src/main/python/mllib/gradient_boosting_classification_example.py\n",
            "spark-3.3.2-bin-hadoop3/examples/src/main/python/mllib/gradient_boosting_regression_example.py\n",
            "spark-3.3.2-bin-hadoop3/examples/src/main/python/mllib/hypothesis_testing_example.py\n",
            "spark-3.3.2-bin-hadoop3/examples/src/main/python/mllib/hypothesis_testing_kolmogorov_smirnov_test_example.py\n",
            "spark-3.3.2-bin-hadoop3/examples/src/main/python/mllib/isotonic_regression_example.py\n",
            "spark-3.3.2-bin-hadoop3/examples/src/main/python/mllib/k_means_example.py\n",
            "spark-3.3.2-bin-hadoop3/examples/src/main/python/mllib/kernel_density_estimation_example.py\n",
            "spark-3.3.2-bin-hadoop3/examples/src/main/python/mllib/kmeans.py\n",
            "spark-3.3.2-bin-hadoop3/examples/src/main/python/mllib/latent_dirichlet_allocation_example.py\n",
            "spark-3.3.2-bin-hadoop3/examples/src/main/python/mllib/linear_regression_with_sgd_example.py\n",
            "spark-3.3.2-bin-hadoop3/examples/src/main/python/mllib/logistic_regression.py\n",
            "spark-3.3.2-bin-hadoop3/examples/src/main/python/mllib/logistic_regression_with_lbfgs_example.py\n",
            "spark-3.3.2-bin-hadoop3/examples/src/main/python/mllib/multi_class_metrics_example.py\n",
            "spark-3.3.2-bin-hadoop3/examples/src/main/python/mllib/multi_label_metrics_example.py\n",
            "spark-3.3.2-bin-hadoop3/examples/src/main/python/mllib/naive_bayes_example.py\n",
            "spark-3.3.2-bin-hadoop3/examples/src/main/python/mllib/normalizer_example.py\n",
            "spark-3.3.2-bin-hadoop3/examples/src/main/python/mllib/pca_rowmatrix_example.py\n",
            "spark-3.3.2-bin-hadoop3/examples/src/main/python/mllib/power_iteration_clustering_example.py\n",
            "spark-3.3.2-bin-hadoop3/examples/src/main/python/mllib/random_forest_classification_example.py\n",
            "spark-3.3.2-bin-hadoop3/examples/src/main/python/mllib/random_forest_regression_example.py\n",
            "spark-3.3.2-bin-hadoop3/examples/src/main/python/mllib/random_rdd_generation.py\n",
            "spark-3.3.2-bin-hadoop3/examples/src/main/python/mllib/ranking_metrics_example.py\n",
            "spark-3.3.2-bin-hadoop3/examples/src/main/python/mllib/recommendation_example.py\n",
            "spark-3.3.2-bin-hadoop3/examples/src/main/python/mllib/regression_metrics_example.py\n",
            "spark-3.3.2-bin-hadoop3/examples/src/main/python/mllib/sampled_rdds.py\n",
            "spark-3.3.2-bin-hadoop3/examples/src/main/python/mllib/standard_scaler_example.py\n",
            "spark-3.3.2-bin-hadoop3/examples/src/main/python/mllib/stratified_sampling_example.py\n",
            "spark-3.3.2-bin-hadoop3/examples/src/main/python/mllib/streaming_k_means_example.py\n",
            "spark-3.3.2-bin-hadoop3/examples/src/main/python/mllib/streaming_linear_regression_example.py\n",
            "spark-3.3.2-bin-hadoop3/examples/src/main/python/mllib/summary_statistics_example.py\n",
            "spark-3.3.2-bin-hadoop3/examples/src/main/python/mllib/svd_example.py\n",
            "spark-3.3.2-bin-hadoop3/examples/src/main/python/mllib/svm_with_sgd_example.py\n",
            "spark-3.3.2-bin-hadoop3/examples/src/main/python/mllib/tf_idf_example.py\n",
            "spark-3.3.2-bin-hadoop3/examples/src/main/python/mllib/word2vec.py\n",
            "spark-3.3.2-bin-hadoop3/examples/src/main/python/mllib/word2vec_example.py\n",
            "spark-3.3.2-bin-hadoop3/examples/src/main/python/pagerank.py\n",
            "spark-3.3.2-bin-hadoop3/examples/src/main/python/parquet_inputformat.py\n",
            "spark-3.3.2-bin-hadoop3/examples/src/main/python/pi.py\n",
            "spark-3.3.2-bin-hadoop3/examples/src/main/python/sort.py\n",
            "spark-3.3.2-bin-hadoop3/examples/src/main/python/sql/\n",
            "spark-3.3.2-bin-hadoop3/examples/src/main/python/sql/__init__.py\n",
            "spark-3.3.2-bin-hadoop3/examples/src/main/python/sql/arrow.py\n",
            "spark-3.3.2-bin-hadoop3/examples/src/main/python/sql/basic.py\n",
            "spark-3.3.2-bin-hadoop3/examples/src/main/python/sql/datasource.py\n",
            "spark-3.3.2-bin-hadoop3/examples/src/main/python/sql/hive.py\n",
            "spark-3.3.2-bin-hadoop3/examples/src/main/python/sql/streaming/\n",
            "spark-3.3.2-bin-hadoop3/examples/src/main/python/sql/streaming/__init__,py\n",
            "spark-3.3.2-bin-hadoop3/examples/src/main/python/sql/streaming/structured_kafka_wordcount.py\n",
            "spark-3.3.2-bin-hadoop3/examples/src/main/python/sql/streaming/structured_network_wordcount.py\n",
            "spark-3.3.2-bin-hadoop3/examples/src/main/python/sql/streaming/structured_network_wordcount_windowed.py\n",
            "spark-3.3.2-bin-hadoop3/examples/src/main/python/sql/streaming/structured_sessionization.py\n",
            "spark-3.3.2-bin-hadoop3/examples/src/main/python/status_api_demo.py\n",
            "spark-3.3.2-bin-hadoop3/examples/src/main/python/streaming/\n",
            "spark-3.3.2-bin-hadoop3/examples/src/main/python/streaming/__init__.py\n",
            "spark-3.3.2-bin-hadoop3/examples/src/main/python/streaming/hdfs_wordcount.py\n",
            "spark-3.3.2-bin-hadoop3/examples/src/main/python/streaming/network_wordcount.py\n",
            "spark-3.3.2-bin-hadoop3/examples/src/main/python/streaming/network_wordjoinsentiments.py\n",
            "spark-3.3.2-bin-hadoop3/examples/src/main/python/streaming/queue_stream.py\n",
            "spark-3.3.2-bin-hadoop3/examples/src/main/python/streaming/recoverable_network_wordcount.py\n",
            "spark-3.3.2-bin-hadoop3/examples/src/main/python/streaming/sql_network_wordcount.py\n",
            "spark-3.3.2-bin-hadoop3/examples/src/main/python/streaming/stateful_network_wordcount.py\n",
            "spark-3.3.2-bin-hadoop3/examples/src/main/python/transitive_closure.py\n",
            "spark-3.3.2-bin-hadoop3/examples/src/main/python/wordcount.py\n",
            "spark-3.3.2-bin-hadoop3/examples/src/main/r/\n",
            "spark-3.3.2-bin-hadoop3/examples/src/main/r/RSparkSQLExample.R\n",
            "spark-3.3.2-bin-hadoop3/examples/src/main/r/data-manipulation.R\n",
            "spark-3.3.2-bin-hadoop3/examples/src/main/r/dataframe.R\n",
            "spark-3.3.2-bin-hadoop3/examples/src/main/r/ml/\n",
            "spark-3.3.2-bin-hadoop3/examples/src/main/r/ml/als.R\n",
            "spark-3.3.2-bin-hadoop3/examples/src/main/r/ml/bisectingKmeans.R\n",
            "spark-3.3.2-bin-hadoop3/examples/src/main/r/ml/decisionTree.R\n",
            "spark-3.3.2-bin-hadoop3/examples/src/main/r/ml/fmClassifier.R\n",
            "spark-3.3.2-bin-hadoop3/examples/src/main/r/ml/fmRegressor.R\n",
            "spark-3.3.2-bin-hadoop3/examples/src/main/r/ml/fpm.R\n",
            "spark-3.3.2-bin-hadoop3/examples/src/main/r/ml/gaussianMixture.R\n",
            "spark-3.3.2-bin-hadoop3/examples/src/main/r/ml/gbt.R\n",
            "spark-3.3.2-bin-hadoop3/examples/src/main/r/ml/glm.R\n",
            "spark-3.3.2-bin-hadoop3/examples/src/main/r/ml/isoreg.R\n",
            "spark-3.3.2-bin-hadoop3/examples/src/main/r/ml/kmeans.R\n",
            "spark-3.3.2-bin-hadoop3/examples/src/main/r/ml/kstest.R\n",
            "spark-3.3.2-bin-hadoop3/examples/src/main/r/ml/lda.R\n",
            "spark-3.3.2-bin-hadoop3/examples/src/main/r/ml/lm_with_elastic_net.R\n",
            "spark-3.3.2-bin-hadoop3/examples/src/main/r/ml/logit.R\n",
            "spark-3.3.2-bin-hadoop3/examples/src/main/r/ml/ml.R\n",
            "spark-3.3.2-bin-hadoop3/examples/src/main/r/ml/mlp.R\n",
            "spark-3.3.2-bin-hadoop3/examples/src/main/r/ml/naiveBayes.R\n",
            "spark-3.3.2-bin-hadoop3/examples/src/main/r/ml/powerIterationClustering.R\n",
            "spark-3.3.2-bin-hadoop3/examples/src/main/r/ml/prefixSpan.R\n",
            "spark-3.3.2-bin-hadoop3/examples/src/main/r/ml/randomForest.R\n",
            "spark-3.3.2-bin-hadoop3/examples/src/main/r/ml/survreg.R\n",
            "spark-3.3.2-bin-hadoop3/examples/src/main/r/ml/svmLinear.R\n",
            "spark-3.3.2-bin-hadoop3/examples/src/main/r/streaming/\n",
            "spark-3.3.2-bin-hadoop3/examples/src/main/r/streaming/structured_network_wordcount.R\n",
            "spark-3.3.2-bin-hadoop3/examples/src/main/resources/\n",
            "spark-3.3.2-bin-hadoop3/examples/src/main/resources/META-INF/\n",
            "spark-3.3.2-bin-hadoop3/examples/src/main/resources/META-INF/services/\n",
            "spark-3.3.2-bin-hadoop3/examples/src/main/resources/META-INF/services/org.apache.spark.sql.SparkSessionExtensionsProvider\n",
            "spark-3.3.2-bin-hadoop3/examples/src/main/resources/META-INF/services/org.apache.spark.sql.jdbc.JdbcConnectionProvider\n",
            "spark-3.3.2-bin-hadoop3/examples/src/main/resources/dir1/\n",
            "spark-3.3.2-bin-hadoop3/examples/src/main/resources/dir1/dir2/\n",
            "spark-3.3.2-bin-hadoop3/examples/src/main/resources/dir1/dir2/file2.parquet\n",
            "spark-3.3.2-bin-hadoop3/examples/src/main/resources/dir1/file1.parquet\n",
            "spark-3.3.2-bin-hadoop3/examples/src/main/resources/dir1/file3.json\n",
            "spark-3.3.2-bin-hadoop3/examples/src/main/resources/employees.json\n",
            "spark-3.3.2-bin-hadoop3/examples/src/main/resources/full_user.avsc\n",
            "spark-3.3.2-bin-hadoop3/examples/src/main/resources/kv1.txt\n",
            "spark-3.3.2-bin-hadoop3/examples/src/main/resources/people.csv\n",
            "spark-3.3.2-bin-hadoop3/examples/src/main/resources/people.json\n",
            "spark-3.3.2-bin-hadoop3/examples/src/main/resources/people.txt\n",
            "spark-3.3.2-bin-hadoop3/examples/src/main/resources/user.avsc\n",
            "spark-3.3.2-bin-hadoop3/examples/src/main/resources/users.avro\n",
            "spark-3.3.2-bin-hadoop3/examples/src/main/resources/users.orc\n",
            "spark-3.3.2-bin-hadoop3/examples/src/main/resources/users.parquet\n",
            "spark-3.3.2-bin-hadoop3/examples/src/main/scala/\n",
            "spark-3.3.2-bin-hadoop3/examples/src/main/scala/org/\n",
            "spark-3.3.2-bin-hadoop3/examples/src/main/scala/org/apache/\n",
            "spark-3.3.2-bin-hadoop3/examples/src/main/scala/org/apache/spark/\n",
            "spark-3.3.2-bin-hadoop3/examples/src/main/scala/org/apache/spark/examples/\n",
            "spark-3.3.2-bin-hadoop3/examples/src/main/scala/org/apache/spark/examples/AccumulatorMetricsTest.scala\n",
            "spark-3.3.2-bin-hadoop3/examples/src/main/scala/org/apache/spark/examples/BroadcastTest.scala\n",
            "spark-3.3.2-bin-hadoop3/examples/src/main/scala/org/apache/spark/examples/DFSReadWriteTest.scala\n",
            "spark-3.3.2-bin-hadoop3/examples/src/main/scala/org/apache/spark/examples/DriverSubmissionTest.scala\n",
            "spark-3.3.2-bin-hadoop3/examples/src/main/scala/org/apache/spark/examples/ExceptionHandlingTest.scala\n",
            "spark-3.3.2-bin-hadoop3/examples/src/main/scala/org/apache/spark/examples/GroupByTest.scala\n",
            "spark-3.3.2-bin-hadoop3/examples/src/main/scala/org/apache/spark/examples/HdfsTest.scala\n",
            "spark-3.3.2-bin-hadoop3/examples/src/main/scala/org/apache/spark/examples/LocalALS.scala\n",
            "spark-3.3.2-bin-hadoop3/examples/src/main/scala/org/apache/spark/examples/LocalFileLR.scala\n",
            "spark-3.3.2-bin-hadoop3/examples/src/main/scala/org/apache/spark/examples/LocalKMeans.scala\n",
            "spark-3.3.2-bin-hadoop3/examples/src/main/scala/org/apache/spark/examples/LocalLR.scala\n",
            "spark-3.3.2-bin-hadoop3/examples/src/main/scala/org/apache/spark/examples/LocalPi.scala\n",
            "spark-3.3.2-bin-hadoop3/examples/src/main/scala/org/apache/spark/examples/LogQuery.scala\n",
            "spark-3.3.2-bin-hadoop3/examples/src/main/scala/org/apache/spark/examples/MiniReadWriteTest.scala\n",
            "spark-3.3.2-bin-hadoop3/examples/src/main/scala/org/apache/spark/examples/MultiBroadcastTest.scala\n",
            "spark-3.3.2-bin-hadoop3/examples/src/main/scala/org/apache/spark/examples/SimpleSkewedGroupByTest.scala\n",
            "spark-3.3.2-bin-hadoop3/examples/src/main/scala/org/apache/spark/examples/SkewedGroupByTest.scala\n",
            "spark-3.3.2-bin-hadoop3/examples/src/main/scala/org/apache/spark/examples/SparkALS.scala\n",
            "spark-3.3.2-bin-hadoop3/examples/src/main/scala/org/apache/spark/examples/SparkHdfsLR.scala\n",
            "spark-3.3.2-bin-hadoop3/examples/src/main/scala/org/apache/spark/examples/SparkKMeans.scala\n",
            "spark-3.3.2-bin-hadoop3/examples/src/main/scala/org/apache/spark/examples/SparkLR.scala\n",
            "spark-3.3.2-bin-hadoop3/examples/src/main/scala/org/apache/spark/examples/SparkPageRank.scala\n",
            "spark-3.3.2-bin-hadoop3/examples/src/main/scala/org/apache/spark/examples/SparkPi.scala\n",
            "spark-3.3.2-bin-hadoop3/examples/src/main/scala/org/apache/spark/examples/SparkRemoteFileTest.scala\n",
            "spark-3.3.2-bin-hadoop3/examples/src/main/scala/org/apache/spark/examples/SparkTC.scala\n",
            "spark-3.3.2-bin-hadoop3/examples/src/main/scala/org/apache/spark/examples/extensions/\n",
            "spark-3.3.2-bin-hadoop3/examples/src/main/scala/org/apache/spark/examples/extensions/AgeExample.scala\n",
            "spark-3.3.2-bin-hadoop3/examples/src/main/scala/org/apache/spark/examples/extensions/SessionExtensionsWithLoader.scala\n",
            "spark-3.3.2-bin-hadoop3/examples/src/main/scala/org/apache/spark/examples/extensions/SessionExtensionsWithoutLoader.scala\n",
            "spark-3.3.2-bin-hadoop3/examples/src/main/scala/org/apache/spark/examples/extensions/SparkSessionExtensionsTest.scala\n",
            "spark-3.3.2-bin-hadoop3/examples/src/main/scala/org/apache/spark/examples/graphx/\n",
            "spark-3.3.2-bin-hadoop3/examples/src/main/scala/org/apache/spark/examples/graphx/AggregateMessagesExample.scala\n",
            "spark-3.3.2-bin-hadoop3/examples/src/main/scala/org/apache/spark/examples/graphx/Analytics.scala\n",
            "spark-3.3.2-bin-hadoop3/examples/src/main/scala/org/apache/spark/examples/graphx/ComprehensiveExample.scala\n",
            "spark-3.3.2-bin-hadoop3/examples/src/main/scala/org/apache/spark/examples/graphx/ConnectedComponentsExample.scala\n",
            "spark-3.3.2-bin-hadoop3/examples/src/main/scala/org/apache/spark/examples/graphx/LiveJournalPageRank.scala\n",
            "spark-3.3.2-bin-hadoop3/examples/src/main/scala/org/apache/spark/examples/graphx/PageRankExample.scala\n",
            "spark-3.3.2-bin-hadoop3/examples/src/main/scala/org/apache/spark/examples/graphx/SSSPExample.scala\n",
            "spark-3.3.2-bin-hadoop3/examples/src/main/scala/org/apache/spark/examples/graphx/SynthBenchmark.scala\n",
            "spark-3.3.2-bin-hadoop3/examples/src/main/scala/org/apache/spark/examples/graphx/TriangleCountingExample.scala\n",
            "spark-3.3.2-bin-hadoop3/examples/src/main/scala/org/apache/spark/examples/ml/\n",
            "spark-3.3.2-bin-hadoop3/examples/src/main/scala/org/apache/spark/examples/ml/AFTSurvivalRegressionExample.scala\n",
            "spark-3.3.2-bin-hadoop3/examples/src/main/scala/org/apache/spark/examples/ml/ALSExample.scala\n",
            "spark-3.3.2-bin-hadoop3/examples/src/main/scala/org/apache/spark/examples/ml/BinarizerExample.scala\n",
            "spark-3.3.2-bin-hadoop3/examples/src/main/scala/org/apache/spark/examples/ml/BisectingKMeansExample.scala\n",
            "spark-3.3.2-bin-hadoop3/examples/src/main/scala/org/apache/spark/examples/ml/BucketedRandomProjectionLSHExample.scala\n",
            "spark-3.3.2-bin-hadoop3/examples/src/main/scala/org/apache/spark/examples/ml/BucketizerExample.scala\n",
            "spark-3.3.2-bin-hadoop3/examples/src/main/scala/org/apache/spark/examples/ml/ChiSqSelectorExample.scala\n",
            "spark-3.3.2-bin-hadoop3/examples/src/main/scala/org/apache/spark/examples/ml/ChiSquareTestExample.scala\n",
            "spark-3.3.2-bin-hadoop3/examples/src/main/scala/org/apache/spark/examples/ml/CorrelationExample.scala\n",
            "spark-3.3.2-bin-hadoop3/examples/src/main/scala/org/apache/spark/examples/ml/CountVectorizerExample.scala\n",
            "spark-3.3.2-bin-hadoop3/examples/src/main/scala/org/apache/spark/examples/ml/DCTExample.scala\n",
            "spark-3.3.2-bin-hadoop3/examples/src/main/scala/org/apache/spark/examples/ml/DataFrameExample.scala\n",
            "spark-3.3.2-bin-hadoop3/examples/src/main/scala/org/apache/spark/examples/ml/DecisionTreeClassificationExample.scala\n",
            "spark-3.3.2-bin-hadoop3/examples/src/main/scala/org/apache/spark/examples/ml/DecisionTreeExample.scala\n",
            "spark-3.3.2-bin-hadoop3/examples/src/main/scala/org/apache/spark/examples/ml/DecisionTreeRegressionExample.scala\n",
            "spark-3.3.2-bin-hadoop3/examples/src/main/scala/org/apache/spark/examples/ml/DeveloperApiExample.scala\n",
            "spark-3.3.2-bin-hadoop3/examples/src/main/scala/org/apache/spark/examples/ml/ElementwiseProductExample.scala\n",
            "spark-3.3.2-bin-hadoop3/examples/src/main/scala/org/apache/spark/examples/ml/EstimatorTransformerParamExample.scala\n",
            "spark-3.3.2-bin-hadoop3/examples/src/main/scala/org/apache/spark/examples/ml/FMClassifierExample.scala\n",
            "spark-3.3.2-bin-hadoop3/examples/src/main/scala/org/apache/spark/examples/ml/FMRegressorExample.scala\n",
            "spark-3.3.2-bin-hadoop3/examples/src/main/scala/org/apache/spark/examples/ml/FPGrowthExample.scala\n",
            "spark-3.3.2-bin-hadoop3/examples/src/main/scala/org/apache/spark/examples/ml/FeatureHasherExample.scala\n",
            "spark-3.3.2-bin-hadoop3/examples/src/main/scala/org/apache/spark/examples/ml/GBTExample.scala\n",
            "spark-3.3.2-bin-hadoop3/examples/src/main/scala/org/apache/spark/examples/ml/GaussianMixtureExample.scala\n",
            "spark-3.3.2-bin-hadoop3/examples/src/main/scala/org/apache/spark/examples/ml/GeneralizedLinearRegressionExample.scala\n",
            "spark-3.3.2-bin-hadoop3/examples/src/main/scala/org/apache/spark/examples/ml/GradientBoostedTreeClassifierExample.scala\n",
            "spark-3.3.2-bin-hadoop3/examples/src/main/scala/org/apache/spark/examples/ml/GradientBoostedTreeRegressorExample.scala\n",
            "spark-3.3.2-bin-hadoop3/examples/src/main/scala/org/apache/spark/examples/ml/ImputerExample.scala\n",
            "spark-3.3.2-bin-hadoop3/examples/src/main/scala/org/apache/spark/examples/ml/IndexToStringExample.scala\n",
            "spark-3.3.2-bin-hadoop3/examples/src/main/scala/org/apache/spark/examples/ml/InteractionExample.scala\n",
            "spark-3.3.2-bin-hadoop3/examples/src/main/scala/org/apache/spark/examples/ml/IsotonicRegressionExample.scala\n",
            "spark-3.3.2-bin-hadoop3/examples/src/main/scala/org/apache/spark/examples/ml/KMeansExample.scala\n",
            "spark-3.3.2-bin-hadoop3/examples/src/main/scala/org/apache/spark/examples/ml/LDAExample.scala\n",
            "spark-3.3.2-bin-hadoop3/examples/src/main/scala/org/apache/spark/examples/ml/LinearRegressionExample.scala\n",
            "spark-3.3.2-bin-hadoop3/examples/src/main/scala/org/apache/spark/examples/ml/LinearRegressionWithElasticNetExample.scala\n",
            "spark-3.3.2-bin-hadoop3/examples/src/main/scala/org/apache/spark/examples/ml/LinearSVCExample.scala\n",
            "spark-3.3.2-bin-hadoop3/examples/src/main/scala/org/apache/spark/examples/ml/LogisticRegressionExample.scala\n",
            "spark-3.3.2-bin-hadoop3/examples/src/main/scala/org/apache/spark/examples/ml/LogisticRegressionSummaryExample.scala\n",
            "spark-3.3.2-bin-hadoop3/examples/src/main/scala/org/apache/spark/examples/ml/LogisticRegressionWithElasticNetExample.scala\n",
            "spark-3.3.2-bin-hadoop3/examples/src/main/scala/org/apache/spark/examples/ml/MaxAbsScalerExample.scala\n",
            "spark-3.3.2-bin-hadoop3/examples/src/main/scala/org/apache/spark/examples/ml/MinHashLSHExample.scala\n",
            "spark-3.3.2-bin-hadoop3/examples/src/main/scala/org/apache/spark/examples/ml/MinMaxScalerExample.scala\n",
            "spark-3.3.2-bin-hadoop3/examples/src/main/scala/org/apache/spark/examples/ml/ModelSelectionViaCrossValidationExample.scala\n",
            "spark-3.3.2-bin-hadoop3/examples/src/main/scala/org/apache/spark/examples/ml/ModelSelectionViaTrainValidationSplitExample.scala\n",
            "spark-3.3.2-bin-hadoop3/examples/src/main/scala/org/apache/spark/examples/ml/MulticlassLogisticRegressionWithElasticNetExample.scala\n",
            "spark-3.3.2-bin-hadoop3/examples/src/main/scala/org/apache/spark/examples/ml/MultilayerPerceptronClassifierExample.scala\n",
            "spark-3.3.2-bin-hadoop3/examples/src/main/scala/org/apache/spark/examples/ml/NGramExample.scala\n",
            "spark-3.3.2-bin-hadoop3/examples/src/main/scala/org/apache/spark/examples/ml/NaiveBayesExample.scala\n",
            "spark-3.3.2-bin-hadoop3/examples/src/main/scala/org/apache/spark/examples/ml/NormalizerExample.scala\n",
            "spark-3.3.2-bin-hadoop3/examples/src/main/scala/org/apache/spark/examples/ml/OneHotEncoderExample.scala\n",
            "spark-3.3.2-bin-hadoop3/examples/src/main/scala/org/apache/spark/examples/ml/OneVsRestExample.scala\n",
            "spark-3.3.2-bin-hadoop3/examples/src/main/scala/org/apache/spark/examples/ml/PCAExample.scala\n",
            "spark-3.3.2-bin-hadoop3/examples/src/main/scala/org/apache/spark/examples/ml/PipelineExample.scala\n",
            "spark-3.3.2-bin-hadoop3/examples/src/main/scala/org/apache/spark/examples/ml/PolynomialExpansionExample.scala\n",
            "spark-3.3.2-bin-hadoop3/examples/src/main/scala/org/apache/spark/examples/ml/PowerIterationClusteringExample.scala\n",
            "spark-3.3.2-bin-hadoop3/examples/src/main/scala/org/apache/spark/examples/ml/PrefixSpanExample.scala\n",
            "spark-3.3.2-bin-hadoop3/examples/src/main/scala/org/apache/spark/examples/ml/QuantileDiscretizerExample.scala\n",
            "spark-3.3.2-bin-hadoop3/examples/src/main/scala/org/apache/spark/examples/ml/RFormulaExample.scala\n",
            "spark-3.3.2-bin-hadoop3/examples/src/main/scala/org/apache/spark/examples/ml/RandomForestClassifierExample.scala\n",
            "spark-3.3.2-bin-hadoop3/examples/src/main/scala/org/apache/spark/examples/ml/RandomForestExample.scala\n",
            "spark-3.3.2-bin-hadoop3/examples/src/main/scala/org/apache/spark/examples/ml/RandomForestRegressorExample.scala\n",
            "spark-3.3.2-bin-hadoop3/examples/src/main/scala/org/apache/spark/examples/ml/RobustScalerExample.scala\n",
            "spark-3.3.2-bin-hadoop3/examples/src/main/scala/org/apache/spark/examples/ml/SQLTransformerExample.scala\n",
            "spark-3.3.2-bin-hadoop3/examples/src/main/scala/org/apache/spark/examples/ml/StandardScalerExample.scala\n",
            "spark-3.3.2-bin-hadoop3/examples/src/main/scala/org/apache/spark/examples/ml/StopWordsRemoverExample.scala\n",
            "spark-3.3.2-bin-hadoop3/examples/src/main/scala/org/apache/spark/examples/ml/StringIndexerExample.scala\n",
            "spark-3.3.2-bin-hadoop3/examples/src/main/scala/org/apache/spark/examples/ml/SummarizerExample.scala\n",
            "spark-3.3.2-bin-hadoop3/examples/src/main/scala/org/apache/spark/examples/ml/TfIdfExample.scala\n",
            "spark-3.3.2-bin-hadoop3/examples/src/main/scala/org/apache/spark/examples/ml/TokenizerExample.scala\n",
            "spark-3.3.2-bin-hadoop3/examples/src/main/scala/org/apache/spark/examples/ml/UnaryTransformerExample.scala\n",
            "spark-3.3.2-bin-hadoop3/examples/src/main/scala/org/apache/spark/examples/ml/UnivariateFeatureSelectorExample.scala\n",
            "spark-3.3.2-bin-hadoop3/examples/src/main/scala/org/apache/spark/examples/ml/VarianceThresholdSelectorExample.scala\n",
            "spark-3.3.2-bin-hadoop3/examples/src/main/scala/org/apache/spark/examples/ml/VectorAssemblerExample.scala\n",
            "spark-3.3.2-bin-hadoop3/examples/src/main/scala/org/apache/spark/examples/ml/VectorIndexerExample.scala\n",
            "spark-3.3.2-bin-hadoop3/examples/src/main/scala/org/apache/spark/examples/ml/VectorSizeHintExample.scala\n",
            "spark-3.3.2-bin-hadoop3/examples/src/main/scala/org/apache/spark/examples/ml/VectorSlicerExample.scala\n",
            "spark-3.3.2-bin-hadoop3/examples/src/main/scala/org/apache/spark/examples/ml/Word2VecExample.scala\n",
            "spark-3.3.2-bin-hadoop3/examples/src/main/scala/org/apache/spark/examples/mllib/\n",
            "spark-3.3.2-bin-hadoop3/examples/src/main/scala/org/apache/spark/examples/mllib/AbstractParams.scala\n",
            "spark-3.3.2-bin-hadoop3/examples/src/main/scala/org/apache/spark/examples/mllib/AssociationRulesExample.scala\n",
            "spark-3.3.2-bin-hadoop3/examples/src/main/scala/org/apache/spark/examples/mllib/BinaryClassification.scala\n",
            "spark-3.3.2-bin-hadoop3/examples/src/main/scala/org/apache/spark/examples/mllib/BinaryClassificationMetricsExample.scala\n",
            "spark-3.3.2-bin-hadoop3/examples/src/main/scala/org/apache/spark/examples/mllib/BisectingKMeansExample.scala\n",
            "spark-3.3.2-bin-hadoop3/examples/src/main/scala/org/apache/spark/examples/mllib/ChiSqSelectorExample.scala\n",
            "spark-3.3.2-bin-hadoop3/examples/src/main/scala/org/apache/spark/examples/mllib/Correlations.scala\n",
            "spark-3.3.2-bin-hadoop3/examples/src/main/scala/org/apache/spark/examples/mllib/CorrelationsExample.scala\n",
            "spark-3.3.2-bin-hadoop3/examples/src/main/scala/org/apache/spark/examples/mllib/CosineSimilarity.scala\n",
            "spark-3.3.2-bin-hadoop3/examples/src/main/scala/org/apache/spark/examples/mllib/DecisionTreeClassificationExample.scala\n",
            "spark-3.3.2-bin-hadoop3/examples/src/main/scala/org/apache/spark/examples/mllib/DecisionTreeRegressionExample.scala\n",
            "spark-3.3.2-bin-hadoop3/examples/src/main/scala/org/apache/spark/examples/mllib/DecisionTreeRunner.scala\n",
            "spark-3.3.2-bin-hadoop3/examples/src/main/scala/org/apache/spark/examples/mllib/DenseKMeans.scala\n",
            "spark-3.3.2-bin-hadoop3/examples/src/main/scala/org/apache/spark/examples/mllib/ElementwiseProductExample.scala\n",
            "spark-3.3.2-bin-hadoop3/examples/src/main/scala/org/apache/spark/examples/mllib/FPGrowthExample.scala\n",
            "spark-3.3.2-bin-hadoop3/examples/src/main/scala/org/apache/spark/examples/mllib/GaussianMixtureExample.scala\n",
            "spark-3.3.2-bin-hadoop3/examples/src/main/scala/org/apache/spark/examples/mllib/GradientBoostedTreesRunner.scala\n",
            "spark-3.3.2-bin-hadoop3/examples/src/main/scala/org/apache/spark/examples/mllib/GradientBoostingClassificationExample.scala\n",
            "spark-3.3.2-bin-hadoop3/examples/src/main/scala/org/apache/spark/examples/mllib/GradientBoostingRegressionExample.scala\n",
            "spark-3.3.2-bin-hadoop3/examples/src/main/scala/org/apache/spark/examples/mllib/HypothesisTestingExample.scala\n",
            "spark-3.3.2-bin-hadoop3/examples/src/main/scala/org/apache/spark/examples/mllib/HypothesisTestingKolmogorovSmirnovTestExample.scala\n",
            "spark-3.3.2-bin-hadoop3/examples/src/main/scala/org/apache/spark/examples/mllib/IsotonicRegressionExample.scala\n",
            "spark-3.3.2-bin-hadoop3/examples/src/main/scala/org/apache/spark/examples/mllib/KMeansExample.scala\n",
            "spark-3.3.2-bin-hadoop3/examples/src/main/scala/org/apache/spark/examples/mllib/KernelDensityEstimationExample.scala\n",
            "spark-3.3.2-bin-hadoop3/examples/src/main/scala/org/apache/spark/examples/mllib/LBFGSExample.scala\n",
            "spark-3.3.2-bin-hadoop3/examples/src/main/scala/org/apache/spark/examples/mllib/LDAExample.scala\n",
            "spark-3.3.2-bin-hadoop3/examples/src/main/scala/org/apache/spark/examples/mllib/LatentDirichletAllocationExample.scala\n",
            "spark-3.3.2-bin-hadoop3/examples/src/main/scala/org/apache/spark/examples/mllib/LogisticRegressionWithLBFGSExample.scala\n",
            "spark-3.3.2-bin-hadoop3/examples/src/main/scala/org/apache/spark/examples/mllib/MovieLensALS.scala\n",
            "spark-3.3.2-bin-hadoop3/examples/src/main/scala/org/apache/spark/examples/mllib/MultiLabelMetricsExample.scala\n",
            "spark-3.3.2-bin-hadoop3/examples/src/main/scala/org/apache/spark/examples/mllib/MulticlassMetricsExample.scala\n",
            "spark-3.3.2-bin-hadoop3/examples/src/main/scala/org/apache/spark/examples/mllib/MultivariateSummarizer.scala\n",
            "spark-3.3.2-bin-hadoop3/examples/src/main/scala/org/apache/spark/examples/mllib/NaiveBayesExample.scala\n",
            "spark-3.3.2-bin-hadoop3/examples/src/main/scala/org/apache/spark/examples/mllib/NormalizerExample.scala\n",
            "spark-3.3.2-bin-hadoop3/examples/src/main/scala/org/apache/spark/examples/mllib/PCAOnRowMatrixExample.scala\n",
            "spark-3.3.2-bin-hadoop3/examples/src/main/scala/org/apache/spark/examples/mllib/PCAOnSourceVectorExample.scala\n",
            "spark-3.3.2-bin-hadoop3/examples/src/main/scala/org/apache/spark/examples/mllib/PMMLModelExportExample.scala\n",
            "spark-3.3.2-bin-hadoop3/examples/src/main/scala/org/apache/spark/examples/mllib/PowerIterationClusteringExample.scala\n",
            "spark-3.3.2-bin-hadoop3/examples/src/main/scala/org/apache/spark/examples/mllib/PrefixSpanExample.scala\n",
            "spark-3.3.2-bin-hadoop3/examples/src/main/scala/org/apache/spark/examples/mllib/RandomForestClassificationExample.scala\n",
            "spark-3.3.2-bin-hadoop3/examples/src/main/scala/org/apache/spark/examples/mllib/RandomForestRegressionExample.scala\n",
            "spark-3.3.2-bin-hadoop3/examples/src/main/scala/org/apache/spark/examples/mllib/RandomRDDGeneration.scala\n",
            "spark-3.3.2-bin-hadoop3/examples/src/main/scala/org/apache/spark/examples/mllib/RankingMetricsExample.scala\n",
            "spark-3.3.2-bin-hadoop3/examples/src/main/scala/org/apache/spark/examples/mllib/RecommendationExample.scala\n",
            "spark-3.3.2-bin-hadoop3/examples/src/main/scala/org/apache/spark/examples/mllib/SVDExample.scala\n",
            "spark-3.3.2-bin-hadoop3/examples/src/main/scala/org/apache/spark/examples/mllib/SVMWithSGDExample.scala\n",
            "spark-3.3.2-bin-hadoop3/examples/src/main/scala/org/apache/spark/examples/mllib/SampledRDDs.scala\n",
            "spark-3.3.2-bin-hadoop3/examples/src/main/scala/org/apache/spark/examples/mllib/SimpleFPGrowth.scala\n",
            "spark-3.3.2-bin-hadoop3/examples/src/main/scala/org/apache/spark/examples/mllib/SparseNaiveBayes.scala\n",
            "spark-3.3.2-bin-hadoop3/examples/src/main/scala/org/apache/spark/examples/mllib/StandardScalerExample.scala\n",
            "spark-3.3.2-bin-hadoop3/examples/src/main/scala/org/apache/spark/examples/mllib/StratifiedSamplingExample.scala\n",
            "spark-3.3.2-bin-hadoop3/examples/src/main/scala/org/apache/spark/examples/mllib/StreamingKMeansExample.scala\n",
            "spark-3.3.2-bin-hadoop3/examples/src/main/scala/org/apache/spark/examples/mllib/StreamingLinearRegressionExample.scala\n",
            "spark-3.3.2-bin-hadoop3/examples/src/main/scala/org/apache/spark/examples/mllib/StreamingLogisticRegression.scala\n",
            "spark-3.3.2-bin-hadoop3/examples/src/main/scala/org/apache/spark/examples/mllib/StreamingTestExample.scala\n",
            "spark-3.3.2-bin-hadoop3/examples/src/main/scala/org/apache/spark/examples/mllib/SummaryStatisticsExample.scala\n",
            "spark-3.3.2-bin-hadoop3/examples/src/main/scala/org/apache/spark/examples/mllib/TFIDFExample.scala\n",
            "spark-3.3.2-bin-hadoop3/examples/src/main/scala/org/apache/spark/examples/mllib/TallSkinnyPCA.scala\n",
            "spark-3.3.2-bin-hadoop3/examples/src/main/scala/org/apache/spark/examples/mllib/TallSkinnySVD.scala\n",
            "spark-3.3.2-bin-hadoop3/examples/src/main/scala/org/apache/spark/examples/mllib/Word2VecExample.scala\n",
            "spark-3.3.2-bin-hadoop3/examples/src/main/scala/org/apache/spark/examples/pythonconverters/\n",
            "spark-3.3.2-bin-hadoop3/examples/src/main/scala/org/apache/spark/examples/pythonconverters/AvroConverters.scala\n",
            "spark-3.3.2-bin-hadoop3/examples/src/main/scala/org/apache/spark/examples/sql/\n",
            "spark-3.3.2-bin-hadoop3/examples/src/main/scala/org/apache/spark/examples/sql/RDDRelation.scala\n",
            "spark-3.3.2-bin-hadoop3/examples/src/main/scala/org/apache/spark/examples/sql/SQLDataSourceExample.scala\n",
            "spark-3.3.2-bin-hadoop3/examples/src/main/scala/org/apache/spark/examples/sql/SimpleTypedAggregator.scala\n",
            "spark-3.3.2-bin-hadoop3/examples/src/main/scala/org/apache/spark/examples/sql/SparkSQLExample.scala\n",
            "spark-3.3.2-bin-hadoop3/examples/src/main/scala/org/apache/spark/examples/sql/UserDefinedScalar.scala\n",
            "spark-3.3.2-bin-hadoop3/examples/src/main/scala/org/apache/spark/examples/sql/UserDefinedTypedAggregation.scala\n",
            "spark-3.3.2-bin-hadoop3/examples/src/main/scala/org/apache/spark/examples/sql/UserDefinedUntypedAggregation.scala\n",
            "spark-3.3.2-bin-hadoop3/examples/src/main/scala/org/apache/spark/examples/sql/hive/\n",
            "spark-3.3.2-bin-hadoop3/examples/src/main/scala/org/apache/spark/examples/sql/hive/SparkHiveExample.scala\n",
            "spark-3.3.2-bin-hadoop3/examples/src/main/scala/org/apache/spark/examples/sql/jdbc/\n",
            "spark-3.3.2-bin-hadoop3/examples/src/main/scala/org/apache/spark/examples/sql/jdbc/ExampleJdbcConnectionProvider.scala\n",
            "spark-3.3.2-bin-hadoop3/examples/src/main/scala/org/apache/spark/examples/sql/streaming/\n",
            "spark-3.3.2-bin-hadoop3/examples/src/main/scala/org/apache/spark/examples/sql/streaming/StructuredComplexSessionization.scala\n",
            "spark-3.3.2-bin-hadoop3/examples/src/main/scala/org/apache/spark/examples/sql/streaming/StructuredKafkaWordCount.scala\n",
            "spark-3.3.2-bin-hadoop3/examples/src/main/scala/org/apache/spark/examples/sql/streaming/StructuredKerberizedKafkaWordCount.scala\n",
            "spark-3.3.2-bin-hadoop3/examples/src/main/scala/org/apache/spark/examples/sql/streaming/StructuredNetworkWordCount.scala\n",
            "spark-3.3.2-bin-hadoop3/examples/src/main/scala/org/apache/spark/examples/sql/streaming/StructuredNetworkWordCountWindowed.scala\n",
            "spark-3.3.2-bin-hadoop3/examples/src/main/scala/org/apache/spark/examples/sql/streaming/StructuredSessionization.scala\n",
            "spark-3.3.2-bin-hadoop3/examples/src/main/scala/org/apache/spark/examples/streaming/\n",
            "spark-3.3.2-bin-hadoop3/examples/src/main/scala/org/apache/spark/examples/streaming/CustomReceiver.scala\n",
            "spark-3.3.2-bin-hadoop3/examples/src/main/scala/org/apache/spark/examples/streaming/DirectKafkaWordCount.scala\n",
            "spark-3.3.2-bin-hadoop3/examples/src/main/scala/org/apache/spark/examples/streaming/DirectKerberizedKafkaWordCount.scala\n",
            "spark-3.3.2-bin-hadoop3/examples/src/main/scala/org/apache/spark/examples/streaming/HdfsWordCount.scala\n",
            "spark-3.3.2-bin-hadoop3/examples/src/main/scala/org/apache/spark/examples/streaming/NetworkWordCount.scala\n",
            "spark-3.3.2-bin-hadoop3/examples/src/main/scala/org/apache/spark/examples/streaming/QueueStream.scala\n",
            "spark-3.3.2-bin-hadoop3/examples/src/main/scala/org/apache/spark/examples/streaming/RawNetworkGrep.scala\n",
            "spark-3.3.2-bin-hadoop3/examples/src/main/scala/org/apache/spark/examples/streaming/RecoverableNetworkWordCount.scala\n",
            "spark-3.3.2-bin-hadoop3/examples/src/main/scala/org/apache/spark/examples/streaming/SqlNetworkWordCount.scala\n",
            "spark-3.3.2-bin-hadoop3/examples/src/main/scala/org/apache/spark/examples/streaming/StatefulNetworkWordCount.scala\n",
            "spark-3.3.2-bin-hadoop3/examples/src/main/scala/org/apache/spark/examples/streaming/StreamingExamples.scala\n",
            "spark-3.3.2-bin-hadoop3/examples/src/main/scala/org/apache/spark/examples/streaming/clickstream/\n",
            "spark-3.3.2-bin-hadoop3/examples/src/main/scala/org/apache/spark/examples/streaming/clickstream/PageViewGenerator.scala\n",
            "spark-3.3.2-bin-hadoop3/examples/src/main/scala/org/apache/spark/examples/streaming/clickstream/PageViewStream.scala\n",
            "spark-3.3.2-bin-hadoop3/examples/src/main/scripts/\n",
            "spark-3.3.2-bin-hadoop3/examples/src/main/scripts/getGpusResources.sh\n",
            "spark-3.3.2-bin-hadoop3/jars/\n",
            "spark-3.3.2-bin-hadoop3/jars/HikariCP-2.5.1.jar\n",
            "spark-3.3.2-bin-hadoop3/jars/JLargeArrays-1.5.jar\n",
            "spark-3.3.2-bin-hadoop3/jars/JTransforms-3.1.jar\n",
            "spark-3.3.2-bin-hadoop3/jars/RoaringBitmap-0.9.25.jar\n",
            "spark-3.3.2-bin-hadoop3/jars/ST4-4.0.4.jar\n",
            "spark-3.3.2-bin-hadoop3/jars/activation-1.1.1.jar\n",
            "spark-3.3.2-bin-hadoop3/jars/aircompressor-0.21.jar\n",
            "spark-3.3.2-bin-hadoop3/jars/algebra_2.12-2.0.1.jar\n",
            "spark-3.3.2-bin-hadoop3/jars/annotations-17.0.0.jar\n",
            "spark-3.3.2-bin-hadoop3/jars/antlr-runtime-3.5.2.jar\n",
            "spark-3.3.2-bin-hadoop3/jars/antlr4-runtime-4.8.jar\n",
            "spark-3.3.2-bin-hadoop3/jars/aopalliance-repackaged-2.6.1.jar\n",
            "spark-3.3.2-bin-hadoop3/jars/arpack-2.2.1.jar\n",
            "spark-3.3.2-bin-hadoop3/jars/arpack_combined_all-0.1.jar\n",
            "spark-3.3.2-bin-hadoop3/jars/arrow-format-7.0.0.jar\n",
            "spark-3.3.2-bin-hadoop3/jars/arrow-memory-core-7.0.0.jar\n",
            "spark-3.3.2-bin-hadoop3/jars/arrow-memory-netty-7.0.0.jar\n",
            "spark-3.3.2-bin-hadoop3/jars/arrow-vector-7.0.0.jar\n",
            "spark-3.3.2-bin-hadoop3/jars/audience-annotations-0.5.0.jar\n",
            "spark-3.3.2-bin-hadoop3/jars/automaton-1.11-8.jar\n",
            "spark-3.3.2-bin-hadoop3/jars/avro-1.11.0.jar\n",
            "spark-3.3.2-bin-hadoop3/jars/avro-ipc-1.11.0.jar\n",
            "spark-3.3.2-bin-hadoop3/jars/avro-mapred-1.11.0.jar\n",
            "spark-3.3.2-bin-hadoop3/jars/blas-2.2.1.jar\n",
            "spark-3.3.2-bin-hadoop3/jars/bonecp-0.8.0.RELEASE.jar\n",
            "spark-3.3.2-bin-hadoop3/jars/breeze-macros_2.12-1.2.jar\n",
            "spark-3.3.2-bin-hadoop3/jars/breeze_2.12-1.2.jar\n",
            "spark-3.3.2-bin-hadoop3/jars/cats-kernel_2.12-2.1.1.jar\n",
            "spark-3.3.2-bin-hadoop3/jars/chill-java-0.10.0.jar\n",
            "spark-3.3.2-bin-hadoop3/jars/chill_2.12-0.10.0.jar\n",
            "spark-3.3.2-bin-hadoop3/jars/commons-cli-1.5.0.jar\n",
            "spark-3.3.2-bin-hadoop3/jars/commons-codec-1.15.jar\n",
            "spark-3.3.2-bin-hadoop3/jars/commons-collections-3.2.2.jar\n",
            "spark-3.3.2-bin-hadoop3/jars/commons-collections4-4.4.jar\n",
            "spark-3.3.2-bin-hadoop3/jars/commons-compiler-3.0.16.jar\n",
            "spark-3.3.2-bin-hadoop3/jars/commons-compress-1.21.jar\n",
            "spark-3.3.2-bin-hadoop3/jars/commons-crypto-1.1.0.jar\n",
            "spark-3.3.2-bin-hadoop3/jars/commons-dbcp-1.4.jar\n",
            "spark-3.3.2-bin-hadoop3/jars/commons-io-2.11.0.jar\n",
            "spark-3.3.2-bin-hadoop3/jars/commons-lang-2.6.jar\n",
            "spark-3.3.2-bin-hadoop3/jars/commons-lang3-3.12.0.jar\n",
            "spark-3.3.2-bin-hadoop3/jars/commons-logging-1.1.3.jar\n",
            "spark-3.3.2-bin-hadoop3/jars/commons-math3-3.6.1.jar\n",
            "spark-3.3.2-bin-hadoop3/jars/commons-pool-1.5.4.jar\n",
            "spark-3.3.2-bin-hadoop3/jars/commons-text-1.10.0.jar\n",
            "spark-3.3.2-bin-hadoop3/jars/compress-lzf-1.1.jar\n",
            "spark-3.3.2-bin-hadoop3/jars/core-1.1.2.jar\n",
            "spark-3.3.2-bin-hadoop3/jars/curator-client-2.13.0.jar\n",
            "spark-3.3.2-bin-hadoop3/jars/curator-framework-2.13.0.jar\n",
            "spark-3.3.2-bin-hadoop3/jars/curator-recipes-2.13.0.jar\n",
            "spark-3.3.2-bin-hadoop3/jars/datanucleus-api-jdo-4.2.4.jar\n",
            "spark-3.3.2-bin-hadoop3/jars/datanucleus-core-4.1.17.jar\n",
            "spark-3.3.2-bin-hadoop3/jars/datanucleus-rdbms-4.1.19.jar\n",
            "spark-3.3.2-bin-hadoop3/jars/derby-10.14.2.0.jar\n",
            "spark-3.3.2-bin-hadoop3/jars/dropwizard-metrics-hadoop-metrics2-reporter-0.1.2.jar\n",
            "spark-3.3.2-bin-hadoop3/jars/flatbuffers-java-1.12.0.jar\n",
            "spark-3.3.2-bin-hadoop3/jars/generex-1.0.2.jar\n",
            "spark-3.3.2-bin-hadoop3/jars/gson-2.2.4.jar\n",
            "spark-3.3.2-bin-hadoop3/jars/guava-14.0.1.jar\n",
            "spark-3.3.2-bin-hadoop3/jars/hadoop-client-api-3.3.2.jar\n",
            "spark-3.3.2-bin-hadoop3/jars/hadoop-client-runtime-3.3.2.jar\n",
            "spark-3.3.2-bin-hadoop3/jars/hadoop-shaded-guava-1.1.1.jar\n",
            "spark-3.3.2-bin-hadoop3/jars/hadoop-yarn-server-web-proxy-3.3.2.jar\n",
            "spark-3.3.2-bin-hadoop3/jars/hive-beeline-2.3.9.jar\n",
            "spark-3.3.2-bin-hadoop3/jars/hive-cli-2.3.9.jar\n",
            "spark-3.3.2-bin-hadoop3/jars/hive-common-2.3.9.jar\n",
            "spark-3.3.2-bin-hadoop3/jars/hive-exec-2.3.9-core.jar\n",
            "spark-3.3.2-bin-hadoop3/jars/hive-jdbc-2.3.9.jar\n",
            "spark-3.3.2-bin-hadoop3/jars/hive-llap-common-2.3.9.jar\n",
            "spark-3.3.2-bin-hadoop3/jars/hive-metastore-2.3.9.jar\n",
            "spark-3.3.2-bin-hadoop3/jars/hive-serde-2.3.9.jar\n",
            "spark-3.3.2-bin-hadoop3/jars/hive-service-rpc-3.1.2.jar\n",
            "spark-3.3.2-bin-hadoop3/jars/hive-shims-0.23-2.3.9.jar\n",
            "spark-3.3.2-bin-hadoop3/jars/hive-shims-2.3.9.jar\n",
            "spark-3.3.2-bin-hadoop3/jars/hive-shims-common-2.3.9.jar\n",
            "spark-3.3.2-bin-hadoop3/jars/hive-shims-scheduler-2.3.9.jar\n",
            "spark-3.3.2-bin-hadoop3/jars/hive-storage-api-2.7.2.jar\n",
            "spark-3.3.2-bin-hadoop3/jars/hive-vector-code-gen-2.3.9.jar\n",
            "spark-3.3.2-bin-hadoop3/jars/hk2-api-2.6.1.jar\n",
            "spark-3.3.2-bin-hadoop3/jars/hk2-locator-2.6.1.jar\n",
            "spark-3.3.2-bin-hadoop3/jars/hk2-utils-2.6.1.jar\n",
            "spark-3.3.2-bin-hadoop3/jars/httpclient-4.5.13.jar\n",
            "spark-3.3.2-bin-hadoop3/jars/httpcore-4.4.14.jar\n",
            "spark-3.3.2-bin-hadoop3/jars/istack-commons-runtime-3.0.8.jar\n",
            "spark-3.3.2-bin-hadoop3/jars/ivy-2.5.1.jar\n",
            "spark-3.3.2-bin-hadoop3/jars/jackson-annotations-2.13.4.jar\n",
            "spark-3.3.2-bin-hadoop3/jars/jackson-core-2.13.4.jar\n",
            "spark-3.3.2-bin-hadoop3/jars/jackson-core-asl-1.9.13.jar\n",
            "spark-3.3.2-bin-hadoop3/jars/jackson-databind-2.13.4.2.jar\n",
            "spark-3.3.2-bin-hadoop3/jars/jackson-dataformat-yaml-2.13.4.jar\n",
            "spark-3.3.2-bin-hadoop3/jars/jackson-datatype-jsr310-2.13.4.jar\n",
            "spark-3.3.2-bin-hadoop3/jars/jackson-mapper-asl-1.9.13.jar\n",
            "spark-3.3.2-bin-hadoop3/jars/jackson-module-scala_2.12-2.13.4.jar\n",
            "spark-3.3.2-bin-hadoop3/jars/jakarta.annotation-api-1.3.5.jar\n",
            "spark-3.3.2-bin-hadoop3/jars/jakarta.inject-2.6.1.jar\n",
            "spark-3.3.2-bin-hadoop3/jars/jakarta.servlet-api-4.0.3.jar\n",
            "spark-3.3.2-bin-hadoop3/jars/jakarta.validation-api-2.0.2.jar\n",
            "spark-3.3.2-bin-hadoop3/jars/jakarta.ws.rs-api-2.1.6.jar\n",
            "spark-3.3.2-bin-hadoop3/jars/jakarta.xml.bind-api-2.3.2.jar\n",
            "spark-3.3.2-bin-hadoop3/jars/janino-3.0.16.jar\n",
            "spark-3.3.2-bin-hadoop3/jars/javassist-3.25.0-GA.jar\n",
            "spark-3.3.2-bin-hadoop3/jars/javax.jdo-3.2.0-m3.jar\n",
            "spark-3.3.2-bin-hadoop3/jars/javolution-5.5.1.jar\n",
            "spark-3.3.2-bin-hadoop3/jars/jaxb-runtime-2.3.2.jar\n",
            "spark-3.3.2-bin-hadoop3/jars/jcl-over-slf4j-1.7.32.jar\n",
            "spark-3.3.2-bin-hadoop3/jars/jdo-api-3.0.1.jar\n",
            "spark-3.3.2-bin-hadoop3/jars/jersey-client-2.36.jar\n",
            "spark-3.3.2-bin-hadoop3/jars/jersey-common-2.36.jar\n",
            "spark-3.3.2-bin-hadoop3/jars/jersey-container-servlet-2.36.jar\n",
            "spark-3.3.2-bin-hadoop3/jars/jersey-container-servlet-core-2.36.jar\n",
            "spark-3.3.2-bin-hadoop3/jars/jersey-hk2-2.36.jar\n",
            "spark-3.3.2-bin-hadoop3/jars/jersey-server-2.36.jar\n",
            "spark-3.3.2-bin-hadoop3/jars/jline-2.14.6.jar\n",
            "spark-3.3.2-bin-hadoop3/jars/joda-time-2.10.13.jar\n",
            "spark-3.3.2-bin-hadoop3/jars/jodd-core-3.5.2.jar\n",
            "spark-3.3.2-bin-hadoop3/jars/jpam-1.1.jar\n",
            "spark-3.3.2-bin-hadoop3/jars/json-1.8.jar\n",
            "spark-3.3.2-bin-hadoop3/jars/json4s-ast_2.12-3.7.0-M11.jar\n",
            "spark-3.3.2-bin-hadoop3/jars/json4s-core_2.12-3.7.0-M11.jar\n",
            "spark-3.3.2-bin-hadoop3/jars/json4s-jackson_2.12-3.7.0-M11.jar\n",
            "spark-3.3.2-bin-hadoop3/jars/json4s-scalap_2.12-3.7.0-M11.jar\n",
            "spark-3.3.2-bin-hadoop3/jars/jsr305-3.0.0.jar\n",
            "spark-3.3.2-bin-hadoop3/jars/jta-1.1.jar\n",
            "spark-3.3.2-bin-hadoop3/jars/jul-to-slf4j-1.7.32.jar\n",
            "spark-3.3.2-bin-hadoop3/jars/kryo-shaded-4.0.2.jar\n",
            "spark-3.3.2-bin-hadoop3/jars/kubernetes-client-5.12.2.jar\n",
            "spark-3.3.2-bin-hadoop3/jars/kubernetes-model-admissionregistration-5.12.2.jar\n",
            "spark-3.3.2-bin-hadoop3/jars/kubernetes-model-apiextensions-5.12.2.jar\n",
            "spark-3.3.2-bin-hadoop3/jars/kubernetes-model-apps-5.12.2.jar\n",
            "spark-3.3.2-bin-hadoop3/jars/kubernetes-model-autoscaling-5.12.2.jar\n",
            "spark-3.3.2-bin-hadoop3/jars/kubernetes-model-batch-5.12.2.jar\n",
            "spark-3.3.2-bin-hadoop3/jars/kubernetes-model-certificates-5.12.2.jar\n",
            "spark-3.3.2-bin-hadoop3/jars/kubernetes-model-common-5.12.2.jar\n",
            "spark-3.3.2-bin-hadoop3/jars/kubernetes-model-coordination-5.12.2.jar\n",
            "spark-3.3.2-bin-hadoop3/jars/kubernetes-model-core-5.12.2.jar\n",
            "spark-3.3.2-bin-hadoop3/jars/kubernetes-model-discovery-5.12.2.jar\n",
            "spark-3.3.2-bin-hadoop3/jars/kubernetes-model-events-5.12.2.jar\n",
            "spark-3.3.2-bin-hadoop3/jars/kubernetes-model-extensions-5.12.2.jar\n",
            "spark-3.3.2-bin-hadoop3/jars/kubernetes-model-flowcontrol-5.12.2.jar\n",
            "spark-3.3.2-bin-hadoop3/jars/kubernetes-model-metrics-5.12.2.jar\n",
            "spark-3.3.2-bin-hadoop3/jars/kubernetes-model-networking-5.12.2.jar\n",
            "spark-3.3.2-bin-hadoop3/jars/kubernetes-model-node-5.12.2.jar\n",
            "spark-3.3.2-bin-hadoop3/jars/kubernetes-model-policy-5.12.2.jar\n",
            "spark-3.3.2-bin-hadoop3/jars/kubernetes-model-rbac-5.12.2.jar\n",
            "spark-3.3.2-bin-hadoop3/jars/kubernetes-model-scheduling-5.12.2.jar\n",
            "spark-3.3.2-bin-hadoop3/jars/kubernetes-model-storageclass-5.12.2.jar\n",
            "spark-3.3.2-bin-hadoop3/jars/lapack-2.2.1.jar\n",
            "spark-3.3.2-bin-hadoop3/jars/leveldbjni-all-1.8.jar\n",
            "spark-3.3.2-bin-hadoop3/jars/libfb303-0.9.3.jar\n",
            "spark-3.3.2-bin-hadoop3/jars/libthrift-0.12.0.jar\n",
            "spark-3.3.2-bin-hadoop3/jars/log4j-1.2-api-2.17.2.jar\n",
            "spark-3.3.2-bin-hadoop3/jars/log4j-api-2.17.2.jar\n",
            "spark-3.3.2-bin-hadoop3/jars/log4j-core-2.17.2.jar\n",
            "spark-3.3.2-bin-hadoop3/jars/log4j-slf4j-impl-2.17.2.jar\n",
            "spark-3.3.2-bin-hadoop3/jars/logging-interceptor-3.12.12.jar\n",
            "spark-3.3.2-bin-hadoop3/jars/lz4-java-1.8.0.jar\n",
            "spark-3.3.2-bin-hadoop3/jars/mesos-1.4.3-shaded-protobuf.jar\n",
            "spark-3.3.2-bin-hadoop3/jars/metrics-core-4.2.7.jar\n",
            "spark-3.3.2-bin-hadoop3/jars/metrics-graphite-4.2.7.jar\n",
            "spark-3.3.2-bin-hadoop3/jars/metrics-jmx-4.2.7.jar\n",
            "spark-3.3.2-bin-hadoop3/jars/metrics-json-4.2.7.jar\n",
            "spark-3.3.2-bin-hadoop3/jars/metrics-jvm-4.2.7.jar\n",
            "spark-3.3.2-bin-hadoop3/jars/minlog-1.3.0.jar\n",
            "spark-3.3.2-bin-hadoop3/jars/netty-all-4.1.74.Final.jar\n",
            "spark-3.3.2-bin-hadoop3/jars/netty-buffer-4.1.74.Final.jar\n",
            "spark-3.3.2-bin-hadoop3/jars/netty-codec-4.1.74.Final.jar\n",
            "spark-3.3.2-bin-hadoop3/jars/netty-common-4.1.74.Final.jar\n",
            "spark-3.3.2-bin-hadoop3/jars/netty-handler-4.1.74.Final.jar\n",
            "spark-3.3.2-bin-hadoop3/jars/netty-resolver-4.1.74.Final.jar\n",
            "spark-3.3.2-bin-hadoop3/jars/netty-tcnative-classes-2.0.48.Final.jar\n",
            "spark-3.3.2-bin-hadoop3/jars/netty-transport-4.1.74.Final.jar\n",
            "spark-3.3.2-bin-hadoop3/jars/netty-transport-classes-epoll-4.1.74.Final.jar\n",
            "spark-3.3.2-bin-hadoop3/jars/netty-transport-classes-kqueue-4.1.74.Final.jar\n",
            "spark-3.3.2-bin-hadoop3/jars/netty-transport-native-epoll-4.1.74.Final-linux-aarch_64.jar\n",
            "spark-3.3.2-bin-hadoop3/jars/netty-transport-native-epoll-4.1.74.Final-linux-x86_64.jar\n",
            "spark-3.3.2-bin-hadoop3/jars/netty-transport-native-kqueue-4.1.74.Final-osx-aarch_64.jar\n",
            "spark-3.3.2-bin-hadoop3/jars/netty-transport-native-kqueue-4.1.74.Final-osx-x86_64.jar\n",
            "spark-3.3.2-bin-hadoop3/jars/netty-transport-native-unix-common-4.1.74.Final.jar\n",
            "spark-3.3.2-bin-hadoop3/jars/objenesis-3.2.jar\n",
            "spark-3.3.2-bin-hadoop3/jars/okhttp-3.12.12.jar\n",
            "spark-3.3.2-bin-hadoop3/jars/okio-1.14.0.jar\n",
            "spark-3.3.2-bin-hadoop3/jars/opencsv-2.3.jar\n",
            "spark-3.3.2-bin-hadoop3/jars/orc-core-1.7.8.jar\n",
            "spark-3.3.2-bin-hadoop3/jars/orc-mapreduce-1.7.8.jar\n",
            "spark-3.3.2-bin-hadoop3/jars/orc-shims-1.7.8.jar\n",
            "spark-3.3.2-bin-hadoop3/jars/oro-2.0.8.jar\n",
            "spark-3.3.2-bin-hadoop3/jars/osgi-resource-locator-1.0.3.jar\n",
            "spark-3.3.2-bin-hadoop3/jars/paranamer-2.8.jar\n",
            "spark-3.3.2-bin-hadoop3/jars/parquet-column-1.12.2.jar\n",
            "spark-3.3.2-bin-hadoop3/jars/parquet-common-1.12.2.jar\n",
            "spark-3.3.2-bin-hadoop3/jars/parquet-encoding-1.12.2.jar\n",
            "spark-3.3.2-bin-hadoop3/jars/parquet-format-structures-1.12.2.jar\n",
            "spark-3.3.2-bin-hadoop3/jars/parquet-hadoop-1.12.2.jar\n",
            "spark-3.3.2-bin-hadoop3/jars/parquet-jackson-1.12.2.jar\n",
            "spark-3.3.2-bin-hadoop3/jars/pickle-1.2.jar\n",
            "spark-3.3.2-bin-hadoop3/jars/protobuf-java-2.5.0.jar\n",
            "spark-3.3.2-bin-hadoop3/jars/py4j-0.10.9.5.jar\n",
            "spark-3.3.2-bin-hadoop3/jars/rocksdbjni-6.20.3.jar\n",
            "spark-3.3.2-bin-hadoop3/jars/scala-collection-compat_2.12-2.1.1.jar\n",
            "spark-3.3.2-bin-hadoop3/jars/scala-compiler-2.12.15.jar\n",
            "spark-3.3.2-bin-hadoop3/jars/scala-library-2.12.15.jar\n",
            "spark-3.3.2-bin-hadoop3/jars/scala-parser-combinators_2.12-1.1.2.jar\n",
            "spark-3.3.2-bin-hadoop3/jars/scala-reflect-2.12.15.jar\n",
            "spark-3.3.2-bin-hadoop3/jars/scala-xml_2.12-1.2.0.jar\n",
            "spark-3.3.2-bin-hadoop3/jars/shapeless_2.12-2.3.7.jar\n",
            "spark-3.3.2-bin-hadoop3/jars/shims-0.9.25.jar\n",
            "spark-3.3.2-bin-hadoop3/jars/slf4j-api-1.7.32.jar\n",
            "spark-3.3.2-bin-hadoop3/jars/snakeyaml-1.31.jar\n",
            "spark-3.3.2-bin-hadoop3/jars/snappy-java-1.1.8.4.jar\n",
            "spark-3.3.2-bin-hadoop3/jars/spark-catalyst_2.12-3.3.2.jar\n",
            "spark-3.3.2-bin-hadoop3/jars/spark-core_2.12-3.3.2.jar\n",
            "spark-3.3.2-bin-hadoop3/jars/spark-graphx_2.12-3.3.2.jar\n",
            "spark-3.3.2-bin-hadoop3/jars/spark-hive-thriftserver_2.12-3.3.2.jar\n",
            "spark-3.3.2-bin-hadoop3/jars/spark-hive_2.12-3.3.2.jar\n",
            "spark-3.3.2-bin-hadoop3/jars/spark-kubernetes_2.12-3.3.2.jar\n",
            "spark-3.3.2-bin-hadoop3/jars/spark-kvstore_2.12-3.3.2.jar\n",
            "spark-3.3.2-bin-hadoop3/jars/spark-launcher_2.12-3.3.2.jar\n",
            "spark-3.3.2-bin-hadoop3/jars/spark-mesos_2.12-3.3.2.jar\n",
            "spark-3.3.2-bin-hadoop3/jars/spark-mllib-local_2.12-3.3.2.jar\n",
            "spark-3.3.2-bin-hadoop3/jars/spark-mllib_2.12-3.3.2.jar\n",
            "spark-3.3.2-bin-hadoop3/jars/spark-network-common_2.12-3.3.2.jar\n",
            "spark-3.3.2-bin-hadoop3/jars/spark-network-shuffle_2.12-3.3.2.jar\n",
            "spark-3.3.2-bin-hadoop3/jars/spark-repl_2.12-3.3.2.jar\n",
            "spark-3.3.2-bin-hadoop3/jars/spark-sketch_2.12-3.3.2.jar\n",
            "spark-3.3.2-bin-hadoop3/jars/spark-sql_2.12-3.3.2.jar\n",
            "spark-3.3.2-bin-hadoop3/jars/spark-streaming_2.12-3.3.2.jar\n",
            "spark-3.3.2-bin-hadoop3/jars/spark-tags_2.12-3.3.2-tests.jar\n",
            "spark-3.3.2-bin-hadoop3/jars/spark-tags_2.12-3.3.2.jar\n",
            "spark-3.3.2-bin-hadoop3/jars/spark-unsafe_2.12-3.3.2.jar\n",
            "spark-3.3.2-bin-hadoop3/jars/spark-yarn_2.12-3.3.2.jar\n",
            "spark-3.3.2-bin-hadoop3/jars/spire-macros_2.12-0.17.0.jar\n",
            "spark-3.3.2-bin-hadoop3/jars/spire-platform_2.12-0.17.0.jar\n",
            "spark-3.3.2-bin-hadoop3/jars/spire-util_2.12-0.17.0.jar\n",
            "spark-3.3.2-bin-hadoop3/jars/spire_2.12-0.17.0.jar\n",
            "spark-3.3.2-bin-hadoop3/jars/stax-api-1.0.1.jar\n",
            "spark-3.3.2-bin-hadoop3/jars/stream-2.9.6.jar\n",
            "spark-3.3.2-bin-hadoop3/jars/super-csv-2.2.0.jar\n",
            "spark-3.3.2-bin-hadoop3/jars/threeten-extra-1.5.0.jar\n",
            "spark-3.3.2-bin-hadoop3/jars/tink-1.6.1.jar\n",
            "spark-3.3.2-bin-hadoop3/jars/transaction-api-1.1.jar\n",
            "spark-3.3.2-bin-hadoop3/jars/univocity-parsers-2.9.1.jar\n",
            "spark-3.3.2-bin-hadoop3/jars/velocity-1.5.jar\n",
            "spark-3.3.2-bin-hadoop3/jars/xbean-asm9-shaded-4.20.jar\n",
            "spark-3.3.2-bin-hadoop3/jars/xz-1.9.jar\n",
            "spark-3.3.2-bin-hadoop3/jars/zjsonpatch-0.3.0.jar\n",
            "spark-3.3.2-bin-hadoop3/jars/zookeeper-3.6.2.jar\n",
            "spark-3.3.2-bin-hadoop3/jars/zookeeper-jute-3.6.2.jar\n",
            "spark-3.3.2-bin-hadoop3/jars/zstd-jni-1.5.2-1.jar\n",
            "spark-3.3.2-bin-hadoop3/kubernetes/\n",
            "spark-3.3.2-bin-hadoop3/kubernetes/dockerfiles/\n",
            "spark-3.3.2-bin-hadoop3/kubernetes/dockerfiles/spark/\n",
            "spark-3.3.2-bin-hadoop3/kubernetes/dockerfiles/spark/Dockerfile\n",
            "spark-3.3.2-bin-hadoop3/kubernetes/dockerfiles/spark/Dockerfile.java17\n",
            "spark-3.3.2-bin-hadoop3/kubernetes/dockerfiles/spark/bindings/\n",
            "spark-3.3.2-bin-hadoop3/kubernetes/dockerfiles/spark/bindings/R/\n",
            "spark-3.3.2-bin-hadoop3/kubernetes/dockerfiles/spark/bindings/R/Dockerfile\n",
            "spark-3.3.2-bin-hadoop3/kubernetes/dockerfiles/spark/bindings/python/\n",
            "spark-3.3.2-bin-hadoop3/kubernetes/dockerfiles/spark/bindings/python/Dockerfile\n",
            "spark-3.3.2-bin-hadoop3/kubernetes/dockerfiles/spark/decom.sh\n",
            "spark-3.3.2-bin-hadoop3/kubernetes/dockerfiles/spark/entrypoint.sh\n",
            "spark-3.3.2-bin-hadoop3/kubernetes/tests/\n",
            "spark-3.3.2-bin-hadoop3/kubernetes/tests/autoscale.py\n",
            "spark-3.3.2-bin-hadoop3/kubernetes/tests/decommissioning.py\n",
            "spark-3.3.2-bin-hadoop3/kubernetes/tests/decommissioning_cleanup.py\n",
            "spark-3.3.2-bin-hadoop3/kubernetes/tests/py_container_checks.py\n",
            "spark-3.3.2-bin-hadoop3/kubernetes/tests/pyfiles.py\n",
            "spark-3.3.2-bin-hadoop3/kubernetes/tests/python_executable_check.py\n",
            "spark-3.3.2-bin-hadoop3/kubernetes/tests/worker_memory_check.py\n",
            "spark-3.3.2-bin-hadoop3/licenses/\n",
            "spark-3.3.2-bin-hadoop3/licenses/LICENSE-AnchorJS.txt\n",
            "spark-3.3.2-bin-hadoop3/licenses/LICENSE-CC0.txt\n",
            "spark-3.3.2-bin-hadoop3/licenses/LICENSE-JLargeArrays.txt\n",
            "spark-3.3.2-bin-hadoop3/licenses/LICENSE-JTransforms.txt\n",
            "spark-3.3.2-bin-hadoop3/licenses/LICENSE-antlr.txt\n",
            "spark-3.3.2-bin-hadoop3/licenses/LICENSE-arpack.txt\n",
            "spark-3.3.2-bin-hadoop3/licenses/LICENSE-automaton.txt\n",
            "spark-3.3.2-bin-hadoop3/licenses/LICENSE-blas.txt\n",
            "spark-3.3.2-bin-hadoop3/licenses/LICENSE-bootstrap.txt\n",
            "spark-3.3.2-bin-hadoop3/licenses/LICENSE-cloudpickle.txt\n",
            "spark-3.3.2-bin-hadoop3/licenses/LICENSE-d3.min.js.txt\n",
            "spark-3.3.2-bin-hadoop3/licenses/LICENSE-dagre-d3.txt\n",
            "spark-3.3.2-bin-hadoop3/licenses/LICENSE-datatables.txt\n",
            "spark-3.3.2-bin-hadoop3/licenses/LICENSE-dnsjava.txt\n",
            "spark-3.3.2-bin-hadoop3/licenses/LICENSE-f2j.txt\n",
            "spark-3.3.2-bin-hadoop3/licenses/LICENSE-graphlib-dot.txt\n",
            "spark-3.3.2-bin-hadoop3/licenses/LICENSE-istack-commons-runtime.txt\n",
            "spark-3.3.2-bin-hadoop3/licenses/LICENSE-jakarta-annotation-api\n",
            "spark-3.3.2-bin-hadoop3/licenses/LICENSE-jakarta-ws-rs-api\n",
            "spark-3.3.2-bin-hadoop3/licenses/LICENSE-jakarta.activation-api.txt\n",
            "spark-3.3.2-bin-hadoop3/licenses/LICENSE-jakarta.xml.bind-api.txt\n",
            "spark-3.3.2-bin-hadoop3/licenses/LICENSE-janino.txt\n",
            "spark-3.3.2-bin-hadoop3/licenses/LICENSE-javassist.html\n",
            "spark-3.3.2-bin-hadoop3/licenses/LICENSE-javax-transaction-transaction-api.txt\n",
            "spark-3.3.2-bin-hadoop3/licenses/LICENSE-javolution.txt\n",
            "spark-3.3.2-bin-hadoop3/licenses/LICENSE-jaxb-runtime.txt\n",
            "spark-3.3.2-bin-hadoop3/licenses/LICENSE-jline.txt\n",
            "spark-3.3.2-bin-hadoop3/licenses/LICENSE-jodd.txt\n",
            "spark-3.3.2-bin-hadoop3/licenses/LICENSE-join.txt\n",
            "spark-3.3.2-bin-hadoop3/licenses/LICENSE-jquery.txt\n",
            "spark-3.3.2-bin-hadoop3/licenses/LICENSE-json-formatter.txt\n",
            "spark-3.3.2-bin-hadoop3/licenses/LICENSE-jsp-api.txt\n",
            "spark-3.3.2-bin-hadoop3/licenses/LICENSE-kryo.txt\n",
            "spark-3.3.2-bin-hadoop3/licenses/LICENSE-leveldbjni.txt\n",
            "spark-3.3.2-bin-hadoop3/licenses/LICENSE-machinist.txt\n",
            "spark-3.3.2-bin-hadoop3/licenses/LICENSE-matchMedia-polyfill.txt\n",
            "spark-3.3.2-bin-hadoop3/licenses/LICENSE-minlog.txt\n",
            "spark-3.3.2-bin-hadoop3/licenses/LICENSE-modernizr.txt\n",
            "spark-3.3.2-bin-hadoop3/licenses/LICENSE-mustache.txt\n",
            "spark-3.3.2-bin-hadoop3/licenses/LICENSE-netlib.txt\n",
            "spark-3.3.2-bin-hadoop3/licenses/LICENSE-paranamer.txt\n",
            "spark-3.3.2-bin-hadoop3/licenses/LICENSE-pmml-model.txt\n",
            "spark-3.3.2-bin-hadoop3/licenses/LICENSE-protobuf.txt\n",
            "spark-3.3.2-bin-hadoop3/licenses/LICENSE-py4j.txt\n",
            "spark-3.3.2-bin-hadoop3/licenses/LICENSE-pyrolite.txt\n",
            "spark-3.3.2-bin-hadoop3/licenses/LICENSE-re2j.txt\n",
            "spark-3.3.2-bin-hadoop3/licenses/LICENSE-reflectasm.txt\n",
            "spark-3.3.2-bin-hadoop3/licenses/LICENSE-respond.txt\n",
            "spark-3.3.2-bin-hadoop3/licenses/LICENSE-sbt-launch-lib.txt\n",
            "spark-3.3.2-bin-hadoop3/licenses/LICENSE-scala.txt\n",
            "spark-3.3.2-bin-hadoop3/licenses/LICENSE-scopt.txt\n",
            "spark-3.3.2-bin-hadoop3/licenses/LICENSE-slf4j.txt\n",
            "spark-3.3.2-bin-hadoop3/licenses/LICENSE-sorttable.js.txt\n",
            "spark-3.3.2-bin-hadoop3/licenses/LICENSE-spire.txt\n",
            "spark-3.3.2-bin-hadoop3/licenses/LICENSE-vis-timeline.txt\n",
            "spark-3.3.2-bin-hadoop3/licenses/LICENSE-xmlenc.txt\n",
            "spark-3.3.2-bin-hadoop3/licenses/LICENSE-zstd-jni.txt\n",
            "spark-3.3.2-bin-hadoop3/licenses/LICENSE-zstd.txt\n",
            "spark-3.3.2-bin-hadoop3/python/\n",
            "spark-3.3.2-bin-hadoop3/python/.coveragerc\n",
            "spark-3.3.2-bin-hadoop3/python/.gitignore\n",
            "spark-3.3.2-bin-hadoop3/python/MANIFEST.in\n",
            "spark-3.3.2-bin-hadoop3/python/README.md\n",
            "spark-3.3.2-bin-hadoop3/python/dist/\n",
            "spark-3.3.2-bin-hadoop3/python/docs/\n",
            "spark-3.3.2-bin-hadoop3/python/docs/Makefile\n",
            "spark-3.3.2-bin-hadoop3/python/docs/make.bat\n",
            "spark-3.3.2-bin-hadoop3/python/docs/make2.bat\n",
            "spark-3.3.2-bin-hadoop3/python/docs/source/\n",
            "spark-3.3.2-bin-hadoop3/python/docs/source/_static/\n",
            "spark-3.3.2-bin-hadoop3/python/docs/source/_static/copybutton.js\n",
            "spark-3.3.2-bin-hadoop3/python/docs/source/_static/css/\n",
            "spark-3.3.2-bin-hadoop3/python/docs/source/_static/css/pyspark.css\n",
            "spark-3.3.2-bin-hadoop3/python/docs/source/_templates/\n",
            "spark-3.3.2-bin-hadoop3/python/docs/source/_templates/autosummary/\n",
            "spark-3.3.2-bin-hadoop3/python/docs/source/_templates/autosummary/class.rst\n",
            "spark-3.3.2-bin-hadoop3/python/docs/source/_templates/autosummary/class_with_docs.rst\n",
            "spark-3.3.2-bin-hadoop3/python/docs/source/conf.py\n",
            "spark-3.3.2-bin-hadoop3/python/docs/source/development/\n",
            "spark-3.3.2-bin-hadoop3/python/docs/source/development/contributing.rst\n",
            "spark-3.3.2-bin-hadoop3/python/docs/source/development/debugging.rst\n",
            "spark-3.3.2-bin-hadoop3/python/docs/source/development/index.rst\n",
            "spark-3.3.2-bin-hadoop3/python/docs/source/development/setting_ide.rst\n",
            "spark-3.3.2-bin-hadoop3/python/docs/source/development/testing.rst\n",
            "spark-3.3.2-bin-hadoop3/python/docs/source/getting_started/\n",
            "spark-3.3.2-bin-hadoop3/python/docs/source/getting_started/index.rst\n",
            "spark-3.3.2-bin-hadoop3/python/docs/source/getting_started/install.rst\n",
            "spark-3.3.2-bin-hadoop3/python/docs/source/getting_started/quickstart_df.ipynb\n",
            "spark-3.3.2-bin-hadoop3/python/docs/source/getting_started/quickstart_ps.ipynb\n",
            "spark-3.3.2-bin-hadoop3/python/docs/source/index.rst\n",
            "spark-3.3.2-bin-hadoop3/python/docs/source/migration_guide/\n",
            "spark-3.3.2-bin-hadoop3/python/docs/source/migration_guide/index.rst\n",
            "spark-3.3.2-bin-hadoop3/python/docs/source/migration_guide/koalas_to_pyspark.rst\n",
            "spark-3.3.2-bin-hadoop3/python/docs/source/migration_guide/pyspark_1.0_1.2_to_1.3.rst\n",
            "spark-3.3.2-bin-hadoop3/python/docs/source/migration_guide/pyspark_1.4_to_1.5.rst\n",
            "spark-3.3.2-bin-hadoop3/python/docs/source/migration_guide/pyspark_2.2_to_2.3.rst\n",
            "spark-3.3.2-bin-hadoop3/python/docs/source/migration_guide/pyspark_2.3.0_to_2.3.1_above.rst\n",
            "spark-3.3.2-bin-hadoop3/python/docs/source/migration_guide/pyspark_2.3_to_2.4.rst\n",
            "spark-3.3.2-bin-hadoop3/python/docs/source/migration_guide/pyspark_2.4_to_3.0.rst\n",
            "spark-3.3.2-bin-hadoop3/python/docs/source/migration_guide/pyspark_3.1_to_3.2.rst\n",
            "spark-3.3.2-bin-hadoop3/python/docs/source/migration_guide/pyspark_3.2_to_3.3.rst\n",
            "spark-3.3.2-bin-hadoop3/python/docs/source/reference/\n",
            "spark-3.3.2-bin-hadoop3/python/docs/source/reference/index.rst\n",
            "spark-3.3.2-bin-hadoop3/python/docs/source/reference/pyspark.ml.rst\n",
            "spark-3.3.2-bin-hadoop3/python/docs/source/reference/pyspark.mllib.rst\n",
            "spark-3.3.2-bin-hadoop3/python/docs/source/reference/pyspark.pandas/\n",
            "spark-3.3.2-bin-hadoop3/python/docs/source/reference/pyspark.pandas/extensions.rst\n",
            "spark-3.3.2-bin-hadoop3/python/docs/source/reference/pyspark.pandas/frame.rst\n",
            "spark-3.3.2-bin-hadoop3/python/docs/source/reference/pyspark.pandas/general_functions.rst\n",
            "spark-3.3.2-bin-hadoop3/python/docs/source/reference/pyspark.pandas/groupby.rst\n",
            "spark-3.3.2-bin-hadoop3/python/docs/source/reference/pyspark.pandas/index.rst\n",
            "spark-3.3.2-bin-hadoop3/python/docs/source/reference/pyspark.pandas/indexing.rst\n",
            "spark-3.3.2-bin-hadoop3/python/docs/source/reference/pyspark.pandas/io.rst\n",
            "spark-3.3.2-bin-hadoop3/python/docs/source/reference/pyspark.pandas/ml.rst\n",
            "spark-3.3.2-bin-hadoop3/python/docs/source/reference/pyspark.pandas/series.rst\n",
            "spark-3.3.2-bin-hadoop3/python/docs/source/reference/pyspark.pandas/window.rst\n",
            "spark-3.3.2-bin-hadoop3/python/docs/source/reference/pyspark.resource.rst\n",
            "spark-3.3.2-bin-hadoop3/python/docs/source/reference/pyspark.rst\n",
            "spark-3.3.2-bin-hadoop3/python/docs/source/reference/pyspark.sql/\n",
            "spark-3.3.2-bin-hadoop3/python/docs/source/reference/pyspark.sql/avro.rst\n",
            "spark-3.3.2-bin-hadoop3/python/docs/source/reference/pyspark.sql/catalog.rst\n",
            "spark-3.3.2-bin-hadoop3/python/docs/source/reference/pyspark.sql/column.rst\n",
            "spark-3.3.2-bin-hadoop3/python/docs/source/reference/pyspark.sql/configuration.rst\n",
            "spark-3.3.2-bin-hadoop3/python/docs/source/reference/pyspark.sql/core_classes.rst\n",
            "spark-3.3.2-bin-hadoop3/python/docs/source/reference/pyspark.sql/data_types.rst\n",
            "spark-3.3.2-bin-hadoop3/python/docs/source/reference/pyspark.sql/dataframe.rst\n",
            "spark-3.3.2-bin-hadoop3/python/docs/source/reference/pyspark.sql/functions.rst\n",
            "spark-3.3.2-bin-hadoop3/python/docs/source/reference/pyspark.sql/grouping.rst\n",
            "spark-3.3.2-bin-hadoop3/python/docs/source/reference/pyspark.sql/index.rst\n",
            "spark-3.3.2-bin-hadoop3/python/docs/source/reference/pyspark.sql/io.rst\n",
            "spark-3.3.2-bin-hadoop3/python/docs/source/reference/pyspark.sql/observation.rst\n",
            "spark-3.3.2-bin-hadoop3/python/docs/source/reference/pyspark.sql/row.rst\n",
            "spark-3.3.2-bin-hadoop3/python/docs/source/reference/pyspark.sql/spark_session.rst\n",
            "spark-3.3.2-bin-hadoop3/python/docs/source/reference/pyspark.sql/window.rst\n",
            "spark-3.3.2-bin-hadoop3/python/docs/source/reference/pyspark.ss/\n",
            "spark-3.3.2-bin-hadoop3/python/docs/source/reference/pyspark.ss/core_classes.rst\n",
            "spark-3.3.2-bin-hadoop3/python/docs/source/reference/pyspark.ss/index.rst\n",
            "spark-3.3.2-bin-hadoop3/python/docs/source/reference/pyspark.ss/io.rst\n",
            "spark-3.3.2-bin-hadoop3/python/docs/source/reference/pyspark.ss/query_management.rst\n",
            "spark-3.3.2-bin-hadoop3/python/docs/source/reference/pyspark.streaming.rst\n",
            "spark-3.3.2-bin-hadoop3/python/docs/source/user_guide/\n",
            "spark-3.3.2-bin-hadoop3/python/docs/source/user_guide/arrow_pandas.rst\n",
            "spark-3.3.2-bin-hadoop3/python/docs/source/user_guide/index.rst\n",
            "spark-3.3.2-bin-hadoop3/python/docs/source/user_guide/pandas_on_spark/\n",
            "spark-3.3.2-bin-hadoop3/python/docs/source/user_guide/pandas_on_spark/best_practices.rst\n",
            "spark-3.3.2-bin-hadoop3/python/docs/source/user_guide/pandas_on_spark/faq.rst\n",
            "spark-3.3.2-bin-hadoop3/python/docs/source/user_guide/pandas_on_spark/from_to_dbms.rst\n",
            "spark-3.3.2-bin-hadoop3/python/docs/source/user_guide/pandas_on_spark/index.rst\n",
            "spark-3.3.2-bin-hadoop3/python/docs/source/user_guide/pandas_on_spark/options.rst\n",
            "spark-3.3.2-bin-hadoop3/python/docs/source/user_guide/pandas_on_spark/pandas_pyspark.rst\n",
            "spark-3.3.2-bin-hadoop3/python/docs/source/user_guide/pandas_on_spark/supported_pandas_api.rst\n",
            "spark-3.3.2-bin-hadoop3/python/docs/source/user_guide/pandas_on_spark/transform_apply.rst\n",
            "spark-3.3.2-bin-hadoop3/python/docs/source/user_guide/pandas_on_spark/typehints.rst\n",
            "spark-3.3.2-bin-hadoop3/python/docs/source/user_guide/pandas_on_spark/types.rst\n",
            "spark-3.3.2-bin-hadoop3/python/docs/source/user_guide/python_packaging.rst\n",
            "spark-3.3.2-bin-hadoop3/python/docs/source/user_guide/sql/\n",
            "spark-3.3.2-bin-hadoop3/python/docs/source/user_guide/sql/arrow_pandas.rst\n",
            "spark-3.3.2-bin-hadoop3/python/docs/source/user_guide/sql/index.rst\n",
            "spark-3.3.2-bin-hadoop3/python/lib/\n",
            "spark-3.3.2-bin-hadoop3/python/lib/PY4J_LICENSE.txt\n",
            "spark-3.3.2-bin-hadoop3/python/lib/py4j-0.10.9.5-src.zip\n",
            "spark-3.3.2-bin-hadoop3/python/lib/pyspark.zip\n",
            "spark-3.3.2-bin-hadoop3/python/mypy.ini\n",
            "spark-3.3.2-bin-hadoop3/python/pyspark/\n",
            "spark-3.3.2-bin-hadoop3/python/pyspark/__init__.py\n",
            "spark-3.3.2-bin-hadoop3/python/pyspark/__pycache__/\n",
            "spark-3.3.2-bin-hadoop3/python/pyspark/__pycache__/install.cpython-38.pyc\n",
            "spark-3.3.2-bin-hadoop3/python/pyspark/_globals.py\n",
            "spark-3.3.2-bin-hadoop3/python/pyspark/_typing.pyi\n",
            "spark-3.3.2-bin-hadoop3/python/pyspark/accumulators.py\n",
            "spark-3.3.2-bin-hadoop3/python/pyspark/broadcast.py\n",
            "spark-3.3.2-bin-hadoop3/python/pyspark/cloudpickle/\n",
            "spark-3.3.2-bin-hadoop3/python/pyspark/cloudpickle/__init__.py\n",
            "spark-3.3.2-bin-hadoop3/python/pyspark/cloudpickle/cloudpickle.py\n",
            "spark-3.3.2-bin-hadoop3/python/pyspark/cloudpickle/cloudpickle_fast.py\n",
            "spark-3.3.2-bin-hadoop3/python/pyspark/cloudpickle/compat.py\n",
            "spark-3.3.2-bin-hadoop3/python/pyspark/conf.py\n",
            "spark-3.3.2-bin-hadoop3/python/pyspark/context.py\n",
            "spark-3.3.2-bin-hadoop3/python/pyspark/daemon.py\n",
            "spark-3.3.2-bin-hadoop3/python/pyspark/files.py\n",
            "spark-3.3.2-bin-hadoop3/python/pyspark/find_spark_home.py\n",
            "spark-3.3.2-bin-hadoop3/python/pyspark/install.py\n",
            "spark-3.3.2-bin-hadoop3/python/pyspark/instrumentation_utils.py\n",
            "spark-3.3.2-bin-hadoop3/python/pyspark/java_gateway.py\n",
            "spark-3.3.2-bin-hadoop3/python/pyspark/join.py\n",
            "spark-3.3.2-bin-hadoop3/python/pyspark/ml/\n",
            "spark-3.3.2-bin-hadoop3/python/pyspark/ml/__init__.py\n",
            "spark-3.3.2-bin-hadoop3/python/pyspark/ml/_typing.pyi\n",
            "spark-3.3.2-bin-hadoop3/python/pyspark/ml/base.py\n",
            "spark-3.3.2-bin-hadoop3/python/pyspark/ml/classification.py\n",
            "spark-3.3.2-bin-hadoop3/python/pyspark/ml/clustering.py\n",
            "spark-3.3.2-bin-hadoop3/python/pyspark/ml/common.py\n",
            "spark-3.3.2-bin-hadoop3/python/pyspark/ml/evaluation.py\n",
            "spark-3.3.2-bin-hadoop3/python/pyspark/ml/feature.py\n",
            "spark-3.3.2-bin-hadoop3/python/pyspark/ml/fpm.py\n",
            "spark-3.3.2-bin-hadoop3/python/pyspark/ml/functions.py\n",
            "spark-3.3.2-bin-hadoop3/python/pyspark/ml/image.py\n",
            "spark-3.3.2-bin-hadoop3/python/pyspark/ml/linalg/\n",
            "spark-3.3.2-bin-hadoop3/python/pyspark/ml/linalg/__init__.py\n",
            "spark-3.3.2-bin-hadoop3/python/pyspark/ml/param/\n",
            "spark-3.3.2-bin-hadoop3/python/pyspark/ml/param/__init__.py\n",
            "spark-3.3.2-bin-hadoop3/python/pyspark/ml/param/_shared_params_code_gen.py\n",
            "spark-3.3.2-bin-hadoop3/python/pyspark/ml/param/shared.py\n",
            "spark-3.3.2-bin-hadoop3/python/pyspark/ml/pipeline.py\n",
            "spark-3.3.2-bin-hadoop3/python/pyspark/ml/recommendation.py\n",
            "spark-3.3.2-bin-hadoop3/python/pyspark/ml/regression.py\n",
            "spark-3.3.2-bin-hadoop3/python/pyspark/ml/stat.py\n",
            "spark-3.3.2-bin-hadoop3/python/pyspark/ml/tests/\n",
            "spark-3.3.2-bin-hadoop3/python/pyspark/ml/tests/__init__.py\n",
            "spark-3.3.2-bin-hadoop3/python/pyspark/ml/tests/test_algorithms.py\n",
            "spark-3.3.2-bin-hadoop3/python/pyspark/ml/tests/test_base.py\n",
            "spark-3.3.2-bin-hadoop3/python/pyspark/ml/tests/test_evaluation.py\n",
            "spark-3.3.2-bin-hadoop3/python/pyspark/ml/tests/test_feature.py\n",
            "spark-3.3.2-bin-hadoop3/python/pyspark/ml/tests/test_image.py\n",
            "spark-3.3.2-bin-hadoop3/python/pyspark/ml/tests/test_linalg.py\n",
            "spark-3.3.2-bin-hadoop3/python/pyspark/ml/tests/test_param.py\n",
            "spark-3.3.2-bin-hadoop3/python/pyspark/ml/tests/test_persistence.py\n",
            "spark-3.3.2-bin-hadoop3/python/pyspark/ml/tests/test_pipeline.py\n",
            "spark-3.3.2-bin-hadoop3/python/pyspark/ml/tests/test_stat.py\n",
            "spark-3.3.2-bin-hadoop3/python/pyspark/ml/tests/test_training_summary.py\n",
            "spark-3.3.2-bin-hadoop3/python/pyspark/ml/tests/test_tuning.py\n",
            "spark-3.3.2-bin-hadoop3/python/pyspark/ml/tests/test_util.py\n",
            "spark-3.3.2-bin-hadoop3/python/pyspark/ml/tests/test_wrapper.py\n",
            "spark-3.3.2-bin-hadoop3/python/pyspark/ml/tests/typing/\n",
            "spark-3.3.2-bin-hadoop3/python/pyspark/ml/tests/typing/test_classification.yml\n",
            "spark-3.3.2-bin-hadoop3/python/pyspark/ml/tests/typing/test_clustering.yaml\n",
            "spark-3.3.2-bin-hadoop3/python/pyspark/ml/tests/typing/test_evaluation.yml\n",
            "spark-3.3.2-bin-hadoop3/python/pyspark/ml/tests/typing/test_feature.yml\n",
            "spark-3.3.2-bin-hadoop3/python/pyspark/ml/tests/typing/test_param.yml\n",
            "spark-3.3.2-bin-hadoop3/python/pyspark/ml/tests/typing/test_readable.yml\n",
            "spark-3.3.2-bin-hadoop3/python/pyspark/ml/tests/typing/test_regression.yml\n",
            "spark-3.3.2-bin-hadoop3/python/pyspark/ml/tree.py\n",
            "spark-3.3.2-bin-hadoop3/python/pyspark/ml/tuning.py\n",
            "spark-3.3.2-bin-hadoop3/python/pyspark/ml/util.py\n",
            "spark-3.3.2-bin-hadoop3/python/pyspark/ml/wrapper.py\n",
            "spark-3.3.2-bin-hadoop3/python/pyspark/mllib/\n",
            "spark-3.3.2-bin-hadoop3/python/pyspark/mllib/__init__.py\n",
            "spark-3.3.2-bin-hadoop3/python/pyspark/mllib/_typing.pyi\n",
            "spark-3.3.2-bin-hadoop3/python/pyspark/mllib/classification.py\n",
            "spark-3.3.2-bin-hadoop3/python/pyspark/mllib/clustering.py\n",
            "spark-3.3.2-bin-hadoop3/python/pyspark/mllib/common.py\n",
            "spark-3.3.2-bin-hadoop3/python/pyspark/mllib/evaluation.py\n",
            "spark-3.3.2-bin-hadoop3/python/pyspark/mllib/feature.py\n",
            "spark-3.3.2-bin-hadoop3/python/pyspark/mllib/fpm.py\n",
            "spark-3.3.2-bin-hadoop3/python/pyspark/mllib/linalg/\n",
            "spark-3.3.2-bin-hadoop3/python/pyspark/mllib/linalg/__init__.py\n",
            "spark-3.3.2-bin-hadoop3/python/pyspark/mllib/linalg/distributed.py\n",
            "spark-3.3.2-bin-hadoop3/python/pyspark/mllib/random.py\n",
            "spark-3.3.2-bin-hadoop3/python/pyspark/mllib/random.pyi\n",
            "spark-3.3.2-bin-hadoop3/python/pyspark/mllib/recommendation.py\n",
            "spark-3.3.2-bin-hadoop3/python/pyspark/mllib/recommendation.pyi\n",
            "spark-3.3.2-bin-hadoop3/python/pyspark/mllib/regression.py\n",
            "spark-3.3.2-bin-hadoop3/python/pyspark/mllib/stat/\n",
            "spark-3.3.2-bin-hadoop3/python/pyspark/mllib/stat/KernelDensity.py\n",
            "spark-3.3.2-bin-hadoop3/python/pyspark/mllib/stat/__init__.py\n",
            "spark-3.3.2-bin-hadoop3/python/pyspark/mllib/stat/_statistics.py\n",
            "spark-3.3.2-bin-hadoop3/python/pyspark/mllib/stat/distribution.py\n",
            "spark-3.3.2-bin-hadoop3/python/pyspark/mllib/stat/test.py\n",
            "spark-3.3.2-bin-hadoop3/python/pyspark/mllib/tests/\n",
            "spark-3.3.2-bin-hadoop3/python/pyspark/mllib/tests/__init__.py\n",
            "spark-3.3.2-bin-hadoop3/python/pyspark/mllib/tests/test_algorithms.py\n",
            "spark-3.3.2-bin-hadoop3/python/pyspark/mllib/tests/test_feature.py\n",
            "spark-3.3.2-bin-hadoop3/python/pyspark/mllib/tests/test_linalg.py\n",
            "spark-3.3.2-bin-hadoop3/python/pyspark/mllib/tests/test_stat.py\n",
            "spark-3.3.2-bin-hadoop3/python/pyspark/mllib/tests/test_streaming_algorithms.py\n",
            "spark-3.3.2-bin-hadoop3/python/pyspark/mllib/tests/test_util.py\n",
            "spark-3.3.2-bin-hadoop3/python/pyspark/mllib/tree.py\n",
            "spark-3.3.2-bin-hadoop3/python/pyspark/mllib/util.py\n",
            "spark-3.3.2-bin-hadoop3/python/pyspark/pandas/\n",
            "spark-3.3.2-bin-hadoop3/python/pyspark/pandas/__init__.py\n",
            "spark-3.3.2-bin-hadoop3/python/pyspark/pandas/_typing.py\n",
            "spark-3.3.2-bin-hadoop3/python/pyspark/pandas/accessors.py\n",
            "spark-3.3.2-bin-hadoop3/python/pyspark/pandas/base.py\n",
            "spark-3.3.2-bin-hadoop3/python/pyspark/pandas/categorical.py\n",
            "spark-3.3.2-bin-hadoop3/python/pyspark/pandas/config.py\n",
            "spark-3.3.2-bin-hadoop3/python/pyspark/pandas/data_type_ops/\n",
            "spark-3.3.2-bin-hadoop3/python/pyspark/pandas/data_type_ops/__init__.py\n",
            "spark-3.3.2-bin-hadoop3/python/pyspark/pandas/data_type_ops/base.py\n",
            "spark-3.3.2-bin-hadoop3/python/pyspark/pandas/data_type_ops/binary_ops.py\n",
            "spark-3.3.2-bin-hadoop3/python/pyspark/pandas/data_type_ops/boolean_ops.py\n",
            "spark-3.3.2-bin-hadoop3/python/pyspark/pandas/data_type_ops/categorical_ops.py\n",
            "spark-3.3.2-bin-hadoop3/python/pyspark/pandas/data_type_ops/complex_ops.py\n",
            "spark-3.3.2-bin-hadoop3/python/pyspark/pandas/data_type_ops/date_ops.py\n",
            "spark-3.3.2-bin-hadoop3/python/pyspark/pandas/data_type_ops/datetime_ops.py\n",
            "spark-3.3.2-bin-hadoop3/python/pyspark/pandas/data_type_ops/null_ops.py\n",
            "spark-3.3.2-bin-hadoop3/python/pyspark/pandas/data_type_ops/num_ops.py\n",
            "spark-3.3.2-bin-hadoop3/python/pyspark/pandas/data_type_ops/string_ops.py\n",
            "spark-3.3.2-bin-hadoop3/python/pyspark/pandas/data_type_ops/timedelta_ops.py\n",
            "spark-3.3.2-bin-hadoop3/python/pyspark/pandas/data_type_ops/udt_ops.py\n",
            "spark-3.3.2-bin-hadoop3/python/pyspark/pandas/datetimes.py\n",
            "spark-3.3.2-bin-hadoop3/python/pyspark/pandas/exceptions.py\n",
            "spark-3.3.2-bin-hadoop3/python/pyspark/pandas/extensions.py\n",
            "spark-3.3.2-bin-hadoop3/python/pyspark/pandas/frame.py\n",
            "spark-3.3.2-bin-hadoop3/python/pyspark/pandas/generic.py\n",
            "spark-3.3.2-bin-hadoop3/python/pyspark/pandas/groupby.py\n",
            "spark-3.3.2-bin-hadoop3/python/pyspark/pandas/indexes/\n",
            "spark-3.3.2-bin-hadoop3/python/pyspark/pandas/indexes/__init__.py\n",
            "spark-3.3.2-bin-hadoop3/python/pyspark/pandas/indexes/base.py\n",
            "spark-3.3.2-bin-hadoop3/python/pyspark/pandas/indexes/category.py\n",
            "spark-3.3.2-bin-hadoop3/python/pyspark/pandas/indexes/datetimes.py\n",
            "spark-3.3.2-bin-hadoop3/python/pyspark/pandas/indexes/multi.py\n",
            "spark-3.3.2-bin-hadoop3/python/pyspark/pandas/indexes/numeric.py\n",
            "spark-3.3.2-bin-hadoop3/python/pyspark/pandas/indexes/timedelta.py\n",
            "spark-3.3.2-bin-hadoop3/python/pyspark/pandas/indexing.py\n",
            "spark-3.3.2-bin-hadoop3/python/pyspark/pandas/internal.py\n",
            "spark-3.3.2-bin-hadoop3/python/pyspark/pandas/missing/\n",
            "spark-3.3.2-bin-hadoop3/python/pyspark/pandas/missing/__init__.py\n",
            "spark-3.3.2-bin-hadoop3/python/pyspark/pandas/missing/common.py\n",
            "spark-3.3.2-bin-hadoop3/python/pyspark/pandas/missing/frame.py\n",
            "spark-3.3.2-bin-hadoop3/python/pyspark/pandas/missing/general_functions.py\n",
            "spark-3.3.2-bin-hadoop3/python/pyspark/pandas/missing/groupby.py\n",
            "spark-3.3.2-bin-hadoop3/python/pyspark/pandas/missing/indexes.py\n",
            "spark-3.3.2-bin-hadoop3/python/pyspark/pandas/missing/series.py\n",
            "spark-3.3.2-bin-hadoop3/python/pyspark/pandas/missing/window.py\n",
            "spark-3.3.2-bin-hadoop3/python/pyspark/pandas/ml.py\n",
            "spark-3.3.2-bin-hadoop3/python/pyspark/pandas/mlflow.py\n",
            "spark-3.3.2-bin-hadoop3/python/pyspark/pandas/namespace.py\n",
            "spark-3.3.2-bin-hadoop3/python/pyspark/pandas/numpy_compat.py\n",
            "spark-3.3.2-bin-hadoop3/python/pyspark/pandas/plot/\n",
            "spark-3.3.2-bin-hadoop3/python/pyspark/pandas/plot/__init__.py\n",
            "spark-3.3.2-bin-hadoop3/python/pyspark/pandas/plot/core.py\n",
            "spark-3.3.2-bin-hadoop3/python/pyspark/pandas/plot/matplotlib.py\n",
            "spark-3.3.2-bin-hadoop3/python/pyspark/pandas/plot/plotly.py\n",
            "spark-3.3.2-bin-hadoop3/python/pyspark/pandas/series.py\n",
            "spark-3.3.2-bin-hadoop3/python/pyspark/pandas/spark/\n",
            "spark-3.3.2-bin-hadoop3/python/pyspark/pandas/spark/__init__.py\n",
            "spark-3.3.2-bin-hadoop3/python/pyspark/pandas/spark/accessors.py\n",
            "spark-3.3.2-bin-hadoop3/python/pyspark/pandas/spark/functions.py\n",
            "spark-3.3.2-bin-hadoop3/python/pyspark/pandas/spark/utils.py\n",
            "spark-3.3.2-bin-hadoop3/python/pyspark/pandas/sql_formatter.py\n",
            "spark-3.3.2-bin-hadoop3/python/pyspark/pandas/sql_processor.py\n",
            "spark-3.3.2-bin-hadoop3/python/pyspark/pandas/strings.py\n",
            "spark-3.3.2-bin-hadoop3/python/pyspark/pandas/tests/\n",
            "spark-3.3.2-bin-hadoop3/python/pyspark/pandas/tests/__init__.py\n",
            "spark-3.3.2-bin-hadoop3/python/pyspark/pandas/tests/data_type_ops/\n",
            "spark-3.3.2-bin-hadoop3/python/pyspark/pandas/tests/data_type_ops/__init__.py\n",
            "spark-3.3.2-bin-hadoop3/python/pyspark/pandas/tests/data_type_ops/test_base.py\n",
            "spark-3.3.2-bin-hadoop3/python/pyspark/pandas/tests/data_type_ops/test_binary_ops.py\n",
            "spark-3.3.2-bin-hadoop3/python/pyspark/pandas/tests/data_type_ops/test_boolean_ops.py\n",
            "spark-3.3.2-bin-hadoop3/python/pyspark/pandas/tests/data_type_ops/test_categorical_ops.py\n",
            "spark-3.3.2-bin-hadoop3/python/pyspark/pandas/tests/data_type_ops/test_complex_ops.py\n",
            "spark-3.3.2-bin-hadoop3/python/pyspark/pandas/tests/data_type_ops/test_date_ops.py\n",
            "spark-3.3.2-bin-hadoop3/python/pyspark/pandas/tests/data_type_ops/test_datetime_ops.py\n",
            "spark-3.3.2-bin-hadoop3/python/pyspark/pandas/tests/data_type_ops/test_null_ops.py\n",
            "spark-3.3.2-bin-hadoop3/python/pyspark/pandas/tests/data_type_ops/test_num_ops.py\n",
            "spark-3.3.2-bin-hadoop3/python/pyspark/pandas/tests/data_type_ops/test_string_ops.py\n",
            "spark-3.3.2-bin-hadoop3/python/pyspark/pandas/tests/data_type_ops/test_timedelta_ops.py\n",
            "spark-3.3.2-bin-hadoop3/python/pyspark/pandas/tests/data_type_ops/test_udt_ops.py\n",
            "spark-3.3.2-bin-hadoop3/python/pyspark/pandas/tests/data_type_ops/testing_utils.py\n",
            "spark-3.3.2-bin-hadoop3/python/pyspark/pandas/tests/indexes/\n",
            "spark-3.3.2-bin-hadoop3/python/pyspark/pandas/tests/indexes/__init__.py\n",
            "spark-3.3.2-bin-hadoop3/python/pyspark/pandas/tests/indexes/test_base.py\n",
            "spark-3.3.2-bin-hadoop3/python/pyspark/pandas/tests/indexes/test_category.py\n",
            "spark-3.3.2-bin-hadoop3/python/pyspark/pandas/tests/indexes/test_datetime.py\n",
            "spark-3.3.2-bin-hadoop3/python/pyspark/pandas/tests/indexes/test_timedelta.py\n",
            "spark-3.3.2-bin-hadoop3/python/pyspark/pandas/tests/plot/\n",
            "spark-3.3.2-bin-hadoop3/python/pyspark/pandas/tests/plot/__init__.py\n",
            "spark-3.3.2-bin-hadoop3/python/pyspark/pandas/tests/plot/test_frame_plot.py\n",
            "spark-3.3.2-bin-hadoop3/python/pyspark/pandas/tests/plot/test_frame_plot_matplotlib.py\n",
            "spark-3.3.2-bin-hadoop3/python/pyspark/pandas/tests/plot/test_frame_plot_plotly.py\n",
            "spark-3.3.2-bin-hadoop3/python/pyspark/pandas/tests/plot/test_series_plot.py\n",
            "spark-3.3.2-bin-hadoop3/python/pyspark/pandas/tests/plot/test_series_plot_matplotlib.py\n",
            "spark-3.3.2-bin-hadoop3/python/pyspark/pandas/tests/plot/test_series_plot_plotly.py\n",
            "spark-3.3.2-bin-hadoop3/python/pyspark/pandas/tests/test_categorical.py\n",
            "spark-3.3.2-bin-hadoop3/python/pyspark/pandas/tests/test_config.py\n",
            "spark-3.3.2-bin-hadoop3/python/pyspark/pandas/tests/test_csv.py\n",
            "spark-3.3.2-bin-hadoop3/python/pyspark/pandas/tests/test_dataframe.py\n",
            "spark-3.3.2-bin-hadoop3/python/pyspark/pandas/tests/test_dataframe_conversion.py\n",
            "spark-3.3.2-bin-hadoop3/python/pyspark/pandas/tests/test_dataframe_spark_io.py\n",
            "spark-3.3.2-bin-hadoop3/python/pyspark/pandas/tests/test_default_index.py\n",
            "spark-3.3.2-bin-hadoop3/python/pyspark/pandas/tests/test_expanding.py\n",
            "spark-3.3.2-bin-hadoop3/python/pyspark/pandas/tests/test_extension.py\n",
            "spark-3.3.2-bin-hadoop3/python/pyspark/pandas/tests/test_frame_spark.py\n",
            "spark-3.3.2-bin-hadoop3/python/pyspark/pandas/tests/test_groupby.py\n",
            "spark-3.3.2-bin-hadoop3/python/pyspark/pandas/tests/test_indexing.py\n",
            "spark-3.3.2-bin-hadoop3/python/pyspark/pandas/tests/test_indexops_spark.py\n",
            "spark-3.3.2-bin-hadoop3/python/pyspark/pandas/tests/test_internal.py\n",
            "spark-3.3.2-bin-hadoop3/python/pyspark/pandas/tests/test_namespace.py\n",
            "spark-3.3.2-bin-hadoop3/python/pyspark/pandas/tests/test_numpy_compat.py\n",
            "spark-3.3.2-bin-hadoop3/python/pyspark/pandas/tests/test_ops_on_diff_frames.py\n",
            "spark-3.3.2-bin-hadoop3/python/pyspark/pandas/tests/test_ops_on_diff_frames_groupby.py\n",
            "spark-3.3.2-bin-hadoop3/python/pyspark/pandas/tests/test_ops_on_diff_frames_groupby_expanding.py\n",
            "spark-3.3.2-bin-hadoop3/python/pyspark/pandas/tests/test_ops_on_diff_frames_groupby_rolling.py\n",
            "spark-3.3.2-bin-hadoop3/python/pyspark/pandas/tests/test_repr.py\n",
            "spark-3.3.2-bin-hadoop3/python/pyspark/pandas/tests/test_reshape.py\n",
            "spark-3.3.2-bin-hadoop3/python/pyspark/pandas/tests/test_rolling.py\n",
            "spark-3.3.2-bin-hadoop3/python/pyspark/pandas/tests/test_series.py\n",
            "spark-3.3.2-bin-hadoop3/python/pyspark/pandas/tests/test_series_conversion.py\n",
            "spark-3.3.2-bin-hadoop3/python/pyspark/pandas/tests/test_series_datetime.py\n",
            "spark-3.3.2-bin-hadoop3/python/pyspark/pandas/tests/test_series_string.py\n",
            "spark-3.3.2-bin-hadoop3/python/pyspark/pandas/tests/test_spark_functions.py\n",
            "spark-3.3.2-bin-hadoop3/python/pyspark/pandas/tests/test_sql.py\n",
            "spark-3.3.2-bin-hadoop3/python/pyspark/pandas/tests/test_stats.py\n",
            "spark-3.3.2-bin-hadoop3/python/pyspark/pandas/tests/test_typedef.py\n",
            "spark-3.3.2-bin-hadoop3/python/pyspark/pandas/tests/test_utils.py\n",
            "spark-3.3.2-bin-hadoop3/python/pyspark/pandas/tests/test_window.py\n",
            "spark-3.3.2-bin-hadoop3/python/pyspark/pandas/typedef/\n",
            "spark-3.3.2-bin-hadoop3/python/pyspark/pandas/typedef/__init__.py\n",
            "spark-3.3.2-bin-hadoop3/python/pyspark/pandas/typedef/typehints.py\n",
            "spark-3.3.2-bin-hadoop3/python/pyspark/pandas/usage_logging/\n",
            "spark-3.3.2-bin-hadoop3/python/pyspark/pandas/usage_logging/__init__.py\n",
            "spark-3.3.2-bin-hadoop3/python/pyspark/pandas/usage_logging/usage_logger.py\n",
            "spark-3.3.2-bin-hadoop3/python/pyspark/pandas/utils.py\n",
            "spark-3.3.2-bin-hadoop3/python/pyspark/pandas/window.py\n",
            "spark-3.3.2-bin-hadoop3/python/pyspark/profiler.py\n",
            "spark-3.3.2-bin-hadoop3/python/pyspark/py.typed\n",
            "spark-3.3.2-bin-hadoop3/python/pyspark/python/\n",
            "spark-3.3.2-bin-hadoop3/python/pyspark/python/pyspark/\n",
            "spark-3.3.2-bin-hadoop3/python/pyspark/python/pyspark/shell.py\n",
            "spark-3.3.2-bin-hadoop3/python/pyspark/rdd.py\n",
            "spark-3.3.2-bin-hadoop3/python/pyspark/rddsampler.py\n",
            "spark-3.3.2-bin-hadoop3/python/pyspark/resource/\n",
            "spark-3.3.2-bin-hadoop3/python/pyspark/resource/__init__.py\n",
            "spark-3.3.2-bin-hadoop3/python/pyspark/resource/information.py\n",
            "spark-3.3.2-bin-hadoop3/python/pyspark/resource/profile.py\n",
            "spark-3.3.2-bin-hadoop3/python/pyspark/resource/requests.py\n",
            "spark-3.3.2-bin-hadoop3/python/pyspark/resource/tests/\n",
            "spark-3.3.2-bin-hadoop3/python/pyspark/resource/tests/__init__.py\n",
            "spark-3.3.2-bin-hadoop3/python/pyspark/resource/tests/test_resources.py\n",
            "spark-3.3.2-bin-hadoop3/python/pyspark/resultiterable.py\n",
            "spark-3.3.2-bin-hadoop3/python/pyspark/serializers.py\n",
            "spark-3.3.2-bin-hadoop3/python/pyspark/shell.py\n",
            "spark-3.3.2-bin-hadoop3/python/pyspark/shuffle.py\n",
            "spark-3.3.2-bin-hadoop3/python/pyspark/sql/\n",
            "spark-3.3.2-bin-hadoop3/python/pyspark/sql/__init__.py\n",
            "spark-3.3.2-bin-hadoop3/python/pyspark/sql/_typing.pyi\n",
            "spark-3.3.2-bin-hadoop3/python/pyspark/sql/avro/\n",
            "spark-3.3.2-bin-hadoop3/python/pyspark/sql/avro/__init__.py\n",
            "spark-3.3.2-bin-hadoop3/python/pyspark/sql/avro/functions.py\n",
            "spark-3.3.2-bin-hadoop3/python/pyspark/sql/catalog.py\n",
            "spark-3.3.2-bin-hadoop3/python/pyspark/sql/column.py\n",
            "spark-3.3.2-bin-hadoop3/python/pyspark/sql/conf.py\n",
            "spark-3.3.2-bin-hadoop3/python/pyspark/sql/context.py\n",
            "spark-3.3.2-bin-hadoop3/python/pyspark/sql/dataframe.py\n",
            "spark-3.3.2-bin-hadoop3/python/pyspark/sql/functions.py\n",
            "spark-3.3.2-bin-hadoop3/python/pyspark/sql/group.py\n",
            "spark-3.3.2-bin-hadoop3/python/pyspark/sql/observation.py\n",
            "spark-3.3.2-bin-hadoop3/python/pyspark/sql/pandas/\n",
            "spark-3.3.2-bin-hadoop3/python/pyspark/sql/pandas/__init__.py\n",
            "spark-3.3.2-bin-hadoop3/python/pyspark/sql/pandas/_typing/\n",
            "spark-3.3.2-bin-hadoop3/python/pyspark/sql/pandas/_typing/__init__.pyi\n",
            "spark-3.3.2-bin-hadoop3/python/pyspark/sql/pandas/_typing/protocols/\n",
            "spark-3.3.2-bin-hadoop3/python/pyspark/sql/pandas/_typing/protocols/__init__.pyi\n",
            "spark-3.3.2-bin-hadoop3/python/pyspark/sql/pandas/_typing/protocols/frame.pyi\n",
            "spark-3.3.2-bin-hadoop3/python/pyspark/sql/pandas/_typing/protocols/series.pyi\n",
            "spark-3.3.2-bin-hadoop3/python/pyspark/sql/pandas/conversion.py\n",
            "spark-3.3.2-bin-hadoop3/python/pyspark/sql/pandas/functions.py\n",
            "spark-3.3.2-bin-hadoop3/python/pyspark/sql/pandas/functions.pyi\n",
            "spark-3.3.2-bin-hadoop3/python/pyspark/sql/pandas/group_ops.py\n",
            "spark-3.3.2-bin-hadoop3/python/pyspark/sql/pandas/map_ops.py\n",
            "spark-3.3.2-bin-hadoop3/python/pyspark/sql/pandas/serializers.py\n",
            "spark-3.3.2-bin-hadoop3/python/pyspark/sql/pandas/typehints.py\n",
            "spark-3.3.2-bin-hadoop3/python/pyspark/sql/pandas/types.py\n",
            "spark-3.3.2-bin-hadoop3/python/pyspark/sql/pandas/utils.py\n",
            "spark-3.3.2-bin-hadoop3/python/pyspark/sql/readwriter.py\n",
            "spark-3.3.2-bin-hadoop3/python/pyspark/sql/session.py\n",
            "spark-3.3.2-bin-hadoop3/python/pyspark/sql/sql_formatter.py\n",
            "spark-3.3.2-bin-hadoop3/python/pyspark/sql/streaming.py\n",
            "spark-3.3.2-bin-hadoop3/python/pyspark/sql/tests/\n",
            "spark-3.3.2-bin-hadoop3/python/pyspark/sql/tests/__init__.py\n",
            "spark-3.3.2-bin-hadoop3/python/pyspark/sql/tests/test_arrow.py\n",
            "spark-3.3.2-bin-hadoop3/python/pyspark/sql/tests/test_arrow_map.py\n",
            "spark-3.3.2-bin-hadoop3/python/pyspark/sql/tests/test_catalog.py\n",
            "spark-3.3.2-bin-hadoop3/python/pyspark/sql/tests/test_column.py\n",
            "spark-3.3.2-bin-hadoop3/python/pyspark/sql/tests/test_conf.py\n",
            "spark-3.3.2-bin-hadoop3/python/pyspark/sql/tests/test_context.py\n",
            "spark-3.3.2-bin-hadoop3/python/pyspark/sql/tests/test_dataframe.py\n",
            "spark-3.3.2-bin-hadoop3/python/pyspark/sql/tests/test_datasources.py\n",
            "spark-3.3.2-bin-hadoop3/python/pyspark/sql/tests/test_functions.py\n",
            "spark-3.3.2-bin-hadoop3/python/pyspark/sql/tests/test_group.py\n",
            "spark-3.3.2-bin-hadoop3/python/pyspark/sql/tests/test_pandas_cogrouped_map.py\n",
            "spark-3.3.2-bin-hadoop3/python/pyspark/sql/tests/test_pandas_grouped_map.py\n",
            "spark-3.3.2-bin-hadoop3/python/pyspark/sql/tests/test_pandas_map.py\n",
            "spark-3.3.2-bin-hadoop3/python/pyspark/sql/tests/test_pandas_udf.py\n",
            "spark-3.3.2-bin-hadoop3/python/pyspark/sql/tests/test_pandas_udf_grouped_agg.py\n",
            "spark-3.3.2-bin-hadoop3/python/pyspark/sql/tests/test_pandas_udf_scalar.py\n",
            "spark-3.3.2-bin-hadoop3/python/pyspark/sql/tests/test_pandas_udf_typehints.py\n",
            "spark-3.3.2-bin-hadoop3/python/pyspark/sql/tests/test_pandas_udf_typehints_with_future_annotations.py\n",
            "spark-3.3.2-bin-hadoop3/python/pyspark/sql/tests/test_pandas_udf_window.py\n",
            "spark-3.3.2-bin-hadoop3/python/pyspark/sql/tests/test_readwriter.py\n",
            "spark-3.3.2-bin-hadoop3/python/pyspark/sql/tests/test_serde.py\n",
            "spark-3.3.2-bin-hadoop3/python/pyspark/sql/tests/test_session.py\n",
            "spark-3.3.2-bin-hadoop3/python/pyspark/sql/tests/test_streaming.py\n",
            "spark-3.3.2-bin-hadoop3/python/pyspark/sql/tests/test_types.py\n",
            "spark-3.3.2-bin-hadoop3/python/pyspark/sql/tests/test_udf.py\n",
            "spark-3.3.2-bin-hadoop3/python/pyspark/sql/tests/test_udf_profiler.py\n",
            "spark-3.3.2-bin-hadoop3/python/pyspark/sql/tests/test_utils.py\n",
            "spark-3.3.2-bin-hadoop3/python/pyspark/sql/tests/typing/\n",
            "spark-3.3.2-bin-hadoop3/python/pyspark/sql/tests/typing/test_column.yml\n",
            "spark-3.3.2-bin-hadoop3/python/pyspark/sql/tests/typing/test_dataframe.yml\n",
            "spark-3.3.2-bin-hadoop3/python/pyspark/sql/tests/typing/test_functions.yml\n",
            "spark-3.3.2-bin-hadoop3/python/pyspark/sql/tests/typing/test_readwriter.yml\n",
            "spark-3.3.2-bin-hadoop3/python/pyspark/sql/tests/typing/test_session.yml\n",
            "spark-3.3.2-bin-hadoop3/python/pyspark/sql/tests/typing/test_udf.yml\n",
            "spark-3.3.2-bin-hadoop3/python/pyspark/sql/types.py\n",
            "spark-3.3.2-bin-hadoop3/python/pyspark/sql/udf.py\n",
            "spark-3.3.2-bin-hadoop3/python/pyspark/sql/utils.py\n",
            "spark-3.3.2-bin-hadoop3/python/pyspark/sql/window.py\n",
            "spark-3.3.2-bin-hadoop3/python/pyspark/statcounter.py\n",
            "spark-3.3.2-bin-hadoop3/python/pyspark/status.py\n",
            "spark-3.3.2-bin-hadoop3/python/pyspark/storagelevel.py\n",
            "spark-3.3.2-bin-hadoop3/python/pyspark/streaming/\n",
            "spark-3.3.2-bin-hadoop3/python/pyspark/streaming/__init__.py\n",
            "spark-3.3.2-bin-hadoop3/python/pyspark/streaming/context.py\n",
            "spark-3.3.2-bin-hadoop3/python/pyspark/streaming/dstream.py\n",
            "spark-3.3.2-bin-hadoop3/python/pyspark/streaming/kinesis.py\n",
            "spark-3.3.2-bin-hadoop3/python/pyspark/streaming/listener.py\n",
            "spark-3.3.2-bin-hadoop3/python/pyspark/streaming/tests/\n",
            "spark-3.3.2-bin-hadoop3/python/pyspark/streaming/tests/__init__.py\n",
            "spark-3.3.2-bin-hadoop3/python/pyspark/streaming/tests/test_context.py\n",
            "spark-3.3.2-bin-hadoop3/python/pyspark/streaming/tests/test_dstream.py\n",
            "spark-3.3.2-bin-hadoop3/python/pyspark/streaming/tests/test_kinesis.py\n",
            "spark-3.3.2-bin-hadoop3/python/pyspark/streaming/tests/test_listener.py\n",
            "spark-3.3.2-bin-hadoop3/python/pyspark/streaming/util.py\n",
            "spark-3.3.2-bin-hadoop3/python/pyspark/taskcontext.py\n",
            "spark-3.3.2-bin-hadoop3/python/pyspark/testing/\n",
            "spark-3.3.2-bin-hadoop3/python/pyspark/testing/__init__.py\n",
            "spark-3.3.2-bin-hadoop3/python/pyspark/testing/mllibutils.py\n",
            "spark-3.3.2-bin-hadoop3/python/pyspark/testing/mlutils.py\n",
            "spark-3.3.2-bin-hadoop3/python/pyspark/testing/pandasutils.py\n",
            "spark-3.3.2-bin-hadoop3/python/pyspark/testing/sqlutils.py\n",
            "spark-3.3.2-bin-hadoop3/python/pyspark/testing/streamingutils.py\n",
            "spark-3.3.2-bin-hadoop3/python/pyspark/testing/utils.py\n",
            "spark-3.3.2-bin-hadoop3/python/pyspark/tests/\n",
            "spark-3.3.2-bin-hadoop3/python/pyspark/tests/__init__.py\n",
            "spark-3.3.2-bin-hadoop3/python/pyspark/tests/test_appsubmit.py\n",
            "spark-3.3.2-bin-hadoop3/python/pyspark/tests/test_broadcast.py\n",
            "spark-3.3.2-bin-hadoop3/python/pyspark/tests/test_conf.py\n",
            "spark-3.3.2-bin-hadoop3/python/pyspark/tests/test_context.py\n",
            "spark-3.3.2-bin-hadoop3/python/pyspark/tests/test_daemon.py\n",
            "spark-3.3.2-bin-hadoop3/python/pyspark/tests/test_install_spark.py\n",
            "spark-3.3.2-bin-hadoop3/python/pyspark/tests/test_join.py\n",
            "spark-3.3.2-bin-hadoop3/python/pyspark/tests/test_pin_thread.py\n",
            "spark-3.3.2-bin-hadoop3/python/pyspark/tests/test_profiler.py\n",
            "spark-3.3.2-bin-hadoop3/python/pyspark/tests/test_rdd.py\n",
            "spark-3.3.2-bin-hadoop3/python/pyspark/tests/test_rddbarrier.py\n",
            "spark-3.3.2-bin-hadoop3/python/pyspark/tests/test_readwrite.py\n",
            "spark-3.3.2-bin-hadoop3/python/pyspark/tests/test_serializers.py\n",
            "spark-3.3.2-bin-hadoop3/python/pyspark/tests/test_shuffle.py\n",
            "spark-3.3.2-bin-hadoop3/python/pyspark/tests/test_statcounter.py\n",
            "spark-3.3.2-bin-hadoop3/python/pyspark/tests/test_taskcontext.py\n",
            "spark-3.3.2-bin-hadoop3/python/pyspark/tests/test_util.py\n",
            "spark-3.3.2-bin-hadoop3/python/pyspark/tests/test_worker.py\n",
            "spark-3.3.2-bin-hadoop3/python/pyspark/tests/typing/\n",
            "spark-3.3.2-bin-hadoop3/python/pyspark/tests/typing/test_context.yml\n",
            "spark-3.3.2-bin-hadoop3/python/pyspark/tests/typing/test_core.yml\n",
            "spark-3.3.2-bin-hadoop3/python/pyspark/tests/typing/test_rdd.yml\n",
            "spark-3.3.2-bin-hadoop3/python/pyspark/tests/typing/test_resultiterable.yml\n",
            "spark-3.3.2-bin-hadoop3/python/pyspark/traceback_utils.py\n",
            "spark-3.3.2-bin-hadoop3/python/pyspark/util.py\n",
            "spark-3.3.2-bin-hadoop3/python/pyspark/version.py\n",
            "spark-3.3.2-bin-hadoop3/python/pyspark/worker.py\n",
            "spark-3.3.2-bin-hadoop3/python/pyspark.egg-info/\n",
            "spark-3.3.2-bin-hadoop3/python/pyspark.egg-info/PKG-INFO\n",
            "spark-3.3.2-bin-hadoop3/python/pyspark.egg-info/SOURCES.txt\n",
            "spark-3.3.2-bin-hadoop3/python/pyspark.egg-info/dependency_links.txt\n",
            "spark-3.3.2-bin-hadoop3/python/pyspark.egg-info/requires.txt\n",
            "spark-3.3.2-bin-hadoop3/python/pyspark.egg-info/top_level.txt\n",
            "spark-3.3.2-bin-hadoop3/python/run-tests\n",
            "spark-3.3.2-bin-hadoop3/python/run-tests-with-coverage\n",
            "spark-3.3.2-bin-hadoop3/python/run-tests.py\n",
            "spark-3.3.2-bin-hadoop3/python/setup.cfg\n",
            "spark-3.3.2-bin-hadoop3/python/setup.py\n",
            "spark-3.3.2-bin-hadoop3/python/test_coverage/\n",
            "spark-3.3.2-bin-hadoop3/python/test_coverage/conf/\n",
            "spark-3.3.2-bin-hadoop3/python/test_coverage/conf/spark-defaults.conf\n",
            "spark-3.3.2-bin-hadoop3/python/test_coverage/coverage_daemon.py\n",
            "spark-3.3.2-bin-hadoop3/python/test_coverage/sitecustomize.py\n",
            "spark-3.3.2-bin-hadoop3/python/test_support/\n",
            "spark-3.3.2-bin-hadoop3/python/test_support/SimpleHTTPServer.py\n",
            "spark-3.3.2-bin-hadoop3/python/test_support/hello/\n",
            "spark-3.3.2-bin-hadoop3/python/test_support/hello/hello.txt\n",
            "spark-3.3.2-bin-hadoop3/python/test_support/hello/sub_hello/\n",
            "spark-3.3.2-bin-hadoop3/python/test_support/hello/sub_hello/sub_hello.txt\n",
            "spark-3.3.2-bin-hadoop3/python/test_support/sql/\n",
            "spark-3.3.2-bin-hadoop3/python/test_support/sql/ages.csv\n",
            "spark-3.3.2-bin-hadoop3/python/test_support/sql/ages_newlines.csv\n",
            "spark-3.3.2-bin-hadoop3/python/test_support/sql/orc_partitioned/\n",
            "spark-3.3.2-bin-hadoop3/python/test_support/sql/orc_partitioned/_SUCCESS\n",
            "spark-3.3.2-bin-hadoop3/python/test_support/sql/orc_partitioned/b=0/\n",
            "spark-3.3.2-bin-hadoop3/python/test_support/sql/orc_partitioned/b=0/c=0/\n",
            "spark-3.3.2-bin-hadoop3/python/test_support/sql/orc_partitioned/b=0/c=0/.part-r-00000-829af031-b970-49d6-ad39-30460a0be2c8.orc.crc\n",
            "spark-3.3.2-bin-hadoop3/python/test_support/sql/orc_partitioned/b=0/c=0/part-r-00000-829af031-b970-49d6-ad39-30460a0be2c8.orc\n",
            "spark-3.3.2-bin-hadoop3/python/test_support/sql/orc_partitioned/b=1/\n",
            "spark-3.3.2-bin-hadoop3/python/test_support/sql/orc_partitioned/b=1/c=1/\n",
            "spark-3.3.2-bin-hadoop3/python/test_support/sql/orc_partitioned/b=1/c=1/.part-r-00000-829af031-b970-49d6-ad39-30460a0be2c8.orc.crc\n",
            "spark-3.3.2-bin-hadoop3/python/test_support/sql/orc_partitioned/b=1/c=1/part-r-00000-829af031-b970-49d6-ad39-30460a0be2c8.orc\n",
            "spark-3.3.2-bin-hadoop3/python/test_support/sql/parquet_partitioned/\n",
            "spark-3.3.2-bin-hadoop3/python/test_support/sql/parquet_partitioned/_SUCCESS\n",
            "spark-3.3.2-bin-hadoop3/python/test_support/sql/parquet_partitioned/_common_metadata\n",
            "spark-3.3.2-bin-hadoop3/python/test_support/sql/parquet_partitioned/_metadata\n",
            "spark-3.3.2-bin-hadoop3/python/test_support/sql/parquet_partitioned/year=2014/\n",
            "spark-3.3.2-bin-hadoop3/python/test_support/sql/parquet_partitioned/year=2014/month=9/\n",
            "spark-3.3.2-bin-hadoop3/python/test_support/sql/parquet_partitioned/year=2014/month=9/day=1/\n",
            "spark-3.3.2-bin-hadoop3/python/test_support/sql/parquet_partitioned/year=2014/month=9/day=1/.part-r-00008.gz.parquet.crc\n",
            "spark-3.3.2-bin-hadoop3/python/test_support/sql/parquet_partitioned/year=2014/month=9/day=1/part-r-00008.gz.parquet\n",
            "spark-3.3.2-bin-hadoop3/python/test_support/sql/parquet_partitioned/year=2015/\n",
            "spark-3.3.2-bin-hadoop3/python/test_support/sql/parquet_partitioned/year=2015/month=10/\n",
            "spark-3.3.2-bin-hadoop3/python/test_support/sql/parquet_partitioned/year=2015/month=10/day=25/\n",
            "spark-3.3.2-bin-hadoop3/python/test_support/sql/parquet_partitioned/year=2015/month=10/day=25/.part-r-00002.gz.parquet.crc\n",
            "spark-3.3.2-bin-hadoop3/python/test_support/sql/parquet_partitioned/year=2015/month=10/day=25/.part-r-00004.gz.parquet.crc\n",
            "spark-3.3.2-bin-hadoop3/python/test_support/sql/parquet_partitioned/year=2015/month=10/day=25/part-r-00002.gz.parquet\n",
            "spark-3.3.2-bin-hadoop3/python/test_support/sql/parquet_partitioned/year=2015/month=10/day=25/part-r-00004.gz.parquet\n",
            "spark-3.3.2-bin-hadoop3/python/test_support/sql/parquet_partitioned/year=2015/month=10/day=26/\n",
            "spark-3.3.2-bin-hadoop3/python/test_support/sql/parquet_partitioned/year=2015/month=10/day=26/.part-r-00005.gz.parquet.crc\n",
            "spark-3.3.2-bin-hadoop3/python/test_support/sql/parquet_partitioned/year=2015/month=10/day=26/part-r-00005.gz.parquet\n",
            "spark-3.3.2-bin-hadoop3/python/test_support/sql/parquet_partitioned/year=2015/month=9/\n",
            "spark-3.3.2-bin-hadoop3/python/test_support/sql/parquet_partitioned/year=2015/month=9/day=1/\n",
            "spark-3.3.2-bin-hadoop3/python/test_support/sql/parquet_partitioned/year=2015/month=9/day=1/.part-r-00007.gz.parquet.crc\n",
            "spark-3.3.2-bin-hadoop3/python/test_support/sql/parquet_partitioned/year=2015/month=9/day=1/part-r-00007.gz.parquet\n",
            "spark-3.3.2-bin-hadoop3/python/test_support/sql/people.json\n",
            "spark-3.3.2-bin-hadoop3/python/test_support/sql/people1.json\n",
            "spark-3.3.2-bin-hadoop3/python/test_support/sql/people_array.json\n",
            "spark-3.3.2-bin-hadoop3/python/test_support/sql/people_array_utf16le.json\n",
            "spark-3.3.2-bin-hadoop3/python/test_support/sql/streaming/\n",
            "spark-3.3.2-bin-hadoop3/python/test_support/sql/streaming/text-test.txt\n",
            "spark-3.3.2-bin-hadoop3/python/test_support/sql/text-test.txt\n",
            "spark-3.3.2-bin-hadoop3/python/test_support/userlib-0.1.zip\n",
            "spark-3.3.2-bin-hadoop3/python/test_support/userlibrary.py\n",
            "spark-3.3.2-bin-hadoop3/sbin/\n",
            "spark-3.3.2-bin-hadoop3/sbin/decommission-slave.sh\n",
            "spark-3.3.2-bin-hadoop3/sbin/decommission-worker.sh\n",
            "spark-3.3.2-bin-hadoop3/sbin/slaves.sh\n",
            "spark-3.3.2-bin-hadoop3/sbin/spark-config.sh\n",
            "spark-3.3.2-bin-hadoop3/sbin/spark-daemon.sh\n",
            "spark-3.3.2-bin-hadoop3/sbin/spark-daemons.sh\n",
            "spark-3.3.2-bin-hadoop3/sbin/start-all.sh\n",
            "spark-3.3.2-bin-hadoop3/sbin/start-history-server.sh\n",
            "spark-3.3.2-bin-hadoop3/sbin/start-master.sh\n",
            "spark-3.3.2-bin-hadoop3/sbin/start-mesos-dispatcher.sh\n",
            "spark-3.3.2-bin-hadoop3/sbin/start-mesos-shuffle-service.sh\n",
            "spark-3.3.2-bin-hadoop3/sbin/start-slave.sh\n",
            "spark-3.3.2-bin-hadoop3/sbin/start-slaves.sh\n",
            "spark-3.3.2-bin-hadoop3/sbin/start-thriftserver.sh\n",
            "spark-3.3.2-bin-hadoop3/sbin/start-worker.sh\n",
            "spark-3.3.2-bin-hadoop3/sbin/start-workers.sh\n",
            "spark-3.3.2-bin-hadoop3/sbin/stop-all.sh\n",
            "spark-3.3.2-bin-hadoop3/sbin/stop-history-server.sh\n",
            "spark-3.3.2-bin-hadoop3/sbin/stop-master.sh\n",
            "spark-3.3.2-bin-hadoop3/sbin/stop-mesos-dispatcher.sh\n",
            "spark-3.3.2-bin-hadoop3/sbin/stop-mesos-shuffle-service.sh\n",
            "spark-3.3.2-bin-hadoop3/sbin/stop-slave.sh\n",
            "spark-3.3.2-bin-hadoop3/sbin/stop-slaves.sh\n",
            "spark-3.3.2-bin-hadoop3/sbin/stop-thriftserver.sh\n",
            "spark-3.3.2-bin-hadoop3/sbin/stop-worker.sh\n",
            "spark-3.3.2-bin-hadoop3/sbin/stop-workers.sh\n",
            "spark-3.3.2-bin-hadoop3/sbin/workers.sh\n",
            "spark-3.3.2-bin-hadoop3/yarn/\n",
            "spark-3.3.2-bin-hadoop3/yarn/spark-3.3.2-yarn-shuffle.jar\n"
          ]
        }
      ]
    },
    {
      "cell_type": "code",
      "source": [],
      "metadata": {
        "id": "JmMIsVMKsi7M"
      },
      "execution_count": null,
      "outputs": []
    },
    {
      "cell_type": "code",
      "execution_count": null,
      "metadata": {
        "colab": {
          "base_uri": "https://localhost:8080/"
        },
        "id": "pwWl4q5IHAhA",
        "outputId": "2f2610e4-7f2a-4bbd-8aac-8a9210e42742"
      },
      "outputs": [
        {
          "output_type": "stream",
          "name": "stdout",
          "text": [
            "Looking in indexes: https://pypi.org/simple, https://us-python.pkg.dev/colab-wheels/public/simple/\n",
            "Requirement already satisfied: findspark in /usr/local/lib/python3.8/dist-packages (2.0.1)\n"
          ]
        }
      ],
      "source": [
        "\n",
        "\n",
        "!pip install findspark"
      ]
    },
    {
      "cell_type": "code",
      "execution_count": null,
      "metadata": {
        "id": "AGhZFYkpMO78"
      },
      "outputs": [],
      "source": [
        "import os\n",
        "import glob\n",
        "\n",
        "\n",
        "os.environ[\"JAVA_HOME\"] = \"/usr/lib/jvm/java-8-openjdk-amd64\"\n",
        "#os.environ[\"SPARK_HOME\"] = \"/content/spark-3.3.1-bin-hadoop3\"\n",
        "os.environ[\"SPARK_HOME\"] = \"/content/spark-3.3.2-bin-hadoop3\"\n",
        "\n",
        "os.environ[\"PYTHONHASHSEED\"]=str(232)"
      ]
    },
    {
      "cell_type": "code",
      "source": [
        "%pip install pyproj"
      ],
      "metadata": {
        "colab": {
          "base_uri": "https://localhost:8080/"
        },
        "id": "QLki_74QY5w8",
        "outputId": "400cf854-d223-4754-dbe1-c2ecc768754c"
      },
      "execution_count": null,
      "outputs": [
        {
          "output_type": "stream",
          "name": "stdout",
          "text": [
            "Looking in indexes: https://pypi.org/simple, https://us-python.pkg.dev/colab-wheels/public/simple/\n",
            "Requirement already satisfied: pyproj in /usr/local/lib/python3.8/dist-packages (3.4.1)\n",
            "Requirement already satisfied: certifi in /usr/local/lib/python3.8/dist-packages (from pyproj) (2022.12.7)\n"
          ]
        }
      ]
    },
    {
      "cell_type": "code",
      "execution_count": null,
      "metadata": {
        "id": "MD6ubvQWK2mP"
      },
      "outputs": [],
      "source": [
        "import json\n",
        "import os"
      ]
    },
    {
      "cell_type": "code",
      "execution_count": null,
      "metadata": {
        "id": "NdM2tWXpK5dy"
      },
      "outputs": [],
      "source": [
        "import findspark\n",
        "import random\n",
        "findspark.init()"
      ]
    },
    {
      "cell_type": "code",
      "execution_count": null,
      "metadata": {
        "id": "jijktxiTMjL7",
        "colab": {
          "base_uri": "https://localhost:8080/"
        },
        "outputId": "4ae3a14b-eaa1-458f-84f9-bc9390dffd15"
      },
      "outputs": [
        {
          "output_type": "stream",
          "name": "stdout",
          "text": [
            "mkdir: cannot create directory ‘/root/.final_prj/’: File exists\n"
          ]
        }
      ],
      "source": [
        "!mkdir /root/.final_prj/"
      ]
    },
    {
      "cell_type": "code",
      "execution_count": null,
      "metadata": {
        "id": "GL-ytbyWMqkN"
      },
      "outputs": [],
      "source": [
        "\n",
        "import pyspark\n",
        "from pyspark.sql import functions as f\n"
      ]
    },
    {
      "cell_type": "code",
      "execution_count": null,
      "metadata": {
        "id": "C2z2CR72NAds"
      },
      "outputs": [],
      "source": [
        "import networkx as nx\n",
        "from pyspark.sql import SparkSession\n",
        "spark = SparkSession.builder.appName('DataBase').getOrCreate()"
      ]
    },
    {
      "cell_type": "markdown",
      "metadata": {
        "id": "k-3aj3DEJHjN"
      },
      "source": [
        "set up drive and data from drive"
      ]
    },
    {
      "cell_type": "code",
      "execution_count": null,
      "metadata": {
        "id": "RGkQyqYCIn9-",
        "colab": {
          "base_uri": "https://localhost:8080/"
        },
        "outputId": "902ca220-8bfa-4982-d79e-f9eab9b746c8"
      },
      "outputs": [
        {
          "output_type": "stream",
          "name": "stdout",
          "text": [
            "Mounted at /content/drive\n",
            "\n"
          ]
        }
      ],
      "source": [
        "from google.colab import drive\n",
        "drive.mount('/content/drive')\n",
        "print()"
      ]
    },
    {
      "cell_type": "markdown",
      "source": [
        "# 2. Download csv files from github/google drive"
      ],
      "metadata": {
        "id": "mKSQN_x0p4Wj"
      }
    },
    {
      "cell_type": "markdown",
      "source": [
        "# input selection"
      ],
      "metadata": {
        "id": "rOE_q78u6AJO"
      }
    },
    {
      "cell_type": "code",
      "source": [
        "import os\n",
        "\n",
        "if os.path.exists(\"/tmp/spark-2858564d-32bc-4b50-899c-cf94d0e287d4/userFiles-339ccf29-ba8a-4f97-8838-8a3057a6ff7f/bycode2021.csv\"):\n",
        "    os.remove(\"/tmp/spark-2858564d-32bc-4b50-899c-cf94d0e287d4/userFiles-339ccf29-ba8a-4f97-8838-8a3057a6ff7f/bycode2021.csv\")\n",
        "if os.path.exists(\"/tmp/spark-2858564d-32bc-4b50-899c-cf94d0e287d4/userFiles-339ccf29-ba8a-4f97-8838-8a3057a6ff7f/geo_sum_0815.csv\"):\n",
        "    os.remove(\"/tmp/spark-2858564d-32bc-4b50-899c-cf94d0e287d4/userFiles-339ccf29-ba8a-4f97-8838-8a3057a6ff7f/geo_sum_0815.csv\")\n",
        "if os.path.exists(\"/tmp/spark-2858564d-32bc-4b50-899c-cf94d0e287d4/userFiles-339ccf29-ba8a-4f97-8838-8a3057a6ff7f/ LOCAL AUTHORITIES IN ASCENDING csv.csv\"):\n",
        "    os.remove(\"/tmp/spark-2858564d-32bc-4b50-899c-cf94d0e287d4/userFiles-339ccf29-ba8a-4f97-8838-8a3057a6ff7f/ LOCAL AUTHORITIES IN ASCENDING csv.csv\")\n",
        "if os.path.exists(\"/tmp/spark-2858564d-32bc-4b50-899c-cf94d0e287d4/userFiles-339ccf29-ba8a-4f97-8838-8a3057a6ff7f/statistical area and ranking geo scocio.csv\"):\n",
        "    os.remove(\"/tmp/spark-2858564d-32bc-4b50-899c-cf94d0e287d4/userFiles-339ccf29-ba8a-4f97-8838-8a3057a6ff7f/statistical area and ranking geo scocio.csv\")\n",
        "if os.path.exists(\"/tmp/spark-2858564d-32bc-4b50-899c-cf94d0e287d4/userFiles-339ccf29-ba8a-4f97-8838-8a3057a6ff7f/hospitals.csv\"):\n",
        "    os.remove(\"/tmp/spark-2858564d-32bc-4b50-899c-cf94d0e287d4/userFiles-339ccf29-ba8a-4f97-8838-8a3057a6ff7f/hospitals.csv\")\n",
        "\n"
      ],
      "metadata": {
        "id": "5_TXvx2jCdZQ"
      },
      "execution_count": null,
      "outputs": []
    },
    {
      "cell_type": "code",
      "source": [
        "            print(\"google drive selected\")\n",
        "            sum_per_day=spark.read.csv(\"/content/drive/MyDrive/runi/BDP project/corona final project/geo_sum_0815.csv\", sep=',', inferSchema=True, header=True)\n",
        "            bycode2021=spark.read.csv(\"/content/drive/MyDrive/runi/BDP project/corona final project/bycode2021v2.csv\", sep=',', inferSchema=True, header=True)\n",
        "            socio_rank_pop=spark.read.csv(\"/content/drive/MyDrive/runi/BDP project/corona final project/ LOCAL AUTHORITIES IN ASCENDING csv.csv\", sep=',', inferSchema=True, header=True)\n",
        "            sub_socio_rank_pop=spark.read.csv(\"/content/drive/MyDrive/runi/BDP project/corona final project/statistical area and ranking geo scocio.csv\", sep=',', inferSchema=True, header=True)\n",
        "            hospitals=spark.read.csv(\"/content/drive/MyDrive/runi/BDP project/corona final project/hospitals.csv\", sep=',', inferSchema=True, header=True)\n",
        "       "
      ],
      "metadata": {
        "id": "-aOaadQRBS_W",
        "colab": {
          "base_uri": "https://localhost:8080/"
        },
        "outputId": "54815e70-bc2c-45b5-e7b1-15fc5d6c2560"
      },
      "execution_count": null,
      "outputs": [
        {
          "output_type": "stream",
          "name": "stdout",
          "text": [
            "google drive selected\n"
          ]
        }
      ]
    },
    {
      "cell_type": "code",
      "source": [
        "import ipywidgets as widgets\n",
        "from IPython.display import display\n",
        "\n",
        "# Define the dropdown widget\n",
        "dropdown = widgets.Dropdown(\n",
        "    options=['do nothing','GOOGLE DRIVE for DEVELOPER', 'GITHUB for PRODUCTION'],\n",
        "    value='do nothing',\n",
        "    description='Select a command:'\n",
        ")\n",
        "\n",
        "# Define the output widget\n",
        "output = widgets.Output()\n",
        "\n",
        "# Define the function that runs the command\n",
        "def run_command(command):\n",
        "    with output:\n",
        "        \n",
        "        if command == 'GOOGLE DRIVE for DEVELOPER':\n",
        "            print(\"google drive selected\")\n",
        "            !echo sum_per_day=spark.read.csv('/content/drive/MyDrive/runi/BDP project/corona final project/geo_sum_0815.csv', sep=',', inferSchema=True, header=True)\n",
        "            !echo bycode2021=spark.read.csv('/content/drive/MyDrive/runi/BDP project/corona final project/bycode2021v2.csv', sep=',', inferSchema=True, header=True)\n",
        "            !echo socio_rank_pop=spark.read.csv('/content/drive/MyDrive/runi/BDP project/corona final project/ LOCAL AUTHORITIES IN ASCENDING csv.csv', sep=',', inferSchema=True, header=True)\n",
        "            !echo sub_socio_rank_pop=spark.read.csv('/content/drive/MyDrive/runi/BDP project/corona final project/statistical area and ranking geo scocio.csv', sep=',', inferSchema=True, header=True)\n",
        "            !echo hospitals=spark.read.csv('/content/drive/MyDrive/runi/BDP project/corona final project/hospitals.csv', sep=',', inferSchema=True, header=True)\n",
        "            print(\"loaded\")\n",
        "        elif command == 'GITHUB for PRODUCTION':\n",
        "            print(\"github selected\")\n",
        "            url_2 = \"https://github.com/MotiMarom/BigDataFinalProject/blob/main/DataFiles/bycode2021.csv\"\n",
        "            from pyspark import SparkFiles\n",
        "            spark.sparkContext.addFile(url_2)\n",
        "            bycode2021 = spark.read.csv(SparkFiles.get(\"bycode2021.csv\"), header=True)\n",
        "            url_3 = \"https://github.com/MotiMarom/BigDataFinalProject/blob/main/DataFiles/LocalAuthoritiesInAscending.csv\"\n",
        "            spark.sparkContext.addFile(url_3)\n",
        "            socio_rank_pop = spark.read.csv(SparkFiles.get(\"LocalAuthoritiesInAscending.csv\"), header=True)\n",
        "        elif command == 'do nothing':\n",
        "            !echo \"select GIT or DRIVE\"\n",
        "# Define the function that runs when the dropdown is changed\n",
        "def on_change(change):\n",
        "    if change['type'] == 'change' and change['name'] == 'value':\n",
        "        #output.clear_output()\n",
        "        run_command(change['new'])\n",
        "\n",
        "# Display the widgets\n",
        "display(dropdown)\n",
        "display(output)\n",
        "\n",
        "# Attach the on_change function to the dropdown\n",
        "dropdown.observe(on_change)"
      ],
      "metadata": {
        "id": "X8Zaj3eP312X",
        "colab": {
          "base_uri": "https://localhost:8080/",
          "height": 353,
          "referenced_widgets": [
            "fcfca92af6d642499bd67b8502752169",
            "9388f8b8fdbf42ed9a7a1ddaa7dabcfc",
            "c7e53c9191d04c7c8b21d326365c50a7",
            "d4a64ae7a77c46ebaeb3856b8ed76527",
            "96891b08448d447e977d629bf6f034fd"
          ]
        },
        "outputId": "5f4b3334-672f-4c3a-8cb3-4d023c03ffa7"
      },
      "execution_count": null,
      "outputs": [
        {
          "output_type": "display_data",
          "data": {
            "text/plain": [
              "Dropdown(description='Select a command:', options=('do nothing', 'GOOGLE DRIVE for DEVELOPER', 'GITHUB for PRO…"
            ],
            "application/vnd.jupyter.widget-view+json": {
              "version_major": 2,
              "version_minor": 0,
              "model_id": "fcfca92af6d642499bd67b8502752169"
            }
          },
          "metadata": {}
        },
        {
          "output_type": "display_data",
          "data": {
            "text/plain": [
              "Output()"
            ],
            "application/vnd.jupyter.widget-view+json": {
              "version_major": 2,
              "version_minor": 0,
              "model_id": "d4a64ae7a77c46ebaeb3856b8ed76527"
            }
          },
          "metadata": {}
        }
      ]
    },
    {
      "cell_type": "code",
      "source": [
        "# Show vailable data\n",
        "sum_per_day.show()\n",
        "bycode2021.show()\n",
        "socio_rank_pop.show()\n",
        "sub_socio_rank_pop.show()\n",
        "hospitals.show()"
      ],
      "metadata": {
        "id": "xrVJOmZALHFE",
        "colab": {
          "base_uri": "https://localhost:8080/"
        },
        "outputId": "710b4a0f-e1ef-4f86-8c6f-54c52cf278f8"
      },
      "execution_count": null,
      "outputs": [
        {
          "output_type": "stream",
          "name": "stdout",
          "text": [
            "+---------+---------+--------+-------------------+-----------------+-----------------+----------------------+----------------------+------------------------+------------------------+------------------+------------------+----------------------------+----------------------------+----------------------------------+---------------------------+-----------------------------------+----------------------------+----------------------------------+---------------------------+\n",
            "|town_code|agas_code|    town|               date|accumulated_cases|new_cases_on_date|accumulated_recoveries|new_recoveries_on_date|accumulated_hospitalized|new_hospitalized_on_date|accumulated_deaths|new_deaths_on_date|accumulated_diagnostic_tests|new_diagnostic_tests_on_date|accumulated_vaccination_first_dose|new_vacc_first_dose_on_date|accumulated_vaccination_second_dose|new_vacc_second_dose_on_date|accumulated_vaccination_third_dose|new_vacc_third_dose_on_date|\n",
            "+---------+---------+--------+-------------------+-----------------+-----------------+----------------------+----------------------+------------------------+------------------------+------------------+------------------+----------------------------+----------------------------+----------------------------------+---------------------------+-----------------------------------+----------------------------+----------------------------------+---------------------------+\n",
            "|       26|       NA|ראש פינה|2020-03-11 00:00:00|                0|                0|                     0|                     0|                       0|                       0|                 0|                 0|                           0|                           0|                               0.0|                      false|                                  0|                           0|                               0.0|                      false|\n",
            "|       26|       NA|ראש פינה|2020-03-12 00:00:00|                0|                0|                     0|                     0|                       0|                       0|                 0|                 0|                           0|                           0|                               0.0|                      false|                                  0|                           0|                               0.0|                      false|\n",
            "|       26|       NA|ראש פינה|2020-03-13 00:00:00|                0|                0|                     0|                     0|                       0|                       0|                 0|                 0|                           0|                           0|                               0.0|                      false|                                  0|                           0|                               0.0|                      false|\n",
            "|       26|       NA|ראש פינה|2020-03-14 00:00:00|                0|                0|                     0|                     0|                       0|                       0|                 0|                 0|                           0|                           0|                               0.0|                      false|                                  0|                           0|                               0.0|                      false|\n",
            "|       26|       NA|ראש פינה|2020-03-15 00:00:00|                0|                0|                     0|                     0|                       0|                       0|                 0|                 0|                           0|                           0|                               0.0|                      false|                                  0|                           0|                               0.0|                      false|\n",
            "|       26|       NA|ראש פינה|2020-03-16 00:00:00|                0|                0|                     0|                     0|                       0|                       0|                 0|                 0|                           0|                           0|                               0.0|                      false|                                  0|                           0|                               0.0|                      false|\n",
            "|       26|       NA|ראש פינה|2020-03-17 00:00:00|                0|                0|                     0|                     0|                       0|                       0|                 0|                 0|                           0|                           0|                               0.0|                      false|                                  0|                           0|                               0.0|                      false|\n",
            "|       26|       NA|ראש פינה|2020-03-18 00:00:00|                0|                0|                     0|                     0|                       0|                       0|                 0|                 0|                           0|                           0|                               0.0|                      false|                                  0|                           0|                               0.0|                      false|\n",
            "|       26|       NA|ראש פינה|2020-03-19 00:00:00|                0|                0|                     0|                     0|                       0|                       0|                 0|                 0|                           0|                           0|                               0.0|                      false|                                  0|                           0|                               0.0|                      false|\n",
            "|       26|       NA|ראש פינה|2020-03-20 00:00:00|                0|                0|                     0|                     0|                       0|                       0|                 0|                 0|                           0|                           0|                               0.0|                      false|                                  0|                           0|                               0.0|                      false|\n",
            "|       26|       NA|ראש פינה|2020-03-21 00:00:00|                0|                0|                     0|                     0|                       0|                       0|                 0|                 0|                           0|                           0|                               0.0|                      false|                                  0|                           0|                               0.0|                      false|\n",
            "|       26|       NA|ראש פינה|2020-03-22 00:00:00|                0|                0|                     0|                     0|                       0|                       0|                 0|                 0|                           0|                           0|                               0.0|                      false|                                  0|                           0|                               0.0|                      false|\n",
            "|       26|       NA|ראש פינה|2020-03-23 00:00:00|                0|                0|                     0|                     0|                       0|                       0|                 0|                 0|                           7|                           7|                               0.0|                      false|                                  0|                           0|                               0.0|                      false|\n",
            "|       26|       NA|ראש פינה|2020-03-24 00:00:00|                0|                0|                     0|                     0|                       0|                       0|                 0|                 0|                           7|                           0|                               0.0|                      false|                                  0|                           0|                               0.0|                      false|\n",
            "|       26|       NA|ראש פינה|2020-03-25 00:00:00|                0|                0|                     0|                     0|                       0|                       0|                 0|                 0|                           7|                           0|                               0.0|                      false|                                  0|                           0|                               0.0|                      false|\n",
            "|       26|       NA|ראש פינה|2020-03-26 00:00:00|                0|                0|                     0|                     0|                       0|                       0|                 0|                 0|                           7|                           0|                               0.0|                      false|                                  0|                           0|                               0.0|                      false|\n",
            "|       26|       NA|ראש פינה|2020-03-27 00:00:00|                0|                0|                     0|                     0|                       0|                       0|                 0|                 0|                           7|                           0|                               0.0|                      false|                                  0|                           0|                               0.0|                      false|\n",
            "|       26|       NA|ראש פינה|2020-03-28 00:00:00|                0|                0|                     0|                     0|                       0|                       0|                 0|                 0|                           7|                           0|                               0.0|                      false|                                  0|                           0|                               0.0|                      false|\n",
            "|       26|       NA|ראש פינה|2020-03-29 00:00:00|                0|                0|                     0|                     0|                       0|                       0|                 0|                 0|                          16|                           9|                               0.0|                      false|                                  0|                           0|                               0.0|                      false|\n",
            "|       26|       NA|ראש פינה|2020-03-30 00:00:00|                0|                0|                     0|                     0|                       0|                       0|                 0|                 0|                          17|                           1|                               0.0|                      false|                                  0|                           0|                               0.0|                      false|\n",
            "+---------+---------+--------+-------------------+-----------------+-----------------+----------------------+----------------------+------------------------+------------------------+------------------+------------------+----------------------------+----------------------------+----------------------------------+---------------------------+-----------------------------------+----------------------------+----------------------------------+---------------------------+\n",
            "only showing top 20 rows\n",
            "\n",
            "+-------------------+---------+------------+--------+-------+-------+-------+---------+------------------+--------------------+---------------+--------+---------------------+-------------+-----------+-------+---------+----------------+----------------+-------------+----------+----------+-----------+----+----------------+--------------------+------------------+------------------+\n",
            "|           שם יישוב|סמל יישוב|       תעתיק|סמל מחוז|שם מחוז|סמל נפה| שם נפה|אזור טבעי|סמל מעמד מונציפאלי|   שם מעמד מונציפאלי|שיוך מטרופוליני|דת יישוב|סך הכל אוכלוסייה 2021|יהודים ואחרים|מזה: יהודים|  ערבים|שנת ייסוד|צורת יישוב שוטפת|השתייכות ארגונית|  קואורדינטות|גובה ממוצע|ועדת תכנון| תחנת משטרה| שנה|שם יישוב באנגלית|אשכול רשויות מקומיות|              long|               lat|\n",
            "+-------------------+---------+------------+--------+-------+-------+-------+---------+------------------+--------------------+---------------+--------+---------------------+-------------+-----------+-------+---------+----------------+----------------+-------------+----------+----------+-----------+----+----------------+--------------------+------------------+------------------+\n",
            "| אבו ג'ווייעד (שבט)|      967|ABU JUWEI'ID|       6|  הדרום|     62|באר שבע|    623.0|              null|  חסר מעמד מוניציפלי|           null|     3.0|                 null|         null|       null|   null|     null|             460|            null|  2.0400571E9|      null|     699.0|       null|2021|    Abu Juway'ad|                null| 35.04221193247055|31.230441632293964|\n",
            "|            אבו גוש|      472|   ABU GHOSH|       1|ירושלים|     11|ירושלים|    111.0|              99.0|        מועצה מקומית|          444.0|     2.0|               7881.0|         83.0|       64.0| 7798.0|     null|             280|            null|2.105263481E9|     686.0|     152.0|1.0002475E7|2021|       Abu Ghosh|                null| 35.11006895043577|31.805997168616646|\n",
            "|           אבו סנאן|      473|   ABU SINAN|       2|  הצפון|     24|    עכו|    245.0|              99.0|        מועצה מקומית|           null|     2.0|              14455.0|         31.0|       14.0|14424.0|     null|             270|            null|2.161876289E9|      71.0|     252.0|1.5002143E7|2021|       Abu Sinan|                null|35.169398650578366| 32.96099460580597|\n",
            "|   אבו סריחאן (שבט)|      935|ABU SUREIHAN|       6|  הדרום|     62|באר שבע|    623.0|              null|  חסר מעמד מוניציפלי|           null|     3.0|                 null|         null|       null|   null|     null|             460|            null| 1.86505745E9|      null|     699.0|       null|2021|    Abu Surayhan|                null|34.858420228780105|31.261645335778766|\n",
            "|    אבו עבדון (שבט)|      958|   ABU ABDUN|       6|  הדרום|     62|באר שבע|    623.0|              null|  חסר מעמד מוניציפלי|           null|     3.0|                 null|         null|       null|   null|     null|             460|            null|  1.8500579E9|      null|     699.0|       null|2021|      Abu 'Abdun|                null| 34.84251651424116|31.302187166730892|\n",
            "|     אבו עמאר (שבט)|     1042|   ABU AMMAR|       6|  הדרום|     62|באר שבע|    623.0|              null|  חסר מעמד מוניציפלי|           null|     3.0|                 null|         null|       null|   null|     null|             460|            null|  1.9500567E9|      null|     699.0|       null|2021|      Abu 'Ammar|                null|34.947846647769964| 31.19421135020856|\n",
            "|     אבו עמרה (שבט)|      932|    ABU AMRE|       6|  הדרום|     62|באר שבע|    623.0|              null|  חסר מעמד מוניציפלי|           null|     3.0|                 null|         null|       null|   null|     null|             460|            null|  1.8500571E9|      null|     699.0|       null|2021|       Abu 'Amra|                null| 34.84279174842432| 31.23003554552811|\n",
            "|אבו קורינאת (יישוב)|     1342|ABU QUREINAT|       6|  הדרום|     62|באר שבע|    623.0|              68.0|מועצה אזורית נווה...|           null|     2.0|               2081.0|          0.0|        0.0| 2081.0|     null|             290|            null|1.963656105E9|     449.0|     624.0|1.5003711E7|2021|    Abu Qureinat|               610.0| 34.96225207269793|31.140574817640346|\n",
            "|  אבו קורינאת (שבט)|      968|ABU QUREINAT|       6|  הדרום|     62|באר שבע|    623.0|              null|  חסר מעמד מוניציפלי|           null|     3.0|                 null|         null|       null|   null|     null|             460|            null|   1.970056E9|      null|     699.0|       null|2021|    Abu Kuraynat|                null| 34.96898645828523|31.131117055665424|\n",
            "|  אבו רובייעה (שבט)|      966| ABU RUBEI'A|       6|  הדרום|     62|באר שבע|    623.0|              null|  חסר מעמד מוניציפלי|           null|     3.0|                 null|         null|       null|   null|     null|             460|            null|  2.0500572E9|      null|     699.0|       null|2021|     Abu Rubay'a|                null| 35.05269341938896| 31.23947358457167|\n",
            "|   אבו רוקייק (שבט)|      961|ABU RUQAYYEQ|       6|  הדרום|     62|באר שבע|    623.0|              null|  חסר מעמד מוניציפלי|           null|     3.0|                 null|         null|       null|   null|     null|             460|            null|  1.9200566E9|      null|     699.0|       null|2021|    Abu Rukayyek|                null|34.916398525485555| 31.18512562949143|\n",
            "|           אבו תלול|     1375|   ABU TULUL|       6|  הדרום|     62|באר שבע|    623.0|              68.0|מועצה אזורית נווה...|           null|     2.0|               2330.0|          8.0|        0.0| 2322.0|     null|             290|            null|1.933456589E9|     388.0|     624.0|1.5003711E7|2021|       Abu Tulul|               610.0| 34.93045906217742|31.184164209688383|\n",
            "|              אבטין|      652|       IBTIN|       3|   חיפה|     31|   חיפה|    311.0|              12.0| מועצה אזורית זבולון|          222.0|     2.0|               2900.0|          2.0|        2.0| 2898.0|     null|             290|            null|2.109274077E9|      48.0|     301.0|1.0004207E7|2021|           Ibtin|               310.0| 35.11334331731922| 32.76151345293138|\n",
            "|            אבטליון|     1275|    AVTALYON|       2|  הצפון|     24|    עכו|    241.0|              56.0|   מועצה אזורית משגב|           null|     1.0|                475.0|        475.0|      455.0|    0.0|     1987|             370|            10.0|2.332474908E9|     360.0|     205.0|1.0004513E7|2021|        Avtalyon|               210.0| 35.35166104214529|32.836390789833146|\n",
            "|              אביאל|      679|      AVI'EL|       3|   חיפה|     32|   חדרה|    324.0|              45.0|  מועצה אזורית אלונה|           null|     1.0|                820.0|        820.0|      808.0|    0.0|     1949|             310|             9.0|1.996171533E9|      53.0|     351.0|1.0004333E7|2021|          Avi'el|                null| 34.99318577934077|32.531972371729175|\n",
            "|             אביבים|     1115|      AVIVIM|       2|  הצפון|     21|    צפת|    212.0|               2.0|מועצה אזורית מרום...|           null|     1.0|                470.0|        470.0|      468.0|    0.0|     1960|             310|             1.0|2.444177707E9|     723.0|     209.0|1.0004528E7|2021|          Avivim|               211.0| 35.47172287649953| 33.08856869455766|\n",
            "|            אביגדור|      819|    AVIGEDOR|       6|  הדרום|     61| אשקלון|    611.0|              33.0|מועצה אזורית באר ...|          143.0|     1.0|                806.0|        806.0|      801.0|    0.0|     1950|             310|             1.0|1.757362428E9|      64.0|     616.0|1.0001821E7|2021|        Avigedor|               420.0| 34.74314741759324|31.710233730927698|\n",
            "|             אביחיל|      175|    AVIHAYIL|       4|  המרכז|     41|  השרון|    411.0|              16.0|מועצה אזורית עמק חפר|          141.0|     1.0|               1402.0|       1402.0|     1361.0|    0.0|     1932|             310|             1.0|1.880869527E9|      37.0|     409.0|1.0002089E7|2021|        Avihayil|                null| 34.87112179400975| 32.35081910432108|\n",
            "|              אביטל|     2052|      AVITAL|       2|  הצפון|     23| יזרעאל|    234.0|               8.0| מועצה אזורית הגלבוע|           null|     1.0|                489.0|        489.0|      489.0|    0.0|     1953|             310|             1.0|2.291271816E9|      72.0|     204.0|1.0004394E7|2021|          Avital|               213.0| 35.30733599792143| 32.55762660434839|\n",
            "|             אביעזר|     1070|    AVI'EZER|       1|ירושלים|     11|ירושלים|    112.0|              26.0|מועצה אזורית מטה ...|          444.0|     1.0|                890.0|        890.0|      885.0|    0.0|     1958|             310|             2.0|2.016662104E9|     374.0|     151.0|1.5000597E7|2021|        Avi'ezer|                null| 35.01675403512907|31.681709943520303|\n",
            "+-------------------+---------+------------+--------+-------+-------+-------+---------+------------------+--------------------+---------------+--------+---------------------+-------------+-----------+-------+---------+----------------+----------------+-------------+----------+----------+-----------+----+----------------+--------------------+------------------+------------------+\n",
            "only showing top 20 rows\n",
            "\n",
            "+----------------+----------------+-------------+--------+------------------------+-------------------+-------------+----------------+-------------+----------------+--------------------------------------------+------------------------+\n",
            "|municipal status|CODE OF LOCALITY|       hebrew|DISTRICT|INDEX POPULATION 2019[1]|INDEX VALUE 2019[2]|RANK 2019[3] |CLUSTER 2019[4] |RANK 2017[3] |CLUSTER 2017[4] |DIFFERENCE (CLUSTER 2019 MINUS CLUSTER 2017)|namme of local authurity|\n",
            "+----------------+----------------+-------------+--------+------------------------+-------------------+-------------+----------------+-------------+----------------+--------------------------------------------+------------------------+\n",
            "|              68|            null|    נווה מדבר|       6|                  12,261|             -2.844|            1|               1|            1|               1|                                           0|             NEVE MIDBAR|\n",
            "|              99|            1192|   ערערה-בנגב|       6|                  18,332|             -2.479|            2|               1|            2|               1|                                           0|          AR'ARA-BANEGEV|\n",
            "|              99|            1054|       תל שבע|       6|                  20,808|             -2.321|            3|               1|            3|               1|                                           0|               TEL SHEVA|\n",
            "|              99|            1059|        כסיפה|       6|                  21,809|             -2.316|            4|               1|            4|               1|                                           0|                 KUSEIFE|\n",
            "|              69|            null|      אל קסום|       6|                  15,670|             -2.271|            5|               1|            8|               1|                                           0|                AL-KASUM|\n",
            "|               0|            3797|מודיעין עילית|       7|                  76,373|             -2.247|            6|               1|            5|               1|                                           0|           MODI'IN ILLIT|\n",
            "|              99|            1303|         חורה|       6|                  22,337|             -2.231|            7|               1|            7|               1|                                           0|                    HURA|\n",
            "|              99|            1286|     שגב-שלום|       6|                  10,936|             -2.207|            8|               1|            6|               1|                                           0|            SEGEV-SHALOM|\n",
            "|              99|            1060|         לקיה|       6|                  14,075|             -2.049|            9|               1|            9|               1|                                           0|                   LAQYE|\n",
            "|               0|            3780|   ביתר עילית|       7|                  59,268|             -1.921|           10|               1|           11|               1|                                           0|             BETAR ILLIT|\n",
            "|               0|            1161|          רהט|       6|                  71,390|             -1.876|           11|               1|           10|               1|                                           0|                   RAHAT|\n",
            "|              99|            3660|       עמנואל|       7|                   3,896|             -1.668|           12|               2|           12|               2|                                           0|               IMMANU'EL|\n",
            "|              99|             922|        רכסים|       3|                  12,647|             -1.618|           13|               2|           13|               2|                                           0|                REKHASIM|\n",
            "|               0|            6100|      בני ברק|       5|                 203,229|             -1.542|           14|               2|           18|               2|                                           0|              BENE BERAQ|\n",
            "|              99|             541|  ג'סר א-זרקא|       3|                  14,930|             -1.484|           15|               2|           15|               2|                                           0|           JISR AZ-ZARQA|\n",
            "|              99|             510|     כפר מנדא|       2|                  20,188|             -1.479|           16|               2|           16|               2|                                           0|             KAFAR MANDA|\n",
            "|              99|             511|        עילוט|       2|                   8,356|             -1.463|           17|               2|           14|               2|                                           0|                    ILUT|\n",
            "|               0|            2610|      בית שמש|       1|                 124,813|             -1.433|           18|               2|           21|               2|                                           0|             BET SHEMESH|\n",
            "|               0|            1309|         אלעד|       4|                  48,760|             -1.422|           19|               2|           19|               2|                                           0|                   EL'AD|\n",
            "|               0|            2710|   אום אל-פחם|       3|                  56,109|             -1.346|           20|               2|           17|               2|                                           0|             UMM AL-FAHM|\n",
            "+----------------+----------------+-------------+--------+------------------------+-------------------+-------------+----------------+-------------+----------------+--------------------------------------------+------------------------+\n",
            "only showing top 20 rows\n",
            "\n",
            "+----------------+----------------+---------+----------------+------------------+-----------------+------------------------+------------------------+-------------------+-------------+-------------------+------------------+----+\n",
            "|MUNICIPAL STATUS|CODE OF LOCALITY|  שם ישוב|NAME OF LOCALITY| CLUSTER 2019[4] 4| CLUSTER 2017[4]5|CODE OF STATISTICAL AREA|INDEX POPULATION 2019[1]|INDEX VALUE 2019[2]|RANK 2019[3] | CLUSTER 2019[4] 10| CLUSTER 2017[4]11|_c12|\n",
            "+----------------+----------------+---------+----------------+------------------+-----------------+------------------------+------------------------+-------------------+-------------+-------------------+------------------+----+\n",
            "|               0|              31|   אופקים|          OFAQIM|                 3|                3|                       6|                   6,123|             -1.723|          106|                  1|                 1|null|\n",
            "|               0|              31|   אופקים|          OFAQIM|                 3|                3|                       3|                   3,045|             -0.964|          254|                  3|                 3|null|\n",
            "|               0|              31|   אופקים|          OFAQIM|                 3|                3|                       4|                   3,044|             -0.909|          271|                  3|                 3|null|\n",
            "|               0|              31|   אופקים|          OFAQIM|                 3|                3|                       2|                   2,773|             -0.541|          375|                  4|                 3|null|\n",
            "|               0|              31|   אופקים|          OFAQIM|                 3|                3|                       1|                   5,246|              -0.54|          376|                  4|                 4|null|\n",
            "|               0|              31|   אופקים|          OFAQIM|                 3|                3|                       7|                  10,424|             -0.093|          611|                  5|                 5|null|\n",
            "|               0|            2400|אור יהודה|       OR YEHUDA|                 5|                5|                      11|                     220|             -0.927|          265|                  3|                 3|null|\n",
            "|               0|            2400|אור יהודה|       OR YEHUDA|                 5|                5|                       5|                   2,023|              -0.85|          287|                  3|                 3|null|\n",
            "|               0|            2400|אור יהודה|       OR YEHUDA|                 5|                5|                       8|                   1,797|             -0.726|          322|                  3|                 3|null|\n",
            "|               0|            2400|אור יהודה|       OR YEHUDA|                 5|                5|                       7|                   3,261|             -0.614|          357|                  4|                 4|null|\n",
            "|               0|            2400|אור יהודה|       OR YEHUDA|                 5|                5|                       3|                   2,332|             -0.323|          471|                  5|                 4|null|\n",
            "|               0|            2400|אור יהודה|       OR YEHUDA|                 5|                5|                       4|                   3,505|             -0.265|          507|                  5|                 4|null|\n",
            "|               0|            2400|אור יהודה|       OR YEHUDA|                 5|                5|                       2|                   2,400|             -0.125|          590|                  5|                 5|null|\n",
            "|               0|            2400|אור יהודה|       OR YEHUDA|                 5|                5|                      12|                   4,168|             -0.048|          642|                  5|                 5|null|\n",
            "|               0|            2400|אור יהודה|       OR YEHUDA|                 5|                5|                       1|                   5,920|              0.287|          857|                  6|                 6|null|\n",
            "|               0|            2400|אור יהודה|       OR YEHUDA|                 5|                5|                      13|                     462|              0.335|          900|                  6|                 6|null|\n",
            "|               0|            2400|אור יהודה|       OR YEHUDA|                 5|                5|                       9|                   7,181|              0.677|         1069|                  7|                 7|null|\n",
            "|               0|            2400|אור יהודה|       OR YEHUDA|                 5|                5|                      10|                   3,332|              0.954|         1206|                  7|                 8|null|\n",
            "|               0|            1020|אור עקיבא|        OR AQIVA|                 5|                5|                       2|                   3,066|             -0.803|          305|                  3|                 3|null|\n",
            "|               0|            1020|אור עקיבא|        OR AQIVA|                 5|                5|                       3|                   4,704|             -0.378|          439|                  5|                 4|null|\n",
            "+----------------+----------------+---------+----------------+------------------+-----------------+------------------------+------------------------+-------------------+-------------+-------------------+------------------+----+\n",
            "only showing top 20 rows\n",
            "\n",
            "+--------------------+------------------+------------------+\n",
            "|            Hospital|               lat|              long|\n",
            "+--------------------+------------------+------------------+\n",
            "|               Sheba|32.050921977198726|34.844090786162425|\n",
            "|Mayanei HaYeshua ...|  32.0864161615671| 34.84426245097149|\n",
            "|Tel Aviv Sourasky...| 32.08128939055867|34.789967430026174|\n",
            "| Meir Medical Center| 32.18387390077495| 34.89661739992947|\n",
            "|    Laniado Hospital| 32.35111303624267|34.856821755921324|\n",
            "|Shamir Medical Ce...|31.966526142245904| 34.83956680094388|\n",
            "|Wolfson Medical C...| 32.04678787793236| 34.75922747938785|\n",
            "|  Ziv Medical Center| 33.00041909211144|35.501124136155596|\n",
            "| Emek Medical Center|32.635722136875586| 35.31160997790102|\n",
            "|Rambam Health Car...| 32.84422132671596|34.986140005806085|\n",
            "|   Bnai Zion Medical| 32.81017864475674|  34.9930064608153|\n",
            "|Hillel Yaffe Medi...| 32.45148499748091| 34.89577799724066|\n",
            "|           bailinson| 32.09057665137987|34.867335370494494|\n",
            "|Soroka Medical Ce...|31.258384538249476|34.800801685965126|\n",
            "|Kaplan Medical Ce...|  31.8727874048322| 34.81453503955376|\n",
            "|Carmel Medical Ce...| 32.78653999090502| 34.98054519291536|\n",
            "|Golda HaSharon Me...| 32.08022256248601|34.881971498405456|\n",
            "|Hadassah Ein Kere...|31.765314073483182| 35.14962076838706|\n",
            "|Nazareth Hospital...| 32.70245183177871|35.292203499999594|\n",
            "|Shaare Zedek Medi...|31.773322114747835| 35.18527709047709|\n",
            "+--------------------+------------------+------------------+\n",
            "only showing top 20 rows\n",
            "\n"
          ]
        }
      ]
    },
    {
      "cell_type": "markdown",
      "source": [
        "# 3. data cleaning"
      ],
      "metadata": {
        "id": "Vb-AjzIkqZrV"
      }
    },
    {
      "cell_type": "markdown",
      "source": [
        "# clean sub_socio_rank_pop\n",
        "\n",
        "\n"
      ],
      "metadata": {
        "id": "gOc3mB9sAuXW"
      }
    },
    {
      "cell_type": "code",
      "source": [
        "\n",
        "\n",
        "temp = [1, 6,7,9,10]\n",
        "\n",
        "# slice the column names from the DataFrame using the column indices\n",
        "selected_columns = [sub_socio_rank_pop.columns[i] for i in temp]\n",
        "print(selected_columns)"
      ],
      "metadata": {
        "id": "CS2_ojBlo3jC",
        "colab": {
          "base_uri": "https://localhost:8080/"
        },
        "outputId": "1c2a08b9-6800-4e3e-f920-ee70b1fe0b29"
      },
      "execution_count": null,
      "outputs": [
        {
          "output_type": "stream",
          "name": "stdout",
          "text": [
            "['CODE OF LOCALITY', 'CODE OF STATISTICAL AREA', 'INDEX POPULATION 2019[1]', 'RANK 2019[3] ', ' CLUSTER 2019[4] 10']\n"
          ]
        }
      ]
    },
    {
      "cell_type": "code",
      "source": [
        "sub_socio_rank_pop = sub_socio_rank_pop.withColumnRenamed('CODE OF LOCALITY', \"town_code\")\n",
        "sub_socio_rank_pop = sub_socio_rank_pop.withColumnRenamed(\"CODE OF STATISTICAL AREA\", \"agas_code\")\n",
        "sub_socio_rank_pop = sub_socio_rank_pop.withColumnRenamed(\"INDEX POPULATION 2019[1]\", \"pop_2019\")\n",
        "sub_socio_rank_pop = sub_socio_rank_pop.withColumnRenamed(\"RANK 2019[3] \", \"socio_rank_2019\")\n",
        "sub_socio_rank_pop = sub_socio_rank_pop.withColumnRenamed(\" CLUSTER 2019[4] 10\", \"socio_rank_city\")\n",
        "\n",
        "\n",
        "\n"
      ],
      "metadata": {
        "id": "wbk7cS6x-3tU"
      },
      "execution_count": null,
      "outputs": []
    },
    {
      "cell_type": "code",
      "source": [
        "sub_socio_rank_pop.show()"
      ],
      "metadata": {
        "id": "5mOryCCXrrEb",
        "colab": {
          "base_uri": "https://localhost:8080/"
        },
        "outputId": "be757a61-8dc5-470c-d165-d379ef227a95"
      },
      "execution_count": null,
      "outputs": [
        {
          "output_type": "stream",
          "name": "stdout",
          "text": [
            "+----------------+---------+---------+----------------+------------------+-----------------+---------+--------+-------------------+---------------+---------------+------------------+----+\n",
            "|MUNICIPAL STATUS|town_code|  שם ישוב|NAME OF LOCALITY| CLUSTER 2019[4] 4| CLUSTER 2017[4]5|agas_code|pop_2019|INDEX VALUE 2019[2]|socio_rank_2019|socio_rank_city| CLUSTER 2017[4]11|_c12|\n",
            "+----------------+---------+---------+----------------+------------------+-----------------+---------+--------+-------------------+---------------+---------------+------------------+----+\n",
            "|               0|       31|   אופקים|          OFAQIM|                 3|                3|        6|   6,123|             -1.723|            106|              1|                 1|null|\n",
            "|               0|       31|   אופקים|          OFAQIM|                 3|                3|        3|   3,045|             -0.964|            254|              3|                 3|null|\n",
            "|               0|       31|   אופקים|          OFAQIM|                 3|                3|        4|   3,044|             -0.909|            271|              3|                 3|null|\n",
            "|               0|       31|   אופקים|          OFAQIM|                 3|                3|        2|   2,773|             -0.541|            375|              4|                 3|null|\n",
            "|               0|       31|   אופקים|          OFAQIM|                 3|                3|        1|   5,246|              -0.54|            376|              4|                 4|null|\n",
            "|               0|       31|   אופקים|          OFAQIM|                 3|                3|        7|  10,424|             -0.093|            611|              5|                 5|null|\n",
            "|               0|     2400|אור יהודה|       OR YEHUDA|                 5|                5|       11|     220|             -0.927|            265|              3|                 3|null|\n",
            "|               0|     2400|אור יהודה|       OR YEHUDA|                 5|                5|        5|   2,023|              -0.85|            287|              3|                 3|null|\n",
            "|               0|     2400|אור יהודה|       OR YEHUDA|                 5|                5|        8|   1,797|             -0.726|            322|              3|                 3|null|\n",
            "|               0|     2400|אור יהודה|       OR YEHUDA|                 5|                5|        7|   3,261|             -0.614|            357|              4|                 4|null|\n",
            "|               0|     2400|אור יהודה|       OR YEHUDA|                 5|                5|        3|   2,332|             -0.323|            471|              5|                 4|null|\n",
            "|               0|     2400|אור יהודה|       OR YEHUDA|                 5|                5|        4|   3,505|             -0.265|            507|              5|                 4|null|\n",
            "|               0|     2400|אור יהודה|       OR YEHUDA|                 5|                5|        2|   2,400|             -0.125|            590|              5|                 5|null|\n",
            "|               0|     2400|אור יהודה|       OR YEHUDA|                 5|                5|       12|   4,168|             -0.048|            642|              5|                 5|null|\n",
            "|               0|     2400|אור יהודה|       OR YEHUDA|                 5|                5|        1|   5,920|              0.287|            857|              6|                 6|null|\n",
            "|               0|     2400|אור יהודה|       OR YEHUDA|                 5|                5|       13|     462|              0.335|            900|              6|                 6|null|\n",
            "|               0|     2400|אור יהודה|       OR YEHUDA|                 5|                5|        9|   7,181|              0.677|           1069|              7|                 7|null|\n",
            "|               0|     2400|אור יהודה|       OR YEHUDA|                 5|                5|       10|   3,332|              0.954|           1206|              7|                 8|null|\n",
            "|               0|     1020|אור עקיבא|        OR AQIVA|                 5|                5|        2|   3,066|             -0.803|            305|              3|                 3|null|\n",
            "|               0|     1020|אור עקיבא|        OR AQIVA|                 5|                5|        3|   4,704|             -0.378|            439|              5|                 4|null|\n",
            "+----------------+---------+---------+----------------+------------------+-----------------+---------+--------+-------------------+---------------+---------------+------------------+----+\n",
            "only showing top 20 rows\n",
            "\n"
          ]
        }
      ]
    },
    {
      "cell_type": "code",
      "source": [
        "from pyspark.sql.functions import regexp_replace\n",
        "\n",
        "sub_socio_rank_pop = sub_socio_rank_pop.withColumn(\"pop_2019\", regexp_replace(\"pop_2019\", \",\", \"\"))\n",
        "\n",
        "sub_socio_rank_pop.show()\n"
      ],
      "metadata": {
        "id": "LahDgz4gAsdd",
        "colab": {
          "base_uri": "https://localhost:8080/"
        },
        "outputId": "411d73d5-a3ac-495b-83bf-20880e0b1c1d"
      },
      "execution_count": null,
      "outputs": [
        {
          "output_type": "stream",
          "name": "stdout",
          "text": [
            "+----------------+---------+---------+----------------+------------------+-----------------+---------+--------+-------------------+---------------+---------------+------------------+----+\n",
            "|MUNICIPAL STATUS|town_code|  שם ישוב|NAME OF LOCALITY| CLUSTER 2019[4] 4| CLUSTER 2017[4]5|agas_code|pop_2019|INDEX VALUE 2019[2]|socio_rank_2019|socio_rank_city| CLUSTER 2017[4]11|_c12|\n",
            "+----------------+---------+---------+----------------+------------------+-----------------+---------+--------+-------------------+---------------+---------------+------------------+----+\n",
            "|               0|       31|   אופקים|          OFAQIM|                 3|                3|        6|    6123|             -1.723|            106|              1|                 1|null|\n",
            "|               0|       31|   אופקים|          OFAQIM|                 3|                3|        3|    3045|             -0.964|            254|              3|                 3|null|\n",
            "|               0|       31|   אופקים|          OFAQIM|                 3|                3|        4|    3044|             -0.909|            271|              3|                 3|null|\n",
            "|               0|       31|   אופקים|          OFAQIM|                 3|                3|        2|    2773|             -0.541|            375|              4|                 3|null|\n",
            "|               0|       31|   אופקים|          OFAQIM|                 3|                3|        1|    5246|              -0.54|            376|              4|                 4|null|\n",
            "|               0|       31|   אופקים|          OFAQIM|                 3|                3|        7|   10424|             -0.093|            611|              5|                 5|null|\n",
            "|               0|     2400|אור יהודה|       OR YEHUDA|                 5|                5|       11|     220|             -0.927|            265|              3|                 3|null|\n",
            "|               0|     2400|אור יהודה|       OR YEHUDA|                 5|                5|        5|    2023|              -0.85|            287|              3|                 3|null|\n",
            "|               0|     2400|אור יהודה|       OR YEHUDA|                 5|                5|        8|    1797|             -0.726|            322|              3|                 3|null|\n",
            "|               0|     2400|אור יהודה|       OR YEHUDA|                 5|                5|        7|    3261|             -0.614|            357|              4|                 4|null|\n",
            "|               0|     2400|אור יהודה|       OR YEHUDA|                 5|                5|        3|    2332|             -0.323|            471|              5|                 4|null|\n",
            "|               0|     2400|אור יהודה|       OR YEHUDA|                 5|                5|        4|    3505|             -0.265|            507|              5|                 4|null|\n",
            "|               0|     2400|אור יהודה|       OR YEHUDA|                 5|                5|        2|    2400|             -0.125|            590|              5|                 5|null|\n",
            "|               0|     2400|אור יהודה|       OR YEHUDA|                 5|                5|       12|    4168|             -0.048|            642|              5|                 5|null|\n",
            "|               0|     2400|אור יהודה|       OR YEHUDA|                 5|                5|        1|    5920|              0.287|            857|              6|                 6|null|\n",
            "|               0|     2400|אור יהודה|       OR YEHUDA|                 5|                5|       13|     462|              0.335|            900|              6|                 6|null|\n",
            "|               0|     2400|אור יהודה|       OR YEHUDA|                 5|                5|        9|    7181|              0.677|           1069|              7|                 7|null|\n",
            "|               0|     2400|אור יהודה|       OR YEHUDA|                 5|                5|       10|    3332|              0.954|           1206|              7|                 8|null|\n",
            "|               0|     1020|אור עקיבא|        OR AQIVA|                 5|                5|        2|    3066|             -0.803|            305|              3|                 3|null|\n",
            "|               0|     1020|אור עקיבא|        OR AQIVA|                 5|                5|        3|    4704|             -0.378|            439|              5|                 4|null|\n",
            "+----------------+---------+---------+----------------+------------------+-----------------+---------+--------+-------------------+---------------+---------------+------------------+----+\n",
            "only showing top 20 rows\n",
            "\n"
          ]
        }
      ]
    },
    {
      "cell_type": "markdown",
      "source": [
        "# clean by_code 2021"
      ],
      "metadata": {
        "id": "nMcs7xE8WLRh"
      }
    },
    {
      "cell_type": "code",
      "source": [
        "temp=[1,11,17,19,26,27]\n",
        "\n",
        "\n",
        "# slice the column names from the DataFrame using the column indices\n",
        "selected_columns = [bycode2021.columns[i] for i in temp]\n",
        "print(selected_columns)"
      ],
      "metadata": {
        "id": "t0UnhrmQl1EQ",
        "colab": {
          "base_uri": "https://localhost:8080/"
        },
        "outputId": "305660e9-aa91-404b-9e28-ec2c7c18beb0"
      },
      "execution_count": null,
      "outputs": [
        {
          "output_type": "stream",
          "name": "stdout",
          "text": [
            "['סמל יישוב', 'דת יישוב', 'צורת יישוב שוטפת', 'קואורדינטות', 'long', 'lat']\n"
          ]
        }
      ]
    },
    {
      "cell_type": "code",
      "source": [
        "bycode2021.columns"
      ],
      "metadata": {
        "id": "TUFTCQdAlCi1",
        "colab": {
          "base_uri": "https://localhost:8080/"
        },
        "outputId": "079447cf-1584-4b29-e99f-dd76368ff4f4"
      },
      "execution_count": null,
      "outputs": [
        {
          "output_type": "execute_result",
          "data": {
            "text/plain": [
              "['שם יישוב',\n",
              " 'סמל יישוב',\n",
              " 'תעתיק',\n",
              " 'סמל מחוז',\n",
              " 'שם מחוז',\n",
              " 'סמל נפה',\n",
              " 'שם נפה',\n",
              " 'אזור טבעי',\n",
              " 'סמל מעמד מונציפאלי',\n",
              " 'שם מעמד מונציפאלי',\n",
              " 'שיוך מטרופוליני',\n",
              " 'דת יישוב',\n",
              " 'סך הכל אוכלוסייה 2021',\n",
              " 'יהודים ואחרים',\n",
              " 'מזה: יהודים',\n",
              " 'ערבים',\n",
              " 'שנת ייסוד',\n",
              " 'צורת יישוב שוטפת',\n",
              " 'השתייכות ארגונית',\n",
              " 'קואורדינטות',\n",
              " 'גובה ממוצע',\n",
              " 'ועדת תכנון',\n",
              " 'תחנת משטרה',\n",
              " 'שנה',\n",
              " 'שם יישוב באנגלית',\n",
              " 'אשכול רשויות מקומיות',\n",
              " 'long',\n",
              " 'lat']"
            ]
          },
          "metadata": {},
          "execution_count": 39
        }
      ]
    },
    {
      "cell_type": "code",
      "source": [
        "bycode2021 = bycode2021.withColumnRenamed('סמל יישוב', \"town_code\")\n",
        "bycode2021 = bycode2021.withColumnRenamed('דת יישוב', \"relgion_code\")\n",
        "bycode2021 = bycode2021.withColumnRenamed('צורת יישוב שוטפת', \"setelment_code\")\n",
        "bycode2021 = bycode2021.withColumnRenamed('קואורדינטות', 'geo_cordints')\n"
      ],
      "metadata": {
        "id": "37quF_xFkwzm"
      },
      "execution_count": null,
      "outputs": []
    },
    {
      "cell_type": "markdown",
      "source": [
        "# 4. Processing"
      ],
      "metadata": {
        "id": "I16YuzTpsB8U"
      }
    },
    {
      "cell_type": "code",
      "execution_count": null,
      "metadata": {
        "id": "pJGdCFF4jrpK"
      },
      "outputs": [],
      "source": [
        "df=sum_per_day"
      ]
    },
    {
      "cell_type": "code",
      "source": [
        "print(type(df))"
      ],
      "metadata": {
        "id": "XgtN2PxWGNxa",
        "colab": {
          "base_uri": "https://localhost:8080/"
        },
        "outputId": "5f300cd8-c423-48da-a96e-2987f3ca16ff"
      },
      "execution_count": null,
      "outputs": [
        {
          "output_type": "stream",
          "name": "stdout",
          "text": [
            "<class 'pyspark.sql.dataframe.DataFrame'>\n"
          ]
        }
      ]
    },
    {
      "cell_type": "code",
      "source": [
        "\n",
        "print(df.columns[4:19])"
      ],
      "metadata": {
        "id": "GCkiRaPwD9vV",
        "colab": {
          "base_uri": "https://localhost:8080/"
        },
        "outputId": "77c7201b-c144-4730-c118-4a8503887730"
      },
      "execution_count": null,
      "outputs": [
        {
          "output_type": "stream",
          "name": "stdout",
          "text": [
            "['accumulated_cases', 'new_cases_on_date', 'accumulated_recoveries', 'new_recoveries_on_date', 'accumulated_hospitalized', 'new_hospitalized_on_date', 'accumulated_deaths', 'new_deaths_on_date', 'accumulated_diagnostic_tests', 'new_diagnostic_tests_on_date', 'accumulated_vaccination_first_dose', 'new_vacc_first_dose_on_date', 'accumulated_vaccination_second_dose', 'new_vacc_second_dose_on_date', 'accumulated_vaccination_third_dose']\n"
          ]
        }
      ]
    },
    {
      "cell_type": "code",
      "source": [
        "df.show()"
      ],
      "metadata": {
        "id": "GDkcZEhVXPTx",
        "colab": {
          "base_uri": "https://localhost:8080/"
        },
        "outputId": "786364c4-303d-47ea-caa5-41e7630a08f2"
      },
      "execution_count": null,
      "outputs": [
        {
          "output_type": "stream",
          "name": "stdout",
          "text": [
            "+---------+---------+--------+-------------------+-----------------+-----------------+----------------------+----------------------+------------------------+------------------------+------------------+------------------+----------------------------+----------------------------+----------------------------------+---------------------------+-----------------------------------+----------------------------+----------------------------------+---------------------------+\n",
            "|town_code|agas_code|    town|               date|accumulated_cases|new_cases_on_date|accumulated_recoveries|new_recoveries_on_date|accumulated_hospitalized|new_hospitalized_on_date|accumulated_deaths|new_deaths_on_date|accumulated_diagnostic_tests|new_diagnostic_tests_on_date|accumulated_vaccination_first_dose|new_vacc_first_dose_on_date|accumulated_vaccination_second_dose|new_vacc_second_dose_on_date|accumulated_vaccination_third_dose|new_vacc_third_dose_on_date|\n",
            "+---------+---------+--------+-------------------+-----------------+-----------------+----------------------+----------------------+------------------------+------------------------+------------------+------------------+----------------------------+----------------------------+----------------------------------+---------------------------+-----------------------------------+----------------------------+----------------------------------+---------------------------+\n",
            "|       26|       NA|ראש פינה|2020-03-11 00:00:00|                0|                0|                     0|                     0|                       0|                       0|                 0|                 0|                           0|                           0|                               0.0|                      false|                                  0|                           0|                               0.0|                      false|\n",
            "|       26|       NA|ראש פינה|2020-03-12 00:00:00|                0|                0|                     0|                     0|                       0|                       0|                 0|                 0|                           0|                           0|                               0.0|                      false|                                  0|                           0|                               0.0|                      false|\n",
            "|       26|       NA|ראש פינה|2020-03-13 00:00:00|                0|                0|                     0|                     0|                       0|                       0|                 0|                 0|                           0|                           0|                               0.0|                      false|                                  0|                           0|                               0.0|                      false|\n",
            "|       26|       NA|ראש פינה|2020-03-14 00:00:00|                0|                0|                     0|                     0|                       0|                       0|                 0|                 0|                           0|                           0|                               0.0|                      false|                                  0|                           0|                               0.0|                      false|\n",
            "|       26|       NA|ראש פינה|2020-03-15 00:00:00|                0|                0|                     0|                     0|                       0|                       0|                 0|                 0|                           0|                           0|                               0.0|                      false|                                  0|                           0|                               0.0|                      false|\n",
            "|       26|       NA|ראש פינה|2020-03-16 00:00:00|                0|                0|                     0|                     0|                       0|                       0|                 0|                 0|                           0|                           0|                               0.0|                      false|                                  0|                           0|                               0.0|                      false|\n",
            "|       26|       NA|ראש פינה|2020-03-17 00:00:00|                0|                0|                     0|                     0|                       0|                       0|                 0|                 0|                           0|                           0|                               0.0|                      false|                                  0|                           0|                               0.0|                      false|\n",
            "|       26|       NA|ראש פינה|2020-03-18 00:00:00|                0|                0|                     0|                     0|                       0|                       0|                 0|                 0|                           0|                           0|                               0.0|                      false|                                  0|                           0|                               0.0|                      false|\n",
            "|       26|       NA|ראש פינה|2020-03-19 00:00:00|                0|                0|                     0|                     0|                       0|                       0|                 0|                 0|                           0|                           0|                               0.0|                      false|                                  0|                           0|                               0.0|                      false|\n",
            "|       26|       NA|ראש פינה|2020-03-20 00:00:00|                0|                0|                     0|                     0|                       0|                       0|                 0|                 0|                           0|                           0|                               0.0|                      false|                                  0|                           0|                               0.0|                      false|\n",
            "|       26|       NA|ראש פינה|2020-03-21 00:00:00|                0|                0|                     0|                     0|                       0|                       0|                 0|                 0|                           0|                           0|                               0.0|                      false|                                  0|                           0|                               0.0|                      false|\n",
            "|       26|       NA|ראש פינה|2020-03-22 00:00:00|                0|                0|                     0|                     0|                       0|                       0|                 0|                 0|                           0|                           0|                               0.0|                      false|                                  0|                           0|                               0.0|                      false|\n",
            "|       26|       NA|ראש פינה|2020-03-23 00:00:00|                0|                0|                     0|                     0|                       0|                       0|                 0|                 0|                           7|                           7|                               0.0|                      false|                                  0|                           0|                               0.0|                      false|\n",
            "|       26|       NA|ראש פינה|2020-03-24 00:00:00|                0|                0|                     0|                     0|                       0|                       0|                 0|                 0|                           7|                           0|                               0.0|                      false|                                  0|                           0|                               0.0|                      false|\n",
            "|       26|       NA|ראש פינה|2020-03-25 00:00:00|                0|                0|                     0|                     0|                       0|                       0|                 0|                 0|                           7|                           0|                               0.0|                      false|                                  0|                           0|                               0.0|                      false|\n",
            "|       26|       NA|ראש פינה|2020-03-26 00:00:00|                0|                0|                     0|                     0|                       0|                       0|                 0|                 0|                           7|                           0|                               0.0|                      false|                                  0|                           0|                               0.0|                      false|\n",
            "|       26|       NA|ראש פינה|2020-03-27 00:00:00|                0|                0|                     0|                     0|                       0|                       0|                 0|                 0|                           7|                           0|                               0.0|                      false|                                  0|                           0|                               0.0|                      false|\n",
            "|       26|       NA|ראש פינה|2020-03-28 00:00:00|                0|                0|                     0|                     0|                       0|                       0|                 0|                 0|                           7|                           0|                               0.0|                      false|                                  0|                           0|                               0.0|                      false|\n",
            "|       26|       NA|ראש פינה|2020-03-29 00:00:00|                0|                0|                     0|                     0|                       0|                       0|                 0|                 0|                          16|                           9|                               0.0|                      false|                                  0|                           0|                               0.0|                      false|\n",
            "|       26|       NA|ראש פינה|2020-03-30 00:00:00|                0|                0|                     0|                     0|                       0|                       0|                 0|                 0|                          17|                           1|                               0.0|                      false|                                  0|                           0|                               0.0|                      false|\n",
            "+---------+---------+--------+-------------------+-----------------+-----------------+----------------------+----------------------+------------------------+------------------------+------------------+------------------+----------------------------+----------------------------+----------------------------------+---------------------------+-----------------------------------+----------------------------+----------------------------------+---------------------------+\n",
            "only showing top 20 rows\n",
            "\n"
          ]
        }
      ]
    },
    {
      "cell_type": "code",
      "source": [
        "df.count()"
      ],
      "metadata": {
        "id": "5iPGSVIJYOgj",
        "colab": {
          "base_uri": "https://localhost:8080/"
        },
        "outputId": "11014b4c-ce5f-4c48-b2f2-03e2efbbb132"
      },
      "execution_count": null,
      "outputs": [
        {
          "output_type": "execute_result",
          "data": {
            "text/plain": [
              "1689768"
            ]
          },
          "metadata": {},
          "execution_count": 45
        }
      ]
    },
    {
      "cell_type": "code",
      "source": [
        "from pyspark.sql.functions import monotonically_increasing_id\n",
        "\n",
        "df = df.withColumn(\"row_number\", monotonically_increasing_id())\n"
      ],
      "metadata": {
        "id": "_KzTjibtZTg2"
      },
      "execution_count": null,
      "outputs": []
    },
    {
      "cell_type": "code",
      "source": [
        "df.show()"
      ],
      "metadata": {
        "id": "xIkONJBQMjFD",
        "colab": {
          "base_uri": "https://localhost:8080/"
        },
        "outputId": "623f546e-fefd-4b59-f390-0127f1a9b31d"
      },
      "execution_count": null,
      "outputs": [
        {
          "output_type": "stream",
          "name": "stdout",
          "text": [
            "+---------+---------+--------+-------------------+-----------------+-----------------+----------------------+----------------------+------------------------+------------------------+------------------+------------------+----------------------------+----------------------------+----------------------------------+---------------------------+-----------------------------------+----------------------------+----------------------------------+---------------------------+----------+\n",
            "|town_code|agas_code|    town|               date|accumulated_cases|new_cases_on_date|accumulated_recoveries|new_recoveries_on_date|accumulated_hospitalized|new_hospitalized_on_date|accumulated_deaths|new_deaths_on_date|accumulated_diagnostic_tests|new_diagnostic_tests_on_date|accumulated_vaccination_first_dose|new_vacc_first_dose_on_date|accumulated_vaccination_second_dose|new_vacc_second_dose_on_date|accumulated_vaccination_third_dose|new_vacc_third_dose_on_date|row_number|\n",
            "+---------+---------+--------+-------------------+-----------------+-----------------+----------------------+----------------------+------------------------+------------------------+------------------+------------------+----------------------------+----------------------------+----------------------------------+---------------------------+-----------------------------------+----------------------------+----------------------------------+---------------------------+----------+\n",
            "|       26|       NA|ראש פינה|2020-03-11 00:00:00|                0|                0|                     0|                     0|                       0|                       0|                 0|                 0|                           0|                           0|                               0.0|                      false|                                  0|                           0|                               0.0|                      false|         0|\n",
            "|       26|       NA|ראש פינה|2020-03-12 00:00:00|                0|                0|                     0|                     0|                       0|                       0|                 0|                 0|                           0|                           0|                               0.0|                      false|                                  0|                           0|                               0.0|                      false|         1|\n",
            "|       26|       NA|ראש פינה|2020-03-13 00:00:00|                0|                0|                     0|                     0|                       0|                       0|                 0|                 0|                           0|                           0|                               0.0|                      false|                                  0|                           0|                               0.0|                      false|         2|\n",
            "|       26|       NA|ראש פינה|2020-03-14 00:00:00|                0|                0|                     0|                     0|                       0|                       0|                 0|                 0|                           0|                           0|                               0.0|                      false|                                  0|                           0|                               0.0|                      false|         3|\n",
            "|       26|       NA|ראש פינה|2020-03-15 00:00:00|                0|                0|                     0|                     0|                       0|                       0|                 0|                 0|                           0|                           0|                               0.0|                      false|                                  0|                           0|                               0.0|                      false|         4|\n",
            "|       26|       NA|ראש פינה|2020-03-16 00:00:00|                0|                0|                     0|                     0|                       0|                       0|                 0|                 0|                           0|                           0|                               0.0|                      false|                                  0|                           0|                               0.0|                      false|         5|\n",
            "|       26|       NA|ראש פינה|2020-03-17 00:00:00|                0|                0|                     0|                     0|                       0|                       0|                 0|                 0|                           0|                           0|                               0.0|                      false|                                  0|                           0|                               0.0|                      false|         6|\n",
            "|       26|       NA|ראש פינה|2020-03-18 00:00:00|                0|                0|                     0|                     0|                       0|                       0|                 0|                 0|                           0|                           0|                               0.0|                      false|                                  0|                           0|                               0.0|                      false|         7|\n",
            "|       26|       NA|ראש פינה|2020-03-19 00:00:00|                0|                0|                     0|                     0|                       0|                       0|                 0|                 0|                           0|                           0|                               0.0|                      false|                                  0|                           0|                               0.0|                      false|         8|\n",
            "|       26|       NA|ראש פינה|2020-03-20 00:00:00|                0|                0|                     0|                     0|                       0|                       0|                 0|                 0|                           0|                           0|                               0.0|                      false|                                  0|                           0|                               0.0|                      false|         9|\n",
            "|       26|       NA|ראש פינה|2020-03-21 00:00:00|                0|                0|                     0|                     0|                       0|                       0|                 0|                 0|                           0|                           0|                               0.0|                      false|                                  0|                           0|                               0.0|                      false|        10|\n",
            "|       26|       NA|ראש פינה|2020-03-22 00:00:00|                0|                0|                     0|                     0|                       0|                       0|                 0|                 0|                           0|                           0|                               0.0|                      false|                                  0|                           0|                               0.0|                      false|        11|\n",
            "|       26|       NA|ראש פינה|2020-03-23 00:00:00|                0|                0|                     0|                     0|                       0|                       0|                 0|                 0|                           7|                           7|                               0.0|                      false|                                  0|                           0|                               0.0|                      false|        12|\n",
            "|       26|       NA|ראש פינה|2020-03-24 00:00:00|                0|                0|                     0|                     0|                       0|                       0|                 0|                 0|                           7|                           0|                               0.0|                      false|                                  0|                           0|                               0.0|                      false|        13|\n",
            "|       26|       NA|ראש פינה|2020-03-25 00:00:00|                0|                0|                     0|                     0|                       0|                       0|                 0|                 0|                           7|                           0|                               0.0|                      false|                                  0|                           0|                               0.0|                      false|        14|\n",
            "|       26|       NA|ראש פינה|2020-03-26 00:00:00|                0|                0|                     0|                     0|                       0|                       0|                 0|                 0|                           7|                           0|                               0.0|                      false|                                  0|                           0|                               0.0|                      false|        15|\n",
            "|       26|       NA|ראש פינה|2020-03-27 00:00:00|                0|                0|                     0|                     0|                       0|                       0|                 0|                 0|                           7|                           0|                               0.0|                      false|                                  0|                           0|                               0.0|                      false|        16|\n",
            "|       26|       NA|ראש פינה|2020-03-28 00:00:00|                0|                0|                     0|                     0|                       0|                       0|                 0|                 0|                           7|                           0|                               0.0|                      false|                                  0|                           0|                               0.0|                      false|        17|\n",
            "|       26|       NA|ראש פינה|2020-03-29 00:00:00|                0|                0|                     0|                     0|                       0|                       0|                 0|                 0|                          16|                           9|                               0.0|                      false|                                  0|                           0|                               0.0|                      false|        18|\n",
            "|       26|       NA|ראש פינה|2020-03-30 00:00:00|                0|                0|                     0|                     0|                       0|                       0|                 0|                 0|                          17|                           1|                               0.0|                      false|                                  0|                           0|                               0.0|                      false|        19|\n",
            "+---------+---------+--------+-------------------+-----------------+-----------------+----------------------+----------------------+------------------------+------------------------+------------------+------------------+----------------------------+----------------------------+----------------------------------+---------------------------+-----------------------------------+----------------------------+----------------------------------+---------------------------+----------+\n",
            "only showing top 20 rows\n",
            "\n"
          ]
        }
      ]
    },
    {
      "cell_type": "code",
      "source": [
        "print(df.count())"
      ],
      "metadata": {
        "id": "PJtP697k7T3N",
        "colab": {
          "base_uri": "https://localhost:8080/"
        },
        "outputId": "8dfe7210-998f-42d6-da81-61188d96713a"
      },
      "execution_count": null,
      "outputs": [
        {
          "output_type": "stream",
          "name": "stdout",
          "text": [
            "1689768\n"
          ]
        }
      ]
    },
    {
      "cell_type": "code",
      "source": [
        "from pyspark.sql.functions import max\n",
        "\n",
        "# find the max date = last date\n",
        "max_date = df.agg(max(\"date\")).collect()[0][0]\n",
        "print(max_date)"
      ],
      "metadata": {
        "id": "8-LhaV8gO1I2",
        "colab": {
          "base_uri": "https://localhost:8080/"
        },
        "outputId": "01961749-ca27-4716-9510-d01035951417"
      },
      "execution_count": null,
      "outputs": [
        {
          "output_type": "stream",
          "name": "stdout",
          "text": [
            "2022-12-25 00:00:00\n"
          ]
        }
      ]
    },
    {
      "cell_type": "code",
      "source": [
        "from pyspark.sql.functions import col, lit\n",
        "\n",
        "# filter the data to the last date - this will find the acumulated sick people in each town and area\n",
        "last_date_df = df.filter(col(\"date\") == lit(max_date))"
      ],
      "metadata": {
        "id": "O8-UcIttfg4X"
      },
      "execution_count": null,
      "outputs": []
    },
    {
      "cell_type": "code",
      "source": [
        "last_date_df.count()"
      ],
      "metadata": {
        "id": "U-i5eYEOfgyG",
        "colab": {
          "base_uri": "https://localhost:8080/"
        },
        "outputId": "fb2a16fc-c2d0-4fa4-828f-6c2c3c7979f1"
      },
      "execution_count": null,
      "outputs": [
        {
          "output_type": "execute_result",
          "data": {
            "text/plain": [
              "1659"
            ]
          },
          "metadata": {},
          "execution_count": 51
        }
      ]
    },
    {
      "cell_type": "code",
      "source": [
        "last_date_df.show()"
      ],
      "metadata": {
        "id": "4FZnig2qfgoZ",
        "colab": {
          "base_uri": "https://localhost:8080/"
        },
        "outputId": "003bbe37-5983-4447-e634-cb084cfd9ee3"
      },
      "execution_count": null,
      "outputs": [
        {
          "output_type": "stream",
          "name": "stdout",
          "text": [
            "+---------+---------+----------+-------------------+-----------------+-----------------+----------------------+----------------------+------------------------+------------------------+------------------+------------------+----------------------------+----------------------------+----------------------------------+---------------------------+-----------------------------------+----------------------------+----------------------------------+---------------------------+----------+\n",
            "|town_code|agas_code|      town|               date|accumulated_cases|new_cases_on_date|accumulated_recoveries|new_recoveries_on_date|accumulated_hospitalized|new_hospitalized_on_date|accumulated_deaths|new_deaths_on_date|accumulated_diagnostic_tests|new_diagnostic_tests_on_date|accumulated_vaccination_first_dose|new_vacc_first_dose_on_date|accumulated_vaccination_second_dose|new_vacc_second_dose_on_date|accumulated_vaccination_third_dose|new_vacc_third_dose_on_date|row_number|\n",
            "+---------+---------+----------+-------------------+-----------------+-----------------+----------------------+----------------------+------------------------+------------------------+------------------+------------------+----------------------------+----------------------------+----------------------------------+---------------------------+-----------------------------------+----------------------------+----------------------------------+---------------------------+----------+\n",
            "|       26|       NA|  ראש פינה|2022-12-25 00:00:00|             1632|                1|                  1626|                     0|                      18|                       0|                 7|                 0|                       19475|                           1|                            2370.0|                      false|                               2279|                           0|                            1793.0|                      false|      1019|\n",
            "|       28|       NA|מזכרת בתיה|2022-12-25 00:00:00|             9767|                2|                  9746|                     2|                      73|                       0|                 7|                 0|                      118537|                           9|                           13601.0|                      false|                              13013|                           0|                           10039.0|                      false|      2039|\n",
            "|       31|     0001|    אופקים|2022-12-25 00:00:00|             2514|                0|                  2496|                     1|                      30|                       0|                 7|                 0|                       29620|                           2|                            3281.0|                      false|                               3028|                           0|                            2246.0|                      false|      3059|\n",
            "|       31|     0002|    אופקים|2022-12-25 00:00:00|             1620|                1|                  1611|                     0|                      45|                       0|                 7|                 0|                       18358|                          15|                            2220.0|                      false|                               2068|                           0|                            1556.0|                      false|      4079|\n",
            "|       31|     0003|    אופקים|2022-12-25 00:00:00|             1178|                0|                  1172|                     0|                      23|                       0|                 7|                 0|                       13109|                           1|                            1570.0|                      false|                               1424|                           0|                            1028.0|                      false|      5099|\n",
            "|       31|     0004|    אופקים|2022-12-25 00:00:00|             1484|                0|                  1480|                     0|                       7|                       0|                 7|                 0|                       14147|                           0|                            1547.0|                      false|                               1297|                           0|                             885.0|                      false|      6119|\n",
            "|       31|     0006|    אופקים|2022-12-25 00:00:00|             2634|                1|                  2634|                     0|                      30|                       0|                 7|                 0|                       19746|                           4|                            2295.0|                      false|                               1816|                           0|                            1042.0|                      false|      7139|\n",
            "|       31|     0007|    אופקים|2022-12-25 00:00:00|             7940|                0|                  7924|                     1|                      65|                       0|                 7|                 0|                       79522|                           3|                            7654.0|                      false|                               6866|                           0|                            4800.0|                      false|      8159|\n",
            "|       31|       NA|    אופקים|2022-12-25 00:00:00|             2126|                1|                  2109|                     0|                      45|                       1|                 7|                 0|                       22910|                           2|                            2648.0|                      false|                               2332|                           0|                            1628.0|                      false|      9179|\n",
            "|       41|       NA|    אליכין|2022-12-25 00:00:00|             2013|                1|                  2003|                     0|                      23|                       0|                 7|                 0|                       21849|                           1|                            2506.0|                      false|                               2390|                           0|                            1809.0|                      false|     10199|\n",
            "|       46|       NA|     יבנאל|2022-12-25 00:00:00|             1520|                1|                  1511|                     0|                      35|                       0|                 7|                 0|                       15925|                           3|                            1796.0|                      false|                               1605|                           0|                            1094.0|                      false|     11219|\n",
            "|       47|       NA|  כפר תבור|2022-12-25 00:00:00|             2670|                2|                  2668|                     1|                      20|                       0|                 0|                 0|                       33225|                           5|                            3855.0|                      false|                               3669|                           0|                            2918.0|                      false|     12239|\n",
            "|       53|       NA|     עתלית|2022-12-25 00:00:00|             5394|                2|                  5374|                     0|                      64|                       0|                 7|                 0|                       58516|                           5|                            7173.0|                      false|                               6843|                           0|                            5213.0|                      false|     13259|\n",
            "|       70|     0122|     אשדוד|2022-12-25 00:00:00|             1371|                0|                  1358|                     0|                      31|                       0|                 7|                 0|                       22647|                           4|                            2378.0|                      false|                               2280|                           0|                            1862.0|                      false|     14279|\n",
            "|       70|     0123|     אשדוד|2022-12-25 00:00:00|             1986|                2|                  1962|                     1|                      78|                       0|                 7|                 0|                       28055|                          25|                            2887.0|                      false|                               2684|                           0|                            2032.0|                      false|     15299|\n",
            "|       70|     0125|     אשדוד|2022-12-25 00:00:00|             1013|                1|                   998|                     0|                      58|                       0|                 7|                 0|                       12587|                          17|                            1508.0|                      false|                               1414|                           0|                            1060.0|                      false|     16319|\n",
            "|       70|     0126|     אשדוד|2022-12-25 00:00:00|             1965|                0|                  1941|                     0|                      74|                       1|                18|                 0|                       31422|                          16|                            3064.0|                      false|                               2877|                           0|                            2201.0|                      false|     17339|\n",
            "|       70|     0131|     אשדוד|2022-12-25 00:00:00|              909|                1|                   895|                     1|                      23|                       0|                 7|                 0|                       12040|                           6|                            1395.0|                      false|                               1308|                           0|                             992.0|                      false|     18359|\n",
            "|       70|     0133|     אשדוד|2022-12-25 00:00:00|             1922|                0|                  1903|                     0|                      73|                       0|                 7|                 0|                       23546|                          33|                            2730.0|                      false|                               2528|                           0|                            1810.0|                      false|     19379|\n",
            "|       70|     0141|     אשדוד|2022-12-25 00:00:00|             1991|                0|                  1988|                     0|                      63|                       0|                 7|                 0|                       14461|                           2|                            2669.0|                      false|                               1971|                           0|                             881.0|                      false|     20399|\n",
            "+---------+---------+----------+-------------------+-----------------+-----------------+----------------------+----------------------+------------------------+------------------------+------------------+------------------+----------------------------+----------------------------+----------------------------------+---------------------------+-----------------------------------+----------------------------+----------------------------------+---------------------------+----------+\n",
            "only showing top 20 rows\n",
            "\n"
          ]
        }
      ]
    },
    {
      "cell_type": "code",
      "source": [
        "from pyspark.sql.functions import sum, col\n",
        "\n",
        "\n",
        "# create a filtered for \"Ofakim\" town and last date\n",
        "town_code_date_df = last_date_df.filter(col(\"town_code\") == \"31\")\n"
      ],
      "metadata": {
        "id": "ntzbFWivfgh-"
      },
      "execution_count": null,
      "outputs": []
    },
    {
      "cell_type": "code",
      "source": [
        "last_date_df.columns"
      ],
      "metadata": {
        "id": "FWFcJvg3DPpl",
        "colab": {
          "base_uri": "https://localhost:8080/"
        },
        "outputId": "1502d733-58a7-449e-b294-ca13e68d446f"
      },
      "execution_count": null,
      "outputs": [
        {
          "output_type": "execute_result",
          "data": {
            "text/plain": [
              "['town_code',\n",
              " 'agas_code',\n",
              " 'town',\n",
              " 'date',\n",
              " 'accumulated_cases',\n",
              " 'new_cases_on_date',\n",
              " 'accumulated_recoveries',\n",
              " 'new_recoveries_on_date',\n",
              " 'accumulated_hospitalized',\n",
              " 'new_hospitalized_on_date',\n",
              " 'accumulated_deaths',\n",
              " 'new_deaths_on_date',\n",
              " 'accumulated_diagnostic_tests',\n",
              " 'new_diagnostic_tests_on_date',\n",
              " 'accumulated_vaccination_first_dose',\n",
              " 'new_vacc_first_dose_on_date',\n",
              " 'accumulated_vaccination_second_dose',\n",
              " 'new_vacc_second_dose_on_date',\n",
              " 'accumulated_vaccination_third_dose',\n",
              " 'new_vacc_third_dose_on_date',\n",
              " 'row_number']"
            ]
          },
          "metadata": {},
          "execution_count": 54
        }
      ]
    },
    {
      "cell_type": "markdown",
      "source": [
        "#5. join data"
      ],
      "metadata": {
        "id": "WZSmxyEdrYBx"
      }
    },
    {
      "cell_type": "code",
      "source": [
        "# join last_date_df and sub_socio_rank_pop based on town_code and agas_code\n",
        "joined_df = last_date_df.join(sub_socio_rank_pop.select('town_code', 'agas_code', 'pop_2019', 'socio_rank_2019','socio_rank_city'), [\"town_code\", \"agas_code\"], \"left\")\n",
        "\n",
        "# select the desired columns\n",
        "#selected_df = joined_df.select(\"town_code\", \"agas_code\", \"pop_2019\", \"socio_rank_2019\")\n",
        "\n",
        "\n",
        "#new_df = joined_df.join(bycode2021.select(\"town_code\", \"some_col1\", \"some_col2\", \"some_col3\"), [\"town_code\"], \"left\")\n"
      ],
      "metadata": {
        "id": "iL3G2RLh9HPg"
      },
      "execution_count": null,
      "outputs": []
    },
    {
      "cell_type": "code",
      "source": [
        "joined_df.show()"
      ],
      "metadata": {
        "id": "3WQiNmWUTy9p",
        "colab": {
          "base_uri": "https://localhost:8080/"
        },
        "outputId": "29ddfe83-d8a1-4092-ff55-21efd53145a3"
      },
      "execution_count": null,
      "outputs": [
        {
          "output_type": "stream",
          "name": "stdout",
          "text": [
            "+---------+---------+----------+-------------------+-----------------+-----------------+----------------------+----------------------+------------------------+------------------------+------------------+------------------+----------------------------+----------------------------+----------------------------------+---------------------------+-----------------------------------+----------------------------+----------------------------------+---------------------------+----------+--------+---------------+---------------+\n",
            "|town_code|agas_code|      town|               date|accumulated_cases|new_cases_on_date|accumulated_recoveries|new_recoveries_on_date|accumulated_hospitalized|new_hospitalized_on_date|accumulated_deaths|new_deaths_on_date|accumulated_diagnostic_tests|new_diagnostic_tests_on_date|accumulated_vaccination_first_dose|new_vacc_first_dose_on_date|accumulated_vaccination_second_dose|new_vacc_second_dose_on_date|accumulated_vaccination_third_dose|new_vacc_third_dose_on_date|row_number|pop_2019|socio_rank_2019|socio_rank_city|\n",
            "+---------+---------+----------+-------------------+-----------------+-----------------+----------------------+----------------------+------------------------+------------------------+------------------+------------------+----------------------------+----------------------------+----------------------------------+---------------------------+-----------------------------------+----------------------------+----------------------------------+---------------------------+----------+--------+---------------+---------------+\n",
            "|       26|       NA|  ראש פינה|2022-12-25 00:00:00|             1632|                1|                  1626|                     0|                      18|                       0|                 7|                 0|                       19475|                           1|                            2370.0|                      false|                               2279|                           0|                            1793.0|                      false|      1019|    null|           null|           null|\n",
            "|       28|       NA|מזכרת בתיה|2022-12-25 00:00:00|             9767|                2|                  9746|                     2|                      73|                       0|                 7|                 0|                      118537|                           9|                           13601.0|                      false|                              13013|                           0|                           10039.0|                      false|      2039|    null|           null|           null|\n",
            "|       31|     0001|    אופקים|2022-12-25 00:00:00|             2514|                0|                  2496|                     1|                      30|                       0|                 7|                 0|                       29620|                           2|                            3281.0|                      false|                               3028|                           0|                            2246.0|                      false|      3059|    5246|            376|              4|\n",
            "|       31|     0002|    אופקים|2022-12-25 00:00:00|             1620|                1|                  1611|                     0|                      45|                       0|                 7|                 0|                       18358|                          15|                            2220.0|                      false|                               2068|                           0|                            1556.0|                      false|      4079|    2773|            375|              4|\n",
            "|       31|     0003|    אופקים|2022-12-25 00:00:00|             1178|                0|                  1172|                     0|                      23|                       0|                 7|                 0|                       13109|                           1|                            1570.0|                      false|                               1424|                           0|                            1028.0|                      false|      5099|    3045|            254|              3|\n",
            "|       31|     0004|    אופקים|2022-12-25 00:00:00|             1484|                0|                  1480|                     0|                       7|                       0|                 7|                 0|                       14147|                           0|                            1547.0|                      false|                               1297|                           0|                             885.0|                      false|      6119|    3044|            271|              3|\n",
            "|       31|     0006|    אופקים|2022-12-25 00:00:00|             2634|                1|                  2634|                     0|                      30|                       0|                 7|                 0|                       19746|                           4|                            2295.0|                      false|                               1816|                           0|                            1042.0|                      false|      7139|    6123|            106|              1|\n",
            "|       31|     0007|    אופקים|2022-12-25 00:00:00|             7940|                0|                  7924|                     1|                      65|                       0|                 7|                 0|                       79522|                           3|                            7654.0|                      false|                               6866|                           0|                            4800.0|                      false|      8159|   10424|            611|              5|\n",
            "|       31|       NA|    אופקים|2022-12-25 00:00:00|             2126|                1|                  2109|                     0|                      45|                       1|                 7|                 0|                       22910|                           2|                            2648.0|                      false|                               2332|                           0|                            1628.0|                      false|      9179|    null|           null|           null|\n",
            "|       41|       NA|    אליכין|2022-12-25 00:00:00|             2013|                1|                  2003|                     0|                      23|                       0|                 7|                 0|                       21849|                           1|                            2506.0|                      false|                               2390|                           0|                            1809.0|                      false|     10199|    null|           null|           null|\n",
            "|       46|       NA|     יבנאל|2022-12-25 00:00:00|             1520|                1|                  1511|                     0|                      35|                       0|                 7|                 0|                       15925|                           3|                            1796.0|                      false|                               1605|                           0|                            1094.0|                      false|     11219|    null|           null|           null|\n",
            "|       47|       NA|  כפר תבור|2022-12-25 00:00:00|             2670|                2|                  2668|                     1|                      20|                       0|                 0|                 0|                       33225|                           5|                            3855.0|                      false|                               3669|                           0|                            2918.0|                      false|     12239|    null|           null|           null|\n",
            "|       53|       NA|     עתלית|2022-12-25 00:00:00|             5394|                2|                  5374|                     0|                      64|                       0|                 7|                 0|                       58516|                           5|                            7173.0|                      false|                               6843|                           0|                            5213.0|                      false|     13259|    null|           null|           null|\n",
            "|       70|     0122|     אשדוד|2022-12-25 00:00:00|             1371|                0|                  1358|                     0|                      31|                       0|                 7|                 0|                       22647|                           4|                            2378.0|                      false|                               2280|                           0|                            1862.0|                      false|     14279|    2811|            367|              4|\n",
            "|       70|     0123|     אשדוד|2022-12-25 00:00:00|             1986|                2|                  1962|                     1|                      78|                       0|                 7|                 0|                       28055|                          25|                            2887.0|                      false|                               2684|                           0|                            2032.0|                      false|     15299|    3994|            429|              4|\n",
            "|       70|     0125|     אשדוד|2022-12-25 00:00:00|             1013|                1|                   998|                     0|                      58|                       0|                 7|                 0|                       12587|                          17|                            1508.0|                      false|                               1414|                           0|                            1060.0|                      false|     16319|    2272|            303|              3|\n",
            "|       70|     0126|     אשדוד|2022-12-25 00:00:00|             1965|                0|                  1941|                     0|                      74|                       1|                18|                 0|                       31422|                          16|                            3064.0|                      false|                               2877|                           0|                            2201.0|                      false|     17339|    3860|            304|              3|\n",
            "|       70|     0131|     אשדוד|2022-12-25 00:00:00|              909|                1|                   895|                     1|                      23|                       0|                 7|                 0|                       12040|                           6|                            1395.0|                      false|                               1308|                           0|                             992.0|                      false|     18359|    2089|            338|              3|\n",
            "|       70|     0133|     אשדוד|2022-12-25 00:00:00|             1922|                0|                  1903|                     0|                      73|                       0|                 7|                 0|                       23546|                          33|                            2730.0|                      false|                               2528|                           0|                            1810.0|                      false|     19379|    3994|            268|              3|\n",
            "|       70|     0141|     אשדוד|2022-12-25 00:00:00|             1991|                0|                  1988|                     0|                      63|                       0|                 7|                 0|                       14461|                           2|                            2669.0|                      false|                               1971|                           0|                             881.0|                      false|     20399|    5929|             63|              1|\n",
            "+---------+---------+----------+-------------------+-----------------+-----------------+----------------------+----------------------+------------------------+------------------------+------------------+------------------+----------------------------+----------------------------+----------------------------------+---------------------------+-----------------------------------+----------------------------+----------------------------------+---------------------------+----------+--------+---------------+---------------+\n",
            "only showing top 20 rows\n",
            "\n"
          ]
        }
      ]
    },
    {
      "cell_type": "code",
      "source": [
        "joined_df.columns"
      ],
      "metadata": {
        "id": "5Ra2INZuQR8V",
        "colab": {
          "base_uri": "https://localhost:8080/"
        },
        "outputId": "8094d3a0-6f96-4fff-9545-ced00ca60458"
      },
      "execution_count": null,
      "outputs": [
        {
          "output_type": "execute_result",
          "data": {
            "text/plain": [
              "['town_code',\n",
              " 'agas_code',\n",
              " 'town',\n",
              " 'date',\n",
              " 'accumulated_cases',\n",
              " 'new_cases_on_date',\n",
              " 'accumulated_recoveries',\n",
              " 'new_recoveries_on_date',\n",
              " 'accumulated_hospitalized',\n",
              " 'new_hospitalized_on_date',\n",
              " 'accumulated_deaths',\n",
              " 'new_deaths_on_date',\n",
              " 'accumulated_diagnostic_tests',\n",
              " 'new_diagnostic_tests_on_date',\n",
              " 'accumulated_vaccination_first_dose',\n",
              " 'new_vacc_first_dose_on_date',\n",
              " 'accumulated_vaccination_second_dose',\n",
              " 'new_vacc_second_dose_on_date',\n",
              " 'accumulated_vaccination_third_dose',\n",
              " 'new_vacc_third_dose_on_date',\n",
              " 'row_number',\n",
              " 'pop_2019',\n",
              " 'socio_rank_2019',\n",
              " 'socio_rank_city']"
            ]
          },
          "metadata": {},
          "execution_count": 57
        }
      ]
    },
    {
      "cell_type": "code",
      "source": [
        "#add ['relgion_code', 'setelment_code', 'geo_cordints'] from by code \n",
        "\n",
        "# join last_date_df and bycode data based on town_code and agas_code\n",
        "joined_df = joined_df.join(bycode2021.select('relgion_code', 'setelment_code', 'geo_cordints','town_code','lat','long'), [\"town_code\"], \"left\")\n",
        "\n"
      ],
      "metadata": {
        "id": "VTxj83G0o3l-"
      },
      "execution_count": null,
      "outputs": []
    },
    {
      "cell_type": "code",
      "source": [
        "joined_df.show()"
      ],
      "metadata": {
        "id": "Zaofr2h0o6iA",
        "colab": {
          "base_uri": "https://localhost:8080/"
        },
        "outputId": "c7c2008e-8aa0-4755-8138-90269f67e1a0"
      },
      "execution_count": null,
      "outputs": [
        {
          "output_type": "stream",
          "name": "stdout",
          "text": [
            "+---------+---------+----------+-------------------+-----------------+-----------------+----------------------+----------------------+------------------------+------------------------+------------------+------------------+----------------------------+----------------------------+----------------------------------+---------------------------+-----------------------------------+----------------------------+----------------------------------+---------------------------+----------+--------+---------------+---------------+------------+--------------+-------------+------------------+------------------+\n",
            "|town_code|agas_code|      town|               date|accumulated_cases|new_cases_on_date|accumulated_recoveries|new_recoveries_on_date|accumulated_hospitalized|new_hospitalized_on_date|accumulated_deaths|new_deaths_on_date|accumulated_diagnostic_tests|new_diagnostic_tests_on_date|accumulated_vaccination_first_dose|new_vacc_first_dose_on_date|accumulated_vaccination_second_dose|new_vacc_second_dose_on_date|accumulated_vaccination_third_dose|new_vacc_third_dose_on_date|row_number|pop_2019|socio_rank_2019|socio_rank_city|relgion_code|setelment_code| geo_cordints|               lat|              long|\n",
            "+---------+---------+----------+-------------------+-----------------+-----------------+----------------------+----------------------+------------------------+------------------------+------------------+------------------+----------------------------+----------------------------+----------------------------------+---------------------------+-----------------------------------+----------------------------+----------------------------------+---------------------------+----------+--------+---------------+---------------+------------+--------------+-------------+------------------+------------------+\n",
            "|       26|       NA|  ראש פינה|2022-12-25 00:00:00|             1632|                1|                  1626|                     0|                      18|                       0|                 7|                 0|                       19475|                           1|                            2370.0|                      false|                               2279|                           0|                            1793.0|                      false|      1019|    null|           null|           null|         1.0|           190|2.510676372E9| 32.96802585341738| 35.54249092283954|\n",
            "|       28|       NA|מזכרת בתיה|2022-12-25 00:00:00|             9767|                2|                  9746|                     2|                      73|                       0|                 7|                 0|                      118537|                           9|                           13601.0|                      false|                              13013|                           0|                           10039.0|                      false|      2039|    null|           null|           null|         1.0|           170|1.852963987E9|31.851152820833967| 34.84345355866428|\n",
            "|       31|     0001|    אופקים|2022-12-25 00:00:00|             2514|                0|                  2496|                     1|                      30|                       0|                 7|                 0|                       29620|                           2|                            3281.0|                      false|                               3028|                           0|                            2246.0|                      false|      3059|    5246|            376|              4|         1.0|           160|1.637757969E9|  31.3075881499684|34.619489412633754|\n",
            "|       31|     0002|    אופקים|2022-12-25 00:00:00|             1620|                1|                  1611|                     0|                      45|                       0|                 7|                 0|                       18358|                          15|                            2220.0|                      false|                               2068|                           0|                            1556.0|                      false|      4079|    2773|            375|              4|         1.0|           160|1.637757969E9|  31.3075881499684|34.619489412633754|\n",
            "|       31|     0003|    אופקים|2022-12-25 00:00:00|             1178|                0|                  1172|                     0|                      23|                       0|                 7|                 0|                       13109|                           1|                            1570.0|                      false|                               1424|                           0|                            1028.0|                      false|      5099|    3045|            254|              3|         1.0|           160|1.637757969E9|  31.3075881499684|34.619489412633754|\n",
            "|       31|     0004|    אופקים|2022-12-25 00:00:00|             1484|                0|                  1480|                     0|                       7|                       0|                 7|                 0|                       14147|                           0|                            1547.0|                      false|                               1297|                           0|                             885.0|                      false|      6119|    3044|            271|              3|         1.0|           160|1.637757969E9|  31.3075881499684|34.619489412633754|\n",
            "|       31|     0006|    אופקים|2022-12-25 00:00:00|             2634|                1|                  2634|                     0|                      30|                       0|                 7|                 0|                       19746|                           4|                            2295.0|                      false|                               1816|                           0|                            1042.0|                      false|      7139|    6123|            106|              1|         1.0|           160|1.637757969E9|  31.3075881499684|34.619489412633754|\n",
            "|       31|     0007|    אופקים|2022-12-25 00:00:00|             7940|                0|                  7924|                     1|                      65|                       0|                 7|                 0|                       79522|                           3|                            7654.0|                      false|                               6866|                           0|                            4800.0|                      false|      8159|   10424|            611|              5|         1.0|           160|1.637757969E9|  31.3075881499684|34.619489412633754|\n",
            "|       31|       NA|    אופקים|2022-12-25 00:00:00|             2126|                1|                  2109|                     0|                      45|                       1|                 7|                 0|                       22910|                           2|                            2648.0|                      false|                               2332|                           0|                            1628.0|                      false|      9179|    null|           null|           null|         1.0|           160|1.637757969E9|  31.3075881499684|34.619489412633754|\n",
            "|       41|       NA|    אליכין|2022-12-25 00:00:00|             2013|                1|                  2003|                     0|                      23|                       0|                 7|                 0|                       21849|                           1|                            2506.0|                      false|                               2390|                           0|                            1809.0|                      false|     10199|    null|           null|           null|         1.0|           190|1.931870156E9| 32.40767035368669| 34.92512545453536|\n",
            "|       46|       NA|     יבנאל|2022-12-25 00:00:00|             1520|                1|                  1511|                     0|                      35|                       0|                 7|                 0|                       15925|                           3|                            1796.0|                      false|                               1605|                           0|                            1094.0|                      false|     11219|    null|           null|           null|         1.0|           190|2.475073496E9| 32.70880078552632| 35.50354082375683|\n",
            "|       47|       NA|  כפר תבור|2022-12-25 00:00:00|             2670|                2|                  2668|                     1|                      20|                       0|                 0|                 0|                       33225|                           5|                            3855.0|                      false|                               3669|                           0|                            2918.0|                      false|     12239|    null|           null|           null|         1.0|           190| 2.39727325E9|32.686789348909876| 35.42051042988904|\n",
            "|       53|       NA|     עתלית|2022-12-25 00:00:00|             5394|                2|                  5374|                     0|                      64|                       0|                 7|                 0|                       58516|                           5|                            7173.0|                      false|                               6843|                           0|                            5213.0|                      false|     13259|    null|           null|           null|         1.0|           170|1.949373301E9| 32.69130163832147|34.942906744973534|\n",
            "|       70|     0122|     אשדוד|2022-12-25 00:00:00|             1371|                0|                  1358|                     0|                      31|                       0|                 7|                 0|                       22647|                           4|                            2378.0|                      false|                               2280|                           0|                            1862.0|                      false|     14279|    2811|            367|              4|         1.0|           130|1.669063377E9|31.795443786184897| 34.64948800814904|\n",
            "|       70|     0123|     אשדוד|2022-12-25 00:00:00|             1986|                2|                  1962|                     1|                      78|                       0|                 7|                 0|                       28055|                          25|                            2887.0|                      false|                               2684|                           0|                            2032.0|                      false|     15299|    3994|            429|              4|         1.0|           130|1.669063377E9|31.795443786184897| 34.64948800814904|\n",
            "|       70|     0125|     אשדוד|2022-12-25 00:00:00|             1013|                1|                   998|                     0|                      58|                       0|                 7|                 0|                       12587|                          17|                            1508.0|                      false|                               1414|                           0|                            1060.0|                      false|     16319|    2272|            303|              3|         1.0|           130|1.669063377E9|31.795443786184897| 34.64948800814904|\n",
            "|       70|     0126|     אשדוד|2022-12-25 00:00:00|             1965|                0|                  1941|                     0|                      74|                       1|                18|                 0|                       31422|                          16|                            3064.0|                      false|                               2877|                           0|                            2201.0|                      false|     17339|    3860|            304|              3|         1.0|           130|1.669063377E9|31.795443786184897| 34.64948800814904|\n",
            "|       70|     0131|     אשדוד|2022-12-25 00:00:00|              909|                1|                   895|                     1|                      23|                       0|                 7|                 0|                       12040|                           6|                            1395.0|                      false|                               1308|                           0|                             992.0|                      false|     18359|    2089|            338|              3|         1.0|           130|1.669063377E9|31.795443786184897| 34.64948800814904|\n",
            "|       70|     0133|     אשדוד|2022-12-25 00:00:00|             1922|                0|                  1903|                     0|                      73|                       0|                 7|                 0|                       23546|                          33|                            2730.0|                      false|                               2528|                           0|                            1810.0|                      false|     19379|    3994|            268|              3|         1.0|           130|1.669063377E9|31.795443786184897| 34.64948800814904|\n",
            "|       70|     0141|     אשדוד|2022-12-25 00:00:00|             1991|                0|                  1988|                     0|                      63|                       0|                 7|                 0|                       14461|                           2|                            2669.0|                      false|                               1971|                           0|                             881.0|                      false|     20399|    5929|             63|              1|         1.0|           130|1.669063377E9|31.795443786184897| 34.64948800814904|\n",
            "+---------+---------+----------+-------------------+-----------------+-----------------+----------------------+----------------------+------------------------+------------------------+------------------+------------------+----------------------------+----------------------------+----------------------------------+---------------------------+-----------------------------------+----------------------------+----------------------------------+---------------------------+----------+--------+---------------+---------------+------------+--------------+-------------+------------------+------------------+\n",
            "only showing top 20 rows\n",
            "\n"
          ]
        }
      ]
    },
    {
      "cell_type": "code",
      "source": [
        "# filter out the rows with null values in the \"pop_2019\" and \"socio_rank_2019\" columns\n",
        "filtered_df2 = joined_df.na.drop(subset=[ \"socio_rank_2019\"])\n",
        "filtered_df3 = filtered_df2.na.drop(subset=[ \"pop_2019\"])\n",
        "\n",
        "# show the resulting DataFrame\n",
        "#filtered_df2.show()"
      ],
      "metadata": {
        "id": "RlCru_ptvctj"
      },
      "execution_count": null,
      "outputs": []
    },
    {
      "cell_type": "code",
      "source": [
        "filtered_df3.count()"
      ],
      "metadata": {
        "id": "Rsu50eiC8PEn",
        "colab": {
          "base_uri": "https://localhost:8080/"
        },
        "outputId": "318ea6d9-aff0-445c-a555-6797fb6a8f53"
      },
      "execution_count": null,
      "outputs": [
        {
          "output_type": "execute_result",
          "data": {
            "text/plain": [
              "1397"
            ]
          },
          "metadata": {},
          "execution_count": 61
        }
      ]
    },
    {
      "cell_type": "code",
      "source": [
        "from pyspark.sql.functions import sum\n",
        "\n",
        "# sum the \"pop_2019\" column\n",
        "pop_sum = filtered_df3.agg(sum(\"pop_2019\")).collect()[0][0]\n",
        "\n",
        "# print the result\n",
        "print(pop_sum)"
      ],
      "metadata": {
        "id": "WUJPIBJas5sM",
        "colab": {
          "base_uri": "https://localhost:8080/"
        },
        "outputId": "912af23b-a88e-4f93-ce3b-1cf55565b943"
      },
      "execution_count": null,
      "outputs": [
        {
          "output_type": "stream",
          "name": "stdout",
          "text": [
            "6294051.0\n"
          ]
        }
      ]
    },
    {
      "cell_type": "markdown",
      "source": [
        "# 6. Extract conclusions from data\n"
      ],
      "metadata": {
        "id": "gjudIqu7u_o4"
      }
    },
    {
      "cell_type": "markdown",
      "source": [
        "# correlation between infected percentage and scocioeconomic sub rank\n",
        "\n",
        "\n"
      ],
      "metadata": {
        "id": "v4nnnceSgfh1"
      }
    },
    {
      "cell_type": "code",
      "source": [
        "# create a new column \"per_acc\" that contains the percentage of accumulated cases per population\n",
        "filtered_df3 = filtered_df3.withColumn(\"per_acc\", filtered_df3[\"accumulated_cases\"] / filtered_df3[\"pop_2019\"])\n",
        "\n",
        "# show the resulting DataFrame\n",
        "filtered_df3.show()"
      ],
      "metadata": {
        "id": "d9EBrFAkdimN",
        "colab": {
          "base_uri": "https://localhost:8080/"
        },
        "outputId": "9cd31478-d75e-43f3-eeca-60d3cb9e9f49"
      },
      "execution_count": null,
      "outputs": [
        {
          "output_type": "stream",
          "name": "stdout",
          "text": [
            "+---------+---------+------+-------------------+-----------------+-----------------+----------------------+----------------------+------------------------+------------------------+------------------+------------------+----------------------------+----------------------------+----------------------------------+---------------------------+-----------------------------------+----------------------------+----------------------------------+---------------------------+----------+--------+---------------+---------------+------------+--------------+-------------+------------------+------------------+-------------------+\n",
            "|town_code|agas_code|  town|               date|accumulated_cases|new_cases_on_date|accumulated_recoveries|new_recoveries_on_date|accumulated_hospitalized|new_hospitalized_on_date|accumulated_deaths|new_deaths_on_date|accumulated_diagnostic_tests|new_diagnostic_tests_on_date|accumulated_vaccination_first_dose|new_vacc_first_dose_on_date|accumulated_vaccination_second_dose|new_vacc_second_dose_on_date|accumulated_vaccination_third_dose|new_vacc_third_dose_on_date|row_number|pop_2019|socio_rank_2019|socio_rank_city|relgion_code|setelment_code| geo_cordints|               lat|              long|            per_acc|\n",
            "+---------+---------+------+-------------------+-----------------+-----------------+----------------------+----------------------+------------------------+------------------------+------------------+------------------+----------------------------+----------------------------+----------------------------------+---------------------------+-----------------------------------+----------------------------+----------------------------------+---------------------------+----------+--------+---------------+---------------+------------+--------------+-------------+------------------+------------------+-------------------+\n",
            "|       31|     0001|אופקים|2022-12-25 00:00:00|             2514|                0|                  2496|                     1|                      30|                       0|                 7|                 0|                       29620|                           2|                            3281.0|                      false|                               3028|                           0|                            2246.0|                      false|      3059|    5246|            376|              4|         1.0|           160|1.637757969E9|  31.3075881499684|34.619489412633754| 0.4792222645825391|\n",
            "|       31|     0002|אופקים|2022-12-25 00:00:00|             1620|                1|                  1611|                     0|                      45|                       0|                 7|                 0|                       18358|                          15|                            2220.0|                      false|                               2068|                           0|                            1556.0|                      false|      4079|    2773|            375|              4|         1.0|           160|1.637757969E9|  31.3075881499684|34.619489412633754| 0.5842048323115759|\n",
            "|       31|     0003|אופקים|2022-12-25 00:00:00|             1178|                0|                  1172|                     0|                      23|                       0|                 7|                 0|                       13109|                           1|                            1570.0|                      false|                               1424|                           0|                            1028.0|                      false|      5099|    3045|            254|              3|         1.0|           160|1.637757969E9|  31.3075881499684|34.619489412633754|  0.386863711001642|\n",
            "|       31|     0004|אופקים|2022-12-25 00:00:00|             1484|                0|                  1480|                     0|                       7|                       0|                 7|                 0|                       14147|                           0|                            1547.0|                      false|                               1297|                           0|                             885.0|                      false|      6119|    3044|            271|              3|         1.0|           160|1.637757969E9|  31.3075881499684|34.619489412633754|0.48751642575558474|\n",
            "|       31|     0006|אופקים|2022-12-25 00:00:00|             2634|                1|                  2634|                     0|                      30|                       0|                 7|                 0|                       19746|                           4|                            2295.0|                      false|                               1816|                           0|                            1042.0|                      false|      7139|    6123|            106|              1|         1.0|           160|1.637757969E9|  31.3075881499684|34.619489412633754| 0.4301812836844684|\n",
            "|       31|     0007|אופקים|2022-12-25 00:00:00|             7940|                0|                  7924|                     1|                      65|                       0|                 7|                 0|                       79522|                           3|                            7654.0|                      false|                               6866|                           0|                            4800.0|                      false|      8159|   10424|            611|              5|         1.0|           160|1.637757969E9|  31.3075881499684|34.619489412633754| 0.7617037605525709|\n",
            "|       70|     0122| אשדוד|2022-12-25 00:00:00|             1371|                0|                  1358|                     0|                      31|                       0|                 7|                 0|                       22647|                           4|                            2378.0|                      false|                               2280|                           0|                            1862.0|                      false|     14279|    2811|            367|              4|         1.0|           130|1.669063377E9|31.795443786184897| 34.64948800814904|0.48772678762006405|\n",
            "|       70|     0123| אשדוד|2022-12-25 00:00:00|             1986|                2|                  1962|                     1|                      78|                       0|                 7|                 0|                       28055|                          25|                            2887.0|                      false|                               2684|                           0|                            2032.0|                      false|     15299|    3994|            429|              4|         1.0|           130|1.669063377E9|31.795443786184897| 34.64948800814904| 0.4972458688032048|\n",
            "|       70|     0125| אשדוד|2022-12-25 00:00:00|             1013|                1|                   998|                     0|                      58|                       0|                 7|                 0|                       12587|                          17|                            1508.0|                      false|                               1414|                           0|                            1060.0|                      false|     16319|    2272|            303|              3|         1.0|           130|1.669063377E9|31.795443786184897| 34.64948800814904|  0.445862676056338|\n",
            "|       70|     0126| אשדוד|2022-12-25 00:00:00|             1965|                0|                  1941|                     0|                      74|                       1|                18|                 0|                       31422|                          16|                            3064.0|                      false|                               2877|                           0|                            2201.0|                      false|     17339|    3860|            304|              3|         1.0|           130|1.669063377E9|31.795443786184897| 34.64948800814904| 0.5090673575129534|\n",
            "|       70|     0131| אשדוד|2022-12-25 00:00:00|              909|                1|                   895|                     1|                      23|                       0|                 7|                 0|                       12040|                           6|                            1395.0|                      false|                               1308|                           0|                             992.0|                      false|     18359|    2089|            338|              3|         1.0|           130|1.669063377E9|31.795443786184897| 34.64948800814904| 0.4351364289133557|\n",
            "|       70|     0133| אשדוד|2022-12-25 00:00:00|             1922|                0|                  1903|                     0|                      73|                       0|                 7|                 0|                       23546|                          33|                            2730.0|                      false|                               2528|                           0|                            1810.0|                      false|     19379|    3994|            268|              3|         1.0|           130|1.669063377E9|31.795443786184897| 34.64948800814904|0.48122183274912367|\n",
            "|       70|     0141| אשדוד|2022-12-25 00:00:00|             1991|                0|                  1988|                     0|                      63|                       0|                 7|                 0|                       14461|                           2|                            2669.0|                      false|                               1971|                           0|                             881.0|                      false|     20399|    5929|             63|              1|         1.0|           130|1.669063377E9|31.795443786184897| 34.64948800814904| 0.3358070500927644|\n",
            "|       70|     0142| אשדוד|2022-12-25 00:00:00|             1596|                0|                  1589|                     0|                      38|                       0|                 7|                 0|                       14658|                           6|                            1846.0|                      false|                               1580|                           0|                            1005.0|                      false|     21419|    3365|            139|              2|         1.0|           130|1.669063377E9|31.795443786184897| 34.64948800814904| 0.4742942050520059|\n",
            "|       70|     0143| אשדוד|2022-12-25 00:00:00|             2632|                1|                  2620|                     1|                      63|                       0|                 7|                 0|                       20890|                           8|                            2380.0|                      false|                               1937|                           0|                            1238.0|                      false|     22439|    4718|            156|              2|         1.0|           130|1.669063377E9|31.795443786184897| 34.64948800814904| 0.5578635014836796|\n",
            "|       70|     0144| אשדוד|2022-12-25 00:00:00|             3137|                3|                  3109|                     1|                     119|                       0|                16|                 0|                       31573|                          23|                            3383.0|                      false|                               2755|                           0|                            1788.0|                      false|     23459|    7155|            112|              1|         1.0|           130|1.669063377E9|31.795443786184897| 34.64948800814904| 0.4384346610761705|\n",
            "|       70|     0211| אשדוד|2022-12-25 00:00:00|             5109|                2|                  5101|                     0|                      91|                       0|                 7|                 0|                       37060|                           9|                            6682.0|                      false|                               4733|                           0|                            2228.0|                      false|     24479|    7577|             98|              1|         1.0|           130|1.669063377E9|31.795443786184897| 34.64948800814904| 0.6742774185033654|\n",
            "|       70|     0212| אשדוד|2022-12-25 00:00:00|             3108|                0|                  3107|                     0|                      53|                       0|                 7|                 0|                       22013|                           0|                            4269.0|                      false|                               2975|                           0|                            1486.0|                      false|     25499|    7356|            114|              1|         1.0|           130|1.669063377E9|31.795443786184897| 34.64948800814904|0.42251223491027734|\n",
            "|       70|     0221| אשדוד|2022-12-25 00:00:00|             1718|                0|                  1705|                     0|                      44|                       0|                 7|                 0|                       15718|                           6|                            2005.0|                      false|                               1708|                           0|                            1113.0|                      false|     26519|    3356|            174|              2|         1.0|           130|1.669063377E9|31.795443786184897| 34.64948800814904| 0.5119189511323003|\n",
            "|       70|     0222| אשדוד|2022-12-25 00:00:00|             1811|                1|                  1803|                     0|                      58|                       0|                 7|                 0|                       17762|                          14|                            2201.0|                      false|                               1942|                           0|                            1275.0|                      false|     27539|    4002|            217|              2|         1.0|           130|1.669063377E9|31.795443786184897| 34.64948800814904|0.45252373813093455|\n",
            "+---------+---------+------+-------------------+-----------------+-----------------+----------------------+----------------------+------------------------+------------------------+------------------+------------------+----------------------------+----------------------------+----------------------------------+---------------------------+-----------------------------------+----------------------------+----------------------------------+---------------------------+----------+--------+---------------+---------------+------------+--------------+-------------+------------------+------------------+-------------------+\n",
            "only showing top 20 rows\n",
            "\n"
          ]
        }
      ]
    },
    {
      "cell_type": "code",
      "source": [
        "\n",
        "import matplotlib.pyplot as plt\n",
        "import pyspark.sql.functions as F\n",
        "\n",
        "# Select the relevant columns\n",
        "selected_df = filtered_df3.select(\"per_acc\", \"socio_rank_2019\")\n",
        "\n",
        "# Convert the DataFrame to a Pandas DataFrame\n",
        "pandas_df = selected_df.toPandas()\n",
        "\n",
        "# Create a scatter plot using Matplotlib\n",
        "plt.scatter(pandas_df[\"socio_rank_2019\"], pandas_df[\"per_acc\"])\n",
        "\n",
        "# Set the axis labels\n",
        "plt.xlabel(\"Socioeconomic sub rank \")\n",
        "plt.ylabel(\"Percentage sick \")\n",
        "\n",
        "# Show the plot\n",
        "plt.show()"
      ],
      "metadata": {
        "id": "0zchuVG5gF4y",
        "colab": {
          "base_uri": "https://localhost:8080/",
          "height": 279
        },
        "outputId": "dafad5af-4614-4326-98a2-43b3f19fdd83"
      },
      "execution_count": null,
      "outputs": [
        {
          "output_type": "display_data",
          "data": {
            "text/plain": [
              "<Figure size 432x288 with 1 Axes>"
            ],
            "image/png": "[encoded data removed]"
          },
          "metadata": {
            "needs_background": "light"
          }
        }
      ]
    },
    {
      "cell_type": "code",
      "source": [
        "# Save the DataFrame to a CSV file\n",
        "#filtered_df3.write.mode(\"overwrite\").option(\"header\", \"true\").csv(\"/content/drive/MyDrive/runi/BDP project/corona final project/filtered_df3.csv\")"
      ],
      "metadata": {
        "id": "WuYF6HorsVhw"
      },
      "execution_count": null,
      "outputs": []
    },
    {
      "cell_type": "code",
      "source": [
        "from pyspark.sql.functions import col, corr, lit\n",
        "from scipy.stats import t\n",
        "\n",
        "# Select the relevant columns\n",
        "selected_df = filtered_df3.select(col(\"per_acc\"), col(\"socio_rank_2019\"))\n",
        "\n",
        "# Calculate the correlation between the columns\n",
        "correlation = selected_df.corr(\"per_acc\", \"socio_rank_2019\")\n",
        "\n",
        "# Calculate the degrees of freedom\n",
        "n = selected_df.count()\n",
        "deg_f = n - 2\n",
        "\n",
        "# Calculate the t-statistic\n",
        "t_statistic = correlation * ((n - 2) ** 0.5) / ((1 - correlation ** 2) ** 0.5)\n",
        "\n",
        "# Calculate the p-value\n",
        "#p_value = t.sf(abs(float(t_statistic)), deg_f) * 2\n",
        "p_value = t.sf(abs(t_statistic), deg_f) * 2\n",
        "# Print the results\n",
        "if p_value < 0.05:\n",
        "    print(\"The correlation is statistically significant. p_value=\", p_value,\"correlation = \",correlation)\n",
        "else:\n",
        "    print(\"The correlation is not statistically significant.\")"
      ],
      "metadata": {
        "id": "E4CRqAd9vbpg",
        "colab": {
          "base_uri": "https://localhost:8080/"
        },
        "outputId": "051854c4-f840-455f-fddf-dc795e81db20"
      },
      "execution_count": null,
      "outputs": [
        {
          "output_type": "stream",
          "name": "stdout",
          "text": [
            "The correlation is statistically significant. p_value= 5.4850865997459056e-42 correlation =  0.3518834224502849\n"
          ]
        }
      ]
    },
    {
      "cell_type": "code",
      "source": [
        "t_statistic"
      ],
      "metadata": {
        "id": "9QyucAgUPAYq",
        "colab": {
          "base_uri": "https://localhost:8080/"
        },
        "outputId": "56cfbf5e-7640-4fa7-d424-22cdf453adb2"
      },
      "execution_count": null,
      "outputs": [
        {
          "output_type": "execute_result",
          "data": {
            "text/plain": [
              "14.040731190099136"
            ]
          },
          "metadata": {},
          "execution_count": 67
        }
      ]
    },
    {
      "cell_type": "markdown",
      "source": [
        "#correlation between infected percentage and scocioeconomic city rank"
      ],
      "metadata": {
        "id": "WaBzIXScs_HR"
      }
    },
    {
      "cell_type": "code",
      "source": [
        "\n",
        "import matplotlib.pyplot as plt\n",
        "import pyspark.sql.functions as F\n",
        "\n",
        "# Select the relevant columns\n",
        "selected_df = filtered_df3.select(\"per_acc\", \"socio_rank_city\")\n",
        "\n",
        "# Convert the DataFrame to a Pandas DataFrame\n",
        "pandas_df = selected_df.toPandas()\n",
        "\n",
        "# Create a scatter plot using Matplotlib\n",
        "plt.scatter(pandas_df[\"socio_rank_city\"], pandas_df[\"per_acc\"])\n",
        "\n",
        "# Set the axis labels\n",
        "plt.xlabel(\"Socioeconomic rank city \")\n",
        "plt.ylabel(\"Percentage sick \")\n",
        "\n",
        "# Show the plot\n",
        "plt.show()"
      ],
      "metadata": {
        "id": "U4tQPC4LqxDk",
        "colab": {
          "base_uri": "https://localhost:8080/",
          "height": 279
        },
        "outputId": "d7aa690b-0d65-4bca-acbf-490fc8c46573"
      },
      "execution_count": null,
      "outputs": [
        {
          "output_type": "display_data",
          "data": {
            "text/plain": [
              "<Figure size 432x288 with 1 Axes>"
            ],
            "image/png": "[encoded data removed]"
          },
          "metadata": {
            "needs_background": "light"
          }
        }
      ]
    },
    {
      "cell_type": "code",
      "source": [
        "from pyspark.sql.functions import col, corr, lit\n",
        "from scipy.stats import t\n",
        "\n",
        "# Select the relevant columns\n",
        "selected_df = filtered_df3.select(col(\"per_acc\"), col(\"socio_rank_city\"))\n",
        "\n",
        "# Calculate the correlation between the columns\n",
        "correlation = selected_df.corr(\"per_acc\", \"socio_rank_city\")\n",
        "\n",
        "# Calculate the degrees of freedom\n",
        "n = selected_df.count()\n",
        "deg_f = n - 2\n",
        "\n",
        "# Calculate the t-statistic\n",
        "t_statistic = correlation * ((n - 2) ** 0.5) / ((1 - correlation ** 2) ** 0.5)\n",
        "\n",
        "# Calculate the p-value\n",
        "#p_value = t.sf(abs(float(t_statistic)), deg_f) * 2\n",
        "p_value = t.sf(abs(t_statistic), deg_f) * 2\n",
        "# Print the results\n",
        "if p_value < 0.05:\n",
        "    print(\"The correlation is statistically significant. p_value=\", p_value,\"correlation = \",correlation)\n",
        "else:\n",
        "    print(\"The correlation is not statistically significant.\")"
      ],
      "metadata": {
        "id": "YjVbmb-fsveL",
        "colab": {
          "base_uri": "https://localhost:8080/"
        },
        "outputId": "68e6cc66-d98b-4fdd-92d1-27d325e258bf"
      },
      "execution_count": null,
      "outputs": [
        {
          "output_type": "stream",
          "name": "stdout",
          "text": [
            "The correlation is statistically significant. p_value= 5.922717127049541e-47 correlation =  0.37148927737699866\n"
          ]
        }
      ]
    },
    {
      "cell_type": "markdown",
      "source": [
        "# First vaccination correlation between infected percentage and socioeconomic status"
      ],
      "metadata": {
        "id": "9eGETjQs23PN"
      }
    },
    {
      "cell_type": "code",
      "source": [
        " #create a new column \"vac1_per\" that contains the percentage of accumulated_vaccination_first_dose in population\n",
        "filtered_df3 = filtered_df3.withColumn(\"vac1_per\", filtered_df3[\"accumulated_vaccination_first_dose\"] / filtered_df3[\"pop_2019\"])\n"
      ],
      "metadata": {
        "id": "AKnNWxrn3M7m"
      },
      "execution_count": null,
      "outputs": []
    },
    {
      "cell_type": "code",
      "source": [
        "\n",
        "import matplotlib.pyplot as plt\n",
        "import pyspark.sql.functions as F\n",
        "\n",
        "# Select the relevant columns\n",
        "selected_df = filtered_df3.select(\"vac1_per\", \"socio_rank_2019\")\n",
        "\n",
        "# Convert the DataFrame to a Pandas DataFrame\n",
        "pandas_df = selected_df.toPandas()\n",
        "\n",
        "# Create a scatter plot using Matplotlib\n",
        "plt.scatter(pandas_df[\"socio_rank_2019\"], pandas_df[\"vac1_per\"])\n",
        "\n",
        "# Set the axis labels\n",
        "plt.xlabel(\"Socioeconomic sub rank\")\n",
        "plt.ylabel(\"Percentage first vacination \")\n",
        "\n",
        "# Show the plot\n",
        "plt.show()"
      ],
      "metadata": {
        "id": "lcs0_ddN220J",
        "colab": {
          "base_uri": "https://localhost:8080/",
          "height": 279
        },
        "outputId": "4a3804c7-8127-46ef-cd92-56017ed85f93"
      },
      "execution_count": null,
      "outputs": [
        {
          "output_type": "display_data",
          "data": {
            "text/plain": [
              "<Figure size 432x288 with 1 Axes>"
            ],
            "image/png": "[encoded data removed]"
          },
          "metadata": {
            "needs_background": "light"
          }
        }
      ]
    },
    {
      "cell_type": "code",
      "source": [
        "from pyspark.sql.functions import col, corr, lit\n",
        "from scipy.stats import t\n",
        "\n",
        "# Select the relevant columns\n",
        "selected_df = filtered_df3.select(col(\"vac1_per\"), col(\"socio_rank_2019\"))\n",
        "\n",
        "# Calculate the correlation between the columns\n",
        "correlation = selected_df.corr(\"vac1_per\", \"socio_rank_2019\")\n",
        "\n",
        "# Calculate the degrees of freedom\n",
        "n = selected_df.count()\n",
        "deg_f = n - 2\n",
        "\n",
        "# Calculate the t-statistic\n",
        "t_statistic = correlation * ((n - 2) ** 0.5) / ((1 - correlation ** 2) ** 0.5)\n",
        "\n",
        "# Calculate the p-value\n",
        "#p_value = t.sf(abs(float(t_statistic)), deg_f) * 2\n",
        "p_value = t.sf(abs(t_statistic), deg_f) * 2\n",
        "# Print the results\n",
        "if p_value < 0.05:\n",
        "    print(\"The correlation is statistically significant. p_value=\", p_value,\"correlation = \",correlation)\n",
        "else:\n",
        "    print(\"The correlation is not statistically significant.\")"
      ],
      "metadata": {
        "id": "eCmUpjXV22gP",
        "colab": {
          "base_uri": "https://localhost:8080/"
        },
        "outputId": "0dd93184-1466-4e53-f279-5fdec121b160"
      },
      "execution_count": null,
      "outputs": [
        {
          "output_type": "stream",
          "name": "stdout",
          "text": [
            "The correlation is statistically significant. p_value= 1.2086844731084487e-148 correlation =  0.6191641146298156\n"
          ]
        }
      ]
    },
    {
      "cell_type": "code",
      "source": [
        "# This one is the same but for 10 city clusters\n",
        "import matplotlib.pyplot as plt\n",
        "import pyspark.sql.functions as F\n",
        "\n",
        "# Select the relevant columns\n",
        "selected_df = filtered_df3.select(\"vac1_per\", \"socio_rank_city\")\n",
        "\n",
        "# Convert the DataFrame to a Pandas DataFrame\n",
        "pandas_df = selected_df.toPandas()\n",
        "\n",
        "# Create a scatter plot using Matplotlib\n",
        "plt.scatter(pandas_df[\"socio_rank_city\"], pandas_df[\"vac1_per\"])\n",
        "\n",
        "# Set the axis labels\n",
        "plt.xlabel(\"Socioeconomic rank city \")\n",
        "plt.ylabel(\"Percentage first vacination\")\n",
        "\n",
        "# Show the plot\n",
        "plt.show()"
      ],
      "metadata": {
        "id": "UmxPEyXx298f",
        "colab": {
          "base_uri": "https://localhost:8080/",
          "height": 279
        },
        "outputId": "b97563b4-30b9-4d63-cff9-3c64e731f4e5"
      },
      "execution_count": null,
      "outputs": [
        {
          "output_type": "display_data",
          "data": {
            "text/plain": [
              "<Figure size 432x288 with 1 Axes>"
            ],
            "image/png": "[encoded data removed]"
          },
          "metadata": {
            "needs_background": "light"
          }
        }
      ]
    },
    {
      "cell_type": "code",
      "source": [
        "from pyspark.sql.functions import col, corr, lit\n",
        "from scipy.stats import t\n",
        "\n",
        "# Select the relevant columns\n",
        "selected_df = filtered_df3.select(col(\"vac1_per\"), col(\"socio_rank_city\"))\n",
        "\n",
        "# Calculate the correlation between the columns\n",
        "correlation = selected_df.corr(\"vac1_per\", \"socio_rank_city\")\n",
        "\n",
        "# Calculate the degrees of freedom\n",
        "n = selected_df.count()\n",
        "deg_f = n - 2\n",
        "\n",
        "# Calculate the t-statistic\n",
        "t_statistic = correlation * ((n - 2) ** 0.5) / ((1 - correlation ** 2) ** 0.5)\n",
        "\n",
        "# Calculate the p-value\n",
        "#p_value = t.sf(abs(float(t_statistic)), deg_f) * 2\n",
        "p_value = t.sf(abs(t_statistic), deg_f) * 2\n",
        "# Print the results\n",
        "if p_value < 0.05:\n",
        "    print(\"The correlation is statistically significant. p_value=\", p_value,\"correlation = \",correlation)\n",
        "else:\n",
        "    print(\"The correlation is not statistically significant.\")"
      ],
      "metadata": {
        "id": "i72DR5Gy2-bC",
        "colab": {
          "base_uri": "https://localhost:8080/"
        },
        "outputId": "d12f7ba8-5239-4f9a-8e29-087c80d60a3c"
      },
      "execution_count": null,
      "outputs": [
        {
          "output_type": "stream",
          "name": "stdout",
          "text": [
            "The correlation is statistically significant. p_value= 6.166946656493405e-160 correlation =  0.6371057070957207\n"
          ]
        }
      ]
    },
    {
      "cell_type": "markdown",
      "source": [
        "# Second vaccination correlation between infected percentage and socioeconomic status"
      ],
      "metadata": {
        "id": "UQODcnaS5VwG"
      }
    },
    {
      "cell_type": "code",
      "source": [
        "filtered_df3.show()"
      ],
      "metadata": {
        "id": "Dum2o9tVyYAX",
        "colab": {
          "base_uri": "https://localhost:8080/"
        },
        "outputId": "b005e76c-0128-4961-8cab-f7d82d9cba88"
      },
      "execution_count": null,
      "outputs": [
        {
          "output_type": "stream",
          "name": "stdout",
          "text": [
            "+---------+---------+------+-------------------+-----------------+-----------------+----------------------+----------------------+------------------------+------------------------+------------------+------------------+----------------------------+----------------------------+----------------------------------+---------------------------+-----------------------------------+----------------------------+----------------------------------+---------------------------+----------+--------+---------------+---------------+------------+--------------+-------------+------------------+------------------+-------------------+-------------------+\n",
            "|town_code|agas_code|  town|               date|accumulated_cases|new_cases_on_date|accumulated_recoveries|new_recoveries_on_date|accumulated_hospitalized|new_hospitalized_on_date|accumulated_deaths|new_deaths_on_date|accumulated_diagnostic_tests|new_diagnostic_tests_on_date|accumulated_vaccination_first_dose|new_vacc_first_dose_on_date|accumulated_vaccination_second_dose|new_vacc_second_dose_on_date|accumulated_vaccination_third_dose|new_vacc_third_dose_on_date|row_number|pop_2019|socio_rank_2019|socio_rank_city|relgion_code|setelment_code| geo_cordints|               lat|              long|            per_acc|           vac1_per|\n",
            "+---------+---------+------+-------------------+-----------------+-----------------+----------------------+----------------------+------------------------+------------------------+------------------+------------------+----------------------------+----------------------------+----------------------------------+---------------------------+-----------------------------------+----------------------------+----------------------------------+---------------------------+----------+--------+---------------+---------------+------------+--------------+-------------+------------------+------------------+-------------------+-------------------+\n",
            "|       31|     0001|אופקים|2022-12-25 00:00:00|             2514|                0|                  2496|                     1|                      30|                       0|                 7|                 0|                       29620|                           2|                            3281.0|                      false|                               3028|                           0|                            2246.0|                      false|      3059|    5246|            376|              4|         1.0|           160|1.637757969E9|  31.3075881499684|34.619489412633754| 0.4792222645825391| 0.6254288982081586|\n",
            "|       31|     0002|אופקים|2022-12-25 00:00:00|             1620|                1|                  1611|                     0|                      45|                       0|                 7|                 0|                       18358|                          15|                            2220.0|                      false|                               2068|                           0|                            1556.0|                      false|      4079|    2773|            375|              4|         1.0|           160|1.637757969E9|  31.3075881499684|34.619489412633754| 0.5842048323115759| 0.8005769924269744|\n",
            "|       31|     0003|אופקים|2022-12-25 00:00:00|             1178|                0|                  1172|                     0|                      23|                       0|                 7|                 0|                       13109|                           1|                            1570.0|                      false|                               1424|                           0|                            1028.0|                      false|      5099|    3045|            254|              3|         1.0|           160|1.637757969E9|  31.3075881499684|34.619489412633754|  0.386863711001642| 0.5155993431855501|\n",
            "|       31|     0004|אופקים|2022-12-25 00:00:00|             1484|                0|                  1480|                     0|                       7|                       0|                 7|                 0|                       14147|                           0|                            1547.0|                      false|                               1297|                           0|                             885.0|                      false|      6119|    3044|            271|              3|         1.0|           160|1.637757969E9|  31.3075881499684|34.619489412633754|0.48751642575558474| 0.5082128777923784|\n",
            "|       31|     0006|אופקים|2022-12-25 00:00:00|             2634|                1|                  2634|                     0|                      30|                       0|                 7|                 0|                       19746|                           4|                            2295.0|                      false|                               1816|                           0|                            1042.0|                      false|      7139|    6123|            106|              1|         1.0|           160|1.637757969E9|  31.3075881499684|34.619489412633754| 0.4301812836844684|0.37481626653601174|\n",
            "|       31|     0007|אופקים|2022-12-25 00:00:00|             7940|                0|                  7924|                     1|                      65|                       0|                 7|                 0|                       79522|                           3|                            7654.0|                      false|                               6866|                           0|                            4800.0|                      false|      8159|   10424|            611|              5|         1.0|           160|1.637757969E9|  31.3075881499684|34.619489412633754| 0.7617037605525709| 0.7342670759785112|\n",
            "|       70|     0122| אשדוד|2022-12-25 00:00:00|             1371|                0|                  1358|                     0|                      31|                       0|                 7|                 0|                       22647|                           4|                            2378.0|                      false|                               2280|                           0|                            1862.0|                      false|     14279|    2811|            367|              4|         1.0|           130|1.669063377E9|31.795443786184897| 34.64948800814904|0.48772678762006405| 0.8459622909996443|\n",
            "|       70|     0123| אשדוד|2022-12-25 00:00:00|             1986|                2|                  1962|                     1|                      78|                       0|                 7|                 0|                       28055|                          25|                            2887.0|                      false|                               2684|                           0|                            2032.0|                      false|     15299|    3994|            429|              4|         1.0|           130|1.669063377E9|31.795443786184897| 34.64948800814904| 0.4972458688032048| 0.7228342513770656|\n",
            "|       70|     0125| אשדוד|2022-12-25 00:00:00|             1013|                1|                   998|                     0|                      58|                       0|                 7|                 0|                       12587|                          17|                            1508.0|                      false|                               1414|                           0|                            1060.0|                      false|     16319|    2272|            303|              3|         1.0|           130|1.669063377E9|31.795443786184897| 34.64948800814904|  0.445862676056338| 0.6637323943661971|\n",
            "|       70|     0126| אשדוד|2022-12-25 00:00:00|             1965|                0|                  1941|                     0|                      74|                       1|                18|                 0|                       31422|                          16|                            3064.0|                      false|                               2877|                           0|                            2201.0|                      false|     17339|    3860|            304|              3|         1.0|           130|1.669063377E9|31.795443786184897| 34.64948800814904| 0.5090673575129534| 0.7937823834196891|\n",
            "|       70|     0131| אשדוד|2022-12-25 00:00:00|              909|                1|                   895|                     1|                      23|                       0|                 7|                 0|                       12040|                           6|                            1395.0|                      false|                               1308|                           0|                             992.0|                      false|     18359|    2089|            338|              3|         1.0|           130|1.669063377E9|31.795443786184897| 34.64948800814904| 0.4351364289133557| 0.6677836285303973|\n",
            "|       70|     0133| אשדוד|2022-12-25 00:00:00|             1922|                0|                  1903|                     0|                      73|                       0|                 7|                 0|                       23546|                          33|                            2730.0|                      false|                               2528|                           0|                            1810.0|                      false|     19379|    3994|            268|              3|         1.0|           130|1.669063377E9|31.795443786184897| 34.64948800814904|0.48122183274912367| 0.6835252879318978|\n",
            "|       70|     0141| אשדוד|2022-12-25 00:00:00|             1991|                0|                  1988|                     0|                      63|                       0|                 7|                 0|                       14461|                           2|                            2669.0|                      false|                               1971|                           0|                             881.0|                      false|     20399|    5929|             63|              1|         1.0|           130|1.669063377E9|31.795443786184897| 34.64948800814904| 0.3358070500927644| 0.4501602293810086|\n",
            "|       70|     0142| אשדוד|2022-12-25 00:00:00|             1596|                0|                  1589|                     0|                      38|                       0|                 7|                 0|                       14658|                           6|                            1846.0|                      false|                               1580|                           0|                            1005.0|                      false|     21419|    3365|            139|              2|         1.0|           130|1.669063377E9|31.795443786184897| 34.64948800814904| 0.4742942050520059| 0.5485884101040119|\n",
            "|       70|     0143| אשדוד|2022-12-25 00:00:00|             2632|                1|                  2620|                     1|                      63|                       0|                 7|                 0|                       20890|                           8|                            2380.0|                      false|                               1937|                           0|                            1238.0|                      false|     22439|    4718|            156|              2|         1.0|           130|1.669063377E9|31.795443786184897| 34.64948800814904| 0.5578635014836796| 0.5044510385756676|\n",
            "|       70|     0144| אשדוד|2022-12-25 00:00:00|             3137|                3|                  3109|                     1|                     119|                       0|                16|                 0|                       31573|                          23|                            3383.0|                      false|                               2755|                           0|                            1788.0|                      false|     23459|    7155|            112|              1|         1.0|           130|1.669063377E9|31.795443786184897| 34.64948800814904| 0.4384346610761705|0.47281621243885397|\n",
            "|       70|     0211| אשדוד|2022-12-25 00:00:00|             5109|                2|                  5101|                     0|                      91|                       0|                 7|                 0|                       37060|                           9|                            6682.0|                      false|                               4733|                           0|                            2228.0|                      false|     24479|    7577|             98|              1|         1.0|           130|1.669063377E9|31.795443786184897| 34.64948800814904| 0.6742774185033654| 0.8818793717830276|\n",
            "|       70|     0212| אשדוד|2022-12-25 00:00:00|             3108|                0|                  3107|                     0|                      53|                       0|                 7|                 0|                       22013|                           0|                            4269.0|                      false|                               2975|                           0|                            1486.0|                      false|     25499|    7356|            114|              1|         1.0|           130|1.669063377E9|31.795443786184897| 34.64948800814904|0.42251223491027734| 0.5803425774877651|\n",
            "|       70|     0221| אשדוד|2022-12-25 00:00:00|             1718|                0|                  1705|                     0|                      44|                       0|                 7|                 0|                       15718|                           6|                            2005.0|                      false|                               1708|                           0|                            1113.0|                      false|     26519|    3356|            174|              2|         1.0|           130|1.669063377E9|31.795443786184897| 34.64948800814904| 0.5119189511323003| 0.5974374255065554|\n",
            "|       70|     0222| אשדוד|2022-12-25 00:00:00|             1811|                1|                  1803|                     0|                      58|                       0|                 7|                 0|                       17762|                          14|                            2201.0|                      false|                               1942|                           0|                            1275.0|                      false|     27539|    4002|            217|              2|         1.0|           130|1.669063377E9|31.795443786184897| 34.64948800814904|0.45252373813093455| 0.5499750124937531|\n",
            "+---------+---------+------+-------------------+-----------------+-----------------+----------------------+----------------------+------------------------+------------------------+------------------+------------------+----------------------------+----------------------------+----------------------------------+---------------------------+-----------------------------------+----------------------------+----------------------------------+---------------------------+----------+--------+---------------+---------------+------------+--------------+-------------+------------------+------------------+-------------------+-------------------+\n",
            "only showing top 20 rows\n",
            "\n"
          ]
        }
      ]
    },
    {
      "cell_type": "code",
      "source": [
        " #create a new column \"vac2_per\" that contains the percentage of accumulated_vaccination_second_dose in population\n",
        "filtered_df3 = filtered_df3.withColumn(\"vac2_per\", filtered_df3[\"accumulated_vaccination_second_dose\"] / filtered_df3[\"pop_2019\"])\n"
      ],
      "metadata": {
        "id": "LtoC4WFgzDv_"
      },
      "execution_count": null,
      "outputs": []
    },
    {
      "cell_type": "code",
      "source": [
        "# Select the relevant columns\n",
        "selected_df = filtered_df3.select(\"vac2_per\", \"socio_rank_2019\")\n",
        "\n",
        "# Convert the DataFrame to a Pandas DataFrame\n",
        "pandas_df = selected_df.toPandas()\n",
        "\n",
        "# Create a scatter plot using Matplotlib\n",
        "plt.scatter(pandas_df[\"socio_rank_2019\"], pandas_df[\"vac2_per\"])\n",
        "\n",
        "# Set the axis labels\n",
        "plt.xlabel(\"Socioeconomic sub rank \")\n",
        "plt.ylabel(\"Percentage 2nd vacination \")\n",
        "\n",
        "# Show the plot\n",
        "plt.show()"
      ],
      "metadata": {
        "id": "C38YB1Z3mQBX",
        "colab": {
          "base_uri": "https://localhost:8080/",
          "height": 283
        },
        "outputId": "36f4130a-d10b-4d67-f28d-29c8b669e65c"
      },
      "execution_count": null,
      "outputs": [
        {
          "output_type": "display_data",
          "data": {
            "text/plain": [
              "<Figure size 432x288 with 1 Axes>"
            ],
            "image/png": "[encoded data removed]"
          },
          "metadata": {
            "needs_background": "light"
          }
        }
      ]
    },
    {
      "cell_type": "code",
      "source": [
        "from pyspark.sql.functions import col\n",
        "from pyspark.sql.functions import corr\n",
        "from scipy.stats import t\n",
        "\n",
        "# Select the relevant columns\n",
        "selected_df = filtered_df3.select(col(\"vac2_per\"), col(\"socio_rank_2019\"))\n",
        "\n",
        "# Calculate the correlation between the columns\n",
        "correlation = selected_df.corr(\"vac2_per\", \"socio_rank_2019\")\n",
        "\n",
        "# Calculate the degrees of freedom\n",
        "n = selected_df.count()\n",
        "deg_f = n - 2\n",
        "\n",
        "# Calculate the t-statistic\n",
        "t_statistic = correlation * ((n - 2) ** 0.5) / ((1 - correlation ** 2) ** 0.5)\n",
        "\n",
        "# Calculate the p-value\n",
        "p_value = t.sf(abs(t_statistic), deg_f) * 2\n",
        "\n",
        "# Print the results\n",
        "if p_value < 0.05:\n",
        "    print(\"The correlation is statistically significant. p_value=\", p_value,\"correlation = \",correlation)\n",
        "else:\n",
        "    print(\"The correlation is not statistically significant.\")\n"
      ],
      "metadata": {
        "id": "csfjvzcDnY1M",
        "colab": {
          "base_uri": "https://localhost:8080/"
        },
        "outputId": "c33bb476-83b0-4d16-a9c5-937e7e29ac48"
      },
      "execution_count": null,
      "outputs": [
        {
          "output_type": "stream",
          "name": "stdout",
          "text": [
            "The correlation is statistically significant. p_value= 2.0009523188069275e-196 correlation =  0.6879438277596097\n"
          ]
        }
      ]
    },
    {
      "cell_type": "code",
      "source": [
        "# And for city clusters rank:\n",
        "\n",
        "# Select the relevant columns\n",
        "selected_df = filtered_df3.select(\"vac2_per\", \"socio_rank_city\")\n",
        "\n",
        "# Convert the DataFrame to a Pandas DataFrame\n",
        "pandas_df = selected_df.toPandas()\n",
        "\n",
        "# Create a scatter plot using Matplotlib\n",
        "plt.scatter(pandas_df[\"socio_rank_city\"], pandas_df[\"vac2_per\"])\n",
        "\n",
        "# Set the axis labels\n",
        "plt.xlabel(\"Socioeconomic city rank\")\n",
        "plt.ylabel(\"Percentage 2nd vacination \")\n",
        "\n",
        "# Show the plot\n",
        "plt.show()"
      ],
      "metadata": {
        "id": "6od9yG9luKvb",
        "colab": {
          "base_uri": "https://localhost:8080/",
          "height": 283
        },
        "outputId": "76ae00a9-3f92-49d2-e163-2f537fea1912"
      },
      "execution_count": null,
      "outputs": [
        {
          "output_type": "display_data",
          "data": {
            "text/plain": [
              "<Figure size 432x288 with 1 Axes>"
            ],
            "image/png": "[encoded data removed]"
          },
          "metadata": {
            "needs_background": "light"
          }
        }
      ]
    },
    {
      "cell_type": "code",
      "source": [
        "from pyspark.sql.functions import col\n",
        "from pyspark.sql.functions import corr\n",
        "from scipy.stats import t\n",
        "\n",
        "# Select the relevant columns\n",
        "selected_df = filtered_df3.select(col(\"vac2_per\"), col(\"socio_rank_city\"))\n",
        "\n",
        "# Calculate the correlation between the columns\n",
        "correlation = selected_df.corr(\"vac2_per\", \"socio_rank_city\")\n",
        "\n",
        "# Calculate the degrees of freedom\n",
        "n = selected_df.count()\n",
        "deg_f = n - 2\n",
        "\n",
        "# Calculate the t-statistic\n",
        "t_statistic = correlation * ((n - 2) ** 0.5) / ((1 - correlation ** 2) ** 0.5)\n",
        "\n",
        "# Calculate the p-value\n",
        "p_value = t.sf(abs(t_statistic), deg_f) * 2\n",
        "\n",
        "# Print the results\n",
        "if p_value < 0.05:\n",
        "    print(\"The correlation is statistically significant. p_value=\", p_value,\"correlation = \",correlation)\n",
        "else:\n",
        "    print(\"The correlation is not statistically significant.\")\n"
      ],
      "metadata": {
        "id": "xXjZ-oEGuKgV",
        "colab": {
          "base_uri": "https://localhost:8080/"
        },
        "outputId": "b1567a7a-57b8-4218-f29b-5d5a9e507289"
      },
      "execution_count": null,
      "outputs": [
        {
          "output_type": "stream",
          "name": "stdout",
          "text": [
            "The correlation is statistically significant. p_value= 6.337198800275112e-215 correlation =  0.7102458393996005\n"
          ]
        }
      ]
    },
    {
      "cell_type": "markdown",
      "source": [
        "# Third vaccination correlation between infected percentage and socioeconomic status"
      ],
      "metadata": {
        "id": "XSvfUxbstfni"
      }
    },
    {
      "cell_type": "code",
      "source": [
        " #create a new column \"vac3_per\" that contains the percentage of accumulated_vaccination_third_dose in population\n",
        "filtered_df3 = filtered_df3.withColumn(\"vac3_per\", filtered_df3[\"accumulated_vaccination_third_dose\"] / filtered_df3[\"pop_2019\"])\n"
      ],
      "metadata": {
        "id": "HOs1KY244E2y"
      },
      "execution_count": null,
      "outputs": []
    },
    {
      "cell_type": "code",
      "source": [
        "# Select the relevant columns\n",
        "selected_df = filtered_df3.select(\"vac3_per\", \"socio_rank_2019\")\n",
        "\n",
        "# Convert the DataFrame to a Pandas DataFrame\n",
        "pandas_df = selected_df.toPandas()\n",
        "\n",
        "# Create a scatter plot using Matplotlib\n",
        "plt.scatter(pandas_df[\"socio_rank_2019\"], pandas_df[\"vac3_per\"])\n",
        "\n",
        "# Set the axis labels\n",
        "plt.xlabel(\"Socioeconomic rank \")\n",
        "plt.ylabel(\"Percentage 3nd vacination \")\n",
        "\n",
        "# Show the plot\n",
        "plt.show()"
      ],
      "metadata": {
        "id": "3y0zXjJJnL69",
        "colab": {
          "base_uri": "https://localhost:8080/",
          "height": 279
        },
        "outputId": "bbc64c51-b1dd-4662-fd3c-026c7528ab3d"
      },
      "execution_count": null,
      "outputs": [
        {
          "output_type": "display_data",
          "data": {
            "text/plain": [
              "<Figure size 432x288 with 1 Axes>"
            ],
            "image/png": "[encoded data removed]"
          },
          "metadata": {
            "needs_background": "light"
          }
        }
      ]
    },
    {
      "cell_type": "code",
      "source": [
        "from pyspark.sql.functions import col\n",
        "from pyspark.sql.functions import corr\n",
        "from scipy.stats import t\n",
        "\n",
        "# Select the relevant columns\n",
        "selected_df = filtered_df3.select(col(\"vac3_per\"), col(\"socio_rank_2019\"))\n",
        "\n",
        "# Calculate the correlation between the columns\n",
        "correlation = selected_df.corr(\"vac3_per\", \"socio_rank_2019\")\n",
        "\n",
        "# Calculate the degrees of freedom\n",
        "n = selected_df.count()\n",
        "deg_f = n - 2\n",
        "\n",
        "# Calculate the t-statistic\n",
        "t_statistic = correlation * ((n - 2) ** 0.5) / ((1 - correlation ** 2) ** 0.5)\n",
        "\n",
        "# Calculate the p-value\n",
        "p_value = t.sf(abs(t_statistic), deg_f) * 2\n",
        "\n",
        "# Print the results\n",
        "if p_value < 0.05:\n",
        "    print(\"The correlation is statistically significant. p_value=\", p_value,\"correlation = \",correlation)\n",
        "else:\n",
        "    print(\"The correlation is not statistically significant.\")\n"
      ],
      "metadata": {
        "id": "9fBtmJU6n9bL",
        "colab": {
          "base_uri": "https://localhost:8080/"
        },
        "outputId": "1bc37429-1349-4e21-9b58-14807d593cf3"
      },
      "execution_count": null,
      "outputs": [
        {
          "output_type": "stream",
          "name": "stdout",
          "text": [
            "The correlation is statistically significant. p_value= 2.0044573882075565e-272 correlation =  0.768166239238191\n"
          ]
        }
      ]
    },
    {
      "cell_type": "code",
      "source": [
        "# And for city clusters rank:\n",
        "\n",
        "# Select the relevant columns\n",
        "selected_df = filtered_df3.select(\"vac3_per\", \"socio_rank_city\")\n",
        "\n",
        "# Convert the DataFrame to a Pandas DataFrame\n",
        "pandas_df = selected_df.toPandas()\n",
        "\n",
        "# Create a scatter plot using Matplotlib\n",
        "plt.scatter(pandas_df[\"socio_rank_city\"], pandas_df[\"vac3_per\"])\n",
        "\n",
        "# Set the axis labels\n",
        "plt.xlabel(\"Socioeconomic rank \")\n",
        "plt.ylabel(\"Percentage 3nd vacination \")\n",
        "\n",
        "# Show the plot\n",
        "plt.show()"
      ],
      "metadata": {
        "id": "vc-xk-riunvE",
        "colab": {
          "base_uri": "https://localhost:8080/",
          "height": 279
        },
        "outputId": "fa6076e8-54c2-4b5e-9d1d-6c828579d4e4"
      },
      "execution_count": null,
      "outputs": [
        {
          "output_type": "display_data",
          "data": {
            "text/plain": [
              "<Figure size 432x288 with 1 Axes>"
            ],
            "image/png": "[encoded data removed]"
          },
          "metadata": {
            "needs_background": "light"
          }
        }
      ]
    },
    {
      "cell_type": "code",
      "source": [
        "from pyspark.sql.functions import col\n",
        "from pyspark.sql.functions import corr\n",
        "from scipy.stats import t\n",
        "\n",
        "# Select the relevant columns\n",
        "selected_df = filtered_df3.select(col(\"vac3_per\"), col(\"socio_rank_city\"))\n",
        "\n",
        "# Calculate the correlation between the columns\n",
        "correlation = selected_df.corr(\"vac3_per\", \"socio_rank_city\")\n",
        "\n",
        "# Calculate the degrees of freedom\n",
        "n = selected_df.count()\n",
        "deg_f = n - 2\n",
        "\n",
        "# Calculate the t-statistic\n",
        "t_statistic = correlation * ((n - 2) ** 0.5) / ((1 - correlation ** 2) ** 0.5)\n",
        "\n",
        "# Calculate the p-value\n",
        "p_value = t.sf(abs(t_statistic), deg_f) * 2\n",
        "\n",
        "# Print the results\n",
        "if p_value < 0.05:\n",
        "    print(\"The correlation is statistically significant. p_value=\", p_value,\"correlation = \",correlation)\n",
        "else:\n",
        "    print(\"The correlation is not statistically significant.\")\n"
      ],
      "metadata": {
        "id": "PPO4VIhUunQ5",
        "colab": {
          "base_uri": "https://localhost:8080/"
        },
        "outputId": "d7b2f600-d5e0-4f2c-b0e6-1c67c9c44b9b"
      },
      "execution_count": null,
      "outputs": [
        {
          "output_type": "stream",
          "name": "stdout",
          "text": [
            "The correlation is statistically significant. p_value= 3.0129942211963806e-297 correlation =  0.7888705300953863\n"
          ]
        }
      ]
    },
    {
      "cell_type": "code",
      "source": [
        "filtered_df3.show()"
      ],
      "metadata": {
        "id": "oZRjkPJQCDWo",
        "colab": {
          "base_uri": "https://localhost:8080/"
        },
        "outputId": "6cb15b7d-895a-4a3f-eccc-6e0788d912dd"
      },
      "execution_count": null,
      "outputs": [
        {
          "output_type": "stream",
          "name": "stdout",
          "text": [
            "+---------+---------+------+-------------------+-----------------+-----------------+----------------------+----------------------+------------------------+------------------------+------------------+------------------+----------------------------+----------------------------+----------------------------------+---------------------------+-----------------------------------+----------------------------+----------------------------------+---------------------------+----------+--------+---------------+---------------+------------+--------------+-------------+------------------+------------------+-------------------+-------------------+-------------------+-------------------+\n",
            "|town_code|agas_code|  town|               date|accumulated_cases|new_cases_on_date|accumulated_recoveries|new_recoveries_on_date|accumulated_hospitalized|new_hospitalized_on_date|accumulated_deaths|new_deaths_on_date|accumulated_diagnostic_tests|new_diagnostic_tests_on_date|accumulated_vaccination_first_dose|new_vacc_first_dose_on_date|accumulated_vaccination_second_dose|new_vacc_second_dose_on_date|accumulated_vaccination_third_dose|new_vacc_third_dose_on_date|row_number|pop_2019|socio_rank_2019|socio_rank_city|relgion_code|setelment_code| geo_cordints|               lat|              long|            per_acc|           vac1_per|           vac2_per|           vac3_per|\n",
            "+---------+---------+------+-------------------+-----------------+-----------------+----------------------+----------------------+------------------------+------------------------+------------------+------------------+----------------------------+----------------------------+----------------------------------+---------------------------+-----------------------------------+----------------------------+----------------------------------+---------------------------+----------+--------+---------------+---------------+------------+--------------+-------------+------------------+------------------+-------------------+-------------------+-------------------+-------------------+\n",
            "|       31|     0001|אופקים|2022-12-25 00:00:00|             2514|                0|                  2496|                     1|                      30|                       0|                 7|                 0|                       29620|                           2|                            3281.0|                      false|                               3028|                           0|                            2246.0|                      false|      3059|    5246|            376|              4|         1.0|           160|1.637757969E9|  31.3075881499684|34.619489412633754| 0.4792222645825391| 0.6254288982081586| 0.5772016774685474|  0.428135722455204|\n",
            "|       31|     0002|אופקים|2022-12-25 00:00:00|             1620|                1|                  1611|                     0|                      45|                       0|                 7|                 0|                       18358|                          15|                            2220.0|                      false|                               2068|                           0|                            1556.0|                      false|      4079|    2773|            375|              4|         1.0|           160|1.637757969E9|  31.3075881499684|34.619489412633754| 0.5842048323115759| 0.8005769924269744| 0.7457627118644068| 0.5611251352326001|\n",
            "|       31|     0003|אופקים|2022-12-25 00:00:00|             1178|                0|                  1172|                     0|                      23|                       0|                 7|                 0|                       13109|                           1|                            1570.0|                      false|                               1424|                           0|                            1028.0|                      false|      5099|    3045|            254|              3|         1.0|           160|1.637757969E9|  31.3075881499684|34.619489412633754|  0.386863711001642| 0.5155993431855501|0.46765188834154353|0.33760262725779966|\n",
            "|       31|     0004|אופקים|2022-12-25 00:00:00|             1484|                0|                  1480|                     0|                       7|                       0|                 7|                 0|                       14147|                           0|                            1547.0|                      false|                               1297|                           0|                             885.0|                      false|      6119|    3044|            271|              3|         1.0|           160|1.637757969E9|  31.3075881499684|34.619489412633754|0.48751642575558474| 0.5082128777923784|0.42608409986859397| 0.2907358738501971|\n",
            "|       31|     0006|אופקים|2022-12-25 00:00:00|             2634|                1|                  2634|                     0|                      30|                       0|                 7|                 0|                       19746|                           4|                            2295.0|                      false|                               1816|                           0|                            1042.0|                      false|      7139|    6123|            106|              1|         1.0|           160|1.637757969E9|  31.3075881499684|34.619489412633754| 0.4301812836844684|0.37481626653601174| 0.2965866405356851| 0.1701780173117753|\n",
            "|       31|     0007|אופקים|2022-12-25 00:00:00|             7940|                0|                  7924|                     1|                      65|                       0|                 7|                 0|                       79522|                           3|                            7654.0|                      false|                               6866|                           0|                            4800.0|                      false|      8159|   10424|            611|              5|         1.0|           160|1.637757969E9|  31.3075881499684|34.619489412633754| 0.7617037605525709| 0.7342670759785112|  0.658672294704528| 0.4604758250191865|\n",
            "|       70|     0122| אשדוד|2022-12-25 00:00:00|             1371|                0|                  1358|                     0|                      31|                       0|                 7|                 0|                       22647|                           4|                            2378.0|                      false|                               2280|                           0|                            1862.0|                      false|     14279|    2811|            367|              4|         1.0|           130|1.669063377E9|31.795443786184897| 34.64948800814904|0.48772678762006405| 0.8459622909996443| 0.8110992529348986| 0.6623977232301672|\n",
            "|       70|     0123| אשדוד|2022-12-25 00:00:00|             1986|                2|                  1962|                     1|                      78|                       0|                 7|                 0|                       28055|                          25|                            2887.0|                      false|                               2684|                           0|                            2032.0|                      false|     15299|    3994|            429|              4|         1.0|           130|1.669063377E9|31.795443786184897| 34.64948800814904| 0.4972458688032048| 0.7228342513770656| 0.6720080120180271| 0.5087631447170756|\n",
            "|       70|     0125| אשדוד|2022-12-25 00:00:00|             1013|                1|                   998|                     0|                      58|                       0|                 7|                 0|                       12587|                          17|                            1508.0|                      false|                               1414|                           0|                            1060.0|                      false|     16319|    2272|            303|              3|         1.0|           130|1.669063377E9|31.795443786184897| 34.64948800814904|  0.445862676056338| 0.6637323943661971| 0.6223591549295775| 0.4665492957746479|\n",
            "|       70|     0126| אשדוד|2022-12-25 00:00:00|             1965|                0|                  1941|                     0|                      74|                       1|                18|                 0|                       31422|                          16|                            3064.0|                      false|                               2877|                           0|                            2201.0|                      false|     17339|    3860|            304|              3|         1.0|           130|1.669063377E9|31.795443786184897| 34.64948800814904| 0.5090673575129534| 0.7937823834196891| 0.7453367875647668| 0.5702072538860103|\n",
            "|       70|     0131| אשדוד|2022-12-25 00:00:00|              909|                1|                   895|                     1|                      23|                       0|                 7|                 0|                       12040|                           6|                            1395.0|                      false|                               1308|                           0|                             992.0|                      false|     18359|    2089|            338|              3|         1.0|           130|1.669063377E9|31.795443786184897| 34.64948800814904| 0.4351364289133557| 0.6677836285303973| 0.6261369076112973| 0.4748683580660603|\n",
            "|       70|     0133| אשדוד|2022-12-25 00:00:00|             1922|                0|                  1903|                     0|                      73|                       0|                 7|                 0|                       23546|                          33|                            2730.0|                      false|                               2528|                           0|                            1810.0|                      false|     19379|    3994|            268|              3|         1.0|           130|1.669063377E9|31.795443786184897| 34.64948800814904|0.48122183274912367| 0.6835252879318978| 0.6329494241362043| 0.4531797696544817|\n",
            "|       70|     0141| אשדוד|2022-12-25 00:00:00|             1991|                0|                  1988|                     0|                      63|                       0|                 7|                 0|                       14461|                           2|                            2669.0|                      false|                               1971|                           0|                             881.0|                      false|     20399|    5929|             63|              1|         1.0|           130|1.669063377E9|31.795443786184897| 34.64948800814904| 0.3358070500927644| 0.4501602293810086| 0.3324337999662675|0.14859166807218754|\n",
            "|       70|     0142| אשדוד|2022-12-25 00:00:00|             1596|                0|                  1589|                     0|                      38|                       0|                 7|                 0|                       14658|                           6|                            1846.0|                      false|                               1580|                           0|                            1005.0|                      false|     21419|    3365|            139|              2|         1.0|           130|1.669063377E9|31.795443786184897| 34.64948800814904| 0.4742942050520059| 0.5485884101040119|0.46953937592867756| 0.2986627043090639|\n",
            "|       70|     0143| אשדוד|2022-12-25 00:00:00|             2632|                1|                  2620|                     1|                      63|                       0|                 7|                 0|                       20890|                           8|                            2380.0|                      false|                               1937|                           0|                            1238.0|                      false|     22439|    4718|            156|              2|         1.0|           130|1.669063377E9|31.795443786184897| 34.64948800814904| 0.5578635014836796| 0.5044510385756676|0.41055532005086903|0.26239932174650277|\n",
            "|       70|     0144| אשדוד|2022-12-25 00:00:00|             3137|                3|                  3109|                     1|                     119|                       0|                16|                 0|                       31573|                          23|                            3383.0|                      false|                               2755|                           0|                            1788.0|                      false|     23459|    7155|            112|              1|         1.0|           130|1.669063377E9|31.795443786184897| 34.64948800814904| 0.4384346610761705|0.47281621243885397|0.38504542278127185|  0.249895178197065|\n",
            "|       70|     0211| אשדוד|2022-12-25 00:00:00|             5109|                2|                  5101|                     0|                      91|                       0|                 7|                 0|                       37060|                           9|                            6682.0|                      false|                               4733|                           0|                            2228.0|                      false|     24479|    7577|             98|              1|         1.0|           130|1.669063377E9|31.795443786184897| 34.64948800814904| 0.6742774185033654| 0.8818793717830276| 0.6246535568166821|  0.294047776164709|\n",
            "|       70|     0212| אשדוד|2022-12-25 00:00:00|             3108|                0|                  3107|                     0|                      53|                       0|                 7|                 0|                       22013|                           0|                            4269.0|                      false|                               2975|                           0|                            1486.0|                      false|     25499|    7356|            114|              1|         1.0|           130|1.669063377E9|31.795443786184897| 34.64948800814904|0.42251223491027734| 0.5803425774877651|0.40443175638934203|0.20201196302338228|\n",
            "|       70|     0221| אשדוד|2022-12-25 00:00:00|             1718|                0|                  1705|                     0|                      44|                       0|                 7|                 0|                       15718|                           6|                            2005.0|                      false|                               1708|                           0|                            1113.0|                      false|     26519|    3356|            174|              2|         1.0|           130|1.669063377E9|31.795443786184897| 34.64948800814904| 0.5119189511323003| 0.5974374255065554| 0.5089392133492253|0.33164481525625744|\n",
            "|       70|     0222| אשדוד|2022-12-25 00:00:00|             1811|                1|                  1803|                     0|                      58|                       0|                 7|                 0|                       17762|                          14|                            2201.0|                      false|                               1942|                           0|                            1275.0|                      false|     27539|    4002|            217|              2|         1.0|           130|1.669063377E9|31.795443786184897| 34.64948800814904|0.45252373813093455| 0.5499750124937531| 0.4852573713143428|0.31859070464767614|\n",
            "+---------+---------+------+-------------------+-----------------+-----------------+----------------------+----------------------+------------------------+------------------------+------------------+------------------+----------------------------+----------------------------+----------------------------------+---------------------------+-----------------------------------+----------------------------+----------------------------------+---------------------------+----------+--------+---------------+---------------+------------+--------------+-------------+------------------+------------------+-------------------+-------------------+-------------------+-------------------+\n",
            "only showing top 20 rows\n",
            "\n"
          ]
        }
      ]
    },
    {
      "cell_type": "code",
      "source": [],
      "metadata": {
        "id": "pNAuRPn3mGmO"
      },
      "execution_count": null,
      "outputs": []
    },
    {
      "cell_type": "markdown",
      "source": [
        "# Correlation between mortality percentage and socioeconomic status"
      ],
      "metadata": {
        "id": "dFeImgoq5no8"
      }
    },
    {
      "cell_type": "code",
      "source": [
        "import pyspark.sql.functions as F\n",
        "\n",
        "# Filter out rows with accumulated_deaths less than 15\n",
        "filtered_df4 = filtered_df3.filter(F.col(\"accumulated_deaths\") >= 6)\n",
        "\n",
        "# Create a new column for the percentage of the mortality in population \n",
        "filtered_df4 = filtered_df4.withColumn(\"mortal_per\", F.col(\"accumulated_deaths\") / F.col(\"pop_2019\"))\n",
        "\n"
      ],
      "metadata": {
        "id": "-UvLJWaB6kI2"
      },
      "execution_count": null,
      "outputs": []
    },
    {
      "cell_type": "code",
      "source": [
        "print(filtered_df4.count())"
      ],
      "metadata": {
        "id": "N2hB8jLz69cl",
        "colab": {
          "base_uri": "https://localhost:8080/"
        },
        "outputId": "8aa85ade-fee0-4511-ae35-a120206a3112"
      },
      "execution_count": null,
      "outputs": [
        {
          "output_type": "stream",
          "name": "stdout",
          "text": [
            "1357\n"
          ]
        }
      ]
    },
    {
      "cell_type": "code",
      "source": [
        "# Select the relevant columns\n",
        "selected_df = filtered_df4.select(\"mortal_per\", \"socio_rank_2019\")\n",
        "\n",
        "# Convert the DataFrame to a Pandas DataFrame\n",
        "pandas_df = selected_df.toPandas()\n",
        "\n",
        "# Create a scatter plot using Matplotlib\n",
        "plt.scatter(pandas_df[\"socio_rank_2019\"], pandas_df[\"mortal_per\"])\n",
        "\n",
        "# Set the axis labels\n",
        "plt.xlabel(\"Socioeconomic sub rank \")\n",
        "plt.ylabel(\"mortality\")\n",
        "\n",
        "# Show the plot\n",
        "plt.show()"
      ],
      "metadata": {
        "id": "xxty-Ge56vt_",
        "colab": {
          "base_uri": "https://localhost:8080/",
          "height": 279
        },
        "outputId": "c571f59c-b788-413b-dc20-5d9d87ca1c8e"
      },
      "execution_count": null,
      "outputs": [
        {
          "output_type": "display_data",
          "data": {
            "text/plain": [
              "<Figure size 432x288 with 1 Axes>"
            ],
            "image/png": "[encoded data removed]"
          },
          "metadata": {
            "needs_background": "light"
          }
        }
      ]
    },
    {
      "cell_type": "code",
      "source": [
        "from pyspark.sql.functions import col\n",
        "from pyspark.sql.functions import corr\n",
        "from scipy.stats import t\n",
        "\n",
        "# Select the relevant columns\n",
        "selected_df = filtered_df4.select(col(\"mortal_per\"), col(\"socio_rank_2019\"))\n",
        "\n",
        "# Calculate the correlation between the columns\n",
        "correlation = selected_df.corr(\"mortal_per\", \"socio_rank_2019\")\n",
        "\n",
        "# Calculate the degrees of freedom\n",
        "n = selected_df.count()\n",
        "deg_f = n - 2\n",
        "\n",
        "# Calculate the t-statistic\n",
        "t_statistic = correlation * ((n - 2) ** 0.5) / ((1 - correlation ** 2) ** 0.5)\n",
        "\n",
        "# Calculate the p-value\n",
        "p_value = t.sf(abs(t_statistic), deg_f) * 2\n",
        "\n",
        "# Print the results\n",
        "print(\"correlation = \",correlation)\n",
        "if p_value < 0.05:\n",
        "    print(\"The correlation is statistically significant. p_value=\", p_value,\"correlation = \",correlation)\n",
        "else:\n",
        "    print(\"The correlation is not statistically significant.\")\n"
      ],
      "metadata": {
        "id": "tufMKcACowgB",
        "colab": {
          "base_uri": "https://localhost:8080/"
        },
        "outputId": "d7315bcd-5bee-4ac8-bf00-d59cacc4e22e"
      },
      "execution_count": null,
      "outputs": [
        {
          "output_type": "stream",
          "name": "stdout",
          "text": [
            "correlation =  -0.023905778458343005\n",
            "The correlation is not statistically significant.\n"
          ]
        }
      ]
    },
    {
      "cell_type": "code",
      "source": [
        "# The same for city clusters rank:\n",
        "\n",
        "import pyspark.sql.functions as F\n",
        "\n",
        "# Filter out rows with accumulated_deaths less than 15\n",
        "filtered_df4 = filtered_df3.filter(F.col(\"accumulated_deaths\") >= 14)\n",
        "\n",
        "# Create a new column for the percentage of the mortality in population \n",
        "filtered_df4 = filtered_df4.withColumn(\"mortal_per\", F.col(\"accumulated_deaths\") / F.col(\"pop_2019\"))\n",
        "\n"
      ],
      "metadata": {
        "id": "gDMAcJahv8Yv"
      },
      "execution_count": null,
      "outputs": []
    },
    {
      "cell_type": "code",
      "source": [
        "# Select the relevant columns\n",
        "selected_df = filtered_df4.select(\"mortal_per\", \"socio_rank_city\")\n",
        "\n",
        "# Convert the DataFrame to a Pandas DataFrame\n",
        "pandas_df = selected_df.toPandas()\n",
        "\n",
        "# Create a scatter plot using Matplotlib\n",
        "plt.scatter(pandas_df[\"socio_rank_city\"], pandas_df[\"mortal_per\"])\n",
        "\n",
        "# Set the axis labels\n",
        "plt.xlabel(\"Socioeconomic rank city\")\n",
        "plt.ylabel(\"mortality\")\n",
        "\n",
        "# Show the plot\n",
        "plt.show()"
      ],
      "metadata": {
        "id": "D-lJarelv9B2",
        "colab": {
          "base_uri": "https://localhost:8080/",
          "height": 279
        },
        "outputId": "81e9e9ef-ac7b-4bfa-e2fc-d7dee2c6d604"
      },
      "execution_count": null,
      "outputs": [
        {
          "output_type": "display_data",
          "data": {
            "text/plain": [
              "<Figure size 432x288 with 1 Axes>"
            ],
            "image/png": "[encoded data removed]"
          },
          "metadata": {
            "needs_background": "light"
          }
        }
      ]
    },
    {
      "cell_type": "code",
      "source": [
        "from pyspark.sql.functions import col\n",
        "from pyspark.sql.functions import corr\n",
        "from scipy.stats import t\n",
        "\n",
        "# Select the relevant columns\n",
        "selected_df = filtered_df4.select(col(\"mortal_per\"), col(\"socio_rank_city\"))\n",
        "\n",
        "# Calculate the correlation between the columns\n",
        "correlation = selected_df.corr(\"mortal_per\", \"socio_rank_city\")\n",
        "\n",
        "# Calculate the degrees of freedom\n",
        "n = selected_df.count()\n",
        "deg_f = n - 2\n",
        "\n",
        "# Calculate the t-statistic\n",
        "t_statistic = correlation * ((n - 2) ** 0.5) / ((1 - correlation ** 2) ** 0.5)\n",
        "\n",
        "# Calculate the p-value\n",
        "p_value = t.sf(abs(t_statistic), deg_f) * 2\n",
        "\n",
        "# Print the results\n",
        "print(\"correlation = \",correlation)\n",
        "\n",
        "if p_value < 0.05:\n",
        "    print(\"The correlation is statistically significant. p_value=\", p_value,\"correlation = \",correlation)\n",
        "else:\n",
        "    print(\"The correlation is not statistically significant.\")\n"
      ],
      "metadata": {
        "id": "CeFAjNoXv9cQ",
        "colab": {
          "base_uri": "https://localhost:8080/"
        },
        "outputId": "b5a932dd-1efa-4c8b-f659-16b7e87ef626"
      },
      "execution_count": null,
      "outputs": [
        {
          "output_type": "stream",
          "name": "stdout",
          "text": [
            "correlation =  0.30796058387337333\n",
            "The correlation is statistically significant. p_value= 0.012572325779180405 correlation =  0.30796058387337333\n"
          ]
        }
      ]
    },
    {
      "cell_type": "markdown",
      "source": [
        "# Correlation between lab testing diagnostic percentage and socioeconomic status"
      ],
      "metadata": {
        "id": "vaGpNrig6b6c"
      }
    },
    {
      "cell_type": "code",
      "source": [
        " #create a new column \"test_per\" that contains the percentage of accumulated_diagnostic_tests in population\n",
        "filtered_df3 = filtered_df3.withColumn(\"test_per\", filtered_df3[\"accumulated_diagnostic_tests\"] / filtered_df3[\"pop_2019\"])\n"
      ],
      "metadata": {
        "id": "7ZkhNLoR7C2p"
      },
      "execution_count": null,
      "outputs": []
    },
    {
      "cell_type": "code",
      "source": [
        "# Select the relevant columns\n",
        "selected_df = filtered_df3.select(\"test_per\", \"socio_rank_2019\")\n",
        "\n",
        "# Convert the DataFrame to a Pandas DataFrame\n",
        "pandas_df = selected_df.toPandas()\n",
        "\n",
        "# Create a scatter plot using Matplotlib\n",
        "plt.scatter(pandas_df[\"socio_rank_2019\"], pandas_df[\"test_per\"])\n",
        "\n",
        "# Set the axis labels\n",
        "plt.xlabel(\"Socioeconomic sub rank \")\n",
        "plt.ylabel(\"diagnostic percent\")\n",
        "\n",
        "# Show the plot\n",
        "plt.show()"
      ],
      "metadata": {
        "id": "SNE7kLQt6dJn",
        "colab": {
          "base_uri": "https://localhost:8080/",
          "height": 279
        },
        "outputId": "85586496-aa32-45d7-fcfc-39342a192ca1"
      },
      "execution_count": null,
      "outputs": [
        {
          "output_type": "display_data",
          "data": {
            "text/plain": [
              "<Figure size 432x288 with 1 Axes>"
            ],
            "image/png": "[encoded data removed]"
          },
          "metadata": {
            "needs_background": "light"
          }
        }
      ]
    },
    {
      "cell_type": "code",
      "source": [
        "from pyspark.sql.functions import col\n",
        "from pyspark.sql.functions import corr\n",
        "from scipy.stats import t\n",
        "\n",
        "# Select the relevant columns\n",
        "selected_df = filtered_df3.select(col(\"test_per\"), col(\"socio_rank_2019\"))\n",
        "\n",
        "# Calculate the correlation between the columns\n",
        "correlation = selected_df.corr(\"test_per\", \"socio_rank_2019\")\n",
        "\n",
        "# Calculate the degrees of freedom\n",
        "n = selected_df.count()\n",
        "deg_f = n - 2\n",
        "\n",
        "# Calculate the t-statistic\n",
        "t_statistic = correlation * ((n - 2) ** 0.5) / ((1 - correlation ** 2) ** 0.5)\n",
        "\n",
        "# Calculate the p-value\n",
        "p_value = t.sf(abs(t_statistic), deg_f) * 2\n",
        "\n",
        "# Print the results\n",
        "print(\"correlation = \",correlation)\n",
        "\n",
        "if p_value < 0.05:\n",
        "    print(\"The correlation is statistically significant. p_value=\", p_value,\"correlation = \",correlation)\n",
        "else:\n",
        "    print(\"The correlation is not statistically significant.\")\n"
      ],
      "metadata": {
        "id": "G_Ika8ON6cqB",
        "colab": {
          "base_uri": "https://localhost:8080/"
        },
        "outputId": "b02b0d82-e522-4107-bb4b-751f79183486"
      },
      "execution_count": null,
      "outputs": [
        {
          "output_type": "stream",
          "name": "stdout",
          "text": [
            "correlation =  0.5656683679694008\n",
            "The correlation is statistically significant. p_value= 5.753313151024862e-119 correlation =  0.5656683679694008\n"
          ]
        }
      ]
    },
    {
      "cell_type": "code",
      "source": [
        "# The same for city clusters rank:\n",
        "\n",
        "# Select the relevant columns\n",
        "selected_df = filtered_df3.select(\"test_per\", \"socio_rank_city\")\n",
        "\n",
        "# Convert the DataFrame to a Pandas DataFrame\n",
        "pandas_df = selected_df.toPandas()\n",
        "\n",
        "# Create a scatter plot using Matplotlib\n",
        "plt.scatter(pandas_df[\"socio_rank_city\"], pandas_df[\"test_per\"])\n",
        "\n",
        "# Set the axis labels\n",
        "plt.xlabel(\"Socioeconomic city rank \")\n",
        "plt.ylabel(\"diagnostic percent\")\n",
        "\n",
        "# Show the plot\n",
        "plt.show()"
      ],
      "metadata": {
        "id": "xNgzpapm6eOz",
        "colab": {
          "base_uri": "https://localhost:8080/",
          "height": 279
        },
        "outputId": "1a6e0688-3cbc-46ab-fb1e-fa92f5140e91"
      },
      "execution_count": null,
      "outputs": [
        {
          "output_type": "display_data",
          "data": {
            "text/plain": [
              "<Figure size 432x288 with 1 Axes>"
            ],
            "image/png": "[encoded data removed]"
          },
          "metadata": {
            "needs_background": "light"
          }
        }
      ]
    },
    {
      "cell_type": "code",
      "source": [
        "from pyspark.sql.functions import col\n",
        "from pyspark.sql.functions import corr\n",
        "from scipy.stats import t\n",
        "\n",
        "# Select the relevant columns\n",
        "selected_df = filtered_df3.select(col(\"test_per\"), col(\"socio_rank_city\"))\n",
        "\n",
        "# Calculate the correlation between the columns\n",
        "correlation = selected_df.corr(\"test_per\", \"socio_rank_city\")\n",
        "\n",
        "# Calculate the degrees of freedom\n",
        "n = selected_df.count()\n",
        "deg_f = n - 2\n",
        "\n",
        "# Calculate the t-statistic\n",
        "t_statistic = correlation * ((n - 2) ** 0.5) / ((1 - correlation ** 2) ** 0.5)\n",
        "\n",
        "# Calculate the p-value\n",
        "p_value = t.sf(abs(t_statistic), deg_f) * 2\n",
        "\n",
        "# Print the results\n",
        "print(\"correlation = \",correlation)\n",
        "\n",
        "if p_value < 0.05:\n",
        "    print(\"The correlation is statistically significant. p_value=\", p_value,\"correlation = \",correlation)\n",
        "else:\n",
        "    print(\"The correlation is not statistically significant.\")\n"
      ],
      "metadata": {
        "id": "lEiSJICD6e4x",
        "colab": {
          "base_uri": "https://localhost:8080/"
        },
        "outputId": "cbd67970-67c0-497c-8134-d9ee5fced6b8"
      },
      "execution_count": null,
      "outputs": [
        {
          "output_type": "stream",
          "name": "stdout",
          "text": [
            "correlation =  0.5820683666835753\n",
            "The correlation is statistically significant. p_value= 1.755957967863569e-127 correlation =  0.5820683666835753\n"
          ]
        }
      ]
    },
    {
      "cell_type": "markdown",
      "source": [
        "# Correlation between hospitalization percentage and socioeconomic status\n"
      ],
      "metadata": {
        "id": "1QLHlpf3iAS4"
      }
    },
    {
      "cell_type": "code",
      "source": [
        " #create a new column \"hospital_per\" that contains the percentage of accumulated_hospitalized in population\n",
        "filtered_df3 = filtered_df3.withColumn(\"hospital_per\", filtered_df3[\"accumulated_hospitalized\"] / filtered_df3[\"pop_2019\"])\n"
      ],
      "metadata": {
        "id": "wHWIOAZviBbM"
      },
      "execution_count": null,
      "outputs": []
    },
    {
      "cell_type": "code",
      "source": [
        "# Select the relevant columns\n",
        "selected_df = filtered_df3.select(\"hospital_per\", \"socio_rank_2019\")\n",
        "\n",
        "# Convert the DataFrame to a Pandas DataFrame\n",
        "pandas_df = selected_df.toPandas()\n",
        "\n",
        "# Create a scatter plot using Matplotlib\n",
        "plt.scatter(pandas_df[\"socio_rank_2019\"], pandas_df[\"hospital_per\"])\n",
        "\n",
        "# Set the axis labels\n",
        "plt.xlabel(\"Socioeconomic sub rank \")\n",
        "plt.ylabel(\"diagnostic percent\")\n",
        "\n",
        "# Show the plot\n",
        "plt.show()"
      ],
      "metadata": {
        "colab": {
          "base_uri": "https://localhost:8080/",
          "height": 279
        },
        "id": "_8DkDPoUiA2s",
        "outputId": "bc300c10-36c3-4b4f-d242-c6fdcd48f1f7"
      },
      "execution_count": null,
      "outputs": [
        {
          "output_type": "display_data",
          "data": {
            "text/plain": [
              "<Figure size 432x288 with 1 Axes>"
            ],
            "image/png": "[encoded data removed]"
          },
          "metadata": {
            "needs_background": "light"
          }
        }
      ]
    },
    {
      "cell_type": "code",
      "source": [
        "from pyspark.sql.functions import col\n",
        "from pyspark.sql.functions import corr\n",
        "from scipy.stats import t\n",
        "\n",
        "# Select the relevant columns\n",
        "selected_df = filtered_df3.select(col(\"hospital_per\"), col(\"socio_rank_2019\"))\n",
        "\n",
        "# Calculate the correlation between the columns\n",
        "correlation = selected_df.corr(\"hospital_per\", \"socio_rank_2019\")\n",
        "\n",
        "# Calculate the degrees of freedom\n",
        "n = selected_df.count()\n",
        "deg_f = n - 2\n",
        "\n",
        "# Calculate the t-statistic\n",
        "t_statistic = correlation * ((n - 2) ** 0.5) / ((1 - correlation ** 2) ** 0.5)\n",
        "\n",
        "# Calculate the p-value\n",
        "p_value = t.sf(abs(t_statistic), deg_f) * 2\n",
        "\n",
        "# Print the results\n",
        "print(\"correlation = \",correlation)\n",
        "\n",
        "if p_value < 0.05:\n",
        "    print(\"The correlation is statistically significant. p_value=\", p_value,\"correlation = \",correlation)\n",
        "else:\n",
        "    print(\"The correlation is not statistically significant.\")\n"
      ],
      "metadata": {
        "colab": {
          "base_uri": "https://localhost:8080/"
        },
        "id": "CHkXOqJniIYA",
        "outputId": "8cb675d8-e817-44bd-ed05-42dffc9d568a"
      },
      "execution_count": null,
      "outputs": [
        {
          "output_type": "stream",
          "name": "stdout",
          "text": [
            "correlation =  -0.46817764399072254\n",
            "The correlation is statistically significant. p_value= 5.109030484883402e-77 correlation =  -0.46817764399072254\n"
          ]
        }
      ]
    },
    {
      "cell_type": "code",
      "source": [
        "# The same for city clusters rank:\n",
        "\n",
        "# Select the relevant columns\n",
        "selected_df = filtered_df3.select(\"hospital_per\", \"socio_rank_city\")\n",
        "\n",
        "# Convert the DataFrame to a Pandas DataFrame\n",
        "pandas_df = selected_df.toPandas()\n",
        "\n",
        "# Create a scatter plot using Matplotlib\n",
        "plt.scatter(pandas_df[\"socio_rank_city\"], pandas_df[\"hospital_per\"])\n",
        "\n",
        "# Set the axis labels\n",
        "plt.xlabel(\"Socioeconomic city rank \")\n",
        "plt.ylabel(\"diagnostic percent\")\n",
        "\n",
        "# Show the plot\n",
        "plt.show()"
      ],
      "metadata": {
        "colab": {
          "base_uri": "https://localhost:8080/",
          "height": 279
        },
        "id": "I_W3df48i6Ry",
        "outputId": "e4934ba7-320b-4083-facb-f411fe1272b7"
      },
      "execution_count": null,
      "outputs": [
        {
          "output_type": "display_data",
          "data": {
            "text/plain": [
              "<Figure size 432x288 with 1 Axes>"
            ],
            "image/png": "[encoded data removed]"
          },
          "metadata": {
            "needs_background": "light"
          }
        }
      ]
    },
    {
      "cell_type": "code",
      "source": [
        "from pyspark.sql.functions import col\n",
        "from pyspark.sql.functions import corr\n",
        "from scipy.stats import t\n",
        "\n",
        "# Select the relevant columns\n",
        "selected_df = filtered_df3.select(col(\"hospital_per\"), col(\"socio_rank_city\"))\n",
        "\n",
        "# Calculate the correlation between the columns\n",
        "correlation = selected_df.corr(\"hospital_per\", \"socio_rank_city\")\n",
        "\n",
        "# Calculate the degrees of freedom\n",
        "n = selected_df.count()\n",
        "deg_f = n - 2\n",
        "\n",
        "# Calculate the t-statistic\n",
        "t_statistic = correlation * ((n - 2) ** 0.5) / ((1 - correlation ** 2) ** 0.5)\n",
        "\n",
        "# Calculate the p-value\n",
        "p_value = t.sf(abs(t_statistic), deg_f) * 2\n",
        "\n",
        "# Print the results\n",
        "print(\"correlation = \",correlation)\n",
        "\n",
        "if p_value < 0.05:\n",
        "    print(\"The correlation is statistically significant. p_value=\", p_value,\"correlation = \",correlation)\n",
        "else:\n",
        "    print(\"The correlation is not statistically significant.\")\n"
      ],
      "metadata": {
        "colab": {
          "base_uri": "https://localhost:8080/"
        },
        "id": "0gfrK04Ai6vM",
        "outputId": "15ac09eb-91c4-47c3-9d18-af585cef1578"
      },
      "execution_count": null,
      "outputs": [
        {
          "output_type": "stream",
          "name": "stdout",
          "text": [
            "correlation =  -0.418157601712498\n",
            "The correlation is statistically significant. p_value= 3.0644953250759696e-60 correlation =  -0.418157601712498\n"
          ]
        }
      ]
    },
    {
      "cell_type": "markdown",
      "source": [
        "# Correlation between mortality percentage and distance from hospital"
      ],
      "metadata": {
        "id": "k18vKHoBTQ7-"
      }
    },
    {
      "cell_type": "code",
      "source": [
        "filtered_df3.show()"
      ],
      "metadata": {
        "colab": {
          "base_uri": "https://localhost:8080/"
        },
        "id": "dWSx3vAMoKsg",
        "outputId": "0b2f7b77-a058-48e9-e98e-1d4960038ba2"
      },
      "execution_count": null,
      "outputs": [
        {
          "output_type": "stream",
          "name": "stdout",
          "text": [
            "+---------+---------+------+-------------------+-----------------+-----------------+----------------------+----------------------+------------------------+------------------------+------------------+------------------+----------------------------+----------------------------+----------------------------------+---------------------------+-----------------------------------+----------------------------+----------------------------------+---------------------------+----------+--------+---------------+---------------+------------+--------------+-------------+------------------+------------------+-------------------+-------------------+-------------------+-------------------+--------------------+--------------------+\n",
            "|town_code|agas_code|  town|               date|accumulated_cases|new_cases_on_date|accumulated_recoveries|new_recoveries_on_date|accumulated_hospitalized|new_hospitalized_on_date|accumulated_deaths|new_deaths_on_date|accumulated_diagnostic_tests|new_diagnostic_tests_on_date|accumulated_vaccination_first_dose|new_vacc_first_dose_on_date|accumulated_vaccination_second_dose|new_vacc_second_dose_on_date|accumulated_vaccination_third_dose|new_vacc_third_dose_on_date|row_number|pop_2019|socio_rank_2019|socio_rank_city|relgion_code|setelment_code| geo_cordints|               lat|              long|            per_acc|           vac1_per|           vac2_per|           vac3_per|            test_per|        hospital_per|\n",
            "+---------+---------+------+-------------------+-----------------+-----------------+----------------------+----------------------+------------------------+------------------------+------------------+------------------+----------------------------+----------------------------+----------------------------------+---------------------------+-----------------------------------+----------------------------+----------------------------------+---------------------------+----------+--------+---------------+---------------+------------+--------------+-------------+------------------+------------------+-------------------+-------------------+-------------------+-------------------+--------------------+--------------------+\n",
            "|       31|     0001|אופקים|2022-12-25 00:00:00|             2514|                0|                  2496|                     1|                      30|                       0|                 7|                 0|                       29620|                           2|                            3281.0|                      false|                               3028|                           0|                            2246.0|                      false|      3059|    5246|            376|              4|         1.0|           160|1.637757969E9|  31.3075881499684|34.619489412633754| 0.4792222645825391| 0.6254288982081586| 0.5772016774685474|  0.428135722455204|0.005718642775447...|0.005718642775447...|\n",
            "|       31|     0002|אופקים|2022-12-25 00:00:00|             1620|                1|                  1611|                     0|                      45|                       0|                 7|                 0|                       18358|                          15|                            2220.0|                      false|                               2068|                           0|                            1556.0|                      false|      4079|    2773|            375|              4|         1.0|           160|1.637757969E9|  31.3075881499684|34.619489412633754| 0.5842048323115759| 0.8005769924269744| 0.7457627118644068| 0.5611251352326001|0.016227912008654886|0.016227912008654886|\n",
            "|       31|     0003|אופקים|2022-12-25 00:00:00|             1178|                0|                  1172|                     0|                      23|                       0|                 7|                 0|                       13109|                           1|                            1570.0|                      false|                               1424|                           0|                            1028.0|                      false|      5099|    3045|            254|              3|         1.0|           160|1.637757969E9|  31.3075881499684|34.619489412633754|  0.386863711001642| 0.5155993431855501|0.46765188834154353|0.33760262725779966|0.007553366174055829|0.007553366174055829|\n",
            "|       31|     0004|אופקים|2022-12-25 00:00:00|             1484|                0|                  1480|                     0|                       7|                       0|                 7|                 0|                       14147|                           0|                            1547.0|                      false|                               1297|                           0|                             885.0|                      false|      6119|    3044|            271|              3|         1.0|           160|1.637757969E9|  31.3075881499684|34.619489412633754|0.48751642575558474| 0.5082128777923784|0.42608409986859397| 0.2907358738501971|0.002299605781865...|0.002299605781865...|\n",
            "|       31|     0006|אופקים|2022-12-25 00:00:00|             2634|                1|                  2634|                     0|                      30|                       0|                 7|                 0|                       19746|                           4|                            2295.0|                      false|                               1816|                           0|                            1042.0|                      false|      7139|    6123|            106|              1|         1.0|           160|1.637757969E9|  31.3075881499684|34.619489412633754| 0.4301812836844684|0.37481626653601174| 0.2965866405356851| 0.1701780173117753|0.004899559039686428|0.004899559039686428|\n",
            "|       31|     0007|אופקים|2022-12-25 00:00:00|             7940|                0|                  7924|                     1|                      65|                       0|                 7|                 0|                       79522|                           3|                            7654.0|                      false|                               6866|                           0|                            4800.0|                      false|      8159|   10424|            611|              5|         1.0|           160|1.637757969E9|  31.3075881499684|34.619489412633754| 0.7617037605525709| 0.7342670759785112|  0.658672294704528| 0.4604758250191865| 0.00623561013046815| 0.00623561013046815|\n",
            "|       70|     0122| אשדוד|2022-12-25 00:00:00|             1371|                0|                  1358|                     0|                      31|                       0|                 7|                 0|                       22647|                           4|                            2378.0|                      false|                               2280|                           0|                            1862.0|                      false|     14279|    2811|            367|              4|         1.0|           130|1.669063377E9|31.795443786184897| 34.64948800814904|0.48772678762006405| 0.8459622909996443| 0.8110992529348986| 0.6623977232301672|0.011028103877623622|0.011028103877623622|\n",
            "|       70|     0123| אשדוד|2022-12-25 00:00:00|             1986|                2|                  1962|                     1|                      78|                       0|                 7|                 0|                       28055|                          25|                            2887.0|                      false|                               2684|                           0|                            2032.0|                      false|     15299|    3994|            429|              4|         1.0|           130|1.669063377E9|31.795443786184897| 34.64948800814904| 0.4972458688032048| 0.7228342513770656| 0.6720080120180271| 0.5087631447170756|0.019529293940911366|0.019529293940911366|\n",
            "|       70|     0125| אשדוד|2022-12-25 00:00:00|             1013|                1|                   998|                     0|                      58|                       0|                 7|                 0|                       12587|                          17|                            1508.0|                      false|                               1414|                           0|                            1060.0|                      false|     16319|    2272|            303|              3|         1.0|           130|1.669063377E9|31.795443786184897| 34.64948800814904|  0.445862676056338| 0.6637323943661971| 0.6223591549295775| 0.4665492957746479|0.025528169014084508|0.025528169014084508|\n",
            "|       70|     0126| אשדוד|2022-12-25 00:00:00|             1965|                0|                  1941|                     0|                      74|                       1|                18|                 0|                       31422|                          16|                            3064.0|                      false|                               2877|                           0|                            2201.0|                      false|     17339|    3860|            304|              3|         1.0|           130|1.669063377E9|31.795443786184897| 34.64948800814904| 0.5090673575129534| 0.7937823834196891| 0.7453367875647668| 0.5702072538860103| 0.01917098445595855| 0.01917098445595855|\n",
            "|       70|     0131| אשדוד|2022-12-25 00:00:00|              909|                1|                   895|                     1|                      23|                       0|                 7|                 0|                       12040|                           6|                            1395.0|                      false|                               1308|                           0|                             992.0|                      false|     18359|    2089|            338|              3|         1.0|           130|1.669063377E9|31.795443786184897| 34.64948800814904| 0.4351364289133557| 0.6677836285303973| 0.6261369076112973| 0.4748683580660603|0.011010052656773576|0.011010052656773576|\n",
            "|       70|     0133| אשדוד|2022-12-25 00:00:00|             1922|                0|                  1903|                     0|                      73|                       0|                 7|                 0|                       23546|                          33|                            2730.0|                      false|                               2528|                           0|                            1810.0|                      false|     19379|    3994|            268|              3|         1.0|           130|1.669063377E9|31.795443786184897| 34.64948800814904|0.48122183274912367| 0.6835252879318978| 0.6329494241362043| 0.4531797696544817| 0.01827741612418628| 0.01827741612418628|\n",
            "|       70|     0141| אשדוד|2022-12-25 00:00:00|             1991|                0|                  1988|                     0|                      63|                       0|                 7|                 0|                       14461|                           2|                            2669.0|                      false|                               1971|                           0|                             881.0|                      false|     20399|    5929|             63|              1|         1.0|           130|1.669063377E9|31.795443786184897| 34.64948800814904| 0.3358070500927644| 0.4501602293810086| 0.3324337999662675|0.14859166807218754|0.010625737898465172|0.010625737898465172|\n",
            "|       70|     0142| אשדוד|2022-12-25 00:00:00|             1596|                0|                  1589|                     0|                      38|                       0|                 7|                 0|                       14658|                           6|                            1846.0|                      false|                               1580|                           0|                            1005.0|                      false|     21419|    3365|            139|              2|         1.0|           130|1.669063377E9|31.795443786184897| 34.64948800814904| 0.4742942050520059| 0.5485884101040119|0.46953937592867756| 0.2986627043090639|0.011292719167904903|0.011292719167904903|\n",
            "|       70|     0143| אשדוד|2022-12-25 00:00:00|             2632|                1|                  2620|                     1|                      63|                       0|                 7|                 0|                       20890|                           8|                            2380.0|                      false|                               1937|                           0|                            1238.0|                      false|     22439|    4718|            156|              2|         1.0|           130|1.669063377E9|31.795443786184897| 34.64948800814904| 0.5578635014836796| 0.5044510385756676|0.41055532005086903|0.26239932174650277|0.013353115727002967|0.013353115727002967|\n",
            "|       70|     0144| אשדוד|2022-12-25 00:00:00|             3137|                3|                  3109|                     1|                     119|                       0|                16|                 0|                       31573|                          23|                            3383.0|                      false|                               2755|                           0|                            1788.0|                      false|     23459|    7155|            112|              1|         1.0|           130|1.669063377E9|31.795443786184897| 34.64948800814904| 0.4384346610761705|0.47281621243885397|0.38504542278127185|  0.249895178197065| 0.01663172606568833| 0.01663172606568833|\n",
            "|       70|     0211| אשדוד|2022-12-25 00:00:00|             5109|                2|                  5101|                     0|                      91|                       0|                 7|                 0|                       37060|                           9|                            6682.0|                      false|                               4733|                           0|                            2228.0|                      false|     24479|    7577|             98|              1|         1.0|           130|1.669063377E9|31.795443786184897| 34.64948800814904| 0.6742774185033654| 0.8818793717830276| 0.6246535568166821|  0.294047776164709|0.012010030355021777|0.012010030355021777|\n",
            "|       70|     0212| אשדוד|2022-12-25 00:00:00|             3108|                0|                  3107|                     0|                      53|                       0|                 7|                 0|                       22013|                           0|                            4269.0|                      false|                               2975|                           0|                            1486.0|                      false|     25499|    7356|            114|              1|         1.0|           130|1.669063377E9|31.795443786184897| 34.64948800814904|0.42251223491027734| 0.5803425774877651|0.40443175638934203|0.20201196302338228|0.007205002718868951|0.007205002718868951|\n",
            "|       70|     0221| אשדוד|2022-12-25 00:00:00|             1718|                0|                  1705|                     0|                      44|                       0|                 7|                 0|                       15718|                           6|                            2005.0|                      false|                               1708|                           0|                            1113.0|                      false|     26519|    3356|            174|              2|         1.0|           130|1.669063377E9|31.795443786184897| 34.64948800814904| 0.5119189511323003| 0.5974374255065554| 0.5089392133492253|0.33164481525625744|0.013110846245530394|0.013110846245530394|\n",
            "|       70|     0222| אשדוד|2022-12-25 00:00:00|             1811|                1|                  1803|                     0|                      58|                       0|                 7|                 0|                       17762|                          14|                            2201.0|                      false|                               1942|                           0|                            1275.0|                      false|     27539|    4002|            217|              2|         1.0|           130|1.669063377E9|31.795443786184897| 34.64948800814904|0.45252373813093455| 0.5499750124937531| 0.4852573713143428|0.31859070464767614|0.014492753623188406|0.014492753623188406|\n",
            "+---------+---------+------+-------------------+-----------------+-----------------+----------------------+----------------------+------------------------+------------------------+------------------+------------------+----------------------------+----------------------------+----------------------------------+---------------------------+-----------------------------------+----------------------------+----------------------------------+---------------------------+----------+--------+---------------+---------------+------------+--------------+-------------+------------------+------------------+-------------------+-------------------+-------------------+-------------------+--------------------+--------------------+\n",
            "only showing top 20 rows\n",
            "\n"
          ]
        }
      ]
    },
    {
      "cell_type": "code",
      "source": [
        "filtered_df3.columns"
      ],
      "metadata": {
        "id": "CK89jp3cUrjq",
        "colab": {
          "base_uri": "https://localhost:8080/"
        },
        "outputId": "eddc2db3-02af-4036-8490-efbada13f2f5"
      },
      "execution_count": null,
      "outputs": [
        {
          "output_type": "execute_result",
          "data": {
            "text/plain": [
              "['town_code',\n",
              " 'agas_code',\n",
              " 'town',\n",
              " 'date',\n",
              " 'accumulated_cases',\n",
              " 'new_cases_on_date',\n",
              " 'accumulated_recoveries',\n",
              " 'new_recoveries_on_date',\n",
              " 'accumulated_hospitalized',\n",
              " 'new_hospitalized_on_date',\n",
              " 'accumulated_deaths',\n",
              " 'new_deaths_on_date',\n",
              " 'accumulated_diagnostic_tests',\n",
              " 'new_diagnostic_tests_on_date',\n",
              " 'accumulated_vaccination_first_dose',\n",
              " 'new_vacc_first_dose_on_date',\n",
              " 'accumulated_vaccination_second_dose',\n",
              " 'new_vacc_second_dose_on_date',\n",
              " 'accumulated_vaccination_third_dose',\n",
              " 'new_vacc_third_dose_on_date',\n",
              " 'row_number',\n",
              " 'pop_2019',\n",
              " 'socio_rank_2019',\n",
              " 'socio_rank_city',\n",
              " 'relgion_code',\n",
              " 'setelment_code',\n",
              " 'geo_cordints',\n",
              " 'lat',\n",
              " 'long']"
            ]
          },
          "metadata": {},
          "execution_count": 99
        }
      ]
    },
    {
      "cell_type": "code",
      "source": [
        "from pyspark.sql.functions import sum\n",
        "\n",
        "summed_df = filtered_df3.groupBy(\"town_code\").agg(\n",
        "    sum(\"accumulated_cases\").alias(\"total_cases\"),\n",
        "    sum(\"accumulated_recoveries\").alias(\"total_recoveries\"),\n",
        "    sum(\"accumulated_hospitalized\").alias(\"total_hospitalized\"),\n",
        "    sum(\"accumulated_deaths\").alias(\"total_deaths\"),\n",
        "    sum(\"accumulated_diagnostic_tests\").alias(\"total_diagnostic_tests\"),\n",
        "    sum(\"accumulated_vaccination_first_dose\").alias(\"total_vaccination_first_dose\"),\n",
        "    sum(\"accumulated_vaccination_second_dose\").alias(\"total_vaccination_second_dose\"),\n",
        "    sum(\"accumulated_vaccination_third_dose\").alias(\"total_vaccination_third_dose\"),\n",
        "    sum(\"pop_2019\").alias(\"total_pop\")\n",
        ")"
      ],
      "metadata": {
        "id": "8dfdh53v4m2D"
      },
      "execution_count": null,
      "outputs": []
    },
    {
      "cell_type": "code",
      "source": [
        "summed_df.show()"
      ],
      "metadata": {
        "colab": {
          "base_uri": "https://localhost:8080/"
        },
        "id": "iXnJA8_fn1ZK",
        "outputId": "1525e872-dce9-4088-f9b0-5d1f7efbf82a"
      },
      "execution_count": null,
      "outputs": [
        {
          "output_type": "stream",
          "name": "stdout",
          "text": [
            "+---------+-----------+----------------+------------------+------------+----------------------+----------------------------+-----------------------------+----------------------------+---------+\n",
            "|town_code|total_cases|total_recoveries|total_hospitalized|total_deaths|total_diagnostic_tests|total_vaccination_first_dose|total_vaccination_second_dose|total_vaccination_third_dose|total_pop|\n",
            "+---------+-----------+----------------+------------------+------------+----------------------+----------------------------+-----------------------------+----------------------------+---------+\n",
            "|       31|      17370|           17317|               200|          42|                174502|                     18567.0|                        16499|                     11557.0|  30655.0|\n",
            "|     1139|      25598|           25444|               468|          84|                266707|                     36285.0|                        34548|                     27625.0|  46171.0|\n",
            "|     3000|     334893|          333196|              9960|        1286|               3702032|                    498077.0|                       426329|                    275437.0| 878957.0|\n",
            "|     4000|     126570|          125762|              2810|         514|               1495061|                    196678.0|                       187334|                    152648.0| 256000.0|\n",
            "|     2200|      16656|           16603|               188|          42|                192269|                     20538.0|                        19292|                     15133.0|  27622.0|\n",
            "|      874|      14846|           14751|               296|          49|                152116|                     18521.0|                        17291|                     13157.0|  25381.0|\n",
            "|     1031|      14736|           14685|               290|          42|                149459|                     16664.0|                        15233|                     11141.0|  27582.0|\n",
            "|     1034|      10889|           10850|               242|          42|                102593|                     11012.0|                         9695|                      6340.0|  21086.0|\n",
            "|     2610|      49093|           48987|               893|         119|                448978|                     54017.0|                        43811|                     28244.0| 123699.0|\n",
            "|     2650|      26459|           26400|               226|          77|                405916|                     41074.0|                        39781|                     32733.0|  46990.0|\n",
            "|      246|      23501|           23440|               322|          49|                196670|                     20585.0|                        17498|                     11065.0|  37491.0|\n",
            "|     1061|      20411|           20234|               402|          84|                261503|                     28948.0|                        27142|                     21017.0|  40015.0|\n",
            "|     1304|      12753|           12713|                73|          28|                155757|                     19217.0|                        18607|                     15556.0|  21045.0|\n",
            "|     3570|      10168|           10121|               120|          35|                119331|                     14301.0|                        13670|                     10799.0|  20537.0|\n",
            "|     2600|      22841|           22895|               214|          70|                376927|                     32445.0|                        30902|                     23473.0|  48494.0|\n",
            "|     5000|     200988|          200070|              2868|         743|               2823264|                    319480.0|                       306091|                    249810.0| 396035.0|\n",
            "|      168|      13442|           13402|               142|          21|                156378|                     17106.0|                        16305|                     12670.0|  24720.0|\n",
            "|     2560|      12788|           12728|               196|          35|                151363|                     17671.0|                        16251|                     12260.0|  26646.0|\n",
            "|     3730|       5237|            5233|                82|           7|                 47367|                      5078.0|                         4233|                      2704.0|  16426.0|\n",
            "|     2640|      40888|           40768|               403|          80|                468090|                     46114.0|                        43279|                     33118.0|  58307.0|\n",
            "+---------+-----------+----------------+------------------+------------+----------------------+----------------------------+-----------------------------+----------------------------+---------+\n",
            "only showing top 20 rows\n",
            "\n"
          ]
        }
      ]
    },
    {
      "cell_type": "code",
      "source": [
        "summed_df.count()"
      ],
      "metadata": {
        "id": "2zAUcmWS-csa",
        "colab": {
          "base_uri": "https://localhost:8080/"
        },
        "outputId": "ef560efa-ae3a-49aa-9ca5-03b6cc418f0d"
      },
      "execution_count": null,
      "outputs": [
        {
          "output_type": "execute_result",
          "data": {
            "text/plain": [
              "262"
            ]
          },
          "metadata": {},
          "execution_count": 134
        }
      ]
    },
    {
      "cell_type": "code",
      "source": [
        "from pyspark.sql.functions import first\n",
        "joined_df5=filtered_df3.select([  'town_code','town', 'date', 'socio_rank_city', 'relgion_code', 'setelment_code', 'geo_cordints', 'lat', 'long'])\n",
        "\n",
        "joined_df5.show()\n"
      ],
      "metadata": {
        "id": "6f1u04sB0Uyl",
        "colab": {
          "base_uri": "https://localhost:8080/"
        },
        "outputId": "0440234d-ad64-4200-f1cd-f40e1f801909"
      },
      "execution_count": null,
      "outputs": [
        {
          "output_type": "stream",
          "name": "stdout",
          "text": [
            "+---------+------+-------------------+---------------+------------+--------------+-------------+------------------+------------------+\n",
            "|town_code|  town|               date|socio_rank_city|relgion_code|setelment_code| geo_cordints|               lat|              long|\n",
            "+---------+------+-------------------+---------------+------------+--------------+-------------+------------------+------------------+\n",
            "|       31|אופקים|2022-12-25 00:00:00|              4|         1.0|           160|1.637757969E9|  31.3075881499684|34.619489412633754|\n",
            "|       31|אופקים|2022-12-25 00:00:00|              4|         1.0|           160|1.637757969E9|  31.3075881499684|34.619489412633754|\n",
            "|       31|אופקים|2022-12-25 00:00:00|              3|         1.0|           160|1.637757969E9|  31.3075881499684|34.619489412633754|\n",
            "|       31|אופקים|2022-12-25 00:00:00|              3|         1.0|           160|1.637757969E9|  31.3075881499684|34.619489412633754|\n",
            "|       31|אופקים|2022-12-25 00:00:00|              1|         1.0|           160|1.637757969E9|  31.3075881499684|34.619489412633754|\n",
            "|       31|אופקים|2022-12-25 00:00:00|              5|         1.0|           160|1.637757969E9|  31.3075881499684|34.619489412633754|\n",
            "|       70| אשדוד|2022-12-25 00:00:00|              4|         1.0|           130|1.669063377E9|31.795443786184897| 34.64948800814904|\n",
            "|       70| אשדוד|2022-12-25 00:00:00|              4|         1.0|           130|1.669063377E9|31.795443786184897| 34.64948800814904|\n",
            "|       70| אשדוד|2022-12-25 00:00:00|              3|         1.0|           130|1.669063377E9|31.795443786184897| 34.64948800814904|\n",
            "|       70| אשדוד|2022-12-25 00:00:00|              3|         1.0|           130|1.669063377E9|31.795443786184897| 34.64948800814904|\n",
            "|       70| אשדוד|2022-12-25 00:00:00|              3|         1.0|           130|1.669063377E9|31.795443786184897| 34.64948800814904|\n",
            "|       70| אשדוד|2022-12-25 00:00:00|              3|         1.0|           130|1.669063377E9|31.795443786184897| 34.64948800814904|\n",
            "|       70| אשדוד|2022-12-25 00:00:00|              1|         1.0|           130|1.669063377E9|31.795443786184897| 34.64948800814904|\n",
            "|       70| אשדוד|2022-12-25 00:00:00|              2|         1.0|           130|1.669063377E9|31.795443786184897| 34.64948800814904|\n",
            "|       70| אשדוד|2022-12-25 00:00:00|              2|         1.0|           130|1.669063377E9|31.795443786184897| 34.64948800814904|\n",
            "|       70| אשדוד|2022-12-25 00:00:00|              1|         1.0|           130|1.669063377E9|31.795443786184897| 34.64948800814904|\n",
            "|       70| אשדוד|2022-12-25 00:00:00|              1|         1.0|           130|1.669063377E9|31.795443786184897| 34.64948800814904|\n",
            "|       70| אשדוד|2022-12-25 00:00:00|              1|         1.0|           130|1.669063377E9|31.795443786184897| 34.64948800814904|\n",
            "|       70| אשדוד|2022-12-25 00:00:00|              2|         1.0|           130|1.669063377E9|31.795443786184897| 34.64948800814904|\n",
            "|       70| אשדוד|2022-12-25 00:00:00|              2|         1.0|           130|1.669063377E9|31.795443786184897| 34.64948800814904|\n",
            "+---------+------+-------------------+---------------+------------+--------------+-------------+------------------+------------------+\n",
            "only showing top 20 rows\n",
            "\n"
          ]
        }
      ]
    },
    {
      "cell_type": "code",
      "source": [
        "joined_df5 = joined_df5.groupBy(\"town_code\").agg(\n",
        "    *[first(c).alias(c) for c in joined_df5.columns if c != \"town_code\"])\n"
      ],
      "metadata": {
        "id": "kQOA2-Sv7D-h"
      },
      "execution_count": null,
      "outputs": []
    },
    {
      "cell_type": "code",
      "source": [
        "joined_df6 = summed_df.join(joined_df5.select(['town_code', 'date', 'socio_rank_city', 'relgion_code', 'setelment_code', 'geo_cordints', 'lat', 'long']), ['town_code'], \"left\")\n",
        "joined_df6.show()"
      ],
      "metadata": {
        "id": "K6mPBmJV_rgi",
        "colab": {
          "base_uri": "https://localhost:8080/"
        },
        "outputId": "5bc48d0f-faaf-4808-e5a7-c89bcc5ff875"
      },
      "execution_count": null,
      "outputs": [
        {
          "output_type": "stream",
          "name": "stdout",
          "text": [
            "+---------+-----------+----------------+------------------+------------+----------------------+----------------------------+-----------------------------+----------------------------+---------+-------------------+---------------+------------+--------------+-------------+------------------+------------------+\n",
            "|town_code|total_cases|total_recoveries|total_hospitalized|total_deaths|total_diagnostic_tests|total_vaccination_first_dose|total_vaccination_second_dose|total_vaccination_third_dose|total_pop|               date|socio_rank_city|relgion_code|setelment_code| geo_cordints|               lat|              long|\n",
            "+---------+-----------+----------------+------------------+------------+----------------------+----------------------------+-----------------------------+----------------------------+---------+-------------------+---------------+------------+--------------+-------------+------------------+------------------+\n",
            "|       31|      17370|           17317|               200|          42|                174502|                     18567.0|                        16499|                     11557.0|  30655.0|2022-12-25 00:00:00|              4|         1.0|           160|1.637757969E9|  31.3075881499684|34.619489412633754|\n",
            "|     1139|      25598|           25444|               468|          84|                266707|                     36285.0|                        34548|                     27625.0|  46171.0|2022-12-25 00:00:00|              2|         1.0|           160|2.276275734E9|32.910926054740756|35.291708336557726|\n",
            "|     3000|     334893|          333196|              9960|        1286|               3702032|                    498077.0|                       426329|                    275437.0| 878957.0|2022-12-25 00:00:00|              1|         4.0|           120|2.209463224E9|31.782853883801586|  35.2201051608193|\n",
            "|     4000|     126570|          125762|              2810|         514|               1495061|                    196678.0|                       187334|                    152648.0| 256000.0|2022-12-25 00:00:00|              3|         4.0|           130|2.011274544E9|32.803502831418065| 35.00866795799299|\n",
            "|     2200|      16656|           16603|               188|          42|                192269|                     20538.0|                        19292|                     15133.0|  27622.0|2022-12-25 00:00:00|              3|         1.0|           160|2.033055318E9|31.069709004219803| 35.03515056261771|\n",
            "|      874|      14846|           14751|               296|          49|                152116|                     18521.0|                        17291|                     13157.0|  25381.0|2022-12-25 00:00:00|              3|         1.0|           160|2.231073152E9| 32.67813266694089| 35.24328955035472|\n",
            "|     1031|      14736|           14685|               290|          42|                149459|                     16664.0|                        15233|                     11141.0|  27582.0|2022-12-25 00:00:00|              4|         1.0|           160|1.615060418E9|31.528338124381275|34.594217506995534|\n",
            "|     1034|      10889|           10850|               242|          42|                102593|                     11012.0|                         9695|                      6340.0|  21086.0|2022-12-25 00:00:00|              5|         1.0|           160|1.759662669E9|31.731976348475584|34.745466677827686|\n",
            "|     2610|      49093|           48987|               893|         119|                448978|                     54017.0|                        43811|                     28244.0| 123699.0|2022-12-25 00:00:00|              1|         1.0|           140|1.990062669E9|31.732619825132215|34.988582888541416|\n",
            "|     2650|      26459|           26400|               226|          77|                405916|                     41074.0|                        39781|                     32733.0|  46990.0|2022-12-25 00:00:00|              7|         1.0|           160|1.852067183E9| 32.13936286729655|34.841369063706615|\n",
            "|      246|      23501|           23440|               322|          49|                196670|                     20585.0|                        17498|                     11065.0|  37491.0|2022-12-25 00:00:00|              2|         1.0|           160| 1.60565923E9|31.421153015008557| 34.58502669462791|\n",
            "|     1061|      20411|           20234|               402|          84|                261503|                     28948.0|                        27142|                     21017.0|  40015.0|2022-12-25 00:00:00|              6|         4.0|           160|2.306073489E9| 32.70846998191226|  35.3232937283241|\n",
            "|     1304|      12753|           12713|                73|          28|                155757|                     19217.0|                        18607|                     15556.0|  21045.0|2022-12-25 00:00:00|             10|         1.0|           160|1.949465613E9|  31.9980357316113|34.944999105361916|\n",
            "|     3570|      10168|           10121|               120|          35|                119331|                     14301.0|                        13670|                     10799.0|  20537.0|2022-12-25 00:00:00|              6|         1.0|           170| 2.17866679E9| 32.10444188089207| 35.18752837464802|\n",
            "|     2600|      22841|           22895|               214|          70|                376927|                     32445.0|                        30902|                     23473.0|  48494.0|2022-12-25 00:00:00|              5|         1.0|           150|1.941438506E9|29.553043636618074|34.943222567718855|\n",
            "|     5000|     200988|          200070|              2868|         743|               2823264|                    319480.0|                       306091|                    249810.0| 396035.0|2022-12-25 00:00:00|              9|         4.0|           130|1.802766486E9| 32.07634883485678|34.789403058477475|\n",
            "|      168|      13442|           13402|               142|          21|                156378|                     17106.0|                        16305|                     12670.0|  24720.0|2022-12-25 00:00:00|              7|         1.0|           160|1.938369132E9|32.315346510325725|34.932311527416765|\n",
            "|     2560|      12788|           12728|               196|          35|                151363|                     17671.0|                        16251|                     12260.0|  26646.0|2022-12-25 00:00:00|              3|         1.0|           160|2.203557414E9|31.258863701829704| 35.21382318891782|\n",
            "|     3730|       5237|            5233|                82|           7|                 47367|                      5078.0|                         4233|                      2704.0|  16426.0|2022-12-25 00:00:00|              6|         1.0|           160|2.159164034E9| 31.85589800392141| 35.16696976327909|\n",
            "|     2640|      40888|           40768|               403|          80|                468090|                     46114.0|                        43279|                     33118.0|  58307.0|2022-12-25 00:00:00|              5|         1.0|           150|1.961966686E9| 32.09482464128134|34.957967876485206|\n",
            "+---------+-----------+----------------+------------------+------------+----------------------+----------------------------+-----------------------------+----------------------------+---------+-------------------+---------------+------------+--------------+-------------+------------------+------------------+\n",
            "only showing top 20 rows\n",
            "\n"
          ]
        }
      ]
    },
    {
      "cell_type": "code",
      "source": [
        "from pyspark.sql.functions import radians, asin, sin, cos, sqrt\n",
        "\n",
        "# Define the Haversine formula as a UDF\n",
        "def haversine(lat1, lon1, lat2, lon2):\n",
        "    \"\"\"\n",
        "    Calculate the great circle distance between two points\n",
        "    on the earth (specified in decimal degrees)\n",
        "    \"\"\"\n",
        "    # Convert decimal degrees to radians\n",
        "    lat1, lon1, lat2, lon2 = map(radians, [col(lat1).cast(\"string\"), col(lon1).cast(\"string\"), col(lat2).cast(\"string\"), col(lon2).cast(\"string\")])\n",
        "    \n",
        "    # Haversine formula\n",
        "    dlon = lon2 - lon1\n",
        "    dlat = lat2 - lat1\n",
        "    a = sin(dlat/2)**2 + cos(lat1) * cos(lat2) * sin(dlon/2)**2\n",
        "    c = 2 * asin(sqrt(a))\n",
        "    \n",
        "    # Radius of earth in kilometers is 6371\n",
        "    km = 6371 * c\n",
        "    return km\n"
      ],
      "metadata": {
        "id": "Ovi3u2KwDdVV"
      },
      "execution_count": null,
      "outputs": []
    },
    {
      "cell_type": "code",
      "source": [
        "hospitals.columns"
      ],
      "metadata": {
        "id": "5Jfhb9Z8E9ol",
        "colab": {
          "base_uri": "https://localhost:8080/"
        },
        "outputId": "f2b97f19-1056-44ad-f231-82811286357d"
      },
      "execution_count": null,
      "outputs": [
        {
          "output_type": "execute_result",
          "data": {
            "text/plain": [
              "['Hospital', 'h_lat', 'h_long']"
            ]
          },
          "metadata": {},
          "execution_count": 169
        }
      ]
    },
    {
      "cell_type": "code",
      "source": [
        "hospitals = hospitals.withColumnRenamed(\" lat\",\"h_lat\")\n",
        "\n"
      ],
      "metadata": {
        "id": "zyAV7Tw3ELN4"
      },
      "execution_count": null,
      "outputs": []
    },
    {
      "cell_type": "code",
      "source": [
        "hospitals = hospitals.withColumnRenamed(\" long\",\"h_long\")"
      ],
      "metadata": {
        "id": "D55CFL4NFdvx"
      },
      "execution_count": null,
      "outputs": []
    },
    {
      "cell_type": "code",
      "source": [
        "hospitals.show()"
      ],
      "metadata": {
        "id": "ZHb6fLv5EylO",
        "colab": {
          "base_uri": "https://localhost:8080/"
        },
        "outputId": "cda76cf2-30e8-4ab9-827a-e7cea785de6f"
      },
      "execution_count": null,
      "outputs": [
        {
          "output_type": "stream",
          "name": "stdout",
          "text": [
            "+--------------------+------------------+------------------+\n",
            "|            Hospital|             h_lat|            h_long|\n",
            "+--------------------+------------------+------------------+\n",
            "|               Sheba|32.050921977198726|34.844090786162425|\n",
            "|Mayanei HaYeshua ...|  32.0864161615671| 34.84426245097149|\n",
            "|Tel Aviv Sourasky...| 32.08128939055867|34.789967430026174|\n",
            "| Meir Medical Center| 32.18387390077495| 34.89661739992947|\n",
            "|    Laniado Hospital| 32.35111303624267|34.856821755921324|\n",
            "|Shamir Medical Ce...|31.966526142245904| 34.83956680094388|\n",
            "|Wolfson Medical C...| 32.04678787793236| 34.75922747938785|\n",
            "|  Ziv Medical Center| 33.00041909211144|35.501124136155596|\n",
            "| Emek Medical Center|32.635722136875586| 35.31160997790102|\n",
            "|Rambam Health Car...| 32.84422132671596|34.986140005806085|\n",
            "|   Bnai Zion Medical| 32.81017864475674|  34.9930064608153|\n",
            "|Hillel Yaffe Medi...| 32.45148499748091| 34.89577799724066|\n",
            "|           bailinson| 32.09057665137987|34.867335370494494|\n",
            "|Soroka Medical Ce...|31.258384538249476|34.800801685965126|\n",
            "|Kaplan Medical Ce...|  31.8727874048322| 34.81453503955376|\n",
            "|Carmel Medical Ce...| 32.78653999090502| 34.98054519291536|\n",
            "|Golda HaSharon Me...| 32.08022256248601|34.881971498405456|\n",
            "|Hadassah Ein Kere...|31.765314073483182| 35.14962076838706|\n",
            "|Nazareth Hospital...| 32.70245183177871|35.292203499999594|\n",
            "|Shaare Zedek Medi...|31.773322114747835| 35.18527709047709|\n",
            "+--------------------+------------------+------------------+\n",
            "only showing top 20 rows\n",
            "\n"
          ]
        }
      ]
    },
    {
      "cell_type": "code",
      "source": [
        "pairs = joined_df6.crossJoin(hospitals)\n"
      ],
      "metadata": {
        "id": "iwwGsQN0Dfsf"
      },
      "execution_count": null,
      "outputs": []
    },
    {
      "cell_type": "code",
      "source": [
        "pairs.count()"
      ],
      "metadata": {
        "id": "1W9VlJMLDpMC",
        "colab": {
          "base_uri": "https://localhost:8080/"
        },
        "outputId": "4e25831e-f8fd-4ee8-ab4d-93a3755b4dc4"
      },
      "execution_count": null,
      "outputs": [
        {
          "output_type": "execute_result",
          "data": {
            "text/plain": [
              "1701"
            ]
          },
          "metadata": {},
          "execution_count": 174
        }
      ]
    },
    {
      "cell_type": "code",
      "source": [
        "pairs.show()"
      ],
      "metadata": {
        "id": "RZiQuJwqD9bY",
        "colab": {
          "base_uri": "https://localhost:8080/"
        },
        "outputId": "9b4b9001-9016-4993-a8db-cda432e23879"
      },
      "execution_count": null,
      "outputs": [
        {
          "output_type": "stream",
          "name": "stdout",
          "text": [
            "+---------+-----------+----------------+------------------+------------+----------------------+----------------------------+-----------------------------+----------------------------+---------+-------------------+---------------+------------+--------------+-------------+-----------------+-----------------+--------------------+------------------+------------------+\n",
            "|town_code|total_cases|total_recoveries|total_hospitalized|total_deaths|total_diagnostic_tests|total_vaccination_first_dose|total_vaccination_second_dose|total_vaccination_third_dose|total_pop|               date|socio_rank_city|relgion_code|setelment_code| geo_cordints|              lat|             long|            Hospital|             h_lat|            h_long|\n",
            "+---------+-----------+----------------+------------------+------------+----------------------+----------------------------+-----------------------------+----------------------------+---------+-------------------+---------------+------------+--------------+-------------+-----------------+-----------------+--------------------+------------------+------------------+\n",
            "|      496|       4029|            4026|                39|           7|                 46476|                      5247.0|                         4469|                      3125.0|     null|2022-12-25 00:00:00|           null|         2.0|           280|2.327376917E9|33.01754336213313|35.34650313171543|               Sheba|32.050921977198726|34.844090786162425|\n",
            "|      496|       4029|            4026|                39|           7|                 46476|                      5247.0|                         4469|                      3125.0|     null|2022-12-25 00:00:00|           null|         2.0|           280|2.327376917E9|33.01754336213313|35.34650313171543|Mayanei HaYeshua ...|  32.0864161615671| 34.84426245097149|\n",
            "|      496|       4029|            4026|                39|           7|                 46476|                      5247.0|                         4469|                      3125.0|     null|2022-12-25 00:00:00|           null|         2.0|           280|2.327376917E9|33.01754336213313|35.34650313171543|Tel Aviv Sourasky...| 32.08128939055867|34.789967430026174|\n",
            "|      496|       4029|            4026|                39|           7|                 46476|                      5247.0|                         4469|                      3125.0|     null|2022-12-25 00:00:00|           null|         2.0|           280|2.327376917E9|33.01754336213313|35.34650313171543| Meir Medical Center| 32.18387390077495| 34.89661739992947|\n",
            "|      496|       4029|            4026|                39|           7|                 46476|                      5247.0|                         4469|                      3125.0|     null|2022-12-25 00:00:00|           null|         2.0|           280|2.327376917E9|33.01754336213313|35.34650313171543|    Laniado Hospital| 32.35111303624267|34.856821755921324|\n",
            "|      496|       4029|            4026|                39|           7|                 46476|                      5247.0|                         4469|                      3125.0|     null|2022-12-25 00:00:00|           null|         2.0|           280|2.327376917E9|33.01754336213313|35.34650313171543|Shamir Medical Ce...|31.966526142245904| 34.83956680094388|\n",
            "|      496|       4029|            4026|                39|           7|                 46476|                      5247.0|                         4469|                      3125.0|     null|2022-12-25 00:00:00|           null|         2.0|           280|2.327376917E9|33.01754336213313|35.34650313171543|Wolfson Medical C...| 32.04678787793236| 34.75922747938785|\n",
            "|      496|       4029|            4026|                39|           7|                 46476|                      5247.0|                         4469|                      3125.0|     null|2022-12-25 00:00:00|           null|         2.0|           280|2.327376917E9|33.01754336213313|35.34650313171543|  Ziv Medical Center| 33.00041909211144|35.501124136155596|\n",
            "|      496|       4029|            4026|                39|           7|                 46476|                      5247.0|                         4469|                      3125.0|     null|2022-12-25 00:00:00|           null|         2.0|           280|2.327376917E9|33.01754336213313|35.34650313171543| Emek Medical Center|32.635722136875586| 35.31160997790102|\n",
            "|      496|       4029|            4026|                39|           7|                 46476|                      5247.0|                         4469|                      3125.0|     null|2022-12-25 00:00:00|           null|         2.0|           280|2.327376917E9|33.01754336213313|35.34650313171543|Rambam Health Car...| 32.84422132671596|34.986140005806085|\n",
            "|      496|       4029|            4026|                39|           7|                 46476|                      5247.0|                         4469|                      3125.0|     null|2022-12-25 00:00:00|           null|         2.0|           280|2.327376917E9|33.01754336213313|35.34650313171543|   Bnai Zion Medical| 32.81017864475674|  34.9930064608153|\n",
            "|      496|       4029|            4026|                39|           7|                 46476|                      5247.0|                         4469|                      3125.0|     null|2022-12-25 00:00:00|           null|         2.0|           280|2.327376917E9|33.01754336213313|35.34650313171543|Hillel Yaffe Medi...| 32.45148499748091| 34.89577799724066|\n",
            "|      496|       4029|            4026|                39|           7|                 46476|                      5247.0|                         4469|                      3125.0|     null|2022-12-25 00:00:00|           null|         2.0|           280|2.327376917E9|33.01754336213313|35.34650313171543|           bailinson| 32.09057665137987|34.867335370494494|\n",
            "|      496|       4029|            4026|                39|           7|                 46476|                      5247.0|                         4469|                      3125.0|     null|2022-12-25 00:00:00|           null|         2.0|           280|2.327376917E9|33.01754336213313|35.34650313171543|Soroka Medical Ce...|31.258384538249476|34.800801685965126|\n",
            "|      496|       4029|            4026|                39|           7|                 46476|                      5247.0|                         4469|                      3125.0|     null|2022-12-25 00:00:00|           null|         2.0|           280|2.327376917E9|33.01754336213313|35.34650313171543|Kaplan Medical Ce...|  31.8727874048322| 34.81453503955376|\n",
            "|      496|       4029|            4026|                39|           7|                 46476|                      5247.0|                         4469|                      3125.0|     null|2022-12-25 00:00:00|           null|         2.0|           280|2.327376917E9|33.01754336213313|35.34650313171543|Carmel Medical Ce...| 32.78653999090502| 34.98054519291536|\n",
            "|      496|       4029|            4026|                39|           7|                 46476|                      5247.0|                         4469|                      3125.0|     null|2022-12-25 00:00:00|           null|         2.0|           280|2.327376917E9|33.01754336213313|35.34650313171543|Golda HaSharon Me...| 32.08022256248601|34.881971498405456|\n",
            "|      496|       4029|            4026|                39|           7|                 46476|                      5247.0|                         4469|                      3125.0|     null|2022-12-25 00:00:00|           null|         2.0|           280|2.327376917E9|33.01754336213313|35.34650313171543|Hadassah Ein Kere...|31.765314073483182| 35.14962076838706|\n",
            "|      496|       4029|            4026|                39|           7|                 46476|                      5247.0|                         4469|                      3125.0|     null|2022-12-25 00:00:00|           null|         2.0|           280|2.327376917E9|33.01754336213313|35.34650313171543|Nazareth Hospital...| 32.70245183177871|35.292203499999594|\n",
            "|      496|       4029|            4026|                39|           7|                 46476|                      5247.0|                         4469|                      3125.0|     null|2022-12-25 00:00:00|           null|         2.0|           280|2.327376917E9|33.01754336213313|35.34650313171543|Shaare Zedek Medi...|31.773322114747835| 35.18527709047709|\n",
            "+---------+-----------+----------------+------------------+------------+----------------------+----------------------------+-----------------------------+----------------------------+---------+-------------------+---------------+------------+--------------+-------------+-----------------+-----------------+--------------------+------------------+------------------+\n",
            "only showing top 20 rows\n",
            "\n"
          ]
        }
      ]
    },
    {
      "cell_type": "code",
      "source": [
        "pairs.write.mode(\"overwrite\").option(\"header\", \"true\").csv(\"/content/drive/MyDrive/runi/BDP project/corona final project/pairs.csv\")"
      ],
      "metadata": {
        "id": "0XxKRVCzF-Kh"
      },
      "execution_count": null,
      "outputs": []
    },
    {
      "cell_type": "code",
      "source": [
        "pairs = pairs.dropna(subset=[\"lat\", \"long\", \"h_lat\", \"h_long\"])"
      ],
      "metadata": {
        "id": "_HqtD9Z6G4tN"
      },
      "execution_count": null,
      "outputs": []
    },
    {
      "cell_type": "code",
      "source": [
        "distances = pairs.select(\n",
        "    \"lat\", \"long\", \"h_lat\", \"h_long\",\n",
        "    haversine(\"lat\", \"long\", \"h_lat\", \"h_long\").alias(\"distance\")\n",
        ")\n",
        "distances.show()"
      ],
      "metadata": {
        "id": "NeBByCHtDw1m",
        "colab": {
          "base_uri": "https://localhost:8080/"
        },
        "outputId": "e5323b71-86ce-4a36-d5be-c9ae61972d7e"
      },
      "execution_count": null,
      "outputs": [
        {
          "output_type": "stream",
          "name": "stdout",
          "text": [
            "+----------------+------------------+------------------+------------------+------------------+\n",
            "|             lat|              long|             h_lat|            h_long|          distance|\n",
            "+----------------+------------------+------------------+------------------+------------------+\n",
            "|31.3075881499684|34.619489412633754|32.050921977198726|34.844090786162425| 85.34361384056815|\n",
            "|31.3075881499684|34.619489412633754|  32.0864161615671| 34.84426245097149| 89.17436038297114|\n",
            "|31.3075881499684|34.619489412633754| 32.08128939055867|34.789967430026174| 87.53049462004721|\n",
            "|31.3075881499684|34.619489412633754| 32.18387390077495| 34.89661739992947|100.90064522248791|\n",
            "|31.3075881499684|34.619489412633754| 32.35111303624267|34.856821755921324|118.18099065487142|\n",
            "|31.3075881499684|34.619489412633754|31.966526142245904| 34.83956680094388| 76.17513211035842|\n",
            "|31.3075881499684|34.619489412633754| 32.04678787793236| 34.75922747938785| 83.25209264569789|\n",
            "|31.3075881499684|34.619489412633754| 33.00041909211144|35.501124136155596| 205.7170177857933|\n",
            "|31.3075881499684|34.619489412633754|32.635722136875586| 35.31160997790102| 161.4675261922978|\n",
            "|31.3075881499684|34.619489412633754| 32.84422132671596|34.986140005806085|174.32267635896594|\n",
            "|31.3075881499684|34.619489412633754| 32.81017864475674|  34.9930064608153|170.74754276005854|\n",
            "|31.3075881499684|34.619489412633754| 32.45148499748091| 34.89577799724066| 129.8430841180915|\n",
            "|31.3075881499684|34.619489412633754| 32.09057665137987|34.867335370494494|  90.1664409391338|\n",
            "|31.3075881499684|34.619489412633754|31.258384538249476|34.800801685965126| 18.07766157089249|\n",
            "|31.3075881499684|34.619489412633754|  31.8727874048322| 34.81453503955376| 65.50629378093193|\n",
            "|31.3075881499684|34.619489412633754| 32.78653999090502| 34.98054519291536| 167.9354419365032|\n",
            "|31.3075881499684|34.619489412633754| 32.08022256248601|34.881971498405456| 89.43016488407369|\n",
            "|31.3075881499684|34.619489412633754|31.765314073483182| 35.14962076838706| 71.51702530462975|\n",
            "|31.3075881499684|34.619489412633754| 32.70245183177871|35.292203499999594|167.57028903403534|\n",
            "|31.3075881499684|34.619489412633754|31.773322114747835| 35.18527709047709| 74.54423702220775|\n",
            "+----------------+------------------+------------------+------------------+------------------+\n",
            "only showing top 20 rows\n",
            "\n"
          ]
        }
      ]
    },
    {
      "cell_type": "code",
      "source": [
        "from pyspark.sql.functions import min\n",
        "\n",
        "# Select only the necessary columns\n",
        "lat_long = distances.select('lat', 'long', \"h_lat\", \"h_long\", 'distance')\n",
        "\n",
        "# Group by the lat and long columns and find the shortest distance\n",
        "shortest_lat_long = lat_long.groupBy('lat', 'long').agg(min('distance').alias('shortest_distance'))\n",
        "\n",
        "# Show the unique lat and long values and the shortest distance"
      ],
      "metadata": {
        "id": "NR_ufCyeJWMD"
      },
      "execution_count": null,
      "outputs": []
    },
    {
      "cell_type": "code",
      "source": [
        "shortest_lat_long.count()\n"
      ],
      "metadata": {
        "id": "7mRh4yYhKwRd",
        "colab": {
          "base_uri": "https://localhost:8080/"
        },
        "outputId": "721640ef-1361-418a-d48e-ec15410ff332"
      },
      "execution_count": null,
      "outputs": [
        {
          "output_type": "execute_result",
          "data": {
            "text/plain": [
              "81"
            ]
          },
          "metadata": {},
          "execution_count": 178
        }
      ]
    },
    {
      "cell_type": "code",
      "source": [
        "merged_df = joined_df6.join(shortest_lat_long, on=[\"lat\", \"long\"], how=\"left\")\n",
        "merged_df.show()"
      ],
      "metadata": {
        "id": "a_bWRHbgLHxF",
        "colab": {
          "base_uri": "https://localhost:8080/"
        },
        "outputId": "48754b33-ef92-415d-9146-c133b8039555"
      },
      "execution_count": null,
      "outputs": [
        {
          "output_type": "stream",
          "name": "stdout",
          "text": [
            "+------------------+------------------+---------+-----------+----------------+------------------+------------+----------------------+----------------------------+-----------------------------+----------------------------+---------+-------------------+---------------+------------+--------------+-------------+------------------+\n",
            "|               lat|              long|town_code|total_cases|total_recoveries|total_hospitalized|total_deaths|total_diagnostic_tests|total_vaccination_first_dose|total_vaccination_second_dose|total_vaccination_third_dose|total_pop|               date|socio_rank_city|relgion_code|setelment_code| geo_cordints| shortest_distance|\n",
            "+------------------+------------------+---------+-----------+----------------+------------------+------------+----------------------+----------------------------+-----------------------------+----------------------------+---------+-------------------+---------------+------------+--------------+-------------+------------------+\n",
            "|31.258863701829704| 35.21382318891782|     2560|      12788|           12728|               196|          35|                151363|                     17671.0|                        16251|                     12260.0|  26646.0|2022-12-25 00:00:00|              3|         1.0|           160|2.203557414E9| 39.25902010653499|\n",
            "| 32.13936286729655|34.841369063706615|     2650|      26459|           26400|               226|          77|                405916|                     41074.0|                        39781|                     32733.0|  46990.0|2022-12-25 00:00:00|              7|         1.0|           160|1.852067183E9| 5.771409048820077|\n",
            "|31.421153015008557| 34.58502669462791|      246|      23501|           23440|               322|          49|                196670|                     20585.0|                        17498|                     11065.0|  37491.0|2022-12-25 00:00:00|              2|         1.0|           160| 1.60565923E9| 27.34071062798538|\n",
            "|31.528338124381275|34.594217506995534|     1031|      14736|           14685|               290|          42|                149459|                     16664.0|                        15233|                     11141.0|  27582.0|2022-12-25 00:00:00|              4|         1.0|           160|1.615060418E9| 35.85437370554165|\n",
            "| 32.07634883485678|34.789403058477475|     5000|     200988|          200070|              2868|         743|               2823264|                    319480.0|                       306091|                    249810.0| 396035.0|2022-12-25 00:00:00|              9|         4.0|           130|1.802766486E9|0.5519321018020257|\n",
            "|31.782853883801586|  35.2201051608193|     3000|     334893|          333196|              9960|        1286|               3702032|                    498077.0|                       426329|                    275437.0| 878957.0|2022-12-25 00:00:00|              1|         4.0|           120|2.209463224E9|3.4585685336480996|\n",
            "|32.803502831418065| 35.00866795799299|     4000|     126570|          125762|              2810|         514|               1495061|                    196678.0|                       187334|                    152648.0| 256000.0|2022-12-25 00:00:00|              3|         4.0|           130|2.011274544E9|1.6411885304189358|\n",
            "|  31.3075881499684|34.619489412633754|       31|      17370|           17317|               200|          42|                174502|                     18567.0|                        16499|                     11557.0|  30655.0|2022-12-25 00:00:00|              4|         1.0|           160|1.637757969E9| 18.07766157089249|\n",
            "|31.069709004219803| 35.03515056261771|     2200|      16656|           16603|               188|          42|                192269|                     20538.0|                        19292|                     15133.0|  27622.0|2022-12-25 00:00:00|              3|         1.0|           160|2.033055318E9|30.616097691840743|\n",
            "| 32.67813266694089| 35.24328955035472|      874|      14846|           14751|               296|          49|                152116|                     18521.0|                        17291|                     13157.0|  25381.0|2022-12-25 00:00:00|              3|         1.0|           160|2.231073152E9| 5.316546646142991|\n",
            "|32.910926054740756|35.291708336557726|     1139|      25598|           25444|               468|          84|                266707|                     36285.0|                        34548|                     27625.0|  46171.0|2022-12-25 00:00:00|              2|         1.0|           160|2.276275734E9|21.927167529717583|\n",
            "|  31.9980357316113|34.944999105361916|     1304|      12753|           12713|                73|          28|                155757|                     19217.0|                        18607|                     15556.0|  21045.0|2022-12-25 00:00:00|             10|         1.0|           160|1.949465613E9|10.543242542259158|\n",
            "| 32.09482464128134|34.957967876485206|     2640|      40888|           40768|               403|          80|                468090|                     46114.0|                        43279|                     33118.0|  58307.0|2022-12-25 00:00:00|              5|         1.0|           150|1.961966686E9| 7.341311869869368|\n",
            "|31.731976348475584|34.745466677827686|     1034|      10889|           10850|               242|          42|                102593|                     11012.0|                         9695|                      6340.0|  21086.0|2022-12-25 00:00:00|              5|         1.0|           160|1.759662669E9|16.963457119180745|\n",
            "|32.315346510325725|34.932311527416765|      168|      13442|           13402|               142|          21|                156378|                     17106.0|                        16305|                     12670.0|  24720.0|2022-12-25 00:00:00|              7|         1.0|           160|1.938369132E9| 8.131533640531911|\n",
            "|31.732619825132215|34.988582888541416|     2610|      49093|           48987|               893|         119|                448978|                     54017.0|                        43811|                     28244.0| 123699.0|2022-12-25 00:00:00|              1|         1.0|           140|1.990062669E9|15.655043436340957|\n",
            "| 32.70846998191226|  35.3232937283241|     1061|      20411|           20234|               402|          84|                261503|                     28948.0|                        27142|                     21017.0|  40015.0|2022-12-25 00:00:00|              6|         4.0|           160|2.306073489E9|2.9849666344220926|\n",
            "|29.553043636618074|34.943222567718855|     2600|      22841|           22895|               214|          70|                376927|                     32445.0|                        30902|                     23473.0|  48494.0|2022-12-25 00:00:00|              5|         1.0|           150|1.941438506E9| 190.1164412330992|\n",
            "| 31.85589800392141| 35.16696976327909|     3730|       5237|            5233|                82|           7|                 47367|                      5078.0|                         4233|                      2704.0|  16426.0|2022-12-25 00:00:00|              6|         1.0|           160|2.159164034E9| 9.343544675925937|\n",
            "| 31.60930684446121|34.765775660463795|     2630|      31606|           31452|               757|         121|                313568|                     36704.0|                        33076|                     23883.0|  55227.0|2022-12-25 00:00:00|              5|         1.0|           150|1.778361308E9|29.658311939675162|\n",
            "+------------------+------------------+---------+-----------+----------------+------------------+------------+----------------------+----------------------------+-----------------------------+----------------------------+---------+-------------------+---------------+------------+--------------+-------------+------------------+\n",
            "only showing top 20 rows\n",
            "\n"
          ]
        }
      ]
    },
    {
      "cell_type": "code",
      "source": [
        "merged_df.count()"
      ],
      "metadata": {
        "id": "0GE9rt_tLfig",
        "colab": {
          "base_uri": "https://localhost:8080/"
        },
        "outputId": "47a52928-3d8b-4010-9f46-059ba35b6d23"
      },
      "execution_count": null,
      "outputs": [
        {
          "output_type": "execute_result",
          "data": {
            "text/plain": [
              "81"
            ]
          },
          "metadata": {},
          "execution_count": 181
        }
      ]
    },
    {
      "cell_type": "code",
      "source": [
        "merged_df.show()\n"
      ],
      "metadata": {
        "colab": {
          "base_uri": "https://localhost:8080/"
        },
        "id": "HTJG0xUumtFc",
        "outputId": "38ff05dd-dc1e-4abb-9f0a-569c0d4543f0"
      },
      "execution_count": null,
      "outputs": [
        {
          "output_type": "stream",
          "name": "stdout",
          "text": [
            "+------------------+------------------+---------+-----------+----------------+------------------+------------+----------------------+----------------------------+-----------------------------+----------------------------+---------+-------------------+---------------+------------+--------------+-------------+------------------+\n",
            "|               lat|              long|town_code|total_cases|total_recoveries|total_hospitalized|total_deaths|total_diagnostic_tests|total_vaccination_first_dose|total_vaccination_second_dose|total_vaccination_third_dose|total_pop|               date|socio_rank_city|relgion_code|setelment_code| geo_cordints| shortest_distance|\n",
            "+------------------+------------------+---------+-----------+----------------+------------------+------------+----------------------+----------------------------+-----------------------------+----------------------------+---------+-------------------+---------------+------------+--------------+-------------+------------------+\n",
            "|31.258863701829704| 35.21382318891782|     2560|      12788|           12728|               196|          35|                151363|                     17671.0|                        16251|                     12260.0|  26646.0|2022-12-25 00:00:00|              3|         1.0|           160|2.203557414E9| 39.25902010653499|\n",
            "| 32.13936286729655|34.841369063706615|     2650|      26459|           26400|               226|          77|                405916|                     41074.0|                        39781|                     32733.0|  46990.0|2022-12-25 00:00:00|              7|         1.0|           160|1.852067183E9| 5.771409048820077|\n",
            "|31.421153015008557| 34.58502669462791|      246|      23501|           23440|               322|          49|                196670|                     20585.0|                        17498|                     11065.0|  37491.0|2022-12-25 00:00:00|              2|         1.0|           160| 1.60565923E9| 27.34071062798538|\n",
            "|31.528338124381275|34.594217506995534|     1031|      14736|           14685|               290|          42|                149459|                     16664.0|                        15233|                     11141.0|  27582.0|2022-12-25 00:00:00|              4|         1.0|           160|1.615060418E9| 35.85437370554165|\n",
            "| 32.07634883485678|34.789403058477475|     5000|     200988|          200070|              2868|         743|               2823264|                    319480.0|                       306091|                    249810.0| 396035.0|2022-12-25 00:00:00|              9|         4.0|           130|1.802766486E9|0.5519321018020257|\n",
            "|31.782853883801586|  35.2201051608193|     3000|     334893|          333196|              9960|        1286|               3702032|                    498077.0|                       426329|                    275437.0| 878957.0|2022-12-25 00:00:00|              1|         4.0|           120|2.209463224E9|3.4585685336480996|\n",
            "|32.803502831418065| 35.00866795799299|     4000|     126570|          125762|              2810|         514|               1495061|                    196678.0|                       187334|                    152648.0| 256000.0|2022-12-25 00:00:00|              3|         4.0|           130|2.011274544E9|1.6411885304189358|\n",
            "|  31.3075881499684|34.619489412633754|       31|      17370|           17317|               200|          42|                174502|                     18567.0|                        16499|                     11557.0|  30655.0|2022-12-25 00:00:00|              4|         1.0|           160|1.637757969E9| 18.07766157089249|\n",
            "|31.069709004219803| 35.03515056261771|     2200|      16656|           16603|               188|          42|                192269|                     20538.0|                        19292|                     15133.0|  27622.0|2022-12-25 00:00:00|              3|         1.0|           160|2.033055318E9|30.616097691840743|\n",
            "| 32.67813266694089| 35.24328955035472|      874|      14846|           14751|               296|          49|                152116|                     18521.0|                        17291|                     13157.0|  25381.0|2022-12-25 00:00:00|              3|         1.0|           160|2.231073152E9| 5.316546646142991|\n",
            "|32.910926054740756|35.291708336557726|     1139|      25598|           25444|               468|          84|                266707|                     36285.0|                        34548|                     27625.0|  46171.0|2022-12-25 00:00:00|              2|         1.0|           160|2.276275734E9|21.927167529717583|\n",
            "|  31.9980357316113|34.944999105361916|     1304|      12753|           12713|                73|          28|                155757|                     19217.0|                        18607|                     15556.0|  21045.0|2022-12-25 00:00:00|             10|         1.0|           160|1.949465613E9|10.543242542259158|\n",
            "| 32.09482464128134|34.957967876485206|     2640|      40888|           40768|               403|          80|                468090|                     46114.0|                        43279|                     33118.0|  58307.0|2022-12-25 00:00:00|              5|         1.0|           150|1.961966686E9| 7.341311869869368|\n",
            "|31.731976348475584|34.745466677827686|     1034|      10889|           10850|               242|          42|                102593|                     11012.0|                         9695|                      6340.0|  21086.0|2022-12-25 00:00:00|              5|         1.0|           160|1.759662669E9|16.963457119180745|\n",
            "|32.315346510325725|34.932311527416765|      168|      13442|           13402|               142|          21|                156378|                     17106.0|                        16305|                     12670.0|  24720.0|2022-12-25 00:00:00|              7|         1.0|           160|1.938369132E9| 8.131533640531911|\n",
            "|31.732619825132215|34.988582888541416|     2610|      49093|           48987|               893|         119|                448978|                     54017.0|                        43811|                     28244.0| 123699.0|2022-12-25 00:00:00|              1|         1.0|           140|1.990062669E9|15.655043436340957|\n",
            "| 32.70846998191226|  35.3232937283241|     1061|      20411|           20234|               402|          84|                261503|                     28948.0|                        27142|                     21017.0|  40015.0|2022-12-25 00:00:00|              6|         4.0|           160|2.306073489E9|2.9849666344220926|\n",
            "|29.553043636618074|34.943222567718855|     2600|      22841|           22895|               214|          70|                376927|                     32445.0|                        30902|                     23473.0|  48494.0|2022-12-25 00:00:00|              5|         1.0|           150|1.941438506E9| 190.1164412330992|\n",
            "| 31.85589800392141| 35.16696976327909|     3730|       5237|            5233|                82|           7|                 47367|                      5078.0|                         4233|                      2704.0|  16426.0|2022-12-25 00:00:00|              6|         1.0|           160|2.159164034E9| 9.343544675925937|\n",
            "| 31.60930684446121|34.765775660463795|     2630|      31606|           31452|               757|         121|                313568|                     36704.0|                        33076|                     23883.0|  55227.0|2022-12-25 00:00:00|              5|         1.0|           150|1.778361308E9|29.658311939675162|\n",
            "+------------------+------------------+---------+-----------+----------------+------------------+------------+----------------------+----------------------------+-----------------------------+----------------------------+---------+-------------------+---------------+------------+--------------+-------------+------------------+\n",
            "only showing top 20 rows\n",
            "\n"
          ]
        }
      ]
    },
    {
      "cell_type": "markdown",
      "source": [
        "# Correlation between mortality percentage and distance from hospital"
      ],
      "metadata": {
        "id": "ZE7cEAjsh2IA"
      }
    },
    {
      "cell_type": "code",
      "source": [
        " #create a new column \"acc2_per\" that contains the percentage of accumulated_hospitalized in population\n",
        "merged_df = merged_df.withColumn(\"death2_per\", merged_df[\"total_deaths\"] / merged_df[\"total_pop\"])\n"
      ],
      "metadata": {
        "id": "aKdrpDbwh0L4"
      },
      "execution_count": null,
      "outputs": []
    },
    {
      "cell_type": "code",
      "source": [
        "# Select the relevant columns\n",
        "selected_df = merged_df.select(\"death2_per\", \"shortest_distance\")\n",
        "\n",
        "# Convert the DataFrame to a Pandas DataFrame\n",
        "pandas_df = selected_df.toPandas()\n",
        "\n",
        "# Create a scatter plot using Matplotlib\n",
        "plt.scatter(pandas_df[\"shortest_distance\"], pandas_df[\"death2_per\"])\n",
        "\n",
        "# Set the axis labels\n",
        "plt.xlabel(\"distance to hospital\")\n",
        "plt.ylabel(\"death percent\")\n",
        "\n",
        "# Show the plot\n",
        "plt.show()"
      ],
      "metadata": {
        "colab": {
          "base_uri": "https://localhost:8080/",
          "height": 279
        },
        "id": "qLg1n5-Zhz2e",
        "outputId": "38019392-6dab-443c-c363-39a1774cdf69"
      },
      "execution_count": null,
      "outputs": [
        {
          "output_type": "display_data",
          "data": {
            "text/plain": [
              "<Figure size 432x288 with 1 Axes>"
            ],
            "image/png": "[encoded data removed]"
          },
          "metadata": {
            "needs_background": "light"
          }
        }
      ]
    },
    {
      "cell_type": "code",
      "source": [
        "from pyspark.sql.functions import col\n",
        "from pyspark.sql.functions import corr\n",
        "from scipy.stats import t\n",
        "\n",
        "# Select the relevant columns\n",
        "selected_df = merged_df.select(col(\"death2_per\"), col(\"shortest_distance\"))\n",
        "\n",
        "# Calculate the correlation between the columns\n",
        "correlation = selected_df.corr(\"death2_per\", \"shortest_distance\")\n",
        "\n",
        "# Calculate the degrees of freedom\n",
        "n = selected_df.count()\n",
        "deg_f = n - 2\n",
        "\n",
        "# Calculate the t-statistic\n",
        "t_statistic = correlation * ((n - 2) ** 0.5) / ((1 - correlation ** 2) ** 0.5)\n",
        "\n",
        "# Calculate the p-value\n",
        "p_value = t.sf(abs(t_statistic), deg_f) * 2\n",
        "\n",
        "# Print the results\n",
        "print(\"correlation = \",correlation)\n",
        "\n",
        "if p_value < 0.05:\n",
        "    print(\"The correlation is statistically significant. p_value=\", p_value,\"correlation = \",correlation)\n",
        "else:\n",
        "    print(\"The correlation is not statistically significant.\")\n"
      ],
      "metadata": {
        "colab": {
          "base_uri": "https://localhost:8080/"
        },
        "id": "uVkgpV2NjpeU",
        "outputId": "1d0f9cf7-3ab6-413e-b711-c34a30ed0ea2"
      },
      "execution_count": null,
      "outputs": [
        {
          "output_type": "stream",
          "name": "stdout",
          "text": [
            "correlation =  -0.08526385919162889\n",
            "The correlation is not statistically significant.\n"
          ]
        }
      ]
    },
    {
      "cell_type": "code",
      "source": [
        " #create a new column \"acc2_per\" that contains the percentage of accumulated_hospitalized in population\n",
        "merged_df = merged_df.withColumn(\"hospital2_per\", merged_df[\"total_hospitalized\"] / merged_df[\"total_pop\"])\n"
      ],
      "metadata": {
        "id": "_EV6EX_NjpRU"
      },
      "execution_count": null,
      "outputs": []
    },
    {
      "cell_type": "code",
      "source": [
        "# Select the relevant columns\n",
        "selected_df = merged_df.select(\"hospital2_per\", \"shortest_distance\")\n",
        "\n",
        "# Convert the DataFrame to a Pandas DataFrame\n",
        "pandas_df = selected_df.toPandas()\n",
        "\n",
        "# Create a scatter plot using Matplotlib\n",
        "plt.scatter(pandas_df[\"shortest_distance\"], pandas_df[\"hospital2_per\"])\n",
        "\n",
        "# Set the axis labels\n",
        "plt.xlabel(\"distance to hospital\")\n",
        "plt.ylabel(\"death percent\")\n",
        "\n",
        "# Show the plot\n",
        "plt.show()"
      ],
      "metadata": {
        "colab": {
          "base_uri": "https://localhost:8080/",
          "height": 279
        },
        "id": "S9I0I8r0sHGJ",
        "outputId": "6d2422b9-1485-4fca-9a68-837b54844abd"
      },
      "execution_count": null,
      "outputs": [
        {
          "output_type": "display_data",
          "data": {
            "text/plain": [
              "<Figure size 432x288 with 1 Axes>"
            ],
            "image/png": "[encoded data removed]"
          },
          "metadata": {
            "needs_background": "light"
          }
        }
      ]
    },
    {
      "cell_type": "code",
      "source": [
        "from pyspark.sql.functions import col\n",
        "from pyspark.sql.functions import corr\n",
        "from scipy.stats import t\n",
        "\n",
        "# Select the relevant columns\n",
        "selected_df = merged_df.select(col(\"hospital2_per\"), col(\"shortest_distance\"))\n",
        "\n",
        "# Calculate the correlation between the columns\n",
        "correlation = selected_df.corr(\"hospital2_per\", \"shortest_distance\")\n",
        "\n",
        "# Calculate the degrees of freedom\n",
        "n = selected_df.count()\n",
        "deg_f = n - 2\n",
        "\n",
        "# Calculate the t-statistic\n",
        "t_statistic = correlation * ((n - 2) ** 0.5) / ((1 - correlation ** 2) ** 0.5)\n",
        "\n",
        "# Calculate the p-value\n",
        "p_value = t.sf(abs(t_statistic), deg_f) * 2\n",
        "\n",
        "# Print the results\n",
        "print(\"correlation = \",correlation)\n",
        "\n",
        "if p_value < 0.05:\n",
        "    print(\"The correlation is statistically significant. p_value=\", p_value,\"correlation = \",correlation)\n",
        "else:\n",
        "    print(\"The correlation is not statistically significant.\")\n"
      ],
      "metadata": {
        "colab": {
          "base_uri": "https://localhost:8080/"
        },
        "id": "IG0NKI_NsG75",
        "outputId": "198d1666-77bf-4cc4-ec9a-77d3e685820a"
      },
      "execution_count": null,
      "outputs": [
        {
          "output_type": "stream",
          "name": "stdout",
          "text": [
            "correlation =  -0.1455400604599862\n",
            "The correlation is not statistically significant.\n"
          ]
        }
      ]
    }
  ],
  "metadata": {
    "colab": {
      "provenance": [],
      "toc_visible": true
    },
    "kernelspec": {
      "display_name": "Python 3",
      "name": "python3"
    },
    "language_info": {
      "name": "python"
    },
    "widgets": {
      "application/vnd.jupyter.widget-state+json": {
        "fcfca92af6d642499bd67b8502752169": {
          "model_module": "@jupyter-widgets/controls",
          "model_name": "DropdownModel",
          "model_module_version": "1.5.0",
          "state": {
            "_dom_classes": [],
            "_model_module": "@jupyter-widgets/controls",
            "_model_module_version": "1.5.0",
            "_model_name": "DropdownModel",
            "_options_labels": [
              "do nothing",
              "GOOGLE DRIVE for DEVELOPER",
              "GITHUB for PRODUCTION"
            ],
            "_view_count": null,
            "_view_module": "@jupyter-widgets/controls",
            "_view_module_version": "1.5.0",
            "_view_name": "DropdownView",
            "description": "Select a command:",
            "description_tooltip": null,
            "disabled": false,
            "index": 1,
            "layout": "IPY_MODEL_9388f8b8fdbf42ed9a7a1ddaa7dabcfc",
            "style": "IPY_MODEL_c7e53c9191d04c7c8b21d326365c50a7"
          }
        },
        "9388f8b8fdbf42ed9a7a1ddaa7dabcfc": {
          "model_module": "@jupyter-widgets/base",
          "model_name": "LayoutModel",
          "model_module_version": "1.2.0",
          "state": {
            "_model_module": "@jupyter-widgets/base",
            "_model_module_version": "1.2.0",
            "_model_name": "LayoutModel",
            "_view_count": null,
            "_view_module": "@jupyter-widgets/base",
            "_view_module_version": "1.2.0",
            "_view_name": "LayoutView",
            "align_content": null,
            "align_items": null,
            "align_self": null,
            "border": null,
            "bottom": null,
            "display": null,
            "flex": null,
            "flex_flow": null,
            "grid_area": null,
            "grid_auto_columns": null,
            "grid_auto_flow": null,
            "grid_auto_rows": null,
            "grid_column": null,
            "grid_gap": null,
            "grid_row": null,
            "grid_template_areas": null,
            "grid_template_columns": null,
            "grid_template_rows": null,
            "height": null,
            "justify_content": null,
            "justify_items": null,
            "left": null,
            "margin": null,
            "max_height": null,
            "max_width": null,
            "min_height": null,
            "min_width": null,
            "object_fit": null,
            "object_position": null,
            "order": null,
            "overflow": null,
            "overflow_x": null,
            "overflow_y": null,
            "padding": null,
            "right": null,
            "top": null,
            "visibility": null,
            "width": null
          }
        },
        "c7e53c9191d04c7c8b21d326365c50a7": {
          "model_module": "@jupyter-widgets/controls",
          "model_name": "DescriptionStyleModel",
          "model_module_version": "1.5.0",
          "state": {
            "_model_module": "@jupyter-widgets/controls",
            "_model_module_version": "1.5.0",
            "_model_name": "DescriptionStyleModel",
            "_view_count": null,
            "_view_module": "@jupyter-widgets/base",
            "_view_module_version": "1.2.0",
            "_view_name": "StyleView",
            "description_width": ""
          }
        },
        "d4a64ae7a77c46ebaeb3856b8ed76527": {
          "model_module": "@jupyter-widgets/output",
          "model_name": "OutputModel",
          "model_module_version": "1.0.0",
          "state": {
            "_dom_classes": [],
            "_model_module": "@jupyter-widgets/output",
            "_model_module_version": "1.0.0",
            "_model_name": "OutputModel",
            "_view_count": null,
            "_view_module": "@jupyter-widgets/output",
            "_view_module_version": "1.0.0",
            "_view_name": "OutputView",
            "layout": "IPY_MODEL_96891b08448d447e977d629bf6f034fd",
            "msg_id": "",
            "outputs": [
              {
                "output_type": "stream",
                "name": "stdout",
                "text": [
                  "google drive selected\n",
                  "/bin/bash: -c: line 0: syntax error near unexpected token `('\n",
                  "/bin/bash: -c: line 0: `echo sum_per_day=spark.read.csv('/content/drive/MyDrive/runi/BDP project/corona final project/geo_sum_0815.csv', sep=',', inferSchema=True, header=True)'\n"
                ]
              },
              {
                "output_type": "stream",
                "name": "stdout",
                "text": [
                  "/bin/bash: -c: line 0: syntax error near unexpected token `('\n",
                  "/bin/bash: -c: line 0: `echo bycode2021=spark.read.csv('/content/drive/MyDrive/runi/BDP project/corona final project/bycode2021v2.csv', sep=',', inferSchema=True, header=True)'\n"
                ]
              },
              {
                "output_type": "stream",
                "name": "stdout",
                "text": [
                  "/bin/bash: -c: line 0: syntax error near unexpected token `('\n",
                  "/bin/bash: -c: line 0: `echo socio_rank_pop=spark.read.csv('/content/drive/MyDrive/runi/BDP project/corona final project/ LOCAL AUTHORITIES IN ASCENDING csv.csv', sep=',', inferSchema=True, header=True)'\n"
                ]
              },
              {
                "output_type": "stream",
                "name": "stdout",
                "text": [
                  "/bin/bash: -c: line 0: syntax error near unexpected token `('\n",
                  "/bin/bash: -c: line 0: `echo sub_socio_rank_pop=spark.read.csv('/content/drive/MyDrive/runi/BDP project/corona final project/statistical area and ranking geo scocio.csv', sep=',', inferSchema=True, header=True)'\n"
                ]
              },
              {
                "output_type": "stream",
                "name": "stdout",
                "text": [
                  "/bin/bash: -c: line 0: syntax error near unexpected token `('\n",
                  "/bin/bash: -c: line 0: `echo hospitals=spark.read.csv('/content/drive/MyDrive/runi/BDP project/corona final project/hospitals.csv', sep=',', inferSchema=True, header=True)'\n"
                ]
              },
              {
                "output_type": "stream",
                "name": "stdout",
                "text": [
                  "loaded\n"
                ]
              }
            ]
          }
        },
        "96891b08448d447e977d629bf6f034fd": {
          "model_module": "@jupyter-widgets/base",
          "model_name": "LayoutModel",
          "model_module_version": "1.2.0",
          "state": {
            "_model_module": "@jupyter-widgets/base",
            "_model_module_version": "1.2.0",
            "_model_name": "LayoutModel",
            "_view_count": null,
            "_view_module": "@jupyter-widgets/base",
            "_view_module_version": "1.2.0",
            "_view_name": "LayoutView",
            "align_content": null,
            "align_items": null,
            "align_self": null,
            "border": null,
            "bottom": null,
            "display": null,
            "flex": null,
            "flex_flow": null,
            "grid_area": null,
            "grid_auto_columns": null,
            "grid_auto_flow": null,
            "grid_auto_rows": null,
            "grid_column": null,
            "grid_gap": null,
            "grid_row": null,
            "grid_template_areas": null,
            "grid_template_columns": null,
            "grid_template_rows": null,
            "height": null,
            "justify_content": null,
            "justify_items": null,
            "left": null,
            "margin": null,
            "max_height": null,
            "max_width": null,
            "min_height": null,
            "min_width": null,
            "object_fit": null,
            "object_position": null,
            "order": null,
            "overflow": null,
            "overflow_x": null,
            "overflow_y": null,
            "padding": null,
            "right": null,
            "top": null,
            "visibility": null,
            "width": null
          }
        }
      }
    }
  },
  "nbformat": 4,
  "nbformat_minor": 0
}