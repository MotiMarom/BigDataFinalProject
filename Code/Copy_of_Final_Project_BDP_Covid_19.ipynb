{
  "cells": [
    {
      "cell_type": "markdown",
      "source": [],
      "metadata": {
        "id": "QRrZGTwqpptv"
      }
    },
    {
      "cell_type": "markdown",
      "source": [
        "# 1 env set up"
      ],
      "metadata": {
        "id": "I6GD1f_jpqMS"
      }
    },
    {
      "cell_type": "code",
      "execution_count": null,
      "metadata": {
        "colab": {
          "base_uri": "https://localhost:8080/"
        },
        "id": "llLAQGT9RrnJ",
        "outputId": "374b8529-cce8-4f6c-857b-56e74acbd3f5"
      },
      "outputs": [
        {
          "output_type": "stream",
          "name": "stdout",
          "text": [
            "3.8.10\n"
          ]
        }
      ],
      "source": [
        "\n",
        "\n",
        "from platform import python_version\n",
        "\n",
        "print(python_version())"
      ]
    },
    {
      "cell_type": "markdown",
      "source": [
        "env python should be 3.8.10"
      ],
      "metadata": {
        "id": "Mjv72AF4py-Y"
      }
    },
    {
      "cell_type": "code",
      "execution_count": null,
      "metadata": {
        "colab": {
          "base_uri": "https://localhost:8080/"
        },
        "id": "pwWl4q5IHAhA",
        "outputId": "79a581f0-2692-49a7-e02a-688ab60428ff"
      },
      "outputs": [
        {
          "output_type": "stream",
          "name": "stdout",
          "text": [
            "--2023-02-17 14:36:49--  https://dlcdn.apache.org/spark/spark-3.3.1/spark-3.3.1-bin-hadoop3.tgz\n",
            "Resolving dlcdn.apache.org (dlcdn.apache.org)... 151.101.2.132, 2a04:4e42::644\n",
            "Connecting to dlcdn.apache.org (dlcdn.apache.org)|151.101.2.132|:443... connected.\n",
            "HTTP request sent, awaiting response... 200 OK\n",
            "Length: 299350810 (285M) [application/x-gzip]\n",
            "Saving to: ‘./spark-3.3.1-bin-hadoop3.tgz’\n",
            "\n",
            "./spark-3.3.1-bin-h 100%[===================>] 285.48M   163MB/s    in 1.8s    \n",
            "\n",
            "2023-02-17 14:36:51 (163 MB/s) - ‘./spark-3.3.1-bin-hadoop3.tgz’ saved [299350810/299350810]\n",
            "\n",
            "spark-3.3.1-bin-hadoop3/\n",
            "spark-3.3.1-bin-hadoop3/LICENSE\n",
            "spark-3.3.1-bin-hadoop3/NOTICE\n",
            "spark-3.3.1-bin-hadoop3/R/\n",
            "spark-3.3.1-bin-hadoop3/R/lib/\n",
            "spark-3.3.1-bin-hadoop3/R/lib/SparkR/\n",
            "spark-3.3.1-bin-hadoop3/R/lib/SparkR/DESCRIPTION\n",
            "spark-3.3.1-bin-hadoop3/R/lib/SparkR/INDEX\n",
            "spark-3.3.1-bin-hadoop3/R/lib/SparkR/Meta/\n",
            "spark-3.3.1-bin-hadoop3/R/lib/SparkR/Meta/Rd.rds\n",
            "spark-3.3.1-bin-hadoop3/R/lib/SparkR/Meta/features.rds\n",
            "spark-3.3.1-bin-hadoop3/R/lib/SparkR/Meta/hsearch.rds\n",
            "spark-3.3.1-bin-hadoop3/R/lib/SparkR/Meta/links.rds\n",
            "spark-3.3.1-bin-hadoop3/R/lib/SparkR/Meta/nsInfo.rds\n",
            "spark-3.3.1-bin-hadoop3/R/lib/SparkR/Meta/package.rds\n",
            "spark-3.3.1-bin-hadoop3/R/lib/SparkR/Meta/vignette.rds\n",
            "spark-3.3.1-bin-hadoop3/R/lib/SparkR/NAMESPACE\n",
            "spark-3.3.1-bin-hadoop3/R/lib/SparkR/R/\n",
            "spark-3.3.1-bin-hadoop3/R/lib/SparkR/R/SparkR\n",
            "spark-3.3.1-bin-hadoop3/R/lib/SparkR/R/SparkR.rdb\n",
            "spark-3.3.1-bin-hadoop3/R/lib/SparkR/R/SparkR.rdx\n",
            "spark-3.3.1-bin-hadoop3/R/lib/SparkR/doc/\n",
            "spark-3.3.1-bin-hadoop3/R/lib/SparkR/doc/index.html\n",
            "spark-3.3.1-bin-hadoop3/R/lib/SparkR/doc/sparkr-vignettes.R\n",
            "spark-3.3.1-bin-hadoop3/R/lib/SparkR/doc/sparkr-vignettes.Rmd\n",
            "spark-3.3.1-bin-hadoop3/R/lib/SparkR/doc/sparkr-vignettes.html\n",
            "spark-3.3.1-bin-hadoop3/R/lib/SparkR/help/\n",
            "spark-3.3.1-bin-hadoop3/R/lib/SparkR/help/AnIndex\n",
            "spark-3.3.1-bin-hadoop3/R/lib/SparkR/help/SparkR.rdb\n",
            "spark-3.3.1-bin-hadoop3/R/lib/SparkR/help/SparkR.rdx\n",
            "spark-3.3.1-bin-hadoop3/R/lib/SparkR/help/aliases.rds\n",
            "spark-3.3.1-bin-hadoop3/R/lib/SparkR/help/paths.rds\n",
            "spark-3.3.1-bin-hadoop3/R/lib/SparkR/html/\n",
            "spark-3.3.1-bin-hadoop3/R/lib/SparkR/html/00Index.html\n",
            "spark-3.3.1-bin-hadoop3/R/lib/SparkR/html/R.css\n",
            "spark-3.3.1-bin-hadoop3/R/lib/SparkR/profile/\n",
            "spark-3.3.1-bin-hadoop3/R/lib/SparkR/profile/general.R\n",
            "spark-3.3.1-bin-hadoop3/R/lib/SparkR/profile/shell.R\n",
            "spark-3.3.1-bin-hadoop3/R/lib/SparkR/tests/\n",
            "spark-3.3.1-bin-hadoop3/R/lib/SparkR/tests/testthat/\n",
            "spark-3.3.1-bin-hadoop3/R/lib/SparkR/tests/testthat/test_basic.R\n",
            "spark-3.3.1-bin-hadoop3/R/lib/SparkR/worker/\n",
            "spark-3.3.1-bin-hadoop3/R/lib/SparkR/worker/daemon.R\n",
            "spark-3.3.1-bin-hadoop3/R/lib/SparkR/worker/worker.R\n",
            "spark-3.3.1-bin-hadoop3/R/lib/sparkr.zip\n",
            "spark-3.3.1-bin-hadoop3/README.md\n",
            "spark-3.3.1-bin-hadoop3/RELEASE\n",
            "spark-3.3.1-bin-hadoop3/bin/\n",
            "spark-3.3.1-bin-hadoop3/bin/beeline\n",
            "spark-3.3.1-bin-hadoop3/bin/beeline.cmd\n",
            "spark-3.3.1-bin-hadoop3/bin/docker-image-tool.sh\n",
            "spark-3.3.1-bin-hadoop3/bin/find-spark-home\n",
            "spark-3.3.1-bin-hadoop3/bin/find-spark-home.cmd\n",
            "spark-3.3.1-bin-hadoop3/bin/load-spark-env.cmd\n",
            "spark-3.3.1-bin-hadoop3/bin/load-spark-env.sh\n",
            "spark-3.3.1-bin-hadoop3/bin/pyspark\n",
            "spark-3.3.1-bin-hadoop3/bin/pyspark.cmd\n",
            "spark-3.3.1-bin-hadoop3/bin/pyspark2.cmd\n",
            "spark-3.3.1-bin-hadoop3/bin/run-example\n",
            "spark-3.3.1-bin-hadoop3/bin/run-example.cmd\n",
            "spark-3.3.1-bin-hadoop3/bin/spark-class\n",
            "spark-3.3.1-bin-hadoop3/bin/spark-class.cmd\n",
            "spark-3.3.1-bin-hadoop3/bin/spark-class2.cmd\n",
            "spark-3.3.1-bin-hadoop3/bin/spark-shell\n",
            "spark-3.3.1-bin-hadoop3/bin/spark-shell.cmd\n",
            "spark-3.3.1-bin-hadoop3/bin/spark-shell2.cmd\n",
            "spark-3.3.1-bin-hadoop3/bin/spark-sql\n",
            "spark-3.3.1-bin-hadoop3/bin/spark-sql.cmd\n",
            "spark-3.3.1-bin-hadoop3/bin/spark-sql2.cmd\n",
            "spark-3.3.1-bin-hadoop3/bin/spark-submit\n",
            "spark-3.3.1-bin-hadoop3/bin/spark-submit.cmd\n",
            "spark-3.3.1-bin-hadoop3/bin/spark-submit2.cmd\n",
            "spark-3.3.1-bin-hadoop3/bin/sparkR\n",
            "spark-3.3.1-bin-hadoop3/bin/sparkR.cmd\n",
            "spark-3.3.1-bin-hadoop3/bin/sparkR2.cmd\n",
            "spark-3.3.1-bin-hadoop3/conf/\n",
            "spark-3.3.1-bin-hadoop3/conf/fairscheduler.xml.template\n",
            "spark-3.3.1-bin-hadoop3/conf/log4j2.properties.template\n",
            "spark-3.3.1-bin-hadoop3/conf/metrics.properties.template\n",
            "spark-3.3.1-bin-hadoop3/conf/spark-defaults.conf.template\n",
            "spark-3.3.1-bin-hadoop3/conf/spark-env.sh.template\n",
            "spark-3.3.1-bin-hadoop3/conf/workers.template\n",
            "spark-3.3.1-bin-hadoop3/data/\n",
            "spark-3.3.1-bin-hadoop3/data/graphx/\n",
            "spark-3.3.1-bin-hadoop3/data/graphx/followers.txt\n",
            "spark-3.3.1-bin-hadoop3/data/graphx/users.txt\n",
            "spark-3.3.1-bin-hadoop3/data/mllib/\n",
            "spark-3.3.1-bin-hadoop3/data/mllib/als/\n",
            "spark-3.3.1-bin-hadoop3/data/mllib/als/sample_movielens_ratings.txt\n",
            "spark-3.3.1-bin-hadoop3/data/mllib/als/test.data\n",
            "spark-3.3.1-bin-hadoop3/data/mllib/gmm_data.txt\n",
            "spark-3.3.1-bin-hadoop3/data/mllib/images/\n",
            "spark-3.3.1-bin-hadoop3/data/mllib/images/license.txt\n",
            "spark-3.3.1-bin-hadoop3/data/mllib/images/origin/\n",
            "spark-3.3.1-bin-hadoop3/data/mllib/images/origin/kittens/\n",
            "spark-3.3.1-bin-hadoop3/data/mllib/images/origin/kittens/29.5.a_b_EGDP022204.jpg\n",
            "spark-3.3.1-bin-hadoop3/data/mllib/images/origin/kittens/54893.jpg\n",
            "spark-3.3.1-bin-hadoop3/data/mllib/images/origin/kittens/DP153539.jpg\n",
            "spark-3.3.1-bin-hadoop3/data/mllib/images/origin/kittens/DP802813.jpg\n",
            "spark-3.3.1-bin-hadoop3/data/mllib/images/origin/kittens/not-image.txt\n",
            "spark-3.3.1-bin-hadoop3/data/mllib/images/origin/license.txt\n",
            "spark-3.3.1-bin-hadoop3/data/mllib/images/origin/multi-channel/\n",
            "spark-3.3.1-bin-hadoop3/data/mllib/images/origin/multi-channel/BGRA.png\n",
            "spark-3.3.1-bin-hadoop3/data/mllib/images/origin/multi-channel/BGRA_alpha_60.png\n",
            "spark-3.3.1-bin-hadoop3/data/mllib/images/origin/multi-channel/chr30.4.184.jpg\n",
            "spark-3.3.1-bin-hadoop3/data/mllib/images/origin/multi-channel/grayscale.jpg\n",
            "spark-3.3.1-bin-hadoop3/data/mllib/kmeans_data.txt\n",
            "spark-3.3.1-bin-hadoop3/data/mllib/pagerank_data.txt\n",
            "spark-3.3.1-bin-hadoop3/data/mllib/pic_data.txt\n",
            "spark-3.3.1-bin-hadoop3/data/mllib/ridge-data/\n",
            "spark-3.3.1-bin-hadoop3/data/mllib/ridge-data/lpsa.data\n",
            "spark-3.3.1-bin-hadoop3/data/mllib/sample_binary_classification_data.txt\n",
            "spark-3.3.1-bin-hadoop3/data/mllib/sample_fpgrowth.txt\n",
            "spark-3.3.1-bin-hadoop3/data/mllib/sample_isotonic_regression_libsvm_data.txt\n",
            "spark-3.3.1-bin-hadoop3/data/mllib/sample_kmeans_data.txt\n",
            "spark-3.3.1-bin-hadoop3/data/mllib/sample_lda_data.txt\n",
            "spark-3.3.1-bin-hadoop3/data/mllib/sample_lda_libsvm_data.txt\n",
            "spark-3.3.1-bin-hadoop3/data/mllib/sample_libsvm_data.txt\n",
            "spark-3.3.1-bin-hadoop3/data/mllib/sample_linear_regression_data.txt\n",
            "spark-3.3.1-bin-hadoop3/data/mllib/sample_movielens_data.txt\n",
            "spark-3.3.1-bin-hadoop3/data/mllib/sample_multiclass_classification_data.txt\n",
            "spark-3.3.1-bin-hadoop3/data/mllib/sample_svm_data.txt\n",
            "spark-3.3.1-bin-hadoop3/data/mllib/streaming_kmeans_data_test.txt\n",
            "spark-3.3.1-bin-hadoop3/data/streaming/\n",
            "spark-3.3.1-bin-hadoop3/data/streaming/AFINN-111.txt\n",
            "spark-3.3.1-bin-hadoop3/examples/\n",
            "spark-3.3.1-bin-hadoop3/examples/jars/\n",
            "spark-3.3.1-bin-hadoop3/examples/jars/scopt_2.12-3.7.1.jar\n",
            "spark-3.3.1-bin-hadoop3/examples/jars/spark-examples_2.12-3.3.1.jar\n",
            "spark-3.3.1-bin-hadoop3/examples/src/\n",
            "spark-3.3.1-bin-hadoop3/examples/src/main/\n",
            "spark-3.3.1-bin-hadoop3/examples/src/main/java/\n",
            "spark-3.3.1-bin-hadoop3/examples/src/main/java/org/\n",
            "spark-3.3.1-bin-hadoop3/examples/src/main/java/org/apache/\n",
            "spark-3.3.1-bin-hadoop3/examples/src/main/java/org/apache/spark/\n",
            "spark-3.3.1-bin-hadoop3/examples/src/main/java/org/apache/spark/examples/\n",
            "spark-3.3.1-bin-hadoop3/examples/src/main/java/org/apache/spark/examples/JavaHdfsLR.java\n",
            "spark-3.3.1-bin-hadoop3/examples/src/main/java/org/apache/spark/examples/JavaLogQuery.java\n",
            "spark-3.3.1-bin-hadoop3/examples/src/main/java/org/apache/spark/examples/JavaPageRank.java\n",
            "spark-3.3.1-bin-hadoop3/examples/src/main/java/org/apache/spark/examples/JavaSparkPi.java\n",
            "spark-3.3.1-bin-hadoop3/examples/src/main/java/org/apache/spark/examples/JavaStatusTrackerDemo.java\n",
            "spark-3.3.1-bin-hadoop3/examples/src/main/java/org/apache/spark/examples/JavaTC.java\n",
            "spark-3.3.1-bin-hadoop3/examples/src/main/java/org/apache/spark/examples/JavaWordCount.java\n",
            "spark-3.3.1-bin-hadoop3/examples/src/main/java/org/apache/spark/examples/ml/\n",
            "spark-3.3.1-bin-hadoop3/examples/src/main/java/org/apache/spark/examples/ml/JavaAFTSurvivalRegressionExample.java\n",
            "spark-3.3.1-bin-hadoop3/examples/src/main/java/org/apache/spark/examples/ml/JavaALSExample.java\n",
            "spark-3.3.1-bin-hadoop3/examples/src/main/java/org/apache/spark/examples/ml/JavaBinarizerExample.java\n",
            "spark-3.3.1-bin-hadoop3/examples/src/main/java/org/apache/spark/examples/ml/JavaBisectingKMeansExample.java\n",
            "spark-3.3.1-bin-hadoop3/examples/src/main/java/org/apache/spark/examples/ml/JavaBucketedRandomProjectionLSHExample.java\n",
            "spark-3.3.1-bin-hadoop3/examples/src/main/java/org/apache/spark/examples/ml/JavaBucketizerExample.java\n",
            "spark-3.3.1-bin-hadoop3/examples/src/main/java/org/apache/spark/examples/ml/JavaChiSqSelectorExample.java\n",
            "spark-3.3.1-bin-hadoop3/examples/src/main/java/org/apache/spark/examples/ml/JavaChiSquareTestExample.java\n",
            "spark-3.3.1-bin-hadoop3/examples/src/main/java/org/apache/spark/examples/ml/JavaCorrelationExample.java\n",
            "spark-3.3.1-bin-hadoop3/examples/src/main/java/org/apache/spark/examples/ml/JavaCountVectorizerExample.java\n",
            "spark-3.3.1-bin-hadoop3/examples/src/main/java/org/apache/spark/examples/ml/JavaDCTExample.java\n",
            "spark-3.3.1-bin-hadoop3/examples/src/main/java/org/apache/spark/examples/ml/JavaDecisionTreeClassificationExample.java\n",
            "spark-3.3.1-bin-hadoop3/examples/src/main/java/org/apache/spark/examples/ml/JavaDecisionTreeRegressionExample.java\n",
            "spark-3.3.1-bin-hadoop3/examples/src/main/java/org/apache/spark/examples/ml/JavaDocument.java\n",
            "spark-3.3.1-bin-hadoop3/examples/src/main/java/org/apache/spark/examples/ml/JavaElementwiseProductExample.java\n",
            "spark-3.3.1-bin-hadoop3/examples/src/main/java/org/apache/spark/examples/ml/JavaEstimatorTransformerParamExample.java\n",
            "spark-3.3.1-bin-hadoop3/examples/src/main/java/org/apache/spark/examples/ml/JavaFMClassifierExample.java\n",
            "spark-3.3.1-bin-hadoop3/examples/src/main/java/org/apache/spark/examples/ml/JavaFMRegressorExample.java\n",
            "spark-3.3.1-bin-hadoop3/examples/src/main/java/org/apache/spark/examples/ml/JavaFPGrowthExample.java\n",
            "spark-3.3.1-bin-hadoop3/examples/src/main/java/org/apache/spark/examples/ml/JavaFeatureHasherExample.java\n",
            "spark-3.3.1-bin-hadoop3/examples/src/main/java/org/apache/spark/examples/ml/JavaGaussianMixtureExample.java\n",
            "spark-3.3.1-bin-hadoop3/examples/src/main/java/org/apache/spark/examples/ml/JavaGeneralizedLinearRegressionExample.java\n",
            "spark-3.3.1-bin-hadoop3/examples/src/main/java/org/apache/spark/examples/ml/JavaGradientBoostedTreeClassifierExample.java\n",
            "spark-3.3.1-bin-hadoop3/examples/src/main/java/org/apache/spark/examples/ml/JavaGradientBoostedTreeRegressorExample.java\n",
            "spark-3.3.1-bin-hadoop3/examples/src/main/java/org/apache/spark/examples/ml/JavaImputerExample.java\n",
            "spark-3.3.1-bin-hadoop3/examples/src/main/java/org/apache/spark/examples/ml/JavaIndexToStringExample.java\n",
            "spark-3.3.1-bin-hadoop3/examples/src/main/java/org/apache/spark/examples/ml/JavaInteractionExample.java\n",
            "spark-3.3.1-bin-hadoop3/examples/src/main/java/org/apache/spark/examples/ml/JavaIsotonicRegressionExample.java\n",
            "spark-3.3.1-bin-hadoop3/examples/src/main/java/org/apache/spark/examples/ml/JavaKMeansExample.java\n",
            "spark-3.3.1-bin-hadoop3/examples/src/main/java/org/apache/spark/examples/ml/JavaLDAExample.java\n",
            "spark-3.3.1-bin-hadoop3/examples/src/main/java/org/apache/spark/examples/ml/JavaLabeledDocument.java\n",
            "spark-3.3.1-bin-hadoop3/examples/src/main/java/org/apache/spark/examples/ml/JavaLinearRegressionWithElasticNetExample.java\n",
            "spark-3.3.1-bin-hadoop3/examples/src/main/java/org/apache/spark/examples/ml/JavaLinearSVCExample.java\n",
            "spark-3.3.1-bin-hadoop3/examples/src/main/java/org/apache/spark/examples/ml/JavaLogisticRegressionSummaryExample.java\n",
            "spark-3.3.1-bin-hadoop3/examples/src/main/java/org/apache/spark/examples/ml/JavaLogisticRegressionWithElasticNetExample.java\n",
            "spark-3.3.1-bin-hadoop3/examples/src/main/java/org/apache/spark/examples/ml/JavaMaxAbsScalerExample.java\n",
            "spark-3.3.1-bin-hadoop3/examples/src/main/java/org/apache/spark/examples/ml/JavaMinHashLSHExample.java\n",
            "spark-3.3.1-bin-hadoop3/examples/src/main/java/org/apache/spark/examples/ml/JavaMinMaxScalerExample.java\n",
            "spark-3.3.1-bin-hadoop3/examples/src/main/java/org/apache/spark/examples/ml/JavaModelSelectionViaCrossValidationExample.java\n",
            "spark-3.3.1-bin-hadoop3/examples/src/main/java/org/apache/spark/examples/ml/JavaModelSelectionViaTrainValidationSplitExample.java\n",
            "spark-3.3.1-bin-hadoop3/examples/src/main/java/org/apache/spark/examples/ml/JavaMulticlassLogisticRegressionWithElasticNetExample.java\n",
            "spark-3.3.1-bin-hadoop3/examples/src/main/java/org/apache/spark/examples/ml/JavaMultilayerPerceptronClassifierExample.java\n",
            "spark-3.3.1-bin-hadoop3/examples/src/main/java/org/apache/spark/examples/ml/JavaNGramExample.java\n",
            "spark-3.3.1-bin-hadoop3/examples/src/main/java/org/apache/spark/examples/ml/JavaNaiveBayesExample.java\n",
            "spark-3.3.1-bin-hadoop3/examples/src/main/java/org/apache/spark/examples/ml/JavaNormalizerExample.java\n",
            "spark-3.3.1-bin-hadoop3/examples/src/main/java/org/apache/spark/examples/ml/JavaOneHotEncoderExample.java\n",
            "spark-3.3.1-bin-hadoop3/examples/src/main/java/org/apache/spark/examples/ml/JavaOneVsRestExample.java\n",
            "spark-3.3.1-bin-hadoop3/examples/src/main/java/org/apache/spark/examples/ml/JavaPCAExample.java\n",
            "spark-3.3.1-bin-hadoop3/examples/src/main/java/org/apache/spark/examples/ml/JavaPipelineExample.java\n",
            "spark-3.3.1-bin-hadoop3/examples/src/main/java/org/apache/spark/examples/ml/JavaPolynomialExpansionExample.java\n",
            "spark-3.3.1-bin-hadoop3/examples/src/main/java/org/apache/spark/examples/ml/JavaPowerIterationClusteringExample.java\n",
            "spark-3.3.1-bin-hadoop3/examples/src/main/java/org/apache/spark/examples/ml/JavaPrefixSpanExample.java\n",
            "spark-3.3.1-bin-hadoop3/examples/src/main/java/org/apache/spark/examples/ml/JavaQuantileDiscretizerExample.java\n",
            "spark-3.3.1-bin-hadoop3/examples/src/main/java/org/apache/spark/examples/ml/JavaRFormulaExample.java\n",
            "spark-3.3.1-bin-hadoop3/examples/src/main/java/org/apache/spark/examples/ml/JavaRandomForestClassifierExample.java\n",
            "spark-3.3.1-bin-hadoop3/examples/src/main/java/org/apache/spark/examples/ml/JavaRandomForestRegressorExample.java\n",
            "spark-3.3.1-bin-hadoop3/examples/src/main/java/org/apache/spark/examples/ml/JavaRobustScalerExample.java\n",
            "spark-3.3.1-bin-hadoop3/examples/src/main/java/org/apache/spark/examples/ml/JavaSQLTransformerExample.java\n",
            "spark-3.3.1-bin-hadoop3/examples/src/main/java/org/apache/spark/examples/ml/JavaStandardScalerExample.java\n",
            "spark-3.3.1-bin-hadoop3/examples/src/main/java/org/apache/spark/examples/ml/JavaStopWordsRemoverExample.java\n",
            "spark-3.3.1-bin-hadoop3/examples/src/main/java/org/apache/spark/examples/ml/JavaStringIndexerExample.java\n",
            "spark-3.3.1-bin-hadoop3/examples/src/main/java/org/apache/spark/examples/ml/JavaSummarizerExample.java\n",
            "spark-3.3.1-bin-hadoop3/examples/src/main/java/org/apache/spark/examples/ml/JavaTfIdfExample.java\n",
            "spark-3.3.1-bin-hadoop3/examples/src/main/java/org/apache/spark/examples/ml/JavaTokenizerExample.java\n",
            "spark-3.3.1-bin-hadoop3/examples/src/main/java/org/apache/spark/examples/ml/JavaUnivariateFeatureSelectorExample.java\n",
            "spark-3.3.1-bin-hadoop3/examples/src/main/java/org/apache/spark/examples/ml/JavaVarianceThresholdSelectorExample.java\n",
            "spark-3.3.1-bin-hadoop3/examples/src/main/java/org/apache/spark/examples/ml/JavaVectorAssemblerExample.java\n",
            "spark-3.3.1-bin-hadoop3/examples/src/main/java/org/apache/spark/examples/ml/JavaVectorIndexerExample.java\n",
            "spark-3.3.1-bin-hadoop3/examples/src/main/java/org/apache/spark/examples/ml/JavaVectorSizeHintExample.java\n",
            "spark-3.3.1-bin-hadoop3/examples/src/main/java/org/apache/spark/examples/ml/JavaVectorSlicerExample.java\n",
            "spark-3.3.1-bin-hadoop3/examples/src/main/java/org/apache/spark/examples/ml/JavaWord2VecExample.java\n",
            "spark-3.3.1-bin-hadoop3/examples/src/main/java/org/apache/spark/examples/mllib/\n",
            "spark-3.3.1-bin-hadoop3/examples/src/main/java/org/apache/spark/examples/mllib/JavaALS.java\n",
            "spark-3.3.1-bin-hadoop3/examples/src/main/java/org/apache/spark/examples/mllib/JavaAssociationRulesExample.java\n",
            "spark-3.3.1-bin-hadoop3/examples/src/main/java/org/apache/spark/examples/mllib/JavaBinaryClassificationMetricsExample.java\n",
            "spark-3.3.1-bin-hadoop3/examples/src/main/java/org/apache/spark/examples/mllib/JavaBisectingKMeansExample.java\n",
            "spark-3.3.1-bin-hadoop3/examples/src/main/java/org/apache/spark/examples/mllib/JavaChiSqSelectorExample.java\n",
            "spark-3.3.1-bin-hadoop3/examples/src/main/java/org/apache/spark/examples/mllib/JavaCorrelationsExample.java\n",
            "spark-3.3.1-bin-hadoop3/examples/src/main/java/org/apache/spark/examples/mllib/JavaDecisionTreeClassificationExample.java\n",
            "spark-3.3.1-bin-hadoop3/examples/src/main/java/org/apache/spark/examples/mllib/JavaDecisionTreeRegressionExample.java\n",
            "spark-3.3.1-bin-hadoop3/examples/src/main/java/org/apache/spark/examples/mllib/JavaElementwiseProductExample.java\n",
            "spark-3.3.1-bin-hadoop3/examples/src/main/java/org/apache/spark/examples/mllib/JavaGaussianMixtureExample.java\n",
            "spark-3.3.1-bin-hadoop3/examples/src/main/java/org/apache/spark/examples/mllib/JavaGradientBoostingClassificationExample.java\n",
            "spark-3.3.1-bin-hadoop3/examples/src/main/java/org/apache/spark/examples/mllib/JavaGradientBoostingRegressionExample.java\n",
            "spark-3.3.1-bin-hadoop3/examples/src/main/java/org/apache/spark/examples/mllib/JavaHypothesisTestingExample.java\n",
            "spark-3.3.1-bin-hadoop3/examples/src/main/java/org/apache/spark/examples/mllib/JavaHypothesisTestingKolmogorovSmirnovTestExample.java\n",
            "spark-3.3.1-bin-hadoop3/examples/src/main/java/org/apache/spark/examples/mllib/JavaIsotonicRegressionExample.java\n",
            "spark-3.3.1-bin-hadoop3/examples/src/main/java/org/apache/spark/examples/mllib/JavaKMeansExample.java\n",
            "spark-3.3.1-bin-hadoop3/examples/src/main/java/org/apache/spark/examples/mllib/JavaKernelDensityEstimationExample.java\n",
            "spark-3.3.1-bin-hadoop3/examples/src/main/java/org/apache/spark/examples/mllib/JavaLBFGSExample.java\n",
            "spark-3.3.1-bin-hadoop3/examples/src/main/java/org/apache/spark/examples/mllib/JavaLatentDirichletAllocationExample.java\n",
            "spark-3.3.1-bin-hadoop3/examples/src/main/java/org/apache/spark/examples/mllib/JavaLogisticRegressionWithLBFGSExample.java\n",
            "spark-3.3.1-bin-hadoop3/examples/src/main/java/org/apache/spark/examples/mllib/JavaMultiLabelClassificationMetricsExample.java\n",
            "spark-3.3.1-bin-hadoop3/examples/src/main/java/org/apache/spark/examples/mllib/JavaMulticlassClassificationMetricsExample.java\n",
            "spark-3.3.1-bin-hadoop3/examples/src/main/java/org/apache/spark/examples/mllib/JavaNaiveBayesExample.java\n",
            "spark-3.3.1-bin-hadoop3/examples/src/main/java/org/apache/spark/examples/mllib/JavaPCAExample.java\n",
            "spark-3.3.1-bin-hadoop3/examples/src/main/java/org/apache/spark/examples/mllib/JavaPowerIterationClusteringExample.java\n",
            "spark-3.3.1-bin-hadoop3/examples/src/main/java/org/apache/spark/examples/mllib/JavaPrefixSpanExample.java\n",
            "spark-3.3.1-bin-hadoop3/examples/src/main/java/org/apache/spark/examples/mllib/JavaRandomForestClassificationExample.java\n",
            "spark-3.3.1-bin-hadoop3/examples/src/main/java/org/apache/spark/examples/mllib/JavaRandomForestRegressionExample.java\n",
            "spark-3.3.1-bin-hadoop3/examples/src/main/java/org/apache/spark/examples/mllib/JavaRankingMetricsExample.java\n",
            "spark-3.3.1-bin-hadoop3/examples/src/main/java/org/apache/spark/examples/mllib/JavaRecommendationExample.java\n",
            "spark-3.3.1-bin-hadoop3/examples/src/main/java/org/apache/spark/examples/mllib/JavaSVDExample.java\n",
            "spark-3.3.1-bin-hadoop3/examples/src/main/java/org/apache/spark/examples/mllib/JavaSVMWithSGDExample.java\n",
            "spark-3.3.1-bin-hadoop3/examples/src/main/java/org/apache/spark/examples/mllib/JavaSimpleFPGrowth.java\n",
            "spark-3.3.1-bin-hadoop3/examples/src/main/java/org/apache/spark/examples/mllib/JavaStratifiedSamplingExample.java\n",
            "spark-3.3.1-bin-hadoop3/examples/src/main/java/org/apache/spark/examples/mllib/JavaStreamingTestExample.java\n",
            "spark-3.3.1-bin-hadoop3/examples/src/main/java/org/apache/spark/examples/mllib/JavaSummaryStatisticsExample.java\n",
            "spark-3.3.1-bin-hadoop3/examples/src/main/java/org/apache/spark/examples/sql/\n",
            "spark-3.3.1-bin-hadoop3/examples/src/main/java/org/apache/spark/examples/sql/JavaSQLDataSourceExample.java\n",
            "spark-3.3.1-bin-hadoop3/examples/src/main/java/org/apache/spark/examples/sql/JavaSparkSQLExample.java\n",
            "spark-3.3.1-bin-hadoop3/examples/src/main/java/org/apache/spark/examples/sql/JavaUserDefinedScalar.java\n",
            "spark-3.3.1-bin-hadoop3/examples/src/main/java/org/apache/spark/examples/sql/JavaUserDefinedTypedAggregation.java\n",
            "spark-3.3.1-bin-hadoop3/examples/src/main/java/org/apache/spark/examples/sql/JavaUserDefinedUntypedAggregation.java\n",
            "spark-3.3.1-bin-hadoop3/examples/src/main/java/org/apache/spark/examples/sql/hive/\n",
            "spark-3.3.1-bin-hadoop3/examples/src/main/java/org/apache/spark/examples/sql/hive/JavaSparkHiveExample.java\n",
            "spark-3.3.1-bin-hadoop3/examples/src/main/java/org/apache/spark/examples/sql/streaming/\n",
            "spark-3.3.1-bin-hadoop3/examples/src/main/java/org/apache/spark/examples/sql/streaming/JavaStructuredComplexSessionization.java\n",
            "spark-3.3.1-bin-hadoop3/examples/src/main/java/org/apache/spark/examples/sql/streaming/JavaStructuredKafkaWordCount.java\n",
            "spark-3.3.1-bin-hadoop3/examples/src/main/java/org/apache/spark/examples/sql/streaming/JavaStructuredKerberizedKafkaWordCount.java\n",
            "spark-3.3.1-bin-hadoop3/examples/src/main/java/org/apache/spark/examples/sql/streaming/JavaStructuredNetworkWordCount.java\n",
            "spark-3.3.1-bin-hadoop3/examples/src/main/java/org/apache/spark/examples/sql/streaming/JavaStructuredNetworkWordCountWindowed.java\n",
            "spark-3.3.1-bin-hadoop3/examples/src/main/java/org/apache/spark/examples/sql/streaming/JavaStructuredSessionization.java\n",
            "spark-3.3.1-bin-hadoop3/examples/src/main/java/org/apache/spark/examples/streaming/\n",
            "spark-3.3.1-bin-hadoop3/examples/src/main/java/org/apache/spark/examples/streaming/JavaCustomReceiver.java\n",
            "spark-3.3.1-bin-hadoop3/examples/src/main/java/org/apache/spark/examples/streaming/JavaDirectKafkaWordCount.java\n",
            "spark-3.3.1-bin-hadoop3/examples/src/main/java/org/apache/spark/examples/streaming/JavaDirectKerberizedKafkaWordCount.java\n",
            "spark-3.3.1-bin-hadoop3/examples/src/main/java/org/apache/spark/examples/streaming/JavaNetworkWordCount.java\n",
            "spark-3.3.1-bin-hadoop3/examples/src/main/java/org/apache/spark/examples/streaming/JavaQueueStream.java\n",
            "spark-3.3.1-bin-hadoop3/examples/src/main/java/org/apache/spark/examples/streaming/JavaRecord.java\n",
            "spark-3.3.1-bin-hadoop3/examples/src/main/java/org/apache/spark/examples/streaming/JavaRecoverableNetworkWordCount.java\n",
            "spark-3.3.1-bin-hadoop3/examples/src/main/java/org/apache/spark/examples/streaming/JavaSqlNetworkWordCount.java\n",
            "spark-3.3.1-bin-hadoop3/examples/src/main/java/org/apache/spark/examples/streaming/JavaStatefulNetworkWordCount.java\n",
            "spark-3.3.1-bin-hadoop3/examples/src/main/python/\n",
            "spark-3.3.1-bin-hadoop3/examples/src/main/python/__init__.py\n",
            "spark-3.3.1-bin-hadoop3/examples/src/main/python/als.py\n",
            "spark-3.3.1-bin-hadoop3/examples/src/main/python/avro_inputformat.py\n",
            "spark-3.3.1-bin-hadoop3/examples/src/main/python/kmeans.py\n",
            "spark-3.3.1-bin-hadoop3/examples/src/main/python/logistic_regression.py\n",
            "spark-3.3.1-bin-hadoop3/examples/src/main/python/ml/\n",
            "spark-3.3.1-bin-hadoop3/examples/src/main/python/ml/__init__,py\n",
            "spark-3.3.1-bin-hadoop3/examples/src/main/python/ml/aft_survival_regression.py\n",
            "spark-3.3.1-bin-hadoop3/examples/src/main/python/ml/als_example.py\n",
            "spark-3.3.1-bin-hadoop3/examples/src/main/python/ml/binarizer_example.py\n",
            "spark-3.3.1-bin-hadoop3/examples/src/main/python/ml/bisecting_k_means_example.py\n",
            "spark-3.3.1-bin-hadoop3/examples/src/main/python/ml/bucketed_random_projection_lsh_example.py\n",
            "spark-3.3.1-bin-hadoop3/examples/src/main/python/ml/bucketizer_example.py\n",
            "spark-3.3.1-bin-hadoop3/examples/src/main/python/ml/chi_square_test_example.py\n",
            "spark-3.3.1-bin-hadoop3/examples/src/main/python/ml/chisq_selector_example.py\n",
            "spark-3.3.1-bin-hadoop3/examples/src/main/python/ml/correlation_example.py\n",
            "spark-3.3.1-bin-hadoop3/examples/src/main/python/ml/count_vectorizer_example.py\n",
            "spark-3.3.1-bin-hadoop3/examples/src/main/python/ml/cross_validator.py\n",
            "spark-3.3.1-bin-hadoop3/examples/src/main/python/ml/dataframe_example.py\n",
            "spark-3.3.1-bin-hadoop3/examples/src/main/python/ml/dct_example.py\n",
            "spark-3.3.1-bin-hadoop3/examples/src/main/python/ml/decision_tree_classification_example.py\n",
            "spark-3.3.1-bin-hadoop3/examples/src/main/python/ml/decision_tree_regression_example.py\n",
            "spark-3.3.1-bin-hadoop3/examples/src/main/python/ml/elementwise_product_example.py\n",
            "spark-3.3.1-bin-hadoop3/examples/src/main/python/ml/estimator_transformer_param_example.py\n",
            "spark-3.3.1-bin-hadoop3/examples/src/main/python/ml/feature_hasher_example.py\n",
            "spark-3.3.1-bin-hadoop3/examples/src/main/python/ml/fm_classifier_example.py\n",
            "spark-3.3.1-bin-hadoop3/examples/src/main/python/ml/fm_regressor_example.py\n",
            "spark-3.3.1-bin-hadoop3/examples/src/main/python/ml/fpgrowth_example.py\n",
            "spark-3.3.1-bin-hadoop3/examples/src/main/python/ml/gaussian_mixture_example.py\n",
            "spark-3.3.1-bin-hadoop3/examples/src/main/python/ml/generalized_linear_regression_example.py\n",
            "spark-3.3.1-bin-hadoop3/examples/src/main/python/ml/gradient_boosted_tree_classifier_example.py\n",
            "spark-3.3.1-bin-hadoop3/examples/src/main/python/ml/gradient_boosted_tree_regressor_example.py\n",
            "spark-3.3.1-bin-hadoop3/examples/src/main/python/ml/imputer_example.py\n",
            "spark-3.3.1-bin-hadoop3/examples/src/main/python/ml/index_to_string_example.py\n",
            "spark-3.3.1-bin-hadoop3/examples/src/main/python/ml/interaction_example.py\n",
            "spark-3.3.1-bin-hadoop3/examples/src/main/python/ml/isotonic_regression_example.py\n",
            "spark-3.3.1-bin-hadoop3/examples/src/main/python/ml/kmeans_example.py\n",
            "spark-3.3.1-bin-hadoop3/examples/src/main/python/ml/lda_example.py\n",
            "spark-3.3.1-bin-hadoop3/examples/src/main/python/ml/linear_regression_with_elastic_net.py\n",
            "spark-3.3.1-bin-hadoop3/examples/src/main/python/ml/linearsvc.py\n",
            "spark-3.3.1-bin-hadoop3/examples/src/main/python/ml/logistic_regression_summary_example.py\n",
            "spark-3.3.1-bin-hadoop3/examples/src/main/python/ml/logistic_regression_with_elastic_net.py\n",
            "spark-3.3.1-bin-hadoop3/examples/src/main/python/ml/max_abs_scaler_example.py\n",
            "spark-3.3.1-bin-hadoop3/examples/src/main/python/ml/min_hash_lsh_example.py\n",
            "spark-3.3.1-bin-hadoop3/examples/src/main/python/ml/min_max_scaler_example.py\n",
            "spark-3.3.1-bin-hadoop3/examples/src/main/python/ml/multiclass_logistic_regression_with_elastic_net.py\n",
            "spark-3.3.1-bin-hadoop3/examples/src/main/python/ml/multilayer_perceptron_classification.py\n",
            "spark-3.3.1-bin-hadoop3/examples/src/main/python/ml/n_gram_example.py\n",
            "spark-3.3.1-bin-hadoop3/examples/src/main/python/ml/naive_bayes_example.py\n",
            "spark-3.3.1-bin-hadoop3/examples/src/main/python/ml/normalizer_example.py\n",
            "spark-3.3.1-bin-hadoop3/examples/src/main/python/ml/one_vs_rest_example.py\n",
            "spark-3.3.1-bin-hadoop3/examples/src/main/python/ml/onehot_encoder_example.py\n",
            "spark-3.3.1-bin-hadoop3/examples/src/main/python/ml/pca_example.py\n",
            "spark-3.3.1-bin-hadoop3/examples/src/main/python/ml/pipeline_example.py\n",
            "spark-3.3.1-bin-hadoop3/examples/src/main/python/ml/polynomial_expansion_example.py\n",
            "spark-3.3.1-bin-hadoop3/examples/src/main/python/ml/power_iteration_clustering_example.py\n",
            "spark-3.3.1-bin-hadoop3/examples/src/main/python/ml/prefixspan_example.py\n",
            "spark-3.3.1-bin-hadoop3/examples/src/main/python/ml/quantile_discretizer_example.py\n",
            "spark-3.3.1-bin-hadoop3/examples/src/main/python/ml/random_forest_classifier_example.py\n",
            "spark-3.3.1-bin-hadoop3/examples/src/main/python/ml/random_forest_regressor_example.py\n",
            "spark-3.3.1-bin-hadoop3/examples/src/main/python/ml/rformula_example.py\n",
            "spark-3.3.1-bin-hadoop3/examples/src/main/python/ml/robust_scaler_example.py\n",
            "spark-3.3.1-bin-hadoop3/examples/src/main/python/ml/sql_transformer.py\n",
            "spark-3.3.1-bin-hadoop3/examples/src/main/python/ml/standard_scaler_example.py\n",
            "spark-3.3.1-bin-hadoop3/examples/src/main/python/ml/stopwords_remover_example.py\n",
            "spark-3.3.1-bin-hadoop3/examples/src/main/python/ml/string_indexer_example.py\n",
            "spark-3.3.1-bin-hadoop3/examples/src/main/python/ml/summarizer_example.py\n",
            "spark-3.3.1-bin-hadoop3/examples/src/main/python/ml/tf_idf_example.py\n",
            "spark-3.3.1-bin-hadoop3/examples/src/main/python/ml/tokenizer_example.py\n",
            "spark-3.3.1-bin-hadoop3/examples/src/main/python/ml/train_validation_split.py\n",
            "spark-3.3.1-bin-hadoop3/examples/src/main/python/ml/univariate_feature_selector_example.py\n",
            "spark-3.3.1-bin-hadoop3/examples/src/main/python/ml/variance_threshold_selector_example.py\n",
            "spark-3.3.1-bin-hadoop3/examples/src/main/python/ml/vector_assembler_example.py\n",
            "spark-3.3.1-bin-hadoop3/examples/src/main/python/ml/vector_indexer_example.py\n",
            "spark-3.3.1-bin-hadoop3/examples/src/main/python/ml/vector_size_hint_example.py\n",
            "spark-3.3.1-bin-hadoop3/examples/src/main/python/ml/vector_slicer_example.py\n",
            "spark-3.3.1-bin-hadoop3/examples/src/main/python/ml/word2vec_example.py\n",
            "spark-3.3.1-bin-hadoop3/examples/src/main/python/mllib/\n",
            "spark-3.3.1-bin-hadoop3/examples/src/main/python/mllib/__init__.py\n",
            "spark-3.3.1-bin-hadoop3/examples/src/main/python/mllib/binary_classification_metrics_example.py\n",
            "spark-3.3.1-bin-hadoop3/examples/src/main/python/mllib/bisecting_k_means_example.py\n",
            "spark-3.3.1-bin-hadoop3/examples/src/main/python/mllib/correlations.py\n",
            "spark-3.3.1-bin-hadoop3/examples/src/main/python/mllib/correlations_example.py\n",
            "spark-3.3.1-bin-hadoop3/examples/src/main/python/mllib/decision_tree_classification_example.py\n",
            "spark-3.3.1-bin-hadoop3/examples/src/main/python/mllib/decision_tree_regression_example.py\n",
            "spark-3.3.1-bin-hadoop3/examples/src/main/python/mllib/elementwise_product_example.py\n",
            "spark-3.3.1-bin-hadoop3/examples/src/main/python/mllib/fpgrowth_example.py\n",
            "spark-3.3.1-bin-hadoop3/examples/src/main/python/mllib/gaussian_mixture_example.py\n",
            "spark-3.3.1-bin-hadoop3/examples/src/main/python/mllib/gaussian_mixture_model.py\n",
            "spark-3.3.1-bin-hadoop3/examples/src/main/python/mllib/gradient_boosting_classification_example.py\n",
            "spark-3.3.1-bin-hadoop3/examples/src/main/python/mllib/gradient_boosting_regression_example.py\n",
            "spark-3.3.1-bin-hadoop3/examples/src/main/python/mllib/hypothesis_testing_example.py\n",
            "spark-3.3.1-bin-hadoop3/examples/src/main/python/mllib/hypothesis_testing_kolmogorov_smirnov_test_example.py\n",
            "spark-3.3.1-bin-hadoop3/examples/src/main/python/mllib/isotonic_regression_example.py\n",
            "spark-3.3.1-bin-hadoop3/examples/src/main/python/mllib/k_means_example.py\n",
            "spark-3.3.1-bin-hadoop3/examples/src/main/python/mllib/kernel_density_estimation_example.py\n",
            "spark-3.3.1-bin-hadoop3/examples/src/main/python/mllib/kmeans.py\n",
            "spark-3.3.1-bin-hadoop3/examples/src/main/python/mllib/latent_dirichlet_allocation_example.py\n",
            "spark-3.3.1-bin-hadoop3/examples/src/main/python/mllib/linear_regression_with_sgd_example.py\n",
            "spark-3.3.1-bin-hadoop3/examples/src/main/python/mllib/logistic_regression.py\n",
            "spark-3.3.1-bin-hadoop3/examples/src/main/python/mllib/logistic_regression_with_lbfgs_example.py\n",
            "spark-3.3.1-bin-hadoop3/examples/src/main/python/mllib/multi_class_metrics_example.py\n",
            "spark-3.3.1-bin-hadoop3/examples/src/main/python/mllib/multi_label_metrics_example.py\n",
            "spark-3.3.1-bin-hadoop3/examples/src/main/python/mllib/naive_bayes_example.py\n",
            "spark-3.3.1-bin-hadoop3/examples/src/main/python/mllib/normalizer_example.py\n",
            "spark-3.3.1-bin-hadoop3/examples/src/main/python/mllib/pca_rowmatrix_example.py\n",
            "spark-3.3.1-bin-hadoop3/examples/src/main/python/mllib/power_iteration_clustering_example.py\n",
            "spark-3.3.1-bin-hadoop3/examples/src/main/python/mllib/random_forest_classification_example.py\n",
            "spark-3.3.1-bin-hadoop3/examples/src/main/python/mllib/random_forest_regression_example.py\n",
            "spark-3.3.1-bin-hadoop3/examples/src/main/python/mllib/random_rdd_generation.py\n",
            "spark-3.3.1-bin-hadoop3/examples/src/main/python/mllib/ranking_metrics_example.py\n",
            "spark-3.3.1-bin-hadoop3/examples/src/main/python/mllib/recommendation_example.py\n",
            "spark-3.3.1-bin-hadoop3/examples/src/main/python/mllib/regression_metrics_example.py\n",
            "spark-3.3.1-bin-hadoop3/examples/src/main/python/mllib/sampled_rdds.py\n",
            "spark-3.3.1-bin-hadoop3/examples/src/main/python/mllib/standard_scaler_example.py\n",
            "spark-3.3.1-bin-hadoop3/examples/src/main/python/mllib/stratified_sampling_example.py\n",
            "spark-3.3.1-bin-hadoop3/examples/src/main/python/mllib/streaming_k_means_example.py\n",
            "spark-3.3.1-bin-hadoop3/examples/src/main/python/mllib/streaming_linear_regression_example.py\n",
            "spark-3.3.1-bin-hadoop3/examples/src/main/python/mllib/summary_statistics_example.py\n",
            "spark-3.3.1-bin-hadoop3/examples/src/main/python/mllib/svd_example.py\n",
            "spark-3.3.1-bin-hadoop3/examples/src/main/python/mllib/svm_with_sgd_example.py\n",
            "spark-3.3.1-bin-hadoop3/examples/src/main/python/mllib/tf_idf_example.py\n",
            "spark-3.3.1-bin-hadoop3/examples/src/main/python/mllib/word2vec.py\n",
            "spark-3.3.1-bin-hadoop3/examples/src/main/python/mllib/word2vec_example.py\n",
            "spark-3.3.1-bin-hadoop3/examples/src/main/python/pagerank.py\n",
            "spark-3.3.1-bin-hadoop3/examples/src/main/python/parquet_inputformat.py\n",
            "spark-3.3.1-bin-hadoop3/examples/src/main/python/pi.py\n",
            "spark-3.3.1-bin-hadoop3/examples/src/main/python/sort.py\n",
            "spark-3.3.1-bin-hadoop3/examples/src/main/python/sql/\n",
            "spark-3.3.1-bin-hadoop3/examples/src/main/python/sql/__init__.py\n",
            "spark-3.3.1-bin-hadoop3/examples/src/main/python/sql/arrow.py\n",
            "spark-3.3.1-bin-hadoop3/examples/src/main/python/sql/basic.py\n",
            "spark-3.3.1-bin-hadoop3/examples/src/main/python/sql/datasource.py\n",
            "spark-3.3.1-bin-hadoop3/examples/src/main/python/sql/hive.py\n",
            "spark-3.3.1-bin-hadoop3/examples/src/main/python/sql/streaming/\n",
            "spark-3.3.1-bin-hadoop3/examples/src/main/python/sql/streaming/__init__,py\n",
            "spark-3.3.1-bin-hadoop3/examples/src/main/python/sql/streaming/structured_kafka_wordcount.py\n",
            "spark-3.3.1-bin-hadoop3/examples/src/main/python/sql/streaming/structured_network_wordcount.py\n",
            "spark-3.3.1-bin-hadoop3/examples/src/main/python/sql/streaming/structured_network_wordcount_windowed.py\n",
            "spark-3.3.1-bin-hadoop3/examples/src/main/python/sql/streaming/structured_sessionization.py\n",
            "spark-3.3.1-bin-hadoop3/examples/src/main/python/status_api_demo.py\n",
            "spark-3.3.1-bin-hadoop3/examples/src/main/python/streaming/\n",
            "spark-3.3.1-bin-hadoop3/examples/src/main/python/streaming/__init__.py\n",
            "spark-3.3.1-bin-hadoop3/examples/src/main/python/streaming/hdfs_wordcount.py\n",
            "spark-3.3.1-bin-hadoop3/examples/src/main/python/streaming/network_wordcount.py\n",
            "spark-3.3.1-bin-hadoop3/examples/src/main/python/streaming/network_wordjoinsentiments.py\n",
            "spark-3.3.1-bin-hadoop3/examples/src/main/python/streaming/queue_stream.py\n",
            "spark-3.3.1-bin-hadoop3/examples/src/main/python/streaming/recoverable_network_wordcount.py\n",
            "spark-3.3.1-bin-hadoop3/examples/src/main/python/streaming/sql_network_wordcount.py\n",
            "spark-3.3.1-bin-hadoop3/examples/src/main/python/streaming/stateful_network_wordcount.py\n",
            "spark-3.3.1-bin-hadoop3/examples/src/main/python/transitive_closure.py\n",
            "spark-3.3.1-bin-hadoop3/examples/src/main/python/wordcount.py\n",
            "spark-3.3.1-bin-hadoop3/examples/src/main/r/\n",
            "spark-3.3.1-bin-hadoop3/examples/src/main/r/RSparkSQLExample.R\n",
            "spark-3.3.1-bin-hadoop3/examples/src/main/r/data-manipulation.R\n",
            "spark-3.3.1-bin-hadoop3/examples/src/main/r/dataframe.R\n",
            "spark-3.3.1-bin-hadoop3/examples/src/main/r/ml/\n",
            "spark-3.3.1-bin-hadoop3/examples/src/main/r/ml/als.R\n",
            "spark-3.3.1-bin-hadoop3/examples/src/main/r/ml/bisectingKmeans.R\n",
            "spark-3.3.1-bin-hadoop3/examples/src/main/r/ml/decisionTree.R\n",
            "spark-3.3.1-bin-hadoop3/examples/src/main/r/ml/fmClassifier.R\n",
            "spark-3.3.1-bin-hadoop3/examples/src/main/r/ml/fmRegressor.R\n",
            "spark-3.3.1-bin-hadoop3/examples/src/main/r/ml/fpm.R\n",
            "spark-3.3.1-bin-hadoop3/examples/src/main/r/ml/gaussianMixture.R\n",
            "spark-3.3.1-bin-hadoop3/examples/src/main/r/ml/gbt.R\n",
            "spark-3.3.1-bin-hadoop3/examples/src/main/r/ml/glm.R\n",
            "spark-3.3.1-bin-hadoop3/examples/src/main/r/ml/isoreg.R\n",
            "spark-3.3.1-bin-hadoop3/examples/src/main/r/ml/kmeans.R\n",
            "spark-3.3.1-bin-hadoop3/examples/src/main/r/ml/kstest.R\n",
            "spark-3.3.1-bin-hadoop3/examples/src/main/r/ml/lda.R\n",
            "spark-3.3.1-bin-hadoop3/examples/src/main/r/ml/lm_with_elastic_net.R\n",
            "spark-3.3.1-bin-hadoop3/examples/src/main/r/ml/logit.R\n",
            "spark-3.3.1-bin-hadoop3/examples/src/main/r/ml/ml.R\n",
            "spark-3.3.1-bin-hadoop3/examples/src/main/r/ml/mlp.R\n",
            "spark-3.3.1-bin-hadoop3/examples/src/main/r/ml/naiveBayes.R\n",
            "spark-3.3.1-bin-hadoop3/examples/src/main/r/ml/powerIterationClustering.R\n",
            "spark-3.3.1-bin-hadoop3/examples/src/main/r/ml/prefixSpan.R\n",
            "spark-3.3.1-bin-hadoop3/examples/src/main/r/ml/randomForest.R\n",
            "spark-3.3.1-bin-hadoop3/examples/src/main/r/ml/survreg.R\n",
            "spark-3.3.1-bin-hadoop3/examples/src/main/r/ml/svmLinear.R\n",
            "spark-3.3.1-bin-hadoop3/examples/src/main/r/streaming/\n",
            "spark-3.3.1-bin-hadoop3/examples/src/main/r/streaming/structured_network_wordcount.R\n",
            "spark-3.3.1-bin-hadoop3/examples/src/main/resources/\n",
            "spark-3.3.1-bin-hadoop3/examples/src/main/resources/META-INF/\n",
            "spark-3.3.1-bin-hadoop3/examples/src/main/resources/META-INF/services/\n",
            "spark-3.3.1-bin-hadoop3/examples/src/main/resources/META-INF/services/org.apache.spark.sql.SparkSessionExtensionsProvider\n",
            "spark-3.3.1-bin-hadoop3/examples/src/main/resources/META-INF/services/org.apache.spark.sql.jdbc.JdbcConnectionProvider\n",
            "spark-3.3.1-bin-hadoop3/examples/src/main/resources/dir1/\n",
            "spark-3.3.1-bin-hadoop3/examples/src/main/resources/dir1/dir2/\n",
            "spark-3.3.1-bin-hadoop3/examples/src/main/resources/dir1/dir2/file2.parquet\n",
            "spark-3.3.1-bin-hadoop3/examples/src/main/resources/dir1/file1.parquet\n",
            "spark-3.3.1-bin-hadoop3/examples/src/main/resources/dir1/file3.json\n",
            "spark-3.3.1-bin-hadoop3/examples/src/main/resources/employees.json\n",
            "spark-3.3.1-bin-hadoop3/examples/src/main/resources/full_user.avsc\n",
            "spark-3.3.1-bin-hadoop3/examples/src/main/resources/kv1.txt\n",
            "spark-3.3.1-bin-hadoop3/examples/src/main/resources/people.csv\n",
            "spark-3.3.1-bin-hadoop3/examples/src/main/resources/people.json\n",
            "spark-3.3.1-bin-hadoop3/examples/src/main/resources/people.txt\n",
            "spark-3.3.1-bin-hadoop3/examples/src/main/resources/user.avsc\n",
            "spark-3.3.1-bin-hadoop3/examples/src/main/resources/users.avro\n",
            "spark-3.3.1-bin-hadoop3/examples/src/main/resources/users.orc\n",
            "spark-3.3.1-bin-hadoop3/examples/src/main/resources/users.parquet\n",
            "spark-3.3.1-bin-hadoop3/examples/src/main/scala/\n",
            "spark-3.3.1-bin-hadoop3/examples/src/main/scala/org/\n",
            "spark-3.3.1-bin-hadoop3/examples/src/main/scala/org/apache/\n",
            "spark-3.3.1-bin-hadoop3/examples/src/main/scala/org/apache/spark/\n",
            "spark-3.3.1-bin-hadoop3/examples/src/main/scala/org/apache/spark/examples/\n",
            "spark-3.3.1-bin-hadoop3/examples/src/main/scala/org/apache/spark/examples/AccumulatorMetricsTest.scala\n",
            "spark-3.3.1-bin-hadoop3/examples/src/main/scala/org/apache/spark/examples/BroadcastTest.scala\n",
            "spark-3.3.1-bin-hadoop3/examples/src/main/scala/org/apache/spark/examples/DFSReadWriteTest.scala\n",
            "spark-3.3.1-bin-hadoop3/examples/src/main/scala/org/apache/spark/examples/DriverSubmissionTest.scala\n",
            "spark-3.3.1-bin-hadoop3/examples/src/main/scala/org/apache/spark/examples/ExceptionHandlingTest.scala\n",
            "spark-3.3.1-bin-hadoop3/examples/src/main/scala/org/apache/spark/examples/GroupByTest.scala\n",
            "spark-3.3.1-bin-hadoop3/examples/src/main/scala/org/apache/spark/examples/HdfsTest.scala\n",
            "spark-3.3.1-bin-hadoop3/examples/src/main/scala/org/apache/spark/examples/LocalALS.scala\n",
            "spark-3.3.1-bin-hadoop3/examples/src/main/scala/org/apache/spark/examples/LocalFileLR.scala\n",
            "spark-3.3.1-bin-hadoop3/examples/src/main/scala/org/apache/spark/examples/LocalKMeans.scala\n",
            "spark-3.3.1-bin-hadoop3/examples/src/main/scala/org/apache/spark/examples/LocalLR.scala\n",
            "spark-3.3.1-bin-hadoop3/examples/src/main/scala/org/apache/spark/examples/LocalPi.scala\n",
            "spark-3.3.1-bin-hadoop3/examples/src/main/scala/org/apache/spark/examples/LogQuery.scala\n",
            "spark-3.3.1-bin-hadoop3/examples/src/main/scala/org/apache/spark/examples/MiniReadWriteTest.scala\n",
            "spark-3.3.1-bin-hadoop3/examples/src/main/scala/org/apache/spark/examples/MultiBroadcastTest.scala\n",
            "spark-3.3.1-bin-hadoop3/examples/src/main/scala/org/apache/spark/examples/SimpleSkewedGroupByTest.scala\n",
            "spark-3.3.1-bin-hadoop3/examples/src/main/scala/org/apache/spark/examples/SkewedGroupByTest.scala\n",
            "spark-3.3.1-bin-hadoop3/examples/src/main/scala/org/apache/spark/examples/SparkALS.scala\n",
            "spark-3.3.1-bin-hadoop3/examples/src/main/scala/org/apache/spark/examples/SparkHdfsLR.scala\n",
            "spark-3.3.1-bin-hadoop3/examples/src/main/scala/org/apache/spark/examples/SparkKMeans.scala\n",
            "spark-3.3.1-bin-hadoop3/examples/src/main/scala/org/apache/spark/examples/SparkLR.scala\n",
            "spark-3.3.1-bin-hadoop3/examples/src/main/scala/org/apache/spark/examples/SparkPageRank.scala\n",
            "spark-3.3.1-bin-hadoop3/examples/src/main/scala/org/apache/spark/examples/SparkPi.scala\n",
            "spark-3.3.1-bin-hadoop3/examples/src/main/scala/org/apache/spark/examples/SparkRemoteFileTest.scala\n",
            "spark-3.3.1-bin-hadoop3/examples/src/main/scala/org/apache/spark/examples/SparkTC.scala\n",
            "spark-3.3.1-bin-hadoop3/examples/src/main/scala/org/apache/spark/examples/extensions/\n",
            "spark-3.3.1-bin-hadoop3/examples/src/main/scala/org/apache/spark/examples/extensions/AgeExample.scala\n",
            "spark-3.3.1-bin-hadoop3/examples/src/main/scala/org/apache/spark/examples/extensions/SessionExtensionsWithLoader.scala\n",
            "spark-3.3.1-bin-hadoop3/examples/src/main/scala/org/apache/spark/examples/extensions/SessionExtensionsWithoutLoader.scala\n",
            "spark-3.3.1-bin-hadoop3/examples/src/main/scala/org/apache/spark/examples/extensions/SparkSessionExtensionsTest.scala\n",
            "spark-3.3.1-bin-hadoop3/examples/src/main/scala/org/apache/spark/examples/graphx/\n",
            "spark-3.3.1-bin-hadoop3/examples/src/main/scala/org/apache/spark/examples/graphx/AggregateMessagesExample.scala\n",
            "spark-3.3.1-bin-hadoop3/examples/src/main/scala/org/apache/spark/examples/graphx/Analytics.scala\n",
            "spark-3.3.1-bin-hadoop3/examples/src/main/scala/org/apache/spark/examples/graphx/ComprehensiveExample.scala\n",
            "spark-3.3.1-bin-hadoop3/examples/src/main/scala/org/apache/spark/examples/graphx/ConnectedComponentsExample.scala\n",
            "spark-3.3.1-bin-hadoop3/examples/src/main/scala/org/apache/spark/examples/graphx/LiveJournalPageRank.scala\n",
            "spark-3.3.1-bin-hadoop3/examples/src/main/scala/org/apache/spark/examples/graphx/PageRankExample.scala\n",
            "spark-3.3.1-bin-hadoop3/examples/src/main/scala/org/apache/spark/examples/graphx/SSSPExample.scala\n",
            "spark-3.3.1-bin-hadoop3/examples/src/main/scala/org/apache/spark/examples/graphx/SynthBenchmark.scala\n",
            "spark-3.3.1-bin-hadoop3/examples/src/main/scala/org/apache/spark/examples/graphx/TriangleCountingExample.scala\n",
            "spark-3.3.1-bin-hadoop3/examples/src/main/scala/org/apache/spark/examples/ml/\n",
            "spark-3.3.1-bin-hadoop3/examples/src/main/scala/org/apache/spark/examples/ml/AFTSurvivalRegressionExample.scala\n",
            "spark-3.3.1-bin-hadoop3/examples/src/main/scala/org/apache/spark/examples/ml/ALSExample.scala\n",
            "spark-3.3.1-bin-hadoop3/examples/src/main/scala/org/apache/spark/examples/ml/BinarizerExample.scala\n",
            "spark-3.3.1-bin-hadoop3/examples/src/main/scala/org/apache/spark/examples/ml/BisectingKMeansExample.scala\n",
            "spark-3.3.1-bin-hadoop3/examples/src/main/scala/org/apache/spark/examples/ml/BucketedRandomProjectionLSHExample.scala\n",
            "spark-3.3.1-bin-hadoop3/examples/src/main/scala/org/apache/spark/examples/ml/BucketizerExample.scala\n",
            "spark-3.3.1-bin-hadoop3/examples/src/main/scala/org/apache/spark/examples/ml/ChiSqSelectorExample.scala\n",
            "spark-3.3.1-bin-hadoop3/examples/src/main/scala/org/apache/spark/examples/ml/ChiSquareTestExample.scala\n",
            "spark-3.3.1-bin-hadoop3/examples/src/main/scala/org/apache/spark/examples/ml/CorrelationExample.scala\n",
            "spark-3.3.1-bin-hadoop3/examples/src/main/scala/org/apache/spark/examples/ml/CountVectorizerExample.scala\n",
            "spark-3.3.1-bin-hadoop3/examples/src/main/scala/org/apache/spark/examples/ml/DCTExample.scala\n",
            "spark-3.3.1-bin-hadoop3/examples/src/main/scala/org/apache/spark/examples/ml/DataFrameExample.scala\n",
            "spark-3.3.1-bin-hadoop3/examples/src/main/scala/org/apache/spark/examples/ml/DecisionTreeClassificationExample.scala\n",
            "spark-3.3.1-bin-hadoop3/examples/src/main/scala/org/apache/spark/examples/ml/DecisionTreeExample.scala\n",
            "spark-3.3.1-bin-hadoop3/examples/src/main/scala/org/apache/spark/examples/ml/DecisionTreeRegressionExample.scala\n",
            "spark-3.3.1-bin-hadoop3/examples/src/main/scala/org/apache/spark/examples/ml/DeveloperApiExample.scala\n",
            "spark-3.3.1-bin-hadoop3/examples/src/main/scala/org/apache/spark/examples/ml/ElementwiseProductExample.scala\n",
            "spark-3.3.1-bin-hadoop3/examples/src/main/scala/org/apache/spark/examples/ml/EstimatorTransformerParamExample.scala\n",
            "spark-3.3.1-bin-hadoop3/examples/src/main/scala/org/apache/spark/examples/ml/FMClassifierExample.scala\n",
            "spark-3.3.1-bin-hadoop3/examples/src/main/scala/org/apache/spark/examples/ml/FMRegressorExample.scala\n",
            "spark-3.3.1-bin-hadoop3/examples/src/main/scala/org/apache/spark/examples/ml/FPGrowthExample.scala\n",
            "spark-3.3.1-bin-hadoop3/examples/src/main/scala/org/apache/spark/examples/ml/FeatureHasherExample.scala\n",
            "spark-3.3.1-bin-hadoop3/examples/src/main/scala/org/apache/spark/examples/ml/GBTExample.scala\n",
            "spark-3.3.1-bin-hadoop3/examples/src/main/scala/org/apache/spark/examples/ml/GaussianMixtureExample.scala\n",
            "spark-3.3.1-bin-hadoop3/examples/src/main/scala/org/apache/spark/examples/ml/GeneralizedLinearRegressionExample.scala\n",
            "spark-3.3.1-bin-hadoop3/examples/src/main/scala/org/apache/spark/examples/ml/GradientBoostedTreeClassifierExample.scala\n",
            "spark-3.3.1-bin-hadoop3/examples/src/main/scala/org/apache/spark/examples/ml/GradientBoostedTreeRegressorExample.scala\n",
            "spark-3.3.1-bin-hadoop3/examples/src/main/scala/org/apache/spark/examples/ml/ImputerExample.scala\n",
            "spark-3.3.1-bin-hadoop3/examples/src/main/scala/org/apache/spark/examples/ml/IndexToStringExample.scala\n",
            "spark-3.3.1-bin-hadoop3/examples/src/main/scala/org/apache/spark/examples/ml/InteractionExample.scala\n",
            "spark-3.3.1-bin-hadoop3/examples/src/main/scala/org/apache/spark/examples/ml/IsotonicRegressionExample.scala\n",
            "spark-3.3.1-bin-hadoop3/examples/src/main/scala/org/apache/spark/examples/ml/KMeansExample.scala\n",
            "spark-3.3.1-bin-hadoop3/examples/src/main/scala/org/apache/spark/examples/ml/LDAExample.scala\n",
            "spark-3.3.1-bin-hadoop3/examples/src/main/scala/org/apache/spark/examples/ml/LinearRegressionExample.scala\n",
            "spark-3.3.1-bin-hadoop3/examples/src/main/scala/org/apache/spark/examples/ml/LinearRegressionWithElasticNetExample.scala\n",
            "spark-3.3.1-bin-hadoop3/examples/src/main/scala/org/apache/spark/examples/ml/LinearSVCExample.scala\n",
            "spark-3.3.1-bin-hadoop3/examples/src/main/scala/org/apache/spark/examples/ml/LogisticRegressionExample.scala\n",
            "spark-3.3.1-bin-hadoop3/examples/src/main/scala/org/apache/spark/examples/ml/LogisticRegressionSummaryExample.scala\n",
            "spark-3.3.1-bin-hadoop3/examples/src/main/scala/org/apache/spark/examples/ml/LogisticRegressionWithElasticNetExample.scala\n",
            "spark-3.3.1-bin-hadoop3/examples/src/main/scala/org/apache/spark/examples/ml/MaxAbsScalerExample.scala\n",
            "spark-3.3.1-bin-hadoop3/examples/src/main/scala/org/apache/spark/examples/ml/MinHashLSHExample.scala\n",
            "spark-3.3.1-bin-hadoop3/examples/src/main/scala/org/apache/spark/examples/ml/MinMaxScalerExample.scala\n",
            "spark-3.3.1-bin-hadoop3/examples/src/main/scala/org/apache/spark/examples/ml/ModelSelectionViaCrossValidationExample.scala\n",
            "spark-3.3.1-bin-hadoop3/examples/src/main/scala/org/apache/spark/examples/ml/ModelSelectionViaTrainValidationSplitExample.scala\n",
            "spark-3.3.1-bin-hadoop3/examples/src/main/scala/org/apache/spark/examples/ml/MulticlassLogisticRegressionWithElasticNetExample.scala\n",
            "spark-3.3.1-bin-hadoop3/examples/src/main/scala/org/apache/spark/examples/ml/MultilayerPerceptronClassifierExample.scala\n",
            "spark-3.3.1-bin-hadoop3/examples/src/main/scala/org/apache/spark/examples/ml/NGramExample.scala\n",
            "spark-3.3.1-bin-hadoop3/examples/src/main/scala/org/apache/spark/examples/ml/NaiveBayesExample.scala\n",
            "spark-3.3.1-bin-hadoop3/examples/src/main/scala/org/apache/spark/examples/ml/NormalizerExample.scala\n",
            "spark-3.3.1-bin-hadoop3/examples/src/main/scala/org/apache/spark/examples/ml/OneHotEncoderExample.scala\n",
            "spark-3.3.1-bin-hadoop3/examples/src/main/scala/org/apache/spark/examples/ml/OneVsRestExample.scala\n",
            "spark-3.3.1-bin-hadoop3/examples/src/main/scala/org/apache/spark/examples/ml/PCAExample.scala\n",
            "spark-3.3.1-bin-hadoop3/examples/src/main/scala/org/apache/spark/examples/ml/PipelineExample.scala\n",
            "spark-3.3.1-bin-hadoop3/examples/src/main/scala/org/apache/spark/examples/ml/PolynomialExpansionExample.scala\n",
            "spark-3.3.1-bin-hadoop3/examples/src/main/scala/org/apache/spark/examples/ml/PowerIterationClusteringExample.scala\n",
            "spark-3.3.1-bin-hadoop3/examples/src/main/scala/org/apache/spark/examples/ml/PrefixSpanExample.scala\n",
            "spark-3.3.1-bin-hadoop3/examples/src/main/scala/org/apache/spark/examples/ml/QuantileDiscretizerExample.scala\n",
            "spark-3.3.1-bin-hadoop3/examples/src/main/scala/org/apache/spark/examples/ml/RFormulaExample.scala\n",
            "spark-3.3.1-bin-hadoop3/examples/src/main/scala/org/apache/spark/examples/ml/RandomForestClassifierExample.scala\n",
            "spark-3.3.1-bin-hadoop3/examples/src/main/scala/org/apache/spark/examples/ml/RandomForestExample.scala\n",
            "spark-3.3.1-bin-hadoop3/examples/src/main/scala/org/apache/spark/examples/ml/RandomForestRegressorExample.scala\n",
            "spark-3.3.1-bin-hadoop3/examples/src/main/scala/org/apache/spark/examples/ml/RobustScalerExample.scala\n",
            "spark-3.3.1-bin-hadoop3/examples/src/main/scala/org/apache/spark/examples/ml/SQLTransformerExample.scala\n",
            "spark-3.3.1-bin-hadoop3/examples/src/main/scala/org/apache/spark/examples/ml/StandardScalerExample.scala\n",
            "spark-3.3.1-bin-hadoop3/examples/src/main/scala/org/apache/spark/examples/ml/StopWordsRemoverExample.scala\n",
            "spark-3.3.1-bin-hadoop3/examples/src/main/scala/org/apache/spark/examples/ml/StringIndexerExample.scala\n",
            "spark-3.3.1-bin-hadoop3/examples/src/main/scala/org/apache/spark/examples/ml/SummarizerExample.scala\n",
            "spark-3.3.1-bin-hadoop3/examples/src/main/scala/org/apache/spark/examples/ml/TfIdfExample.scala\n",
            "spark-3.3.1-bin-hadoop3/examples/src/main/scala/org/apache/spark/examples/ml/TokenizerExample.scala\n",
            "spark-3.3.1-bin-hadoop3/examples/src/main/scala/org/apache/spark/examples/ml/UnaryTransformerExample.scala\n",
            "spark-3.3.1-bin-hadoop3/examples/src/main/scala/org/apache/spark/examples/ml/UnivariateFeatureSelectorExample.scala\n",
            "spark-3.3.1-bin-hadoop3/examples/src/main/scala/org/apache/spark/examples/ml/VarianceThresholdSelectorExample.scala\n",
            "spark-3.3.1-bin-hadoop3/examples/src/main/scala/org/apache/spark/examples/ml/VectorAssemblerExample.scala\n",
            "spark-3.3.1-bin-hadoop3/examples/src/main/scala/org/apache/spark/examples/ml/VectorIndexerExample.scala\n",
            "spark-3.3.1-bin-hadoop3/examples/src/main/scala/org/apache/spark/examples/ml/VectorSizeHintExample.scala\n",
            "spark-3.3.1-bin-hadoop3/examples/src/main/scala/org/apache/spark/examples/ml/VectorSlicerExample.scala\n",
            "spark-3.3.1-bin-hadoop3/examples/src/main/scala/org/apache/spark/examples/ml/Word2VecExample.scala\n",
            "spark-3.3.1-bin-hadoop3/examples/src/main/scala/org/apache/spark/examples/mllib/\n",
            "spark-3.3.1-bin-hadoop3/examples/src/main/scala/org/apache/spark/examples/mllib/AbstractParams.scala\n",
            "spark-3.3.1-bin-hadoop3/examples/src/main/scala/org/apache/spark/examples/mllib/AssociationRulesExample.scala\n",
            "spark-3.3.1-bin-hadoop3/examples/src/main/scala/org/apache/spark/examples/mllib/BinaryClassification.scala\n",
            "spark-3.3.1-bin-hadoop3/examples/src/main/scala/org/apache/spark/examples/mllib/BinaryClassificationMetricsExample.scala\n",
            "spark-3.3.1-bin-hadoop3/examples/src/main/scala/org/apache/spark/examples/mllib/BisectingKMeansExample.scala\n",
            "spark-3.3.1-bin-hadoop3/examples/src/main/scala/org/apache/spark/examples/mllib/ChiSqSelectorExample.scala\n",
            "spark-3.3.1-bin-hadoop3/examples/src/main/scala/org/apache/spark/examples/mllib/Correlations.scala\n",
            "spark-3.3.1-bin-hadoop3/examples/src/main/scala/org/apache/spark/examples/mllib/CorrelationsExample.scala\n",
            "spark-3.3.1-bin-hadoop3/examples/src/main/scala/org/apache/spark/examples/mllib/CosineSimilarity.scala\n",
            "spark-3.3.1-bin-hadoop3/examples/src/main/scala/org/apache/spark/examples/mllib/DecisionTreeClassificationExample.scala\n",
            "spark-3.3.1-bin-hadoop3/examples/src/main/scala/org/apache/spark/examples/mllib/DecisionTreeRegressionExample.scala\n",
            "spark-3.3.1-bin-hadoop3/examples/src/main/scala/org/apache/spark/examples/mllib/DecisionTreeRunner.scala\n",
            "spark-3.3.1-bin-hadoop3/examples/src/main/scala/org/apache/spark/examples/mllib/DenseKMeans.scala\n",
            "spark-3.3.1-bin-hadoop3/examples/src/main/scala/org/apache/spark/examples/mllib/ElementwiseProductExample.scala\n",
            "spark-3.3.1-bin-hadoop3/examples/src/main/scala/org/apache/spark/examples/mllib/FPGrowthExample.scala\n",
            "spark-3.3.1-bin-hadoop3/examples/src/main/scala/org/apache/spark/examples/mllib/GaussianMixtureExample.scala\n",
            "spark-3.3.1-bin-hadoop3/examples/src/main/scala/org/apache/spark/examples/mllib/GradientBoostedTreesRunner.scala\n",
            "spark-3.3.1-bin-hadoop3/examples/src/main/scala/org/apache/spark/examples/mllib/GradientBoostingClassificationExample.scala\n",
            "spark-3.3.1-bin-hadoop3/examples/src/main/scala/org/apache/spark/examples/mllib/GradientBoostingRegressionExample.scala\n",
            "spark-3.3.1-bin-hadoop3/examples/src/main/scala/org/apache/spark/examples/mllib/HypothesisTestingExample.scala\n",
            "spark-3.3.1-bin-hadoop3/examples/src/main/scala/org/apache/spark/examples/mllib/HypothesisTestingKolmogorovSmirnovTestExample.scala\n",
            "spark-3.3.1-bin-hadoop3/examples/src/main/scala/org/apache/spark/examples/mllib/IsotonicRegressionExample.scala\n",
            "spark-3.3.1-bin-hadoop3/examples/src/main/scala/org/apache/spark/examples/mllib/KMeansExample.scala\n",
            "spark-3.3.1-bin-hadoop3/examples/src/main/scala/org/apache/spark/examples/mllib/KernelDensityEstimationExample.scala\n",
            "spark-3.3.1-bin-hadoop3/examples/src/main/scala/org/apache/spark/examples/mllib/LBFGSExample.scala\n",
            "spark-3.3.1-bin-hadoop3/examples/src/main/scala/org/apache/spark/examples/mllib/LDAExample.scala\n",
            "spark-3.3.1-bin-hadoop3/examples/src/main/scala/org/apache/spark/examples/mllib/LatentDirichletAllocationExample.scala\n",
            "spark-3.3.1-bin-hadoop3/examples/src/main/scala/org/apache/spark/examples/mllib/LogisticRegressionWithLBFGSExample.scala\n",
            "spark-3.3.1-bin-hadoop3/examples/src/main/scala/org/apache/spark/examples/mllib/MovieLensALS.scala\n",
            "spark-3.3.1-bin-hadoop3/examples/src/main/scala/org/apache/spark/examples/mllib/MultiLabelMetricsExample.scala\n",
            "spark-3.3.1-bin-hadoop3/examples/src/main/scala/org/apache/spark/examples/mllib/MulticlassMetricsExample.scala\n",
            "spark-3.3.1-bin-hadoop3/examples/src/main/scala/org/apache/spark/examples/mllib/MultivariateSummarizer.scala\n",
            "spark-3.3.1-bin-hadoop3/examples/src/main/scala/org/apache/spark/examples/mllib/NaiveBayesExample.scala\n",
            "spark-3.3.1-bin-hadoop3/examples/src/main/scala/org/apache/spark/examples/mllib/NormalizerExample.scala\n",
            "spark-3.3.1-bin-hadoop3/examples/src/main/scala/org/apache/spark/examples/mllib/PCAOnRowMatrixExample.scala\n",
            "spark-3.3.1-bin-hadoop3/examples/src/main/scala/org/apache/spark/examples/mllib/PCAOnSourceVectorExample.scala\n",
            "spark-3.3.1-bin-hadoop3/examples/src/main/scala/org/apache/spark/examples/mllib/PMMLModelExportExample.scala\n",
            "spark-3.3.1-bin-hadoop3/examples/src/main/scala/org/apache/spark/examples/mllib/PowerIterationClusteringExample.scala\n",
            "spark-3.3.1-bin-hadoop3/examples/src/main/scala/org/apache/spark/examples/mllib/PrefixSpanExample.scala\n",
            "spark-3.3.1-bin-hadoop3/examples/src/main/scala/org/apache/spark/examples/mllib/RandomForestClassificationExample.scala\n",
            "spark-3.3.1-bin-hadoop3/examples/src/main/scala/org/apache/spark/examples/mllib/RandomForestRegressionExample.scala\n",
            "spark-3.3.1-bin-hadoop3/examples/src/main/scala/org/apache/spark/examples/mllib/RandomRDDGeneration.scala\n",
            "spark-3.3.1-bin-hadoop3/examples/src/main/scala/org/apache/spark/examples/mllib/RankingMetricsExample.scala\n",
            "spark-3.3.1-bin-hadoop3/examples/src/main/scala/org/apache/spark/examples/mllib/RecommendationExample.scala\n",
            "spark-3.3.1-bin-hadoop3/examples/src/main/scala/org/apache/spark/examples/mllib/SVDExample.scala\n",
            "spark-3.3.1-bin-hadoop3/examples/src/main/scala/org/apache/spark/examples/mllib/SVMWithSGDExample.scala\n",
            "spark-3.3.1-bin-hadoop3/examples/src/main/scala/org/apache/spark/examples/mllib/SampledRDDs.scala\n",
            "spark-3.3.1-bin-hadoop3/examples/src/main/scala/org/apache/spark/examples/mllib/SimpleFPGrowth.scala\n",
            "spark-3.3.1-bin-hadoop3/examples/src/main/scala/org/apache/spark/examples/mllib/SparseNaiveBayes.scala\n",
            "spark-3.3.1-bin-hadoop3/examples/src/main/scala/org/apache/spark/examples/mllib/StandardScalerExample.scala\n",
            "spark-3.3.1-bin-hadoop3/examples/src/main/scala/org/apache/spark/examples/mllib/StratifiedSamplingExample.scala\n",
            "spark-3.3.1-bin-hadoop3/examples/src/main/scala/org/apache/spark/examples/mllib/StreamingKMeansExample.scala\n",
            "spark-3.3.1-bin-hadoop3/examples/src/main/scala/org/apache/spark/examples/mllib/StreamingLinearRegressionExample.scala\n",
            "spark-3.3.1-bin-hadoop3/examples/src/main/scala/org/apache/spark/examples/mllib/StreamingLogisticRegression.scala\n",
            "spark-3.3.1-bin-hadoop3/examples/src/main/scala/org/apache/spark/examples/mllib/StreamingTestExample.scala\n",
            "spark-3.3.1-bin-hadoop3/examples/src/main/scala/org/apache/spark/examples/mllib/SummaryStatisticsExample.scala\n",
            "spark-3.3.1-bin-hadoop3/examples/src/main/scala/org/apache/spark/examples/mllib/TFIDFExample.scala\n",
            "spark-3.3.1-bin-hadoop3/examples/src/main/scala/org/apache/spark/examples/mllib/TallSkinnyPCA.scala\n",
            "spark-3.3.1-bin-hadoop3/examples/src/main/scala/org/apache/spark/examples/mllib/TallSkinnySVD.scala\n",
            "spark-3.3.1-bin-hadoop3/examples/src/main/scala/org/apache/spark/examples/mllib/Word2VecExample.scala\n",
            "spark-3.3.1-bin-hadoop3/examples/src/main/scala/org/apache/spark/examples/pythonconverters/\n",
            "spark-3.3.1-bin-hadoop3/examples/src/main/scala/org/apache/spark/examples/pythonconverters/AvroConverters.scala\n",
            "spark-3.3.1-bin-hadoop3/examples/src/main/scala/org/apache/spark/examples/sql/\n",
            "spark-3.3.1-bin-hadoop3/examples/src/main/scala/org/apache/spark/examples/sql/RDDRelation.scala\n",
            "spark-3.3.1-bin-hadoop3/examples/src/main/scala/org/apache/spark/examples/sql/SQLDataSourceExample.scala\n",
            "spark-3.3.1-bin-hadoop3/examples/src/main/scala/org/apache/spark/examples/sql/SimpleTypedAggregator.scala\n",
            "spark-3.3.1-bin-hadoop3/examples/src/main/scala/org/apache/spark/examples/sql/SparkSQLExample.scala\n",
            "spark-3.3.1-bin-hadoop3/examples/src/main/scala/org/apache/spark/examples/sql/UserDefinedScalar.scala\n",
            "spark-3.3.1-bin-hadoop3/examples/src/main/scala/org/apache/spark/examples/sql/UserDefinedTypedAggregation.scala\n",
            "spark-3.3.1-bin-hadoop3/examples/src/main/scala/org/apache/spark/examples/sql/UserDefinedUntypedAggregation.scala\n",
            "spark-3.3.1-bin-hadoop3/examples/src/main/scala/org/apache/spark/examples/sql/hive/\n",
            "spark-3.3.1-bin-hadoop3/examples/src/main/scala/org/apache/spark/examples/sql/hive/SparkHiveExample.scala\n",
            "spark-3.3.1-bin-hadoop3/examples/src/main/scala/org/apache/spark/examples/sql/jdbc/\n",
            "spark-3.3.1-bin-hadoop3/examples/src/main/scala/org/apache/spark/examples/sql/jdbc/ExampleJdbcConnectionProvider.scala\n",
            "spark-3.3.1-bin-hadoop3/examples/src/main/scala/org/apache/spark/examples/sql/streaming/\n",
            "spark-3.3.1-bin-hadoop3/examples/src/main/scala/org/apache/spark/examples/sql/streaming/StructuredComplexSessionization.scala\n",
            "spark-3.3.1-bin-hadoop3/examples/src/main/scala/org/apache/spark/examples/sql/streaming/StructuredKafkaWordCount.scala\n",
            "spark-3.3.1-bin-hadoop3/examples/src/main/scala/org/apache/spark/examples/sql/streaming/StructuredKerberizedKafkaWordCount.scala\n",
            "spark-3.3.1-bin-hadoop3/examples/src/main/scala/org/apache/spark/examples/sql/streaming/StructuredNetworkWordCount.scala\n",
            "spark-3.3.1-bin-hadoop3/examples/src/main/scala/org/apache/spark/examples/sql/streaming/StructuredNetworkWordCountWindowed.scala\n",
            "spark-3.3.1-bin-hadoop3/examples/src/main/scala/org/apache/spark/examples/sql/streaming/StructuredSessionization.scala\n",
            "spark-3.3.1-bin-hadoop3/examples/src/main/scala/org/apache/spark/examples/streaming/\n",
            "spark-3.3.1-bin-hadoop3/examples/src/main/scala/org/apache/spark/examples/streaming/CustomReceiver.scala\n",
            "spark-3.3.1-bin-hadoop3/examples/src/main/scala/org/apache/spark/examples/streaming/DirectKafkaWordCount.scala\n",
            "spark-3.3.1-bin-hadoop3/examples/src/main/scala/org/apache/spark/examples/streaming/DirectKerberizedKafkaWordCount.scala\n",
            "spark-3.3.1-bin-hadoop3/examples/src/main/scala/org/apache/spark/examples/streaming/HdfsWordCount.scala\n",
            "spark-3.3.1-bin-hadoop3/examples/src/main/scala/org/apache/spark/examples/streaming/NetworkWordCount.scala\n",
            "spark-3.3.1-bin-hadoop3/examples/src/main/scala/org/apache/spark/examples/streaming/QueueStream.scala\n",
            "spark-3.3.1-bin-hadoop3/examples/src/main/scala/org/apache/spark/examples/streaming/RawNetworkGrep.scala\n",
            "spark-3.3.1-bin-hadoop3/examples/src/main/scala/org/apache/spark/examples/streaming/RecoverableNetworkWordCount.scala\n",
            "spark-3.3.1-bin-hadoop3/examples/src/main/scala/org/apache/spark/examples/streaming/SqlNetworkWordCount.scala\n",
            "spark-3.3.1-bin-hadoop3/examples/src/main/scala/org/apache/spark/examples/streaming/StatefulNetworkWordCount.scala\n",
            "spark-3.3.1-bin-hadoop3/examples/src/main/scala/org/apache/spark/examples/streaming/StreamingExamples.scala\n",
            "spark-3.3.1-bin-hadoop3/examples/src/main/scala/org/apache/spark/examples/streaming/clickstream/\n",
            "spark-3.3.1-bin-hadoop3/examples/src/main/scala/org/apache/spark/examples/streaming/clickstream/PageViewGenerator.scala\n",
            "spark-3.3.1-bin-hadoop3/examples/src/main/scala/org/apache/spark/examples/streaming/clickstream/PageViewStream.scala\n",
            "spark-3.3.1-bin-hadoop3/examples/src/main/scripts/\n",
            "spark-3.3.1-bin-hadoop3/examples/src/main/scripts/getGpusResources.sh\n",
            "spark-3.3.1-bin-hadoop3/jars/\n",
            "spark-3.3.1-bin-hadoop3/jars/HikariCP-2.5.1.jar\n",
            "spark-3.3.1-bin-hadoop3/jars/JLargeArrays-1.5.jar\n",
            "spark-3.3.1-bin-hadoop3/jars/JTransforms-3.1.jar\n",
            "spark-3.3.1-bin-hadoop3/jars/RoaringBitmap-0.9.25.jar\n",
            "spark-3.3.1-bin-hadoop3/jars/ST4-4.0.4.jar\n",
            "spark-3.3.1-bin-hadoop3/jars/activation-1.1.1.jar\n",
            "spark-3.3.1-bin-hadoop3/jars/aircompressor-0.21.jar\n",
            "spark-3.3.1-bin-hadoop3/jars/algebra_2.12-2.0.1.jar\n",
            "spark-3.3.1-bin-hadoop3/jars/annotations-17.0.0.jar\n",
            "spark-3.3.1-bin-hadoop3/jars/antlr-runtime-3.5.2.jar\n",
            "spark-3.3.1-bin-hadoop3/jars/antlr4-runtime-4.8.jar\n",
            "spark-3.3.1-bin-hadoop3/jars/aopalliance-repackaged-2.6.1.jar\n",
            "spark-3.3.1-bin-hadoop3/jars/arpack-2.2.1.jar\n",
            "spark-3.3.1-bin-hadoop3/jars/arpack_combined_all-0.1.jar\n",
            "spark-3.3.1-bin-hadoop3/jars/arrow-format-7.0.0.jar\n",
            "spark-3.3.1-bin-hadoop3/jars/arrow-memory-core-7.0.0.jar\n",
            "spark-3.3.1-bin-hadoop3/jars/arrow-memory-netty-7.0.0.jar\n",
            "spark-3.3.1-bin-hadoop3/jars/arrow-vector-7.0.0.jar\n",
            "spark-3.3.1-bin-hadoop3/jars/audience-annotations-0.5.0.jar\n",
            "spark-3.3.1-bin-hadoop3/jars/automaton-1.11-8.jar\n",
            "spark-3.3.1-bin-hadoop3/jars/avro-1.11.0.jar\n",
            "spark-3.3.1-bin-hadoop3/jars/avro-ipc-1.11.0.jar\n",
            "spark-3.3.1-bin-hadoop3/jars/avro-mapred-1.11.0.jar\n",
            "spark-3.3.1-bin-hadoop3/jars/blas-2.2.1.jar\n",
            "spark-3.3.1-bin-hadoop3/jars/bonecp-0.8.0.RELEASE.jar\n",
            "spark-3.3.1-bin-hadoop3/jars/breeze-macros_2.12-1.2.jar\n",
            "spark-3.3.1-bin-hadoop3/jars/breeze_2.12-1.2.jar\n",
            "spark-3.3.1-bin-hadoop3/jars/cats-kernel_2.12-2.1.1.jar\n",
            "spark-3.3.1-bin-hadoop3/jars/chill-java-0.10.0.jar\n",
            "spark-3.3.1-bin-hadoop3/jars/chill_2.12-0.10.0.jar\n",
            "spark-3.3.1-bin-hadoop3/jars/commons-cli-1.5.0.jar\n",
            "spark-3.3.1-bin-hadoop3/jars/commons-codec-1.15.jar\n",
            "spark-3.3.1-bin-hadoop3/jars/commons-collections-3.2.2.jar\n",
            "spark-3.3.1-bin-hadoop3/jars/commons-collections4-4.4.jar\n",
            "spark-3.3.1-bin-hadoop3/jars/commons-compiler-3.0.16.jar\n",
            "spark-3.3.1-bin-hadoop3/jars/commons-compress-1.21.jar\n",
            "spark-3.3.1-bin-hadoop3/jars/commons-crypto-1.1.0.jar\n",
            "spark-3.3.1-bin-hadoop3/jars/commons-dbcp-1.4.jar\n",
            "spark-3.3.1-bin-hadoop3/jars/commons-io-2.11.0.jar\n",
            "spark-3.3.1-bin-hadoop3/jars/commons-lang-2.6.jar\n",
            "spark-3.3.1-bin-hadoop3/jars/commons-lang3-3.12.0.jar\n",
            "spark-3.3.1-bin-hadoop3/jars/commons-logging-1.1.3.jar\n",
            "spark-3.3.1-bin-hadoop3/jars/commons-math3-3.6.1.jar\n",
            "spark-3.3.1-bin-hadoop3/jars/commons-pool-1.5.4.jar\n",
            "spark-3.3.1-bin-hadoop3/jars/commons-text-1.9.jar\n",
            "spark-3.3.1-bin-hadoop3/jars/compress-lzf-1.1.jar\n",
            "spark-3.3.1-bin-hadoop3/jars/core-1.1.2.jar\n",
            "spark-3.3.1-bin-hadoop3/jars/curator-client-2.13.0.jar\n",
            "spark-3.3.1-bin-hadoop3/jars/curator-framework-2.13.0.jar\n",
            "spark-3.3.1-bin-hadoop3/jars/curator-recipes-2.13.0.jar\n",
            "spark-3.3.1-bin-hadoop3/jars/datanucleus-api-jdo-4.2.4.jar\n",
            "spark-3.3.1-bin-hadoop3/jars/datanucleus-core-4.1.17.jar\n",
            "spark-3.3.1-bin-hadoop3/jars/datanucleus-rdbms-4.1.19.jar\n",
            "spark-3.3.1-bin-hadoop3/jars/derby-10.14.2.0.jar\n",
            "spark-3.3.1-bin-hadoop3/jars/dropwizard-metrics-hadoop-metrics2-reporter-0.1.2.jar\n",
            "spark-3.3.1-bin-hadoop3/jars/flatbuffers-java-1.12.0.jar\n",
            "spark-3.3.1-bin-hadoop3/jars/generex-1.0.2.jar\n",
            "spark-3.3.1-bin-hadoop3/jars/gson-2.2.4.jar\n",
            "spark-3.3.1-bin-hadoop3/jars/guava-14.0.1.jar\n",
            "spark-3.3.1-bin-hadoop3/jars/hadoop-client-api-3.3.2.jar\n",
            "spark-3.3.1-bin-hadoop3/jars/hadoop-client-runtime-3.3.2.jar\n",
            "spark-3.3.1-bin-hadoop3/jars/hadoop-shaded-guava-1.1.1.jar\n",
            "spark-3.3.1-bin-hadoop3/jars/hadoop-yarn-server-web-proxy-3.3.2.jar\n",
            "spark-3.3.1-bin-hadoop3/jars/hive-beeline-2.3.9.jar\n",
            "spark-3.3.1-bin-hadoop3/jars/hive-cli-2.3.9.jar\n",
            "spark-3.3.1-bin-hadoop3/jars/hive-common-2.3.9.jar\n",
            "spark-3.3.1-bin-hadoop3/jars/hive-exec-2.3.9-core.jar\n",
            "spark-3.3.1-bin-hadoop3/jars/hive-jdbc-2.3.9.jar\n",
            "spark-3.3.1-bin-hadoop3/jars/hive-llap-common-2.3.9.jar\n",
            "spark-3.3.1-bin-hadoop3/jars/hive-metastore-2.3.9.jar\n",
            "spark-3.3.1-bin-hadoop3/jars/hive-serde-2.3.9.jar\n",
            "spark-3.3.1-bin-hadoop3/jars/hive-service-rpc-3.1.2.jar\n",
            "spark-3.3.1-bin-hadoop3/jars/hive-shims-0.23-2.3.9.jar\n",
            "spark-3.3.1-bin-hadoop3/jars/hive-shims-2.3.9.jar\n",
            "spark-3.3.1-bin-hadoop3/jars/hive-shims-common-2.3.9.jar\n",
            "spark-3.3.1-bin-hadoop3/jars/hive-shims-scheduler-2.3.9.jar\n",
            "spark-3.3.1-bin-hadoop3/jars/hive-storage-api-2.7.2.jar\n",
            "spark-3.3.1-bin-hadoop3/jars/hive-vector-code-gen-2.3.9.jar\n",
            "spark-3.3.1-bin-hadoop3/jars/hk2-api-2.6.1.jar\n",
            "spark-3.3.1-bin-hadoop3/jars/hk2-locator-2.6.1.jar\n",
            "spark-3.3.1-bin-hadoop3/jars/hk2-utils-2.6.1.jar\n",
            "spark-3.3.1-bin-hadoop3/jars/httpclient-4.5.13.jar\n",
            "spark-3.3.1-bin-hadoop3/jars/httpcore-4.4.14.jar\n",
            "spark-3.3.1-bin-hadoop3/jars/istack-commons-runtime-3.0.8.jar\n",
            "spark-3.3.1-bin-hadoop3/jars/ivy-2.5.0.jar\n",
            "spark-3.3.1-bin-hadoop3/jars/jackson-annotations-2.13.4.jar\n",
            "spark-3.3.1-bin-hadoop3/jars/jackson-core-2.13.4.jar\n",
            "spark-3.3.1-bin-hadoop3/jars/jackson-core-asl-1.9.13.jar\n",
            "spark-3.3.1-bin-hadoop3/jars/jackson-databind-2.13.4.1.jar\n",
            "spark-3.3.1-bin-hadoop3/jars/jackson-dataformat-yaml-2.13.4.jar\n",
            "spark-3.3.1-bin-hadoop3/jars/jackson-datatype-jsr310-2.13.4.jar\n",
            "spark-3.3.1-bin-hadoop3/jars/jackson-mapper-asl-1.9.13.jar\n",
            "spark-3.3.1-bin-hadoop3/jars/jackson-module-scala_2.12-2.13.4.jar\n",
            "spark-3.3.1-bin-hadoop3/jars/jakarta.annotation-api-1.3.5.jar\n",
            "spark-3.3.1-bin-hadoop3/jars/jakarta.inject-2.6.1.jar\n",
            "spark-3.3.1-bin-hadoop3/jars/jakarta.servlet-api-4.0.3.jar\n",
            "spark-3.3.1-bin-hadoop3/jars/jakarta.validation-api-2.0.2.jar\n",
            "spark-3.3.1-bin-hadoop3/jars/jakarta.ws.rs-api-2.1.6.jar\n",
            "spark-3.3.1-bin-hadoop3/jars/jakarta.xml.bind-api-2.3.2.jar\n",
            "spark-3.3.1-bin-hadoop3/jars/janino-3.0.16.jar\n",
            "spark-3.3.1-bin-hadoop3/jars/javassist-3.25.0-GA.jar\n",
            "spark-3.3.1-bin-hadoop3/jars/javax.jdo-3.2.0-m3.jar\n",
            "spark-3.3.1-bin-hadoop3/jars/javolution-5.5.1.jar\n",
            "spark-3.3.1-bin-hadoop3/jars/jaxb-runtime-2.3.2.jar\n",
            "spark-3.3.1-bin-hadoop3/jars/jcl-over-slf4j-1.7.32.jar\n",
            "spark-3.3.1-bin-hadoop3/jars/jdo-api-3.0.1.jar\n",
            "spark-3.3.1-bin-hadoop3/jars/jersey-client-2.36.jar\n",
            "spark-3.3.1-bin-hadoop3/jars/jersey-common-2.36.jar\n",
            "spark-3.3.1-bin-hadoop3/jars/jersey-container-servlet-2.36.jar\n",
            "spark-3.3.1-bin-hadoop3/jars/jersey-container-servlet-core-2.36.jar\n",
            "spark-3.3.1-bin-hadoop3/jars/jersey-hk2-2.36.jar\n",
            "spark-3.3.1-bin-hadoop3/jars/jersey-server-2.36.jar\n",
            "spark-3.3.1-bin-hadoop3/jars/jline-2.14.6.jar\n",
            "spark-3.3.1-bin-hadoop3/jars/joda-time-2.10.13.jar\n",
            "spark-3.3.1-bin-hadoop3/jars/jodd-core-3.5.2.jar\n",
            "spark-3.3.1-bin-hadoop3/jars/jpam-1.1.jar\n",
            "spark-3.3.1-bin-hadoop3/jars/json-1.8.jar\n",
            "spark-3.3.1-bin-hadoop3/jars/json4s-ast_2.12-3.7.0-M11.jar\n",
            "spark-3.3.1-bin-hadoop3/jars/json4s-core_2.12-3.7.0-M11.jar\n",
            "spark-3.3.1-bin-hadoop3/jars/json4s-jackson_2.12-3.7.0-M11.jar\n",
            "spark-3.3.1-bin-hadoop3/jars/json4s-scalap_2.12-3.7.0-M11.jar\n",
            "spark-3.3.1-bin-hadoop3/jars/jsr305-3.0.0.jar\n",
            "spark-3.3.1-bin-hadoop3/jars/jta-1.1.jar\n",
            "spark-3.3.1-bin-hadoop3/jars/jul-to-slf4j-1.7.32.jar\n",
            "spark-3.3.1-bin-hadoop3/jars/kryo-shaded-4.0.2.jar\n",
            "spark-3.3.1-bin-hadoop3/jars/kubernetes-client-5.12.2.jar\n",
            "spark-3.3.1-bin-hadoop3/jars/kubernetes-model-admissionregistration-5.12.2.jar\n",
            "spark-3.3.1-bin-hadoop3/jars/kubernetes-model-apiextensions-5.12.2.jar\n",
            "spark-3.3.1-bin-hadoop3/jars/kubernetes-model-apps-5.12.2.jar\n",
            "spark-3.3.1-bin-hadoop3/jars/kubernetes-model-autoscaling-5.12.2.jar\n",
            "spark-3.3.1-bin-hadoop3/jars/kubernetes-model-batch-5.12.2.jar\n",
            "spark-3.3.1-bin-hadoop3/jars/kubernetes-model-certificates-5.12.2.jar\n",
            "spark-3.3.1-bin-hadoop3/jars/kubernetes-model-common-5.12.2.jar\n",
            "spark-3.3.1-bin-hadoop3/jars/kubernetes-model-coordination-5.12.2.jar\n",
            "spark-3.3.1-bin-hadoop3/jars/kubernetes-model-core-5.12.2.jar\n",
            "spark-3.3.1-bin-hadoop3/jars/kubernetes-model-discovery-5.12.2.jar\n",
            "spark-3.3.1-bin-hadoop3/jars/kubernetes-model-events-5.12.2.jar\n",
            "spark-3.3.1-bin-hadoop3/jars/kubernetes-model-extensions-5.12.2.jar\n",
            "spark-3.3.1-bin-hadoop3/jars/kubernetes-model-flowcontrol-5.12.2.jar\n",
            "spark-3.3.1-bin-hadoop3/jars/kubernetes-model-metrics-5.12.2.jar\n",
            "spark-3.3.1-bin-hadoop3/jars/kubernetes-model-networking-5.12.2.jar\n",
            "spark-3.3.1-bin-hadoop3/jars/kubernetes-model-node-5.12.2.jar\n",
            "spark-3.3.1-bin-hadoop3/jars/kubernetes-model-policy-5.12.2.jar\n",
            "spark-3.3.1-bin-hadoop3/jars/kubernetes-model-rbac-5.12.2.jar\n",
            "spark-3.3.1-bin-hadoop3/jars/kubernetes-model-scheduling-5.12.2.jar\n",
            "spark-3.3.1-bin-hadoop3/jars/kubernetes-model-storageclass-5.12.2.jar\n",
            "spark-3.3.1-bin-hadoop3/jars/lapack-2.2.1.jar\n",
            "spark-3.3.1-bin-hadoop3/jars/leveldbjni-all-1.8.jar\n",
            "spark-3.3.1-bin-hadoop3/jars/libfb303-0.9.3.jar\n",
            "spark-3.3.1-bin-hadoop3/jars/libthrift-0.12.0.jar\n",
            "spark-3.3.1-bin-hadoop3/jars/log4j-1.2-api-2.17.2.jar\n",
            "spark-3.3.1-bin-hadoop3/jars/log4j-api-2.17.2.jar\n",
            "spark-3.3.1-bin-hadoop3/jars/log4j-core-2.17.2.jar\n",
            "spark-3.3.1-bin-hadoop3/jars/log4j-slf4j-impl-2.17.2.jar\n",
            "spark-3.3.1-bin-hadoop3/jars/logging-interceptor-3.12.12.jar\n",
            "spark-3.3.1-bin-hadoop3/jars/lz4-java-1.8.0.jar\n",
            "spark-3.3.1-bin-hadoop3/jars/mesos-1.4.3-shaded-protobuf.jar\n",
            "spark-3.3.1-bin-hadoop3/jars/metrics-core-4.2.7.jar\n",
            "spark-3.3.1-bin-hadoop3/jars/metrics-graphite-4.2.7.jar\n",
            "spark-3.3.1-bin-hadoop3/jars/metrics-jmx-4.2.7.jar\n",
            "spark-3.3.1-bin-hadoop3/jars/metrics-json-4.2.7.jar\n",
            "spark-3.3.1-bin-hadoop3/jars/metrics-jvm-4.2.7.jar\n",
            "spark-3.3.1-bin-hadoop3/jars/minlog-1.3.0.jar\n",
            "spark-3.3.1-bin-hadoop3/jars/netty-all-4.1.74.Final.jar\n",
            "spark-3.3.1-bin-hadoop3/jars/netty-buffer-4.1.74.Final.jar\n",
            "spark-3.3.1-bin-hadoop3/jars/netty-codec-4.1.74.Final.jar\n",
            "spark-3.3.1-bin-hadoop3/jars/netty-common-4.1.74.Final.jar\n",
            "spark-3.3.1-bin-hadoop3/jars/netty-handler-4.1.74.Final.jar\n",
            "spark-3.3.1-bin-hadoop3/jars/netty-resolver-4.1.74.Final.jar\n",
            "spark-3.3.1-bin-hadoop3/jars/netty-tcnative-classes-2.0.48.Final.jar\n",
            "spark-3.3.1-bin-hadoop3/jars/netty-transport-4.1.74.Final.jar\n",
            "spark-3.3.1-bin-hadoop3/jars/netty-transport-classes-epoll-4.1.74.Final.jar\n",
            "spark-3.3.1-bin-hadoop3/jars/netty-transport-classes-kqueue-4.1.74.Final.jar\n",
            "spark-3.3.1-bin-hadoop3/jars/netty-transport-native-epoll-4.1.74.Final-linux-aarch_64.jar\n",
            "spark-3.3.1-bin-hadoop3/jars/netty-transport-native-epoll-4.1.74.Final-linux-x86_64.jar\n",
            "spark-3.3.1-bin-hadoop3/jars/netty-transport-native-kqueue-4.1.74.Final-osx-aarch_64.jar\n",
            "spark-3.3.1-bin-hadoop3/jars/netty-transport-native-kqueue-4.1.74.Final-osx-x86_64.jar\n",
            "spark-3.3.1-bin-hadoop3/jars/netty-transport-native-unix-common-4.1.74.Final.jar\n",
            "spark-3.3.1-bin-hadoop3/jars/objenesis-3.2.jar\n",
            "spark-3.3.1-bin-hadoop3/jars/okhttp-3.12.12.jar\n",
            "spark-3.3.1-bin-hadoop3/jars/okio-1.14.0.jar\n",
            "spark-3.3.1-bin-hadoop3/jars/opencsv-2.3.jar\n",
            "spark-3.3.1-bin-hadoop3/jars/orc-core-1.7.6.jar\n",
            "spark-3.3.1-bin-hadoop3/jars/orc-mapreduce-1.7.6.jar\n",
            "spark-3.3.1-bin-hadoop3/jars/orc-shims-1.7.6.jar\n",
            "spark-3.3.1-bin-hadoop3/jars/oro-2.0.8.jar\n",
            "spark-3.3.1-bin-hadoop3/jars/osgi-resource-locator-1.0.3.jar\n",
            "spark-3.3.1-bin-hadoop3/jars/paranamer-2.8.jar\n",
            "spark-3.3.1-bin-hadoop3/jars/parquet-column-1.12.2.jar\n",
            "spark-3.3.1-bin-hadoop3/jars/parquet-common-1.12.2.jar\n",
            "spark-3.3.1-bin-hadoop3/jars/parquet-encoding-1.12.2.jar\n",
            "spark-3.3.1-bin-hadoop3/jars/parquet-format-structures-1.12.2.jar\n",
            "spark-3.3.1-bin-hadoop3/jars/parquet-hadoop-1.12.2.jar\n",
            "spark-3.3.1-bin-hadoop3/jars/parquet-jackson-1.12.2.jar\n",
            "spark-3.3.1-bin-hadoop3/jars/pickle-1.2.jar\n",
            "spark-3.3.1-bin-hadoop3/jars/protobuf-java-2.5.0.jar\n",
            "spark-3.3.1-bin-hadoop3/jars/py4j-0.10.9.5.jar\n",
            "spark-3.3.1-bin-hadoop3/jars/rocksdbjni-6.20.3.jar\n",
            "spark-3.3.1-bin-hadoop3/jars/scala-collection-compat_2.12-2.1.1.jar\n",
            "spark-3.3.1-bin-hadoop3/jars/scala-compiler-2.12.15.jar\n",
            "spark-3.3.1-bin-hadoop3/jars/scala-library-2.12.15.jar\n",
            "spark-3.3.1-bin-hadoop3/jars/scala-parser-combinators_2.12-1.1.2.jar\n",
            "spark-3.3.1-bin-hadoop3/jars/scala-reflect-2.12.15.jar\n",
            "spark-3.3.1-bin-hadoop3/jars/scala-xml_2.12-1.2.0.jar\n",
            "spark-3.3.1-bin-hadoop3/jars/shapeless_2.12-2.3.7.jar\n",
            "spark-3.3.1-bin-hadoop3/jars/shims-0.9.25.jar\n",
            "spark-3.3.1-bin-hadoop3/jars/slf4j-api-1.7.32.jar\n",
            "spark-3.3.1-bin-hadoop3/jars/snakeyaml-1.31.jar\n",
            "spark-3.3.1-bin-hadoop3/jars/snappy-java-1.1.8.4.jar\n",
            "spark-3.3.1-bin-hadoop3/jars/spark-catalyst_2.12-3.3.1.jar\n",
            "spark-3.3.1-bin-hadoop3/jars/spark-core_2.12-3.3.1.jar\n",
            "spark-3.3.1-bin-hadoop3/jars/spark-graphx_2.12-3.3.1.jar\n",
            "spark-3.3.1-bin-hadoop3/jars/spark-hive-thriftserver_2.12-3.3.1.jar\n",
            "spark-3.3.1-bin-hadoop3/jars/spark-hive_2.12-3.3.1.jar\n",
            "spark-3.3.1-bin-hadoop3/jars/spark-kubernetes_2.12-3.3.1.jar\n",
            "spark-3.3.1-bin-hadoop3/jars/spark-kvstore_2.12-3.3.1.jar\n",
            "spark-3.3.1-bin-hadoop3/jars/spark-launcher_2.12-3.3.1.jar\n",
            "spark-3.3.1-bin-hadoop3/jars/spark-mesos_2.12-3.3.1.jar\n",
            "spark-3.3.1-bin-hadoop3/jars/spark-mllib-local_2.12-3.3.1.jar\n",
            "spark-3.3.1-bin-hadoop3/jars/spark-mllib_2.12-3.3.1.jar\n",
            "spark-3.3.1-bin-hadoop3/jars/spark-network-common_2.12-3.3.1.jar\n",
            "spark-3.3.1-bin-hadoop3/jars/spark-network-shuffle_2.12-3.3.1.jar\n",
            "spark-3.3.1-bin-hadoop3/jars/spark-repl_2.12-3.3.1.jar\n",
            "spark-3.3.1-bin-hadoop3/jars/spark-sketch_2.12-3.3.1.jar\n",
            "spark-3.3.1-bin-hadoop3/jars/spark-sql_2.12-3.3.1.jar\n",
            "spark-3.3.1-bin-hadoop3/jars/spark-streaming_2.12-3.3.1.jar\n",
            "spark-3.3.1-bin-hadoop3/jars/spark-tags_2.12-3.3.1-tests.jar\n",
            "spark-3.3.1-bin-hadoop3/jars/spark-tags_2.12-3.3.1.jar\n",
            "spark-3.3.1-bin-hadoop3/jars/spark-unsafe_2.12-3.3.1.jar\n",
            "spark-3.3.1-bin-hadoop3/jars/spark-yarn_2.12-3.3.1.jar\n",
            "spark-3.3.1-bin-hadoop3/jars/spire-macros_2.12-0.17.0.jar\n",
            "spark-3.3.1-bin-hadoop3/jars/spire-platform_2.12-0.17.0.jar\n",
            "spark-3.3.1-bin-hadoop3/jars/spire-util_2.12-0.17.0.jar\n",
            "spark-3.3.1-bin-hadoop3/jars/spire_2.12-0.17.0.jar\n",
            "spark-3.3.1-bin-hadoop3/jars/stax-api-1.0.1.jar\n",
            "spark-3.3.1-bin-hadoop3/jars/stream-2.9.6.jar\n",
            "spark-3.3.1-bin-hadoop3/jars/super-csv-2.2.0.jar\n",
            "spark-3.3.1-bin-hadoop3/jars/threeten-extra-1.5.0.jar\n",
            "spark-3.3.1-bin-hadoop3/jars/tink-1.6.1.jar\n",
            "spark-3.3.1-bin-hadoop3/jars/transaction-api-1.1.jar\n",
            "spark-3.3.1-bin-hadoop3/jars/univocity-parsers-2.9.1.jar\n",
            "spark-3.3.1-bin-hadoop3/jars/velocity-1.5.jar\n",
            "spark-3.3.1-bin-hadoop3/jars/xbean-asm9-shaded-4.20.jar\n",
            "spark-3.3.1-bin-hadoop3/jars/xz-1.8.jar\n",
            "spark-3.3.1-bin-hadoop3/jars/zjsonpatch-0.3.0.jar\n",
            "spark-3.3.1-bin-hadoop3/jars/zookeeper-3.6.2.jar\n",
            "spark-3.3.1-bin-hadoop3/jars/zookeeper-jute-3.6.2.jar\n",
            "spark-3.3.1-bin-hadoop3/jars/zstd-jni-1.5.2-1.jar\n",
            "spark-3.3.1-bin-hadoop3/kubernetes/\n",
            "spark-3.3.1-bin-hadoop3/kubernetes/dockerfiles/\n",
            "spark-3.3.1-bin-hadoop3/kubernetes/dockerfiles/spark/\n",
            "spark-3.3.1-bin-hadoop3/kubernetes/dockerfiles/spark/Dockerfile\n",
            "spark-3.3.1-bin-hadoop3/kubernetes/dockerfiles/spark/Dockerfile.java17\n",
            "spark-3.3.1-bin-hadoop3/kubernetes/dockerfiles/spark/bindings/\n",
            "spark-3.3.1-bin-hadoop3/kubernetes/dockerfiles/spark/bindings/R/\n",
            "spark-3.3.1-bin-hadoop3/kubernetes/dockerfiles/spark/bindings/R/Dockerfile\n",
            "spark-3.3.1-bin-hadoop3/kubernetes/dockerfiles/spark/bindings/python/\n",
            "spark-3.3.1-bin-hadoop3/kubernetes/dockerfiles/spark/bindings/python/Dockerfile\n",
            "spark-3.3.1-bin-hadoop3/kubernetes/dockerfiles/spark/decom.sh\n",
            "spark-3.3.1-bin-hadoop3/kubernetes/dockerfiles/spark/entrypoint.sh\n",
            "spark-3.3.1-bin-hadoop3/kubernetes/tests/\n",
            "spark-3.3.1-bin-hadoop3/kubernetes/tests/autoscale.py\n",
            "spark-3.3.1-bin-hadoop3/kubernetes/tests/decommissioning.py\n",
            "spark-3.3.1-bin-hadoop3/kubernetes/tests/decommissioning_cleanup.py\n",
            "spark-3.3.1-bin-hadoop3/kubernetes/tests/py_container_checks.py\n",
            "spark-3.3.1-bin-hadoop3/kubernetes/tests/pyfiles.py\n",
            "spark-3.3.1-bin-hadoop3/kubernetes/tests/python_executable_check.py\n",
            "spark-3.3.1-bin-hadoop3/kubernetes/tests/worker_memory_check.py\n",
            "spark-3.3.1-bin-hadoop3/licenses/\n",
            "spark-3.3.1-bin-hadoop3/licenses/LICENSE-AnchorJS.txt\n",
            "spark-3.3.1-bin-hadoop3/licenses/LICENSE-CC0.txt\n",
            "spark-3.3.1-bin-hadoop3/licenses/LICENSE-JLargeArrays.txt\n",
            "spark-3.3.1-bin-hadoop3/licenses/LICENSE-JTransforms.txt\n",
            "spark-3.3.1-bin-hadoop3/licenses/LICENSE-antlr.txt\n",
            "spark-3.3.1-bin-hadoop3/licenses/LICENSE-arpack.txt\n",
            "spark-3.3.1-bin-hadoop3/licenses/LICENSE-automaton.txt\n",
            "spark-3.3.1-bin-hadoop3/licenses/LICENSE-blas.txt\n",
            "spark-3.3.1-bin-hadoop3/licenses/LICENSE-bootstrap.txt\n",
            "spark-3.3.1-bin-hadoop3/licenses/LICENSE-cloudpickle.txt\n",
            "spark-3.3.1-bin-hadoop3/licenses/LICENSE-d3.min.js.txt\n",
            "spark-3.3.1-bin-hadoop3/licenses/LICENSE-dagre-d3.txt\n",
            "spark-3.3.1-bin-hadoop3/licenses/LICENSE-datatables.txt\n",
            "spark-3.3.1-bin-hadoop3/licenses/LICENSE-dnsjava.txt\n",
            "spark-3.3.1-bin-hadoop3/licenses/LICENSE-f2j.txt\n",
            "spark-3.3.1-bin-hadoop3/licenses/LICENSE-graphlib-dot.txt\n",
            "spark-3.3.1-bin-hadoop3/licenses/LICENSE-istack-commons-runtime.txt\n",
            "spark-3.3.1-bin-hadoop3/licenses/LICENSE-jakarta-annotation-api\n",
            "spark-3.3.1-bin-hadoop3/licenses/LICENSE-jakarta-ws-rs-api\n",
            "spark-3.3.1-bin-hadoop3/licenses/LICENSE-jakarta.activation-api.txt\n",
            "spark-3.3.1-bin-hadoop3/licenses/LICENSE-jakarta.xml.bind-api.txt\n",
            "spark-3.3.1-bin-hadoop3/licenses/LICENSE-janino.txt\n",
            "spark-3.3.1-bin-hadoop3/licenses/LICENSE-javassist.html\n",
            "spark-3.3.1-bin-hadoop3/licenses/LICENSE-javax-transaction-transaction-api.txt\n",
            "spark-3.3.1-bin-hadoop3/licenses/LICENSE-javolution.txt\n",
            "spark-3.3.1-bin-hadoop3/licenses/LICENSE-jaxb-runtime.txt\n",
            "spark-3.3.1-bin-hadoop3/licenses/LICENSE-jline.txt\n",
            "spark-3.3.1-bin-hadoop3/licenses/LICENSE-jodd.txt\n",
            "spark-3.3.1-bin-hadoop3/licenses/LICENSE-join.txt\n",
            "spark-3.3.1-bin-hadoop3/licenses/LICENSE-jquery.txt\n",
            "spark-3.3.1-bin-hadoop3/licenses/LICENSE-json-formatter.txt\n",
            "spark-3.3.1-bin-hadoop3/licenses/LICENSE-jsp-api.txt\n",
            "spark-3.3.1-bin-hadoop3/licenses/LICENSE-kryo.txt\n",
            "spark-3.3.1-bin-hadoop3/licenses/LICENSE-leveldbjni.txt\n",
            "spark-3.3.1-bin-hadoop3/licenses/LICENSE-machinist.txt\n",
            "spark-3.3.1-bin-hadoop3/licenses/LICENSE-matchMedia-polyfill.txt\n",
            "spark-3.3.1-bin-hadoop3/licenses/LICENSE-minlog.txt\n",
            "spark-3.3.1-bin-hadoop3/licenses/LICENSE-modernizr.txt\n",
            "spark-3.3.1-bin-hadoop3/licenses/LICENSE-mustache.txt\n",
            "spark-3.3.1-bin-hadoop3/licenses/LICENSE-netlib.txt\n",
            "spark-3.3.1-bin-hadoop3/licenses/LICENSE-paranamer.txt\n",
            "spark-3.3.1-bin-hadoop3/licenses/LICENSE-pmml-model.txt\n",
            "spark-3.3.1-bin-hadoop3/licenses/LICENSE-protobuf.txt\n",
            "spark-3.3.1-bin-hadoop3/licenses/LICENSE-py4j.txt\n",
            "spark-3.3.1-bin-hadoop3/licenses/LICENSE-pyrolite.txt\n",
            "spark-3.3.1-bin-hadoop3/licenses/LICENSE-re2j.txt\n",
            "spark-3.3.1-bin-hadoop3/licenses/LICENSE-reflectasm.txt\n",
            "spark-3.3.1-bin-hadoop3/licenses/LICENSE-respond.txt\n",
            "spark-3.3.1-bin-hadoop3/licenses/LICENSE-sbt-launch-lib.txt\n",
            "spark-3.3.1-bin-hadoop3/licenses/LICENSE-scala.txt\n",
            "spark-3.3.1-bin-hadoop3/licenses/LICENSE-scopt.txt\n",
            "spark-3.3.1-bin-hadoop3/licenses/LICENSE-slf4j.txt\n",
            "spark-3.3.1-bin-hadoop3/licenses/LICENSE-sorttable.js.txt\n",
            "spark-3.3.1-bin-hadoop3/licenses/LICENSE-spire.txt\n",
            "spark-3.3.1-bin-hadoop3/licenses/LICENSE-vis-timeline.txt\n",
            "spark-3.3.1-bin-hadoop3/licenses/LICENSE-xmlenc.txt\n",
            "spark-3.3.1-bin-hadoop3/licenses/LICENSE-zstd-jni.txt\n",
            "spark-3.3.1-bin-hadoop3/licenses/LICENSE-zstd.txt\n",
            "spark-3.3.1-bin-hadoop3/python/\n",
            "spark-3.3.1-bin-hadoop3/python/.coveragerc\n",
            "spark-3.3.1-bin-hadoop3/python/.gitignore\n",
            "spark-3.3.1-bin-hadoop3/python/MANIFEST.in\n",
            "spark-3.3.1-bin-hadoop3/python/README.md\n",
            "spark-3.3.1-bin-hadoop3/python/dist/\n",
            "spark-3.3.1-bin-hadoop3/python/docs/\n",
            "spark-3.3.1-bin-hadoop3/python/docs/Makefile\n",
            "spark-3.3.1-bin-hadoop3/python/docs/make.bat\n",
            "spark-3.3.1-bin-hadoop3/python/docs/make2.bat\n",
            "spark-3.3.1-bin-hadoop3/python/docs/source/\n",
            "spark-3.3.1-bin-hadoop3/python/docs/source/_static/\n",
            "spark-3.3.1-bin-hadoop3/python/docs/source/_static/copybutton.js\n",
            "spark-3.3.1-bin-hadoop3/python/docs/source/_static/css/\n",
            "spark-3.3.1-bin-hadoop3/python/docs/source/_static/css/pyspark.css\n",
            "spark-3.3.1-bin-hadoop3/python/docs/source/_templates/\n",
            "spark-3.3.1-bin-hadoop3/python/docs/source/_templates/autosummary/\n",
            "spark-3.3.1-bin-hadoop3/python/docs/source/_templates/autosummary/class.rst\n",
            "spark-3.3.1-bin-hadoop3/python/docs/source/_templates/autosummary/class_with_docs.rst\n",
            "spark-3.3.1-bin-hadoop3/python/docs/source/conf.py\n",
            "spark-3.3.1-bin-hadoop3/python/docs/source/development/\n",
            "spark-3.3.1-bin-hadoop3/python/docs/source/development/contributing.rst\n",
            "spark-3.3.1-bin-hadoop3/python/docs/source/development/debugging.rst\n",
            "spark-3.3.1-bin-hadoop3/python/docs/source/development/index.rst\n",
            "spark-3.3.1-bin-hadoop3/python/docs/source/development/setting_ide.rst\n",
            "spark-3.3.1-bin-hadoop3/python/docs/source/development/testing.rst\n",
            "spark-3.3.1-bin-hadoop3/python/docs/source/getting_started/\n",
            "spark-3.3.1-bin-hadoop3/python/docs/source/getting_started/index.rst\n",
            "spark-3.3.1-bin-hadoop3/python/docs/source/getting_started/install.rst\n",
            "spark-3.3.1-bin-hadoop3/python/docs/source/getting_started/quickstart_df.ipynb\n",
            "spark-3.3.1-bin-hadoop3/python/docs/source/getting_started/quickstart_ps.ipynb\n",
            "spark-3.3.1-bin-hadoop3/python/docs/source/index.rst\n",
            "spark-3.3.1-bin-hadoop3/python/docs/source/migration_guide/\n",
            "spark-3.3.1-bin-hadoop3/python/docs/source/migration_guide/index.rst\n",
            "spark-3.3.1-bin-hadoop3/python/docs/source/migration_guide/koalas_to_pyspark.rst\n",
            "spark-3.3.1-bin-hadoop3/python/docs/source/migration_guide/pyspark_1.0_1.2_to_1.3.rst\n",
            "spark-3.3.1-bin-hadoop3/python/docs/source/migration_guide/pyspark_1.4_to_1.5.rst\n",
            "spark-3.3.1-bin-hadoop3/python/docs/source/migration_guide/pyspark_2.2_to_2.3.rst\n",
            "spark-3.3.1-bin-hadoop3/python/docs/source/migration_guide/pyspark_2.3.0_to_2.3.1_above.rst\n",
            "spark-3.3.1-bin-hadoop3/python/docs/source/migration_guide/pyspark_2.3_to_2.4.rst\n",
            "spark-3.3.1-bin-hadoop3/python/docs/source/migration_guide/pyspark_2.4_to_3.0.rst\n",
            "spark-3.3.1-bin-hadoop3/python/docs/source/migration_guide/pyspark_3.1_to_3.2.rst\n",
            "spark-3.3.1-bin-hadoop3/python/docs/source/migration_guide/pyspark_3.2_to_3.3.rst\n",
            "spark-3.3.1-bin-hadoop3/python/docs/source/reference/\n",
            "spark-3.3.1-bin-hadoop3/python/docs/source/reference/index.rst\n",
            "spark-3.3.1-bin-hadoop3/python/docs/source/reference/pyspark.ml.rst\n",
            "spark-3.3.1-bin-hadoop3/python/docs/source/reference/pyspark.mllib.rst\n",
            "spark-3.3.1-bin-hadoop3/python/docs/source/reference/pyspark.pandas/\n",
            "spark-3.3.1-bin-hadoop3/python/docs/source/reference/pyspark.pandas/extensions.rst\n",
            "spark-3.3.1-bin-hadoop3/python/docs/source/reference/pyspark.pandas/frame.rst\n",
            "spark-3.3.1-bin-hadoop3/python/docs/source/reference/pyspark.pandas/general_functions.rst\n",
            "spark-3.3.1-bin-hadoop3/python/docs/source/reference/pyspark.pandas/groupby.rst\n",
            "spark-3.3.1-bin-hadoop3/python/docs/source/reference/pyspark.pandas/index.rst\n",
            "spark-3.3.1-bin-hadoop3/python/docs/source/reference/pyspark.pandas/indexing.rst\n",
            "spark-3.3.1-bin-hadoop3/python/docs/source/reference/pyspark.pandas/io.rst\n",
            "spark-3.3.1-bin-hadoop3/python/docs/source/reference/pyspark.pandas/ml.rst\n",
            "spark-3.3.1-bin-hadoop3/python/docs/source/reference/pyspark.pandas/series.rst\n",
            "spark-3.3.1-bin-hadoop3/python/docs/source/reference/pyspark.pandas/window.rst\n",
            "spark-3.3.1-bin-hadoop3/python/docs/source/reference/pyspark.resource.rst\n",
            "spark-3.3.1-bin-hadoop3/python/docs/source/reference/pyspark.rst\n",
            "spark-3.3.1-bin-hadoop3/python/docs/source/reference/pyspark.sql/\n",
            "spark-3.3.1-bin-hadoop3/python/docs/source/reference/pyspark.sql/avro.rst\n",
            "spark-3.3.1-bin-hadoop3/python/docs/source/reference/pyspark.sql/catalog.rst\n",
            "spark-3.3.1-bin-hadoop3/python/docs/source/reference/pyspark.sql/column.rst\n",
            "spark-3.3.1-bin-hadoop3/python/docs/source/reference/pyspark.sql/configuration.rst\n",
            "spark-3.3.1-bin-hadoop3/python/docs/source/reference/pyspark.sql/core_classes.rst\n",
            "spark-3.3.1-bin-hadoop3/python/docs/source/reference/pyspark.sql/data_types.rst\n",
            "spark-3.3.1-bin-hadoop3/python/docs/source/reference/pyspark.sql/dataframe.rst\n",
            "spark-3.3.1-bin-hadoop3/python/docs/source/reference/pyspark.sql/functions.rst\n",
            "spark-3.3.1-bin-hadoop3/python/docs/source/reference/pyspark.sql/grouping.rst\n",
            "spark-3.3.1-bin-hadoop3/python/docs/source/reference/pyspark.sql/index.rst\n",
            "spark-3.3.1-bin-hadoop3/python/docs/source/reference/pyspark.sql/io.rst\n",
            "spark-3.3.1-bin-hadoop3/python/docs/source/reference/pyspark.sql/observation.rst\n",
            "spark-3.3.1-bin-hadoop3/python/docs/source/reference/pyspark.sql/row.rst\n",
            "spark-3.3.1-bin-hadoop3/python/docs/source/reference/pyspark.sql/spark_session.rst\n",
            "spark-3.3.1-bin-hadoop3/python/docs/source/reference/pyspark.sql/window.rst\n",
            "spark-3.3.1-bin-hadoop3/python/docs/source/reference/pyspark.ss/\n",
            "spark-3.3.1-bin-hadoop3/python/docs/source/reference/pyspark.ss/core_classes.rst\n",
            "spark-3.3.1-bin-hadoop3/python/docs/source/reference/pyspark.ss/index.rst\n",
            "spark-3.3.1-bin-hadoop3/python/docs/source/reference/pyspark.ss/io.rst\n",
            "spark-3.3.1-bin-hadoop3/python/docs/source/reference/pyspark.ss/query_management.rst\n",
            "spark-3.3.1-bin-hadoop3/python/docs/source/reference/pyspark.streaming.rst\n",
            "spark-3.3.1-bin-hadoop3/python/docs/source/user_guide/\n",
            "spark-3.3.1-bin-hadoop3/python/docs/source/user_guide/arrow_pandas.rst\n",
            "spark-3.3.1-bin-hadoop3/python/docs/source/user_guide/index.rst\n",
            "spark-3.3.1-bin-hadoop3/python/docs/source/user_guide/pandas_on_spark/\n",
            "spark-3.3.1-bin-hadoop3/python/docs/source/user_guide/pandas_on_spark/best_practices.rst\n",
            "spark-3.3.1-bin-hadoop3/python/docs/source/user_guide/pandas_on_spark/faq.rst\n",
            "spark-3.3.1-bin-hadoop3/python/docs/source/user_guide/pandas_on_spark/from_to_dbms.rst\n",
            "spark-3.3.1-bin-hadoop3/python/docs/source/user_guide/pandas_on_spark/index.rst\n",
            "spark-3.3.1-bin-hadoop3/python/docs/source/user_guide/pandas_on_spark/options.rst\n",
            "spark-3.3.1-bin-hadoop3/python/docs/source/user_guide/pandas_on_spark/pandas_pyspark.rst\n",
            "spark-3.3.1-bin-hadoop3/python/docs/source/user_guide/pandas_on_spark/supported_pandas_api.rst\n",
            "spark-3.3.1-bin-hadoop3/python/docs/source/user_guide/pandas_on_spark/transform_apply.rst\n",
            "spark-3.3.1-bin-hadoop3/python/docs/source/user_guide/pandas_on_spark/typehints.rst\n",
            "spark-3.3.1-bin-hadoop3/python/docs/source/user_guide/pandas_on_spark/types.rst\n",
            "spark-3.3.1-bin-hadoop3/python/docs/source/user_guide/python_packaging.rst\n",
            "spark-3.3.1-bin-hadoop3/python/docs/source/user_guide/sql/\n",
            "spark-3.3.1-bin-hadoop3/python/docs/source/user_guide/sql/arrow_pandas.rst\n",
            "spark-3.3.1-bin-hadoop3/python/docs/source/user_guide/sql/index.rst\n",
            "spark-3.3.1-bin-hadoop3/python/lib/\n",
            "spark-3.3.1-bin-hadoop3/python/lib/PY4J_LICENSE.txt\n",
            "spark-3.3.1-bin-hadoop3/python/lib/py4j-0.10.9.5-src.zip\n",
            "spark-3.3.1-bin-hadoop3/python/lib/pyspark.zip\n",
            "spark-3.3.1-bin-hadoop3/python/mypy.ini\n",
            "spark-3.3.1-bin-hadoop3/python/pyspark/\n",
            "spark-3.3.1-bin-hadoop3/python/pyspark/__init__.py\n",
            "spark-3.3.1-bin-hadoop3/python/pyspark/__pycache__/\n",
            "spark-3.3.1-bin-hadoop3/python/pyspark/__pycache__/install.cpython-38.pyc\n",
            "spark-3.3.1-bin-hadoop3/python/pyspark/_globals.py\n",
            "spark-3.3.1-bin-hadoop3/python/pyspark/_typing.pyi\n",
            "spark-3.3.1-bin-hadoop3/python/pyspark/accumulators.py\n",
            "spark-3.3.1-bin-hadoop3/python/pyspark/broadcast.py\n",
            "spark-3.3.1-bin-hadoop3/python/pyspark/cloudpickle/\n",
            "spark-3.3.1-bin-hadoop3/python/pyspark/cloudpickle/__init__.py\n",
            "spark-3.3.1-bin-hadoop3/python/pyspark/cloudpickle/cloudpickle.py\n",
            "spark-3.3.1-bin-hadoop3/python/pyspark/cloudpickle/cloudpickle_fast.py\n",
            "spark-3.3.1-bin-hadoop3/python/pyspark/cloudpickle/compat.py\n",
            "spark-3.3.1-bin-hadoop3/python/pyspark/conf.py\n",
            "spark-3.3.1-bin-hadoop3/python/pyspark/context.py\n",
            "spark-3.3.1-bin-hadoop3/python/pyspark/daemon.py\n",
            "spark-3.3.1-bin-hadoop3/python/pyspark/files.py\n",
            "spark-3.3.1-bin-hadoop3/python/pyspark/find_spark_home.py\n",
            "spark-3.3.1-bin-hadoop3/python/pyspark/install.py\n",
            "spark-3.3.1-bin-hadoop3/python/pyspark/instrumentation_utils.py\n",
            "spark-3.3.1-bin-hadoop3/python/pyspark/java_gateway.py\n",
            "spark-3.3.1-bin-hadoop3/python/pyspark/join.py\n",
            "spark-3.3.1-bin-hadoop3/python/pyspark/ml/\n",
            "spark-3.3.1-bin-hadoop3/python/pyspark/ml/__init__.py\n",
            "spark-3.3.1-bin-hadoop3/python/pyspark/ml/_typing.pyi\n",
            "spark-3.3.1-bin-hadoop3/python/pyspark/ml/base.py\n",
            "spark-3.3.1-bin-hadoop3/python/pyspark/ml/classification.py\n",
            "spark-3.3.1-bin-hadoop3/python/pyspark/ml/clustering.py\n",
            "spark-3.3.1-bin-hadoop3/python/pyspark/ml/common.py\n",
            "spark-3.3.1-bin-hadoop3/python/pyspark/ml/evaluation.py\n",
            "spark-3.3.1-bin-hadoop3/python/pyspark/ml/feature.py\n",
            "spark-3.3.1-bin-hadoop3/python/pyspark/ml/fpm.py\n",
            "spark-3.3.1-bin-hadoop3/python/pyspark/ml/functions.py\n",
            "spark-3.3.1-bin-hadoop3/python/pyspark/ml/image.py\n",
            "spark-3.3.1-bin-hadoop3/python/pyspark/ml/linalg/\n",
            "spark-3.3.1-bin-hadoop3/python/pyspark/ml/linalg/__init__.py\n",
            "spark-3.3.1-bin-hadoop3/python/pyspark/ml/param/\n",
            "spark-3.3.1-bin-hadoop3/python/pyspark/ml/param/__init__.py\n",
            "spark-3.3.1-bin-hadoop3/python/pyspark/ml/param/_shared_params_code_gen.py\n",
            "spark-3.3.1-bin-hadoop3/python/pyspark/ml/param/shared.py\n",
            "spark-3.3.1-bin-hadoop3/python/pyspark/ml/pipeline.py\n",
            "spark-3.3.1-bin-hadoop3/python/pyspark/ml/recommendation.py\n",
            "spark-3.3.1-bin-hadoop3/python/pyspark/ml/regression.py\n",
            "spark-3.3.1-bin-hadoop3/python/pyspark/ml/stat.py\n",
            "spark-3.3.1-bin-hadoop3/python/pyspark/ml/tests/\n",
            "spark-3.3.1-bin-hadoop3/python/pyspark/ml/tests/__init__.py\n",
            "spark-3.3.1-bin-hadoop3/python/pyspark/ml/tests/test_algorithms.py\n",
            "spark-3.3.1-bin-hadoop3/python/pyspark/ml/tests/test_base.py\n",
            "spark-3.3.1-bin-hadoop3/python/pyspark/ml/tests/test_evaluation.py\n",
            "spark-3.3.1-bin-hadoop3/python/pyspark/ml/tests/test_feature.py\n",
            "spark-3.3.1-bin-hadoop3/python/pyspark/ml/tests/test_image.py\n",
            "spark-3.3.1-bin-hadoop3/python/pyspark/ml/tests/test_linalg.py\n",
            "spark-3.3.1-bin-hadoop3/python/pyspark/ml/tests/test_param.py\n",
            "spark-3.3.1-bin-hadoop3/python/pyspark/ml/tests/test_persistence.py\n",
            "spark-3.3.1-bin-hadoop3/python/pyspark/ml/tests/test_pipeline.py\n",
            "spark-3.3.1-bin-hadoop3/python/pyspark/ml/tests/test_stat.py\n",
            "spark-3.3.1-bin-hadoop3/python/pyspark/ml/tests/test_training_summary.py\n",
            "spark-3.3.1-bin-hadoop3/python/pyspark/ml/tests/test_tuning.py\n",
            "spark-3.3.1-bin-hadoop3/python/pyspark/ml/tests/test_util.py\n",
            "spark-3.3.1-bin-hadoop3/python/pyspark/ml/tests/test_wrapper.py\n",
            "spark-3.3.1-bin-hadoop3/python/pyspark/ml/tests/typing/\n",
            "spark-3.3.1-bin-hadoop3/python/pyspark/ml/tests/typing/test_classification.yml\n",
            "spark-3.3.1-bin-hadoop3/python/pyspark/ml/tests/typing/test_clustering.yaml\n",
            "spark-3.3.1-bin-hadoop3/python/pyspark/ml/tests/typing/test_evaluation.yml\n",
            "spark-3.3.1-bin-hadoop3/python/pyspark/ml/tests/typing/test_feature.yml\n",
            "spark-3.3.1-bin-hadoop3/python/pyspark/ml/tests/typing/test_param.yml\n",
            "spark-3.3.1-bin-hadoop3/python/pyspark/ml/tests/typing/test_readable.yml\n",
            "spark-3.3.1-bin-hadoop3/python/pyspark/ml/tests/typing/test_regression.yml\n",
            "spark-3.3.1-bin-hadoop3/python/pyspark/ml/tree.py\n",
            "spark-3.3.1-bin-hadoop3/python/pyspark/ml/tuning.py\n",
            "spark-3.3.1-bin-hadoop3/python/pyspark/ml/util.py\n",
            "spark-3.3.1-bin-hadoop3/python/pyspark/ml/wrapper.py\n",
            "spark-3.3.1-bin-hadoop3/python/pyspark/mllib/\n",
            "spark-3.3.1-bin-hadoop3/python/pyspark/mllib/__init__.py\n",
            "spark-3.3.1-bin-hadoop3/python/pyspark/mllib/_typing.pyi\n",
            "spark-3.3.1-bin-hadoop3/python/pyspark/mllib/classification.py\n",
            "spark-3.3.1-bin-hadoop3/python/pyspark/mllib/clustering.py\n",
            "spark-3.3.1-bin-hadoop3/python/pyspark/mllib/common.py\n",
            "spark-3.3.1-bin-hadoop3/python/pyspark/mllib/evaluation.py\n",
            "spark-3.3.1-bin-hadoop3/python/pyspark/mllib/feature.py\n",
            "spark-3.3.1-bin-hadoop3/python/pyspark/mllib/fpm.py\n",
            "spark-3.3.1-bin-hadoop3/python/pyspark/mllib/linalg/\n",
            "spark-3.3.1-bin-hadoop3/python/pyspark/mllib/linalg/__init__.py\n",
            "spark-3.3.1-bin-hadoop3/python/pyspark/mllib/linalg/distributed.py\n",
            "spark-3.3.1-bin-hadoop3/python/pyspark/mllib/random.py\n",
            "spark-3.3.1-bin-hadoop3/python/pyspark/mllib/random.pyi\n",
            "spark-3.3.1-bin-hadoop3/python/pyspark/mllib/recommendation.py\n",
            "spark-3.3.1-bin-hadoop3/python/pyspark/mllib/recommendation.pyi\n",
            "spark-3.3.1-bin-hadoop3/python/pyspark/mllib/regression.py\n",
            "spark-3.3.1-bin-hadoop3/python/pyspark/mllib/stat/\n",
            "spark-3.3.1-bin-hadoop3/python/pyspark/mllib/stat/KernelDensity.py\n",
            "spark-3.3.1-bin-hadoop3/python/pyspark/mllib/stat/__init__.py\n",
            "spark-3.3.1-bin-hadoop3/python/pyspark/mllib/stat/_statistics.py\n",
            "spark-3.3.1-bin-hadoop3/python/pyspark/mllib/stat/distribution.py\n",
            "spark-3.3.1-bin-hadoop3/python/pyspark/mllib/stat/test.py\n",
            "spark-3.3.1-bin-hadoop3/python/pyspark/mllib/tests/\n",
            "spark-3.3.1-bin-hadoop3/python/pyspark/mllib/tests/__init__.py\n",
            "spark-3.3.1-bin-hadoop3/python/pyspark/mllib/tests/test_algorithms.py\n",
            "spark-3.3.1-bin-hadoop3/python/pyspark/mllib/tests/test_feature.py\n",
            "spark-3.3.1-bin-hadoop3/python/pyspark/mllib/tests/test_linalg.py\n",
            "spark-3.3.1-bin-hadoop3/python/pyspark/mllib/tests/test_stat.py\n",
            "spark-3.3.1-bin-hadoop3/python/pyspark/mllib/tests/test_streaming_algorithms.py\n",
            "spark-3.3.1-bin-hadoop3/python/pyspark/mllib/tests/test_util.py\n",
            "spark-3.3.1-bin-hadoop3/python/pyspark/mllib/tree.py\n",
            "spark-3.3.1-bin-hadoop3/python/pyspark/mllib/util.py\n",
            "spark-3.3.1-bin-hadoop3/python/pyspark/pandas/\n",
            "spark-3.3.1-bin-hadoop3/python/pyspark/pandas/__init__.py\n",
            "spark-3.3.1-bin-hadoop3/python/pyspark/pandas/_typing.py\n",
            "spark-3.3.1-bin-hadoop3/python/pyspark/pandas/accessors.py\n",
            "spark-3.3.1-bin-hadoop3/python/pyspark/pandas/base.py\n",
            "spark-3.3.1-bin-hadoop3/python/pyspark/pandas/categorical.py\n",
            "spark-3.3.1-bin-hadoop3/python/pyspark/pandas/config.py\n",
            "spark-3.3.1-bin-hadoop3/python/pyspark/pandas/data_type_ops/\n",
            "spark-3.3.1-bin-hadoop3/python/pyspark/pandas/data_type_ops/__init__.py\n",
            "spark-3.3.1-bin-hadoop3/python/pyspark/pandas/data_type_ops/base.py\n",
            "spark-3.3.1-bin-hadoop3/python/pyspark/pandas/data_type_ops/binary_ops.py\n",
            "spark-3.3.1-bin-hadoop3/python/pyspark/pandas/data_type_ops/boolean_ops.py\n",
            "spark-3.3.1-bin-hadoop3/python/pyspark/pandas/data_type_ops/categorical_ops.py\n",
            "spark-3.3.1-bin-hadoop3/python/pyspark/pandas/data_type_ops/complex_ops.py\n",
            "spark-3.3.1-bin-hadoop3/python/pyspark/pandas/data_type_ops/date_ops.py\n",
            "spark-3.3.1-bin-hadoop3/python/pyspark/pandas/data_type_ops/datetime_ops.py\n",
            "spark-3.3.1-bin-hadoop3/python/pyspark/pandas/data_type_ops/null_ops.py\n",
            "spark-3.3.1-bin-hadoop3/python/pyspark/pandas/data_type_ops/num_ops.py\n",
            "spark-3.3.1-bin-hadoop3/python/pyspark/pandas/data_type_ops/string_ops.py\n",
            "spark-3.3.1-bin-hadoop3/python/pyspark/pandas/data_type_ops/timedelta_ops.py\n",
            "spark-3.3.1-bin-hadoop3/python/pyspark/pandas/data_type_ops/udt_ops.py\n",
            "spark-3.3.1-bin-hadoop3/python/pyspark/pandas/datetimes.py\n",
            "spark-3.3.1-bin-hadoop3/python/pyspark/pandas/exceptions.py\n",
            "spark-3.3.1-bin-hadoop3/python/pyspark/pandas/extensions.py\n",
            "spark-3.3.1-bin-hadoop3/python/pyspark/pandas/frame.py\n",
            "spark-3.3.1-bin-hadoop3/python/pyspark/pandas/generic.py\n",
            "spark-3.3.1-bin-hadoop3/python/pyspark/pandas/groupby.py\n",
            "spark-3.3.1-bin-hadoop3/python/pyspark/pandas/indexes/\n",
            "spark-3.3.1-bin-hadoop3/python/pyspark/pandas/indexes/__init__.py\n",
            "spark-3.3.1-bin-hadoop3/python/pyspark/pandas/indexes/base.py\n",
            "spark-3.3.1-bin-hadoop3/python/pyspark/pandas/indexes/category.py\n",
            "spark-3.3.1-bin-hadoop3/python/pyspark/pandas/indexes/datetimes.py\n",
            "spark-3.3.1-bin-hadoop3/python/pyspark/pandas/indexes/multi.py\n",
            "spark-3.3.1-bin-hadoop3/python/pyspark/pandas/indexes/numeric.py\n",
            "spark-3.3.1-bin-hadoop3/python/pyspark/pandas/indexes/timedelta.py\n",
            "spark-3.3.1-bin-hadoop3/python/pyspark/pandas/indexing.py\n",
            "spark-3.3.1-bin-hadoop3/python/pyspark/pandas/internal.py\n",
            "spark-3.3.1-bin-hadoop3/python/pyspark/pandas/missing/\n",
            "spark-3.3.1-bin-hadoop3/python/pyspark/pandas/missing/__init__.py\n",
            "spark-3.3.1-bin-hadoop3/python/pyspark/pandas/missing/common.py\n",
            "spark-3.3.1-bin-hadoop3/python/pyspark/pandas/missing/frame.py\n",
            "spark-3.3.1-bin-hadoop3/python/pyspark/pandas/missing/general_functions.py\n",
            "spark-3.3.1-bin-hadoop3/python/pyspark/pandas/missing/groupby.py\n",
            "spark-3.3.1-bin-hadoop3/python/pyspark/pandas/missing/indexes.py\n",
            "spark-3.3.1-bin-hadoop3/python/pyspark/pandas/missing/series.py\n",
            "spark-3.3.1-bin-hadoop3/python/pyspark/pandas/missing/window.py\n",
            "spark-3.3.1-bin-hadoop3/python/pyspark/pandas/ml.py\n",
            "spark-3.3.1-bin-hadoop3/python/pyspark/pandas/mlflow.py\n",
            "spark-3.3.1-bin-hadoop3/python/pyspark/pandas/namespace.py\n",
            "spark-3.3.1-bin-hadoop3/python/pyspark/pandas/numpy_compat.py\n",
            "spark-3.3.1-bin-hadoop3/python/pyspark/pandas/plot/\n",
            "spark-3.3.1-bin-hadoop3/python/pyspark/pandas/plot/__init__.py\n",
            "spark-3.3.1-bin-hadoop3/python/pyspark/pandas/plot/core.py\n",
            "spark-3.3.1-bin-hadoop3/python/pyspark/pandas/plot/matplotlib.py\n",
            "spark-3.3.1-bin-hadoop3/python/pyspark/pandas/plot/plotly.py\n",
            "spark-3.3.1-bin-hadoop3/python/pyspark/pandas/series.py\n",
            "spark-3.3.1-bin-hadoop3/python/pyspark/pandas/spark/\n",
            "spark-3.3.1-bin-hadoop3/python/pyspark/pandas/spark/__init__.py\n",
            "spark-3.3.1-bin-hadoop3/python/pyspark/pandas/spark/accessors.py\n",
            "spark-3.3.1-bin-hadoop3/python/pyspark/pandas/spark/functions.py\n",
            "spark-3.3.1-bin-hadoop3/python/pyspark/pandas/spark/utils.py\n",
            "spark-3.3.1-bin-hadoop3/python/pyspark/pandas/sql_formatter.py\n",
            "spark-3.3.1-bin-hadoop3/python/pyspark/pandas/sql_processor.py\n",
            "spark-3.3.1-bin-hadoop3/python/pyspark/pandas/strings.py\n",
            "spark-3.3.1-bin-hadoop3/python/pyspark/pandas/tests/\n",
            "spark-3.3.1-bin-hadoop3/python/pyspark/pandas/tests/__init__.py\n",
            "spark-3.3.1-bin-hadoop3/python/pyspark/pandas/tests/data_type_ops/\n",
            "spark-3.3.1-bin-hadoop3/python/pyspark/pandas/tests/data_type_ops/__init__.py\n",
            "spark-3.3.1-bin-hadoop3/python/pyspark/pandas/tests/data_type_ops/test_base.py\n",
            "spark-3.3.1-bin-hadoop3/python/pyspark/pandas/tests/data_type_ops/test_binary_ops.py\n",
            "spark-3.3.1-bin-hadoop3/python/pyspark/pandas/tests/data_type_ops/test_boolean_ops.py\n",
            "spark-3.3.1-bin-hadoop3/python/pyspark/pandas/tests/data_type_ops/test_categorical_ops.py\n",
            "spark-3.3.1-bin-hadoop3/python/pyspark/pandas/tests/data_type_ops/test_complex_ops.py\n",
            "spark-3.3.1-bin-hadoop3/python/pyspark/pandas/tests/data_type_ops/test_date_ops.py\n",
            "spark-3.3.1-bin-hadoop3/python/pyspark/pandas/tests/data_type_ops/test_datetime_ops.py\n",
            "spark-3.3.1-bin-hadoop3/python/pyspark/pandas/tests/data_type_ops/test_null_ops.py\n",
            "spark-3.3.1-bin-hadoop3/python/pyspark/pandas/tests/data_type_ops/test_num_ops.py\n",
            "spark-3.3.1-bin-hadoop3/python/pyspark/pandas/tests/data_type_ops/test_string_ops.py\n",
            "spark-3.3.1-bin-hadoop3/python/pyspark/pandas/tests/data_type_ops/test_timedelta_ops.py\n",
            "spark-3.3.1-bin-hadoop3/python/pyspark/pandas/tests/data_type_ops/test_udt_ops.py\n",
            "spark-3.3.1-bin-hadoop3/python/pyspark/pandas/tests/data_type_ops/testing_utils.py\n",
            "spark-3.3.1-bin-hadoop3/python/pyspark/pandas/tests/indexes/\n",
            "spark-3.3.1-bin-hadoop3/python/pyspark/pandas/tests/indexes/__init__.py\n",
            "spark-3.3.1-bin-hadoop3/python/pyspark/pandas/tests/indexes/test_base.py\n",
            "spark-3.3.1-bin-hadoop3/python/pyspark/pandas/tests/indexes/test_category.py\n",
            "spark-3.3.1-bin-hadoop3/python/pyspark/pandas/tests/indexes/test_datetime.py\n",
            "spark-3.3.1-bin-hadoop3/python/pyspark/pandas/tests/indexes/test_timedelta.py\n",
            "spark-3.3.1-bin-hadoop3/python/pyspark/pandas/tests/plot/\n",
            "spark-3.3.1-bin-hadoop3/python/pyspark/pandas/tests/plot/__init__.py\n",
            "spark-3.3.1-bin-hadoop3/python/pyspark/pandas/tests/plot/test_frame_plot.py\n",
            "spark-3.3.1-bin-hadoop3/python/pyspark/pandas/tests/plot/test_frame_plot_matplotlib.py\n",
            "spark-3.3.1-bin-hadoop3/python/pyspark/pandas/tests/plot/test_frame_plot_plotly.py\n",
            "spark-3.3.1-bin-hadoop3/python/pyspark/pandas/tests/plot/test_series_plot.py\n",
            "spark-3.3.1-bin-hadoop3/python/pyspark/pandas/tests/plot/test_series_plot_matplotlib.py\n",
            "spark-3.3.1-bin-hadoop3/python/pyspark/pandas/tests/plot/test_series_plot_plotly.py\n",
            "spark-3.3.1-bin-hadoop3/python/pyspark/pandas/tests/test_categorical.py\n",
            "spark-3.3.1-bin-hadoop3/python/pyspark/pandas/tests/test_config.py\n",
            "spark-3.3.1-bin-hadoop3/python/pyspark/pandas/tests/test_csv.py\n",
            "spark-3.3.1-bin-hadoop3/python/pyspark/pandas/tests/test_dataframe.py\n",
            "spark-3.3.1-bin-hadoop3/python/pyspark/pandas/tests/test_dataframe_conversion.py\n",
            "spark-3.3.1-bin-hadoop3/python/pyspark/pandas/tests/test_dataframe_spark_io.py\n",
            "spark-3.3.1-bin-hadoop3/python/pyspark/pandas/tests/test_default_index.py\n",
            "spark-3.3.1-bin-hadoop3/python/pyspark/pandas/tests/test_expanding.py\n",
            "spark-3.3.1-bin-hadoop3/python/pyspark/pandas/tests/test_extension.py\n",
            "spark-3.3.1-bin-hadoop3/python/pyspark/pandas/tests/test_frame_spark.py\n",
            "spark-3.3.1-bin-hadoop3/python/pyspark/pandas/tests/test_groupby.py\n",
            "spark-3.3.1-bin-hadoop3/python/pyspark/pandas/tests/test_indexing.py\n",
            "spark-3.3.1-bin-hadoop3/python/pyspark/pandas/tests/test_indexops_spark.py\n",
            "spark-3.3.1-bin-hadoop3/python/pyspark/pandas/tests/test_internal.py\n",
            "spark-3.3.1-bin-hadoop3/python/pyspark/pandas/tests/test_namespace.py\n",
            "spark-3.3.1-bin-hadoop3/python/pyspark/pandas/tests/test_numpy_compat.py\n",
            "spark-3.3.1-bin-hadoop3/python/pyspark/pandas/tests/test_ops_on_diff_frames.py\n",
            "spark-3.3.1-bin-hadoop3/python/pyspark/pandas/tests/test_ops_on_diff_frames_groupby.py\n",
            "spark-3.3.1-bin-hadoop3/python/pyspark/pandas/tests/test_ops_on_diff_frames_groupby_expanding.py\n",
            "spark-3.3.1-bin-hadoop3/python/pyspark/pandas/tests/test_ops_on_diff_frames_groupby_rolling.py\n",
            "spark-3.3.1-bin-hadoop3/python/pyspark/pandas/tests/test_repr.py\n",
            "spark-3.3.1-bin-hadoop3/python/pyspark/pandas/tests/test_reshape.py\n",
            "spark-3.3.1-bin-hadoop3/python/pyspark/pandas/tests/test_rolling.py\n",
            "spark-3.3.1-bin-hadoop3/python/pyspark/pandas/tests/test_series.py\n",
            "spark-3.3.1-bin-hadoop3/python/pyspark/pandas/tests/test_series_conversion.py\n",
            "spark-3.3.1-bin-hadoop3/python/pyspark/pandas/tests/test_series_datetime.py\n",
            "spark-3.3.1-bin-hadoop3/python/pyspark/pandas/tests/test_series_string.py\n",
            "spark-3.3.1-bin-hadoop3/python/pyspark/pandas/tests/test_spark_functions.py\n",
            "spark-3.3.1-bin-hadoop3/python/pyspark/pandas/tests/test_sql.py\n",
            "spark-3.3.1-bin-hadoop3/python/pyspark/pandas/tests/test_stats.py\n",
            "spark-3.3.1-bin-hadoop3/python/pyspark/pandas/tests/test_typedef.py\n",
            "spark-3.3.1-bin-hadoop3/python/pyspark/pandas/tests/test_utils.py\n",
            "spark-3.3.1-bin-hadoop3/python/pyspark/pandas/tests/test_window.py\n",
            "spark-3.3.1-bin-hadoop3/python/pyspark/pandas/typedef/\n",
            "spark-3.3.1-bin-hadoop3/python/pyspark/pandas/typedef/__init__.py\n",
            "spark-3.3.1-bin-hadoop3/python/pyspark/pandas/typedef/typehints.py\n",
            "spark-3.3.1-bin-hadoop3/python/pyspark/pandas/usage_logging/\n",
            "spark-3.3.1-bin-hadoop3/python/pyspark/pandas/usage_logging/__init__.py\n",
            "spark-3.3.1-bin-hadoop3/python/pyspark/pandas/usage_logging/usage_logger.py\n",
            "spark-3.3.1-bin-hadoop3/python/pyspark/pandas/utils.py\n",
            "spark-3.3.1-bin-hadoop3/python/pyspark/pandas/window.py\n",
            "spark-3.3.1-bin-hadoop3/python/pyspark/profiler.py\n",
            "spark-3.3.1-bin-hadoop3/python/pyspark/py.typed\n",
            "spark-3.3.1-bin-hadoop3/python/pyspark/python/\n",
            "spark-3.3.1-bin-hadoop3/python/pyspark/python/pyspark/\n",
            "spark-3.3.1-bin-hadoop3/python/pyspark/python/pyspark/shell.py\n",
            "spark-3.3.1-bin-hadoop3/python/pyspark/rdd.py\n",
            "spark-3.3.1-bin-hadoop3/python/pyspark/rddsampler.py\n",
            "spark-3.3.1-bin-hadoop3/python/pyspark/resource/\n",
            "spark-3.3.1-bin-hadoop3/python/pyspark/resource/__init__.py\n",
            "spark-3.3.1-bin-hadoop3/python/pyspark/resource/information.py\n",
            "spark-3.3.1-bin-hadoop3/python/pyspark/resource/profile.py\n",
            "spark-3.3.1-bin-hadoop3/python/pyspark/resource/requests.py\n",
            "spark-3.3.1-bin-hadoop3/python/pyspark/resource/tests/\n",
            "spark-3.3.1-bin-hadoop3/python/pyspark/resource/tests/__init__.py\n",
            "spark-3.3.1-bin-hadoop3/python/pyspark/resource/tests/test_resources.py\n",
            "spark-3.3.1-bin-hadoop3/python/pyspark/resultiterable.py\n",
            "spark-3.3.1-bin-hadoop3/python/pyspark/serializers.py\n",
            "spark-3.3.1-bin-hadoop3/python/pyspark/shell.py\n",
            "spark-3.3.1-bin-hadoop3/python/pyspark/shuffle.py\n",
            "spark-3.3.1-bin-hadoop3/python/pyspark/sql/\n",
            "spark-3.3.1-bin-hadoop3/python/pyspark/sql/__init__.py\n",
            "spark-3.3.1-bin-hadoop3/python/pyspark/sql/_typing.pyi\n",
            "spark-3.3.1-bin-hadoop3/python/pyspark/sql/avro/\n",
            "spark-3.3.1-bin-hadoop3/python/pyspark/sql/avro/__init__.py\n",
            "spark-3.3.1-bin-hadoop3/python/pyspark/sql/avro/functions.py\n",
            "spark-3.3.1-bin-hadoop3/python/pyspark/sql/catalog.py\n",
            "spark-3.3.1-bin-hadoop3/python/pyspark/sql/column.py\n",
            "spark-3.3.1-bin-hadoop3/python/pyspark/sql/conf.py\n",
            "spark-3.3.1-bin-hadoop3/python/pyspark/sql/context.py\n",
            "spark-3.3.1-bin-hadoop3/python/pyspark/sql/dataframe.py\n",
            "spark-3.3.1-bin-hadoop3/python/pyspark/sql/functions.py\n",
            "spark-3.3.1-bin-hadoop3/python/pyspark/sql/group.py\n",
            "spark-3.3.1-bin-hadoop3/python/pyspark/sql/observation.py\n",
            "spark-3.3.1-bin-hadoop3/python/pyspark/sql/pandas/\n",
            "spark-3.3.1-bin-hadoop3/python/pyspark/sql/pandas/__init__.py\n",
            "spark-3.3.1-bin-hadoop3/python/pyspark/sql/pandas/_typing/\n",
            "spark-3.3.1-bin-hadoop3/python/pyspark/sql/pandas/_typing/__init__.pyi\n",
            "spark-3.3.1-bin-hadoop3/python/pyspark/sql/pandas/_typing/protocols/\n",
            "spark-3.3.1-bin-hadoop3/python/pyspark/sql/pandas/_typing/protocols/__init__.pyi\n",
            "spark-3.3.1-bin-hadoop3/python/pyspark/sql/pandas/_typing/protocols/frame.pyi\n",
            "spark-3.3.1-bin-hadoop3/python/pyspark/sql/pandas/_typing/protocols/series.pyi\n",
            "spark-3.3.1-bin-hadoop3/python/pyspark/sql/pandas/conversion.py\n",
            "spark-3.3.1-bin-hadoop3/python/pyspark/sql/pandas/functions.py\n",
            "spark-3.3.1-bin-hadoop3/python/pyspark/sql/pandas/functions.pyi\n",
            "spark-3.3.1-bin-hadoop3/python/pyspark/sql/pandas/group_ops.py\n",
            "spark-3.3.1-bin-hadoop3/python/pyspark/sql/pandas/map_ops.py\n",
            "spark-3.3.1-bin-hadoop3/python/pyspark/sql/pandas/serializers.py\n",
            "spark-3.3.1-bin-hadoop3/python/pyspark/sql/pandas/typehints.py\n",
            "spark-3.3.1-bin-hadoop3/python/pyspark/sql/pandas/types.py\n",
            "spark-3.3.1-bin-hadoop3/python/pyspark/sql/pandas/utils.py\n",
            "spark-3.3.1-bin-hadoop3/python/pyspark/sql/readwriter.py\n",
            "spark-3.3.1-bin-hadoop3/python/pyspark/sql/session.py\n",
            "spark-3.3.1-bin-hadoop3/python/pyspark/sql/sql_formatter.py\n",
            "spark-3.3.1-bin-hadoop3/python/pyspark/sql/streaming.py\n",
            "spark-3.3.1-bin-hadoop3/python/pyspark/sql/tests/\n",
            "spark-3.3.1-bin-hadoop3/python/pyspark/sql/tests/__init__.py\n",
            "spark-3.3.1-bin-hadoop3/python/pyspark/sql/tests/test_arrow.py\n",
            "spark-3.3.1-bin-hadoop3/python/pyspark/sql/tests/test_arrow_map.py\n",
            "spark-3.3.1-bin-hadoop3/python/pyspark/sql/tests/test_catalog.py\n",
            "spark-3.3.1-bin-hadoop3/python/pyspark/sql/tests/test_column.py\n",
            "spark-3.3.1-bin-hadoop3/python/pyspark/sql/tests/test_conf.py\n",
            "spark-3.3.1-bin-hadoop3/python/pyspark/sql/tests/test_context.py\n",
            "spark-3.3.1-bin-hadoop3/python/pyspark/sql/tests/test_dataframe.py\n",
            "spark-3.3.1-bin-hadoop3/python/pyspark/sql/tests/test_datasources.py\n",
            "spark-3.3.1-bin-hadoop3/python/pyspark/sql/tests/test_functions.py\n",
            "spark-3.3.1-bin-hadoop3/python/pyspark/sql/tests/test_group.py\n",
            "spark-3.3.1-bin-hadoop3/python/pyspark/sql/tests/test_pandas_cogrouped_map.py\n",
            "spark-3.3.1-bin-hadoop3/python/pyspark/sql/tests/test_pandas_grouped_map.py\n",
            "spark-3.3.1-bin-hadoop3/python/pyspark/sql/tests/test_pandas_map.py\n",
            "spark-3.3.1-bin-hadoop3/python/pyspark/sql/tests/test_pandas_udf.py\n",
            "spark-3.3.1-bin-hadoop3/python/pyspark/sql/tests/test_pandas_udf_grouped_agg.py\n",
            "spark-3.3.1-bin-hadoop3/python/pyspark/sql/tests/test_pandas_udf_scalar.py\n",
            "spark-3.3.1-bin-hadoop3/python/pyspark/sql/tests/test_pandas_udf_typehints.py\n",
            "spark-3.3.1-bin-hadoop3/python/pyspark/sql/tests/test_pandas_udf_typehints_with_future_annotations.py\n",
            "spark-3.3.1-bin-hadoop3/python/pyspark/sql/tests/test_pandas_udf_window.py\n",
            "spark-3.3.1-bin-hadoop3/python/pyspark/sql/tests/test_readwriter.py\n",
            "spark-3.3.1-bin-hadoop3/python/pyspark/sql/tests/test_serde.py\n",
            "spark-3.3.1-bin-hadoop3/python/pyspark/sql/tests/test_session.py\n",
            "spark-3.3.1-bin-hadoop3/python/pyspark/sql/tests/test_streaming.py\n",
            "spark-3.3.1-bin-hadoop3/python/pyspark/sql/tests/test_types.py\n",
            "spark-3.3.1-bin-hadoop3/python/pyspark/sql/tests/test_udf.py\n",
            "spark-3.3.1-bin-hadoop3/python/pyspark/sql/tests/test_udf_profiler.py\n",
            "spark-3.3.1-bin-hadoop3/python/pyspark/sql/tests/test_utils.py\n",
            "spark-3.3.1-bin-hadoop3/python/pyspark/sql/tests/typing/\n",
            "spark-3.3.1-bin-hadoop3/python/pyspark/sql/tests/typing/test_column.yml\n",
            "spark-3.3.1-bin-hadoop3/python/pyspark/sql/tests/typing/test_dataframe.yml\n",
            "spark-3.3.1-bin-hadoop3/python/pyspark/sql/tests/typing/test_functions.yml\n",
            "spark-3.3.1-bin-hadoop3/python/pyspark/sql/tests/typing/test_readwriter.yml\n",
            "spark-3.3.1-bin-hadoop3/python/pyspark/sql/tests/typing/test_session.yml\n",
            "spark-3.3.1-bin-hadoop3/python/pyspark/sql/tests/typing/test_udf.yml\n",
            "spark-3.3.1-bin-hadoop3/python/pyspark/sql/types.py\n",
            "spark-3.3.1-bin-hadoop3/python/pyspark/sql/udf.py\n",
            "spark-3.3.1-bin-hadoop3/python/pyspark/sql/utils.py\n",
            "spark-3.3.1-bin-hadoop3/python/pyspark/sql/window.py\n",
            "spark-3.3.1-bin-hadoop3/python/pyspark/statcounter.py\n",
            "spark-3.3.1-bin-hadoop3/python/pyspark/status.py\n",
            "spark-3.3.1-bin-hadoop3/python/pyspark/storagelevel.py\n",
            "spark-3.3.1-bin-hadoop3/python/pyspark/streaming/\n",
            "spark-3.3.1-bin-hadoop3/python/pyspark/streaming/__init__.py\n",
            "spark-3.3.1-bin-hadoop3/python/pyspark/streaming/context.py\n",
            "spark-3.3.1-bin-hadoop3/python/pyspark/streaming/dstream.py\n",
            "spark-3.3.1-bin-hadoop3/python/pyspark/streaming/kinesis.py\n",
            "spark-3.3.1-bin-hadoop3/python/pyspark/streaming/listener.py\n",
            "spark-3.3.1-bin-hadoop3/python/pyspark/streaming/tests/\n",
            "spark-3.3.1-bin-hadoop3/python/pyspark/streaming/tests/__init__.py\n",
            "spark-3.3.1-bin-hadoop3/python/pyspark/streaming/tests/test_context.py\n",
            "spark-3.3.1-bin-hadoop3/python/pyspark/streaming/tests/test_dstream.py\n",
            "spark-3.3.1-bin-hadoop3/python/pyspark/streaming/tests/test_kinesis.py\n",
            "spark-3.3.1-bin-hadoop3/python/pyspark/streaming/tests/test_listener.py\n",
            "spark-3.3.1-bin-hadoop3/python/pyspark/streaming/util.py\n",
            "spark-3.3.1-bin-hadoop3/python/pyspark/taskcontext.py\n",
            "spark-3.3.1-bin-hadoop3/python/pyspark/testing/\n",
            "spark-3.3.1-bin-hadoop3/python/pyspark/testing/__init__.py\n",
            "spark-3.3.1-bin-hadoop3/python/pyspark/testing/mllibutils.py\n",
            "spark-3.3.1-bin-hadoop3/python/pyspark/testing/mlutils.py\n",
            "spark-3.3.1-bin-hadoop3/python/pyspark/testing/pandasutils.py\n",
            "spark-3.3.1-bin-hadoop3/python/pyspark/testing/sqlutils.py\n",
            "spark-3.3.1-bin-hadoop3/python/pyspark/testing/streamingutils.py\n",
            "spark-3.3.1-bin-hadoop3/python/pyspark/testing/utils.py\n",
            "spark-3.3.1-bin-hadoop3/python/pyspark/tests/\n",
            "spark-3.3.1-bin-hadoop3/python/pyspark/tests/__init__.py\n",
            "spark-3.3.1-bin-hadoop3/python/pyspark/tests/test_appsubmit.py\n",
            "spark-3.3.1-bin-hadoop3/python/pyspark/tests/test_broadcast.py\n",
            "spark-3.3.1-bin-hadoop3/python/pyspark/tests/test_conf.py\n",
            "spark-3.3.1-bin-hadoop3/python/pyspark/tests/test_context.py\n",
            "spark-3.3.1-bin-hadoop3/python/pyspark/tests/test_daemon.py\n",
            "spark-3.3.1-bin-hadoop3/python/pyspark/tests/test_install_spark.py\n",
            "spark-3.3.1-bin-hadoop3/python/pyspark/tests/test_join.py\n",
            "spark-3.3.1-bin-hadoop3/python/pyspark/tests/test_pin_thread.py\n",
            "spark-3.3.1-bin-hadoop3/python/pyspark/tests/test_profiler.py\n",
            "spark-3.3.1-bin-hadoop3/python/pyspark/tests/test_rdd.py\n",
            "spark-3.3.1-bin-hadoop3/python/pyspark/tests/test_rddbarrier.py\n",
            "spark-3.3.1-bin-hadoop3/python/pyspark/tests/test_readwrite.py\n",
            "spark-3.3.1-bin-hadoop3/python/pyspark/tests/test_serializers.py\n",
            "spark-3.3.1-bin-hadoop3/python/pyspark/tests/test_shuffle.py\n",
            "spark-3.3.1-bin-hadoop3/python/pyspark/tests/test_statcounter.py\n",
            "spark-3.3.1-bin-hadoop3/python/pyspark/tests/test_taskcontext.py\n",
            "spark-3.3.1-bin-hadoop3/python/pyspark/tests/test_util.py\n",
            "spark-3.3.1-bin-hadoop3/python/pyspark/tests/test_worker.py\n",
            "spark-3.3.1-bin-hadoop3/python/pyspark/tests/typing/\n",
            "spark-3.3.1-bin-hadoop3/python/pyspark/tests/typing/test_context.yml\n",
            "spark-3.3.1-bin-hadoop3/python/pyspark/tests/typing/test_core.yml\n",
            "spark-3.3.1-bin-hadoop3/python/pyspark/tests/typing/test_rdd.yml\n",
            "spark-3.3.1-bin-hadoop3/python/pyspark/tests/typing/test_resultiterable.yml\n",
            "spark-3.3.1-bin-hadoop3/python/pyspark/traceback_utils.py\n",
            "spark-3.3.1-bin-hadoop3/python/pyspark/util.py\n",
            "spark-3.3.1-bin-hadoop3/python/pyspark/version.py\n",
            "spark-3.3.1-bin-hadoop3/python/pyspark/worker.py\n",
            "spark-3.3.1-bin-hadoop3/python/pyspark.egg-info/\n",
            "spark-3.3.1-bin-hadoop3/python/pyspark.egg-info/PKG-INFO\n",
            "spark-3.3.1-bin-hadoop3/python/pyspark.egg-info/SOURCES.txt\n",
            "spark-3.3.1-bin-hadoop3/python/pyspark.egg-info/dependency_links.txt\n",
            "spark-3.3.1-bin-hadoop3/python/pyspark.egg-info/requires.txt\n",
            "spark-3.3.1-bin-hadoop3/python/pyspark.egg-info/top_level.txt\n",
            "spark-3.3.1-bin-hadoop3/python/run-tests\n",
            "spark-3.3.1-bin-hadoop3/python/run-tests-with-coverage\n",
            "spark-3.3.1-bin-hadoop3/python/run-tests.py\n",
            "spark-3.3.1-bin-hadoop3/python/setup.cfg\n",
            "spark-3.3.1-bin-hadoop3/python/setup.py\n",
            "spark-3.3.1-bin-hadoop3/python/test_coverage/\n",
            "spark-3.3.1-bin-hadoop3/python/test_coverage/conf/\n",
            "spark-3.3.1-bin-hadoop3/python/test_coverage/conf/spark-defaults.conf\n",
            "spark-3.3.1-bin-hadoop3/python/test_coverage/coverage_daemon.py\n",
            "spark-3.3.1-bin-hadoop3/python/test_coverage/sitecustomize.py\n",
            "spark-3.3.1-bin-hadoop3/python/test_support/\n",
            "spark-3.3.1-bin-hadoop3/python/test_support/SimpleHTTPServer.py\n",
            "spark-3.3.1-bin-hadoop3/python/test_support/hello/\n",
            "spark-3.3.1-bin-hadoop3/python/test_support/hello/hello.txt\n",
            "spark-3.3.1-bin-hadoop3/python/test_support/hello/sub_hello/\n",
            "spark-3.3.1-bin-hadoop3/python/test_support/hello/sub_hello/sub_hello.txt\n",
            "spark-3.3.1-bin-hadoop3/python/test_support/sql/\n",
            "spark-3.3.1-bin-hadoop3/python/test_support/sql/ages.csv\n",
            "spark-3.3.1-bin-hadoop3/python/test_support/sql/ages_newlines.csv\n",
            "spark-3.3.1-bin-hadoop3/python/test_support/sql/orc_partitioned/\n",
            "spark-3.3.1-bin-hadoop3/python/test_support/sql/orc_partitioned/_SUCCESS\n",
            "spark-3.3.1-bin-hadoop3/python/test_support/sql/orc_partitioned/b=0/\n",
            "spark-3.3.1-bin-hadoop3/python/test_support/sql/orc_partitioned/b=0/c=0/\n",
            "spark-3.3.1-bin-hadoop3/python/test_support/sql/orc_partitioned/b=0/c=0/.part-r-00000-829af031-b970-49d6-ad39-30460a0be2c8.orc.crc\n",
            "spark-3.3.1-bin-hadoop3/python/test_support/sql/orc_partitioned/b=0/c=0/part-r-00000-829af031-b970-49d6-ad39-30460a0be2c8.orc\n",
            "spark-3.3.1-bin-hadoop3/python/test_support/sql/orc_partitioned/b=1/\n",
            "spark-3.3.1-bin-hadoop3/python/test_support/sql/orc_partitioned/b=1/c=1/\n",
            "spark-3.3.1-bin-hadoop3/python/test_support/sql/orc_partitioned/b=1/c=1/.part-r-00000-829af031-b970-49d6-ad39-30460a0be2c8.orc.crc\n",
            "spark-3.3.1-bin-hadoop3/python/test_support/sql/orc_partitioned/b=1/c=1/part-r-00000-829af031-b970-49d6-ad39-30460a0be2c8.orc\n",
            "spark-3.3.1-bin-hadoop3/python/test_support/sql/parquet_partitioned/\n",
            "spark-3.3.1-bin-hadoop3/python/test_support/sql/parquet_partitioned/_SUCCESS\n",
            "spark-3.3.1-bin-hadoop3/python/test_support/sql/parquet_partitioned/_common_metadata\n",
            "spark-3.3.1-bin-hadoop3/python/test_support/sql/parquet_partitioned/_metadata\n",
            "spark-3.3.1-bin-hadoop3/python/test_support/sql/parquet_partitioned/year=2014/\n",
            "spark-3.3.1-bin-hadoop3/python/test_support/sql/parquet_partitioned/year=2014/month=9/\n",
            "spark-3.3.1-bin-hadoop3/python/test_support/sql/parquet_partitioned/year=2014/month=9/day=1/\n",
            "spark-3.3.1-bin-hadoop3/python/test_support/sql/parquet_partitioned/year=2014/month=9/day=1/.part-r-00008.gz.parquet.crc\n",
            "spark-3.3.1-bin-hadoop3/python/test_support/sql/parquet_partitioned/year=2014/month=9/day=1/part-r-00008.gz.parquet\n",
            "spark-3.3.1-bin-hadoop3/python/test_support/sql/parquet_partitioned/year=2015/\n",
            "spark-3.3.1-bin-hadoop3/python/test_support/sql/parquet_partitioned/year=2015/month=10/\n",
            "spark-3.3.1-bin-hadoop3/python/test_support/sql/parquet_partitioned/year=2015/month=10/day=25/\n",
            "spark-3.3.1-bin-hadoop3/python/test_support/sql/parquet_partitioned/year=2015/month=10/day=25/.part-r-00002.gz.parquet.crc\n",
            "spark-3.3.1-bin-hadoop3/python/test_support/sql/parquet_partitioned/year=2015/month=10/day=25/.part-r-00004.gz.parquet.crc\n",
            "spark-3.3.1-bin-hadoop3/python/test_support/sql/parquet_partitioned/year=2015/month=10/day=25/part-r-00002.gz.parquet\n",
            "spark-3.3.1-bin-hadoop3/python/test_support/sql/parquet_partitioned/year=2015/month=10/day=25/part-r-00004.gz.parquet\n",
            "spark-3.3.1-bin-hadoop3/python/test_support/sql/parquet_partitioned/year=2015/month=10/day=26/\n",
            "spark-3.3.1-bin-hadoop3/python/test_support/sql/parquet_partitioned/year=2015/month=10/day=26/.part-r-00005.gz.parquet.crc\n",
            "spark-3.3.1-bin-hadoop3/python/test_support/sql/parquet_partitioned/year=2015/month=10/day=26/part-r-00005.gz.parquet\n",
            "spark-3.3.1-bin-hadoop3/python/test_support/sql/parquet_partitioned/year=2015/month=9/\n",
            "spark-3.3.1-bin-hadoop3/python/test_support/sql/parquet_partitioned/year=2015/month=9/day=1/\n",
            "spark-3.3.1-bin-hadoop3/python/test_support/sql/parquet_partitioned/year=2015/month=9/day=1/.part-r-00007.gz.parquet.crc\n",
            "spark-3.3.1-bin-hadoop3/python/test_support/sql/parquet_partitioned/year=2015/month=9/day=1/part-r-00007.gz.parquet\n",
            "spark-3.3.1-bin-hadoop3/python/test_support/sql/people.json\n",
            "spark-3.3.1-bin-hadoop3/python/test_support/sql/people1.json\n",
            "spark-3.3.1-bin-hadoop3/python/test_support/sql/people_array.json\n",
            "spark-3.3.1-bin-hadoop3/python/test_support/sql/people_array_utf16le.json\n",
            "spark-3.3.1-bin-hadoop3/python/test_support/sql/streaming/\n",
            "spark-3.3.1-bin-hadoop3/python/test_support/sql/streaming/text-test.txt\n",
            "spark-3.3.1-bin-hadoop3/python/test_support/sql/text-test.txt\n",
            "spark-3.3.1-bin-hadoop3/python/test_support/userlib-0.1.zip\n",
            "spark-3.3.1-bin-hadoop3/python/test_support/userlibrary.py\n",
            "spark-3.3.1-bin-hadoop3/sbin/\n",
            "spark-3.3.1-bin-hadoop3/sbin/decommission-slave.sh\n",
            "spark-3.3.1-bin-hadoop3/sbin/decommission-worker.sh\n",
            "spark-3.3.1-bin-hadoop3/sbin/slaves.sh\n",
            "spark-3.3.1-bin-hadoop3/sbin/spark-config.sh\n",
            "spark-3.3.1-bin-hadoop3/sbin/spark-daemon.sh\n",
            "spark-3.3.1-bin-hadoop3/sbin/spark-daemons.sh\n",
            "spark-3.3.1-bin-hadoop3/sbin/start-all.sh\n",
            "spark-3.3.1-bin-hadoop3/sbin/start-history-server.sh\n",
            "spark-3.3.1-bin-hadoop3/sbin/start-master.sh\n",
            "spark-3.3.1-bin-hadoop3/sbin/start-mesos-dispatcher.sh\n",
            "spark-3.3.1-bin-hadoop3/sbin/start-mesos-shuffle-service.sh\n",
            "spark-3.3.1-bin-hadoop3/sbin/start-slave.sh\n",
            "spark-3.3.1-bin-hadoop3/sbin/start-slaves.sh\n",
            "spark-3.3.1-bin-hadoop3/sbin/start-thriftserver.sh\n",
            "spark-3.3.1-bin-hadoop3/sbin/start-worker.sh\n",
            "spark-3.3.1-bin-hadoop3/sbin/start-workers.sh\n",
            "spark-3.3.1-bin-hadoop3/sbin/stop-all.sh\n",
            "spark-3.3.1-bin-hadoop3/sbin/stop-history-server.sh\n",
            "spark-3.3.1-bin-hadoop3/sbin/stop-master.sh\n",
            "spark-3.3.1-bin-hadoop3/sbin/stop-mesos-dispatcher.sh\n",
            "spark-3.3.1-bin-hadoop3/sbin/stop-mesos-shuffle-service.sh\n",
            "spark-3.3.1-bin-hadoop3/sbin/stop-slave.sh\n",
            "spark-3.3.1-bin-hadoop3/sbin/stop-slaves.sh\n",
            "spark-3.3.1-bin-hadoop3/sbin/stop-thriftserver.sh\n",
            "spark-3.3.1-bin-hadoop3/sbin/stop-worker.sh\n",
            "spark-3.3.1-bin-hadoop3/sbin/stop-workers.sh\n",
            "spark-3.3.1-bin-hadoop3/sbin/workers.sh\n",
            "spark-3.3.1-bin-hadoop3/yarn/\n",
            "spark-3.3.1-bin-hadoop3/yarn/spark-3.3.1-yarn-shuffle.jar\n",
            "Looking in indexes: https://pypi.org/simple, https://us-python.pkg.dev/colab-wheels/public/simple/\n",
            "Requirement already satisfied: findspark in /usr/local/lib/python3.8/dist-packages (2.0.1)\n"
          ]
        }
      ],
      "source": [
        "!apt-get install openjdk-8-jdk-headless -qq > /dev/null\n",
        "!wget -O ./spark-3.3.1-bin-hadoop3.tgz  https://dlcdn.apache.org/spark/spark-3.3.1/spark-3.3.1-bin-hadoop3.tgz\n",
        "!tar zxvf ./spark-3.3.1-bin-hadoop3.tgz\n",
        "!pip install findspark"
      ]
    },
    {
      "cell_type": "code",
      "execution_count": null,
      "metadata": {
        "id": "AGhZFYkpMO78"
      },
      "outputs": [],
      "source": [
        "import os\n",
        "import glob\n",
        "\n",
        "\n",
        "os.environ[\"JAVA_HOME\"] = \"/usr/lib/jvm/java-8-openjdk-amd64\"\n",
        "os.environ[\"SPARK_HOME\"] = \"/content/spark-3.3.1-bin-hadoop3\"\n",
        "os.environ[\"PYTHONHASHSEED\"]=str(232)"
      ]
    },
    {
      "cell_type": "code",
      "source": [
        "%pip install pyproj"
      ],
      "metadata": {
        "colab": {
          "base_uri": "https://localhost:8080/"
        },
        "id": "QLki_74QY5w8",
        "outputId": "104846aa-82ac-4ee1-9db6-323453adb1e9"
      },
      "execution_count": null,
      "outputs": [
        {
          "output_type": "stream",
          "name": "stdout",
          "text": [
            "Looking in indexes: https://pypi.org/simple, https://us-python.pkg.dev/colab-wheels/public/simple/\n",
            "Requirement already satisfied: pyproj in /usr/local/lib/python3.8/dist-packages (3.4.1)\n",
            "Requirement already satisfied: certifi in /usr/local/lib/python3.8/dist-packages (from pyproj) (2022.12.7)\n"
          ]
        }
      ]
    },
    {
      "cell_type": "code",
      "execution_count": null,
      "metadata": {
        "id": "MD6ubvQWK2mP"
      },
      "outputs": [],
      "source": [
        "import json\n",
        "import os"
      ]
    },
    {
      "cell_type": "code",
      "execution_count": null,
      "metadata": {
        "id": "NdM2tWXpK5dy"
      },
      "outputs": [],
      "source": [
        "import findspark\n",
        "import random\n",
        "findspark.init()"
      ]
    },
    {
      "cell_type": "code",
      "execution_count": null,
      "metadata": {
        "id": "jijktxiTMjL7",
        "colab": {
          "base_uri": "https://localhost:8080/"
        },
        "outputId": "dd5967fa-6624-4369-94e6-712491d82a31"
      },
      "outputs": [
        {
          "output_type": "stream",
          "name": "stdout",
          "text": [
            "mkdir: cannot create directory ‘/root/.final_prj/’: File exists\n"
          ]
        }
      ],
      "source": [
        "!mkdir /root/.final_prj/"
      ]
    },
    {
      "cell_type": "code",
      "execution_count": null,
      "metadata": {
        "id": "GL-ytbyWMqkN"
      },
      "outputs": [],
      "source": [
        "\n",
        "import pyspark\n",
        "from pyspark.sql import functions as f\n"
      ]
    },
    {
      "cell_type": "code",
      "execution_count": null,
      "metadata": {
        "id": "C2z2CR72NAds"
      },
      "outputs": [],
      "source": [
        "import networkx as nx\n",
        "from pyspark.sql import SparkSession\n",
        "spark = SparkSession.builder.appName('DataBase').getOrCreate()"
      ]
    },
    {
      "cell_type": "markdown",
      "metadata": {
        "id": "k-3aj3DEJHjN"
      },
      "source": [
        "set up drive and data from drive"
      ]
    },
    {
      "cell_type": "code",
      "execution_count": null,
      "metadata": {
        "id": "RGkQyqYCIn9-",
        "colab": {
          "base_uri": "https://localhost:8080/"
        },
        "outputId": "25690106-3128-4d5f-df88-34cae9286d8e"
      },
      "outputs": [
        {
          "output_type": "stream",
          "name": "stdout",
          "text": [
            "Drive already mounted at /content/drive; to attempt to forcibly remount, call drive.mount(\"/content/drive\", force_remount=True).\n",
            "\n"
          ]
        }
      ],
      "source": [
        "from google.colab import drive\n",
        "drive.mount('/content/drive')\n",
        "print()"
      ]
    },
    {
      "cell_type": "markdown",
      "source": [
        "# 2 Data incertion from drive"
      ],
      "metadata": {
        "id": "mKSQN_x0p4Wj"
      }
    },
    {
      "cell_type": "code",
      "execution_count": null,
      "metadata": {
        "id": "M-8-XPWkJaKz"
      },
      "outputs": [],
      "source": [
        "#get main daily data from drive\n",
        "sum_per_day=spark.read.csv(\"/content/drive/MyDrive/runi/BDP project/corona final project/geo_sum_0815.csv\", sep=',', inferSchema=True, header=True)"
      ]
    },
    {
      "cell_type": "code",
      "execution_count": null,
      "metadata": {
        "id": "mJF4HZIkKgQ-",
        "colab": {
          "base_uri": "https://localhost:8080/"
        },
        "outputId": "1b9dc55f-9381-4111-efb3-e6e558698bde"
      },
      "outputs": [
        {
          "output_type": "stream",
          "name": "stdout",
          "text": [
            "+---------+---------+--------+-------------------+-----------------+-----------------+----------------------+----------------------+------------------------+------------------------+------------------+------------------+----------------------------+----------------------------+----------------------------------+---------------------------+-----------------------------------+----------------------------+----------------------------------+---------------------------+\n",
            "|town_code|agas_code|    town|               date|accumulated_cases|new_cases_on_date|accumulated_recoveries|new_recoveries_on_date|accumulated_hospitalized|new_hospitalized_on_date|accumulated_deaths|new_deaths_on_date|accumulated_diagnostic_tests|new_diagnostic_tests_on_date|accumulated_vaccination_first_dose|new_vacc_first_dose_on_date|accumulated_vaccination_second_dose|new_vacc_second_dose_on_date|accumulated_vaccination_third_dose|new_vacc_third_dose_on_date|\n",
            "+---------+---------+--------+-------------------+-----------------+-----------------+----------------------+----------------------+------------------------+------------------------+------------------+------------------+----------------------------+----------------------------+----------------------------------+---------------------------+-----------------------------------+----------------------------+----------------------------------+---------------------------+\n",
            "|       26|       NA|ראש פינה|2020-03-11 00:00:00|                0|                0|                     0|                     0|                       0|                       0|                 0|                 0|                           0|                           0|                               0.0|                      false|                                  0|                           0|                               0.0|                      false|\n",
            "|       26|       NA|ראש פינה|2020-03-12 00:00:00|                0|                0|                     0|                     0|                       0|                       0|                 0|                 0|                           0|                           0|                               0.0|                      false|                                  0|                           0|                               0.0|                      false|\n",
            "|       26|       NA|ראש פינה|2020-03-13 00:00:00|                0|                0|                     0|                     0|                       0|                       0|                 0|                 0|                           0|                           0|                               0.0|                      false|                                  0|                           0|                               0.0|                      false|\n",
            "|       26|       NA|ראש פינה|2020-03-14 00:00:00|                0|                0|                     0|                     0|                       0|                       0|                 0|                 0|                           0|                           0|                               0.0|                      false|                                  0|                           0|                               0.0|                      false|\n",
            "|       26|       NA|ראש פינה|2020-03-15 00:00:00|                0|                0|                     0|                     0|                       0|                       0|                 0|                 0|                           0|                           0|                               0.0|                      false|                                  0|                           0|                               0.0|                      false|\n",
            "|       26|       NA|ראש פינה|2020-03-16 00:00:00|                0|                0|                     0|                     0|                       0|                       0|                 0|                 0|                           0|                           0|                               0.0|                      false|                                  0|                           0|                               0.0|                      false|\n",
            "|       26|       NA|ראש פינה|2020-03-17 00:00:00|                0|                0|                     0|                     0|                       0|                       0|                 0|                 0|                           0|                           0|                               0.0|                      false|                                  0|                           0|                               0.0|                      false|\n",
            "|       26|       NA|ראש פינה|2020-03-18 00:00:00|                0|                0|                     0|                     0|                       0|                       0|                 0|                 0|                           0|                           0|                               0.0|                      false|                                  0|                           0|                               0.0|                      false|\n",
            "|       26|       NA|ראש פינה|2020-03-19 00:00:00|                0|                0|                     0|                     0|                       0|                       0|                 0|                 0|                           0|                           0|                               0.0|                      false|                                  0|                           0|                               0.0|                      false|\n",
            "|       26|       NA|ראש פינה|2020-03-20 00:00:00|                0|                0|                     0|                     0|                       0|                       0|                 0|                 0|                           0|                           0|                               0.0|                      false|                                  0|                           0|                               0.0|                      false|\n",
            "|       26|       NA|ראש פינה|2020-03-21 00:00:00|                0|                0|                     0|                     0|                       0|                       0|                 0|                 0|                           0|                           0|                               0.0|                      false|                                  0|                           0|                               0.0|                      false|\n",
            "|       26|       NA|ראש פינה|2020-03-22 00:00:00|                0|                0|                     0|                     0|                       0|                       0|                 0|                 0|                           0|                           0|                               0.0|                      false|                                  0|                           0|                               0.0|                      false|\n",
            "|       26|       NA|ראש פינה|2020-03-23 00:00:00|                0|                0|                     0|                     0|                       0|                       0|                 0|                 0|                           7|                           7|                               0.0|                      false|                                  0|                           0|                               0.0|                      false|\n",
            "|       26|       NA|ראש פינה|2020-03-24 00:00:00|                0|                0|                     0|                     0|                       0|                       0|                 0|                 0|                           7|                           0|                               0.0|                      false|                                  0|                           0|                               0.0|                      false|\n",
            "|       26|       NA|ראש פינה|2020-03-25 00:00:00|                0|                0|                     0|                     0|                       0|                       0|                 0|                 0|                           7|                           0|                               0.0|                      false|                                  0|                           0|                               0.0|                      false|\n",
            "|       26|       NA|ראש פינה|2020-03-26 00:00:00|                0|                0|                     0|                     0|                       0|                       0|                 0|                 0|                           7|                           0|                               0.0|                      false|                                  0|                           0|                               0.0|                      false|\n",
            "|       26|       NA|ראש פינה|2020-03-27 00:00:00|                0|                0|                     0|                     0|                       0|                       0|                 0|                 0|                           7|                           0|                               0.0|                      false|                                  0|                           0|                               0.0|                      false|\n",
            "|       26|       NA|ראש פינה|2020-03-28 00:00:00|                0|                0|                     0|                     0|                       0|                       0|                 0|                 0|                           7|                           0|                               0.0|                      false|                                  0|                           0|                               0.0|                      false|\n",
            "|       26|       NA|ראש פינה|2020-03-29 00:00:00|                0|                0|                     0|                     0|                       0|                       0|                 0|                 0|                          16|                           9|                               0.0|                      false|                                  0|                           0|                               0.0|                      false|\n",
            "|       26|       NA|ראש פינה|2020-03-30 00:00:00|                0|                0|                     0|                     0|                       0|                       0|                 0|                 0|                          17|                           1|                               0.0|                      false|                                  0|                           0|                               0.0|                      false|\n",
            "+---------+---------+--------+-------------------+-----------------+-----------------+----------------------+----------------------+------------------------+------------------------+------------------+------------------+----------------------------+----------------------------+----------------------------------+---------------------------+-----------------------------------+----------------------------+----------------------------------+---------------------------+\n",
            "only showing top 20 rows\n",
            "\n"
          ]
        }
      ],
      "source": [
        "sum_per_day.show()"
      ]
    },
    {
      "cell_type": "code",
      "execution_count": null,
      "metadata": {
        "id": "VyUAqtVzNeZ_"
      },
      "outputs": [],
      "source": [
        "#get data of population (12) and city code(1) cordinates (19)\n",
        "bycode2021=spark.read.csv(\"/content/drive/MyDrive/runi/BDP project/corona final project/bycode2021v2.csv\", sep=',', inferSchema=True, header=True)"
      ]
    },
    {
      "cell_type": "code",
      "execution_count": null,
      "metadata": {
        "id": "9Zs6OoxNP2wN",
        "colab": {
          "base_uri": "https://localhost:8080/"
        },
        "outputId": "a7e283d0-2784-4bab-82bd-1b54048dbfce"
      },
      "outputs": [
        {
          "output_type": "stream",
          "name": "stdout",
          "text": [
            "+-------------------+---------+------------+--------+-------+-------+-------+---------+------------------+--------------------+---------------+--------+---------------------+-------------+-----------+-------+---------+----------------+----------------+-------------+----------+----------+-----------+----+----------------+--------------------+------------------+------------------+\n",
            "|           שם יישוב|סמל יישוב|       תעתיק|סמל מחוז|שם מחוז|סמל נפה| שם נפה|אזור טבעי|סמל מעמד מונציפאלי|   שם מעמד מונציפאלי|שיוך מטרופוליני|דת יישוב|סך הכל אוכלוסייה 2021|יהודים ואחרים|מזה: יהודים|  ערבים|שנת ייסוד|צורת יישוב שוטפת|השתייכות ארגונית|  קואורדינטות|גובה ממוצע|ועדת תכנון| תחנת משטרה| שנה|שם יישוב באנגלית|אשכול רשויות מקומיות|              long|               lat|\n",
            "+-------------------+---------+------------+--------+-------+-------+-------+---------+------------------+--------------------+---------------+--------+---------------------+-------------+-----------+-------+---------+----------------+----------------+-------------+----------+----------+-----------+----+----------------+--------------------+------------------+------------------+\n",
            "| אבו ג'ווייעד (שבט)|      967|ABU JUWEI'ID|       6|  הדרום|     62|באר שבע|    623.0|              null|  חסר מעמד מוניציפלי|           null|     3.0|                 null|         null|       null|   null|     null|             460|            null|  2.0400571E9|      null|     699.0|       null|2021|    Abu Juway'ad|                null| 35.04221193247055|31.230441632293964|\n",
            "|            אבו גוש|      472|   ABU GHOSH|       1|ירושלים|     11|ירושלים|    111.0|              99.0|        מועצה מקומית|          444.0|     2.0|               7881.0|         83.0|       64.0| 7798.0|     null|             280|            null|2.105263481E9|     686.0|     152.0|1.0002475E7|2021|       Abu Ghosh|                null| 35.11006895043577|31.805997168616646|\n",
            "|           אבו סנאן|      473|   ABU SINAN|       2|  הצפון|     24|    עכו|    245.0|              99.0|        מועצה מקומית|           null|     2.0|              14455.0|         31.0|       14.0|14424.0|     null|             270|            null|2.161876289E9|      71.0|     252.0|1.5002143E7|2021|       Abu Sinan|                null|35.169398650578366| 32.96099460580597|\n",
            "|   אבו סריחאן (שבט)|      935|ABU SUREIHAN|       6|  הדרום|     62|באר שבע|    623.0|              null|  חסר מעמד מוניציפלי|           null|     3.0|                 null|         null|       null|   null|     null|             460|            null| 1.86505745E9|      null|     699.0|       null|2021|    Abu Surayhan|                null|34.858420228780105|31.261645335778766|\n",
            "|    אבו עבדון (שבט)|      958|   ABU ABDUN|       6|  הדרום|     62|באר שבע|    623.0|              null|  חסר מעמד מוניציפלי|           null|     3.0|                 null|         null|       null|   null|     null|             460|            null|  1.8500579E9|      null|     699.0|       null|2021|      Abu 'Abdun|                null| 34.84251651424116|31.302187166730892|\n",
            "|     אבו עמאר (שבט)|     1042|   ABU AMMAR|       6|  הדרום|     62|באר שבע|    623.0|              null|  חסר מעמד מוניציפלי|           null|     3.0|                 null|         null|       null|   null|     null|             460|            null|  1.9500567E9|      null|     699.0|       null|2021|      Abu 'Ammar|                null|34.947846647769964| 31.19421135020856|\n",
            "|     אבו עמרה (שבט)|      932|    ABU AMRE|       6|  הדרום|     62|באר שבע|    623.0|              null|  חסר מעמד מוניציפלי|           null|     3.0|                 null|         null|       null|   null|     null|             460|            null|  1.8500571E9|      null|     699.0|       null|2021|       Abu 'Amra|                null| 34.84279174842432| 31.23003554552811|\n",
            "|אבו קורינאת (יישוב)|     1342|ABU QUREINAT|       6|  הדרום|     62|באר שבע|    623.0|              68.0|מועצה אזורית נווה...|           null|     2.0|               2081.0|          0.0|        0.0| 2081.0|     null|             290|            null|1.963656105E9|     449.0|     624.0|1.5003711E7|2021|    Abu Qureinat|               610.0| 34.96225207269793|31.140574817640346|\n",
            "|  אבו קורינאת (שבט)|      968|ABU QUREINAT|       6|  הדרום|     62|באר שבע|    623.0|              null|  חסר מעמד מוניציפלי|           null|     3.0|                 null|         null|       null|   null|     null|             460|            null|   1.970056E9|      null|     699.0|       null|2021|    Abu Kuraynat|                null| 34.96898645828523|31.131117055665424|\n",
            "|  אבו רובייעה (שבט)|      966| ABU RUBEI'A|       6|  הדרום|     62|באר שבע|    623.0|              null|  חסר מעמד מוניציפלי|           null|     3.0|                 null|         null|       null|   null|     null|             460|            null|  2.0500572E9|      null|     699.0|       null|2021|     Abu Rubay'a|                null| 35.05269341938896| 31.23947358457167|\n",
            "|   אבו רוקייק (שבט)|      961|ABU RUQAYYEQ|       6|  הדרום|     62|באר שבע|    623.0|              null|  חסר מעמד מוניציפלי|           null|     3.0|                 null|         null|       null|   null|     null|             460|            null|  1.9200566E9|      null|     699.0|       null|2021|    Abu Rukayyek|                null|34.916398525485555| 31.18512562949143|\n",
            "|           אבו תלול|     1375|   ABU TULUL|       6|  הדרום|     62|באר שבע|    623.0|              68.0|מועצה אזורית נווה...|           null|     2.0|               2330.0|          8.0|        0.0| 2322.0|     null|             290|            null|1.933456589E9|     388.0|     624.0|1.5003711E7|2021|       Abu Tulul|               610.0| 34.93045906217742|31.184164209688383|\n",
            "|              אבטין|      652|       IBTIN|       3|   חיפה|     31|   חיפה|    311.0|              12.0| מועצה אזורית זבולון|          222.0|     2.0|               2900.0|          2.0|        2.0| 2898.0|     null|             290|            null|2.109274077E9|      48.0|     301.0|1.0004207E7|2021|           Ibtin|               310.0| 35.11334331731922| 32.76151345293138|\n",
            "|            אבטליון|     1275|    AVTALYON|       2|  הצפון|     24|    עכו|    241.0|              56.0|   מועצה אזורית משגב|           null|     1.0|                475.0|        475.0|      455.0|    0.0|     1987|             370|            10.0|2.332474908E9|     360.0|     205.0|1.0004513E7|2021|        Avtalyon|               210.0| 35.35166104214529|32.836390789833146|\n",
            "|              אביאל|      679|      AVI'EL|       3|   חיפה|     32|   חדרה|    324.0|              45.0|  מועצה אזורית אלונה|           null|     1.0|                820.0|        820.0|      808.0|    0.0|     1949|             310|             9.0|1.996171533E9|      53.0|     351.0|1.0004333E7|2021|          Avi'el|                null| 34.99318577934077|32.531972371729175|\n",
            "|             אביבים|     1115|      AVIVIM|       2|  הצפון|     21|    צפת|    212.0|               2.0|מועצה אזורית מרום...|           null|     1.0|                470.0|        470.0|      468.0|    0.0|     1960|             310|             1.0|2.444177707E9|     723.0|     209.0|1.0004528E7|2021|          Avivim|               211.0| 35.47172287649953| 33.08856869455766|\n",
            "|            אביגדור|      819|    AVIGEDOR|       6|  הדרום|     61| אשקלון|    611.0|              33.0|מועצה אזורית באר ...|          143.0|     1.0|                806.0|        806.0|      801.0|    0.0|     1950|             310|             1.0|1.757362428E9|      64.0|     616.0|1.0001821E7|2021|        Avigedor|               420.0| 34.74314741759324|31.710233730927698|\n",
            "|             אביחיל|      175|    AVIHAYIL|       4|  המרכז|     41|  השרון|    411.0|              16.0|מועצה אזורית עמק חפר|          141.0|     1.0|               1402.0|       1402.0|     1361.0|    0.0|     1932|             310|             1.0|1.880869527E9|      37.0|     409.0|1.0002089E7|2021|        Avihayil|                null| 34.87112179400975| 32.35081910432108|\n",
            "|              אביטל|     2052|      AVITAL|       2|  הצפון|     23| יזרעאל|    234.0|               8.0| מועצה אזורית הגלבוע|           null|     1.0|                489.0|        489.0|      489.0|    0.0|     1953|             310|             1.0|2.291271816E9|      72.0|     204.0|1.0004394E7|2021|          Avital|               213.0| 35.30733599792143| 32.55762660434839|\n",
            "|             אביעזר|     1070|    AVI'EZER|       1|ירושלים|     11|ירושלים|    112.0|              26.0|מועצה אזורית מטה ...|          444.0|     1.0|                890.0|        890.0|      885.0|    0.0|     1958|             310|             2.0|2.016662104E9|     374.0|     151.0|1.5000597E7|2021|        Avi'ezer|                null| 35.01675403512907|31.681709943520303|\n",
            "+-------------------+---------+------------+--------+-------+-------+-------+---------+------------------+--------------------+---------------+--------+---------------------+-------------+-----------+-------+---------+----------------+----------------+-------------+----------+----------+-----------+----+----------------+--------------------+------------------+------------------+\n",
            "only showing top 20 rows\n",
            "\n"
          ]
        }
      ],
      "source": [
        "bycode2021.show()"
      ]
    },
    {
      "cell_type": "code",
      "source": [],
      "metadata": {
        "id": "1AJwp8Qhkjlm"
      },
      "execution_count": null,
      "outputs": []
    },
    {
      "cell_type": "code",
      "execution_count": null,
      "metadata": {
        "id": "Xn-VJHwyP6mv"
      },
      "outputs": [],
      "source": [
        "# get the socio economical rank data by city\n",
        "socio_rank_pop=spark.read.csv(\"/content/drive/MyDrive/runi/BDP project/corona final project/ LOCAL AUTHORITIES IN ASCENDING csv.csv\", sep=',', inferSchema=True, header=True)"
      ]
    },
    {
      "cell_type": "code",
      "execution_count": null,
      "metadata": {
        "id": "1FmqaC5xgl_f",
        "colab": {
          "base_uri": "https://localhost:8080/"
        },
        "outputId": "86340525-cb46-4e48-a249-d0f2b6dcfe8e"
      },
      "outputs": [
        {
          "output_type": "stream",
          "name": "stdout",
          "text": [
            "+----------------+----------------+-------------+--------+------------------------+-------------------+-------------+----------------+-------------+----------------+--------------------------------------------+------------------------+\n",
            "|municipal status|CODE OF LOCALITY|       hebrew|DISTRICT|INDEX POPULATION 2019[1]|INDEX VALUE 2019[2]|RANK 2019[3] |CLUSTER 2019[4] |RANK 2017[3] |CLUSTER 2017[4] |DIFFERENCE (CLUSTER 2019 MINUS CLUSTER 2017)|namme of local authurity|\n",
            "+----------------+----------------+-------------+--------+------------------------+-------------------+-------------+----------------+-------------+----------------+--------------------------------------------+------------------------+\n",
            "|              68|            null|    נווה מדבר|       6|                  12,261|             -2.844|            1|               1|            1|               1|                                           0|             NEVE MIDBAR|\n",
            "|              99|            1192|   ערערה-בנגב|       6|                  18,332|             -2.479|            2|               1|            2|               1|                                           0|          AR'ARA-BANEGEV|\n",
            "|              99|            1054|       תל שבע|       6|                  20,808|             -2.321|            3|               1|            3|               1|                                           0|               TEL SHEVA|\n",
            "|              99|            1059|        כסיפה|       6|                  21,809|             -2.316|            4|               1|            4|               1|                                           0|                 KUSEIFE|\n",
            "|              69|            null|      אל קסום|       6|                  15,670|             -2.271|            5|               1|            8|               1|                                           0|                AL-KASUM|\n",
            "|               0|            3797|מודיעין עילית|       7|                  76,373|             -2.247|            6|               1|            5|               1|                                           0|           MODI'IN ILLIT|\n",
            "|              99|            1303|         חורה|       6|                  22,337|             -2.231|            7|               1|            7|               1|                                           0|                    HURA|\n",
            "|              99|            1286|     שגב-שלום|       6|                  10,936|             -2.207|            8|               1|            6|               1|                                           0|            SEGEV-SHALOM|\n",
            "|              99|            1060|         לקיה|       6|                  14,075|             -2.049|            9|               1|            9|               1|                                           0|                   LAQYE|\n",
            "|               0|            3780|   ביתר עילית|       7|                  59,268|             -1.921|           10|               1|           11|               1|                                           0|             BETAR ILLIT|\n",
            "|               0|            1161|          רהט|       6|                  71,390|             -1.876|           11|               1|           10|               1|                                           0|                   RAHAT|\n",
            "|              99|            3660|       עמנואל|       7|                   3,896|             -1.668|           12|               2|           12|               2|                                           0|               IMMANU'EL|\n",
            "|              99|             922|        רכסים|       3|                  12,647|             -1.618|           13|               2|           13|               2|                                           0|                REKHASIM|\n",
            "|               0|            6100|      בני ברק|       5|                 203,229|             -1.542|           14|               2|           18|               2|                                           0|              BENE BERAQ|\n",
            "|              99|             541|  ג'סר א-זרקא|       3|                  14,930|             -1.484|           15|               2|           15|               2|                                           0|           JISR AZ-ZARQA|\n",
            "|              99|             510|     כפר מנדא|       2|                  20,188|             -1.479|           16|               2|           16|               2|                                           0|             KAFAR MANDA|\n",
            "|              99|             511|        עילוט|       2|                   8,356|             -1.463|           17|               2|           14|               2|                                           0|                    ILUT|\n",
            "|               0|            2610|      בית שמש|       1|                 124,813|             -1.433|           18|               2|           21|               2|                                           0|             BET SHEMESH|\n",
            "|               0|            1309|         אלעד|       4|                  48,760|             -1.422|           19|               2|           19|               2|                                           0|                   EL'AD|\n",
            "|               0|            2710|   אום אל-פחם|       3|                  56,109|             -1.346|           20|               2|           17|               2|                                           0|             UMM AL-FAHM|\n",
            "+----------------+----------------+-------------+--------+------------------------+-------------------+-------------+----------------+-------------+----------------+--------------------------------------------+------------------------+\n",
            "only showing top 20 rows\n",
            "\n"
          ]
        }
      ],
      "source": [
        "socio_rank_pop.show()"
      ]
    },
    {
      "cell_type": "code",
      "source": [
        "# get the socio rank and sub city areas and population\n",
        "\n",
        "sub_socio_rank_pop=spark.read.csv(\"/content/drive/MyDrive/runi/BDP project/corona final project/statistical area and ranking geo scocio.csv\", sep=',', inferSchema=True, header=True)"
      ],
      "metadata": {
        "id": "kGv4m0YvoGil"
      },
      "execution_count": null,
      "outputs": []
    },
    {
      "cell_type": "code",
      "source": [],
      "metadata": {
        "id": "nhbuHM5IqhAz"
      },
      "execution_count": null,
      "outputs": []
    },
    {
      "cell_type": "code",
      "source": [
        "sub_socio_rank_pop.show()"
      ],
      "metadata": {
        "colab": {
          "base_uri": "https://localhost:8080/"
        },
        "id": "HlbT92F_pWbF",
        "outputId": "01f34fbb-d37d-4941-86ea-ff986bae4412"
      },
      "execution_count": null,
      "outputs": [
        {
          "output_type": "stream",
          "name": "stdout",
          "text": [
            "+----------------+----------------+---------+----------------+------------------+-----------------+------------------------+------------------------+-------------------+-------------+-------------------+------------------+----+\n",
            "|MUNICIPAL STATUS|CODE OF LOCALITY|  שם ישוב|NAME OF LOCALITY| CLUSTER 2019[4] 4| CLUSTER 2017[4]5|CODE OF STATISTICAL AREA|INDEX POPULATION 2019[1]|INDEX VALUE 2019[2]|RANK 2019[3] | CLUSTER 2019[4] 10| CLUSTER 2017[4]11|_c12|\n",
            "+----------------+----------------+---------+----------------+------------------+-----------------+------------------------+------------------------+-------------------+-------------+-------------------+------------------+----+\n",
            "|               0|              31|   אופקים|          OFAQIM|                 3|                3|                       6|                   6,123|             -1.723|          106|                  1|                 1|null|\n",
            "|               0|              31|   אופקים|          OFAQIM|                 3|                3|                       3|                   3,045|             -0.964|          254|                  3|                 3|null|\n",
            "|               0|              31|   אופקים|          OFAQIM|                 3|                3|                       4|                   3,044|             -0.909|          271|                  3|                 3|null|\n",
            "|               0|              31|   אופקים|          OFAQIM|                 3|                3|                       2|                   2,773|             -0.541|          375|                  4|                 3|null|\n",
            "|               0|              31|   אופקים|          OFAQIM|                 3|                3|                       1|                   5,246|              -0.54|          376|                  4|                 4|null|\n",
            "|               0|              31|   אופקים|          OFAQIM|                 3|                3|                       7|                  10,424|             -0.093|          611|                  5|                 5|null|\n",
            "|               0|            2400|אור יהודה|       OR YEHUDA|                 5|                5|                      11|                     220|             -0.927|          265|                  3|                 3|null|\n",
            "|               0|            2400|אור יהודה|       OR YEHUDA|                 5|                5|                       5|                   2,023|              -0.85|          287|                  3|                 3|null|\n",
            "|               0|            2400|אור יהודה|       OR YEHUDA|                 5|                5|                       8|                   1,797|             -0.726|          322|                  3|                 3|null|\n",
            "|               0|            2400|אור יהודה|       OR YEHUDA|                 5|                5|                       7|                   3,261|             -0.614|          357|                  4|                 4|null|\n",
            "|               0|            2400|אור יהודה|       OR YEHUDA|                 5|                5|                       3|                   2,332|             -0.323|          471|                  5|                 4|null|\n",
            "|               0|            2400|אור יהודה|       OR YEHUDA|                 5|                5|                       4|                   3,505|             -0.265|          507|                  5|                 4|null|\n",
            "|               0|            2400|אור יהודה|       OR YEHUDA|                 5|                5|                       2|                   2,400|             -0.125|          590|                  5|                 5|null|\n",
            "|               0|            2400|אור יהודה|       OR YEHUDA|                 5|                5|                      12|                   4,168|             -0.048|          642|                  5|                 5|null|\n",
            "|               0|            2400|אור יהודה|       OR YEHUDA|                 5|                5|                       1|                   5,920|              0.287|          857|                  6|                 6|null|\n",
            "|               0|            2400|אור יהודה|       OR YEHUDA|                 5|                5|                      13|                     462|              0.335|          900|                  6|                 6|null|\n",
            "|               0|            2400|אור יהודה|       OR YEHUDA|                 5|                5|                       9|                   7,181|              0.677|         1069|                  7|                 7|null|\n",
            "|               0|            2400|אור יהודה|       OR YEHUDA|                 5|                5|                      10|                   3,332|              0.954|         1206|                  7|                 8|null|\n",
            "|               0|            1020|אור עקיבא|        OR AQIVA|                 5|                5|                       2|                   3,066|             -0.803|          305|                  3|                 3|null|\n",
            "|               0|            1020|אור עקיבא|        OR AQIVA|                 5|                5|                       3|                   4,704|             -0.378|          439|                  5|                 4|null|\n",
            "+----------------+----------------+---------+----------------+------------------+-----------------+------------------------+------------------------+-------------------+-------------+-------------------+------------------+----+\n",
            "only showing top 20 rows\n",
            "\n"
          ]
        }
      ]
    },
    {
      "cell_type": "code",
      "source": [
        "hospitals=spark.read.csv(\"/content/drive/MyDrive/runi/BDP project/corona final project/hospitals.csv\", sep=',', inferSchema=True, header=True)"
      ],
      "metadata": {
        "id": "2IVqP80zVxMo"
      },
      "execution_count": null,
      "outputs": []
    },
    {
      "cell_type": "code",
      "source": [
        "hospitals.show()"
      ],
      "metadata": {
        "colab": {
          "base_uri": "https://localhost:8080/"
        },
        "id": "NQzhB8TZV7_9",
        "outputId": "099d51d4-374a-4a18-ca4e-661bb17540b9"
      },
      "execution_count": null,
      "outputs": [
        {
          "output_type": "stream",
          "name": "stdout",
          "text": [
            "+--------------------+------------------+------------------+\n",
            "|            Hospital|               lat|              long|\n",
            "+--------------------+------------------+------------------+\n",
            "|               Sheba|32.050921977198726|34.844090786162425|\n",
            "|Mayanei HaYeshua ...|  32.0864161615671| 34.84426245097149|\n",
            "|Tel Aviv Sourasky...| 32.08128939055867|34.789967430026174|\n",
            "| Meir Medical Center| 32.18387390077495| 34.89661739992947|\n",
            "|    Laniado Hospital| 32.35111303624267|34.856821755921324|\n",
            "|Shamir Medical Ce...|31.966526142245904| 34.83956680094388|\n",
            "|Wolfson Medical C...| 32.04678787793236| 34.75922747938785|\n",
            "|  Ziv Medical Center| 33.00041909211144|35.501124136155596|\n",
            "| Emek Medical Center|32.635722136875586| 35.31160997790102|\n",
            "|Rambam Health Car...| 32.84422132671596|34.986140005806085|\n",
            "|   Bnai Zion Medical| 32.81017864475674|  34.9930064608153|\n",
            "|Hillel Yaffe Medi...| 32.45148499748091| 34.89577799724066|\n",
            "|           bailinson| 32.09057665137987|34.867335370494494|\n",
            "|Soroka Medical Ce...|31.258384538249476|34.800801685965126|\n",
            "|Kaplan Medical Ce...|  31.8727874048322| 34.81453503955376|\n",
            "|Carmel Medical Ce...| 32.78653999090502| 34.98054519291536|\n",
            "|Golda HaSharon Me...| 32.08022256248601|34.881971498405456|\n",
            "|Hadassah Ein Kere...|31.765314073483182| 35.14962076838706|\n",
            "|Nazareth Hospital...| 32.70245183177871|35.292203499999594|\n",
            "|Shaare Zedek Medi...|31.773322114747835| 35.18527709047709|\n",
            "+--------------------+------------------+------------------+\n",
            "only showing top 20 rows\n",
            "\n"
          ]
        }
      ]
    },
    {
      "cell_type": "markdown",
      "source": [
        "# 3 data cleaning"
      ],
      "metadata": {
        "id": "Vb-AjzIkqZrV"
      }
    },
    {
      "cell_type": "markdown",
      "source": [
        "# clean sub_socio_rank_pop\n",
        "\n",
        "\n"
      ],
      "metadata": {
        "id": "gOc3mB9sAuXW"
      }
    },
    {
      "cell_type": "code",
      "source": [
        "\n",
        "\n",
        "temp = [1, 6,7,9]\n",
        "\n",
        "# slice the column names from the DataFrame using the column indices\n",
        "selected_columns = [sub_socio_rank_pop.columns[i] for i in temp]\n",
        "print(selected_columns)"
      ],
      "metadata": {
        "colab": {
          "base_uri": "https://localhost:8080/"
        },
        "id": "CS2_ojBlo3jC",
        "outputId": "fbdad1b6-70b7-4139-bb6a-a520bf35b030"
      },
      "execution_count": null,
      "outputs": [
        {
          "output_type": "stream",
          "name": "stdout",
          "text": [
            "['CODE OF LOCALITY', 'CODE OF STATISTICAL AREA', 'INDEX POPULATION 2019[1]', 'RANK 2019[3] ']\n"
          ]
        }
      ]
    },
    {
      "cell_type": "code",
      "source": [
        "sub_socio_rank_pop = sub_socio_rank_pop.withColumnRenamed('CODE OF LOCALITY', \"town_code\")\n",
        "sub_socio_rank_pop = sub_socio_rank_pop.withColumnRenamed(\"CODE OF STATISTICAL AREA\", \"agas_code\")\n",
        "sub_socio_rank_pop = sub_socio_rank_pop.withColumnRenamed(\"INDEX POPULATION 2019[1]\", \"pop_2019\")\n",
        "sub_socio_rank_pop = sub_socio_rank_pop.withColumnRenamed(\"RANK 2019[3] \", \"socio_rank_2019\")\n",
        "\n"
      ],
      "metadata": {
        "id": "wbk7cS6x-3tU"
      },
      "execution_count": null,
      "outputs": []
    },
    {
      "cell_type": "code",
      "source": [
        "from pyspark.sql.functions import regexp_replace\n",
        "\n",
        "# assuming the DataFrame is named \"df\" and the column with commas is named \"my_col\"\n",
        "# remove commas from the \"my_col\" column\n",
        "sub_socio_rank_pop = sub_socio_rank_pop.withColumn(\"pop_2019\", regexp_replace(\"pop_2019\", \",\", \"\"))\n",
        "\n",
        "\n",
        "# show the resulting DataFrame\n",
        "sub_socio_rank_pop.show()\n"
      ],
      "metadata": {
        "colab": {
          "base_uri": "https://localhost:8080/"
        },
        "id": "LahDgz4gAsdd",
        "outputId": "b8ae3031-f389-4fdc-cca8-44c616414704"
      },
      "execution_count": null,
      "outputs": [
        {
          "output_type": "stream",
          "name": "stdout",
          "text": [
            "+----------------+---------+---------+----------------+------------------+-----------------+---------+--------+-------------------+---------------+-------------------+------------------+----+\n",
            "|MUNICIPAL STATUS|town_code|  שם ישוב|NAME OF LOCALITY| CLUSTER 2019[4] 4| CLUSTER 2017[4]5|agas_code|pop_2019|INDEX VALUE 2019[2]|socio_rank_2019| CLUSTER 2019[4] 10| CLUSTER 2017[4]11|_c12|\n",
            "+----------------+---------+---------+----------------+------------------+-----------------+---------+--------+-------------------+---------------+-------------------+------------------+----+\n",
            "|               0|       31|   אופקים|          OFAQIM|                 3|                3|        6|    6123|             -1.723|            106|                  1|                 1|null|\n",
            "|               0|       31|   אופקים|          OFAQIM|                 3|                3|        3|    3045|             -0.964|            254|                  3|                 3|null|\n",
            "|               0|       31|   אופקים|          OFAQIM|                 3|                3|        4|    3044|             -0.909|            271|                  3|                 3|null|\n",
            "|               0|       31|   אופקים|          OFAQIM|                 3|                3|        2|    2773|             -0.541|            375|                  4|                 3|null|\n",
            "|               0|       31|   אופקים|          OFAQIM|                 3|                3|        1|    5246|              -0.54|            376|                  4|                 4|null|\n",
            "|               0|       31|   אופקים|          OFAQIM|                 3|                3|        7|   10424|             -0.093|            611|                  5|                 5|null|\n",
            "|               0|     2400|אור יהודה|       OR YEHUDA|                 5|                5|       11|     220|             -0.927|            265|                  3|                 3|null|\n",
            "|               0|     2400|אור יהודה|       OR YEHUDA|                 5|                5|        5|    2023|              -0.85|            287|                  3|                 3|null|\n",
            "|               0|     2400|אור יהודה|       OR YEHUDA|                 5|                5|        8|    1797|             -0.726|            322|                  3|                 3|null|\n",
            "|               0|     2400|אור יהודה|       OR YEHUDA|                 5|                5|        7|    3261|             -0.614|            357|                  4|                 4|null|\n",
            "|               0|     2400|אור יהודה|       OR YEHUDA|                 5|                5|        3|    2332|             -0.323|            471|                  5|                 4|null|\n",
            "|               0|     2400|אור יהודה|       OR YEHUDA|                 5|                5|        4|    3505|             -0.265|            507|                  5|                 4|null|\n",
            "|               0|     2400|אור יהודה|       OR YEHUDA|                 5|                5|        2|    2400|             -0.125|            590|                  5|                 5|null|\n",
            "|               0|     2400|אור יהודה|       OR YEHUDA|                 5|                5|       12|    4168|             -0.048|            642|                  5|                 5|null|\n",
            "|               0|     2400|אור יהודה|       OR YEHUDA|                 5|                5|        1|    5920|              0.287|            857|                  6|                 6|null|\n",
            "|               0|     2400|אור יהודה|       OR YEHUDA|                 5|                5|       13|     462|              0.335|            900|                  6|                 6|null|\n",
            "|               0|     2400|אור יהודה|       OR YEHUDA|                 5|                5|        9|    7181|              0.677|           1069|                  7|                 7|null|\n",
            "|               0|     2400|אור יהודה|       OR YEHUDA|                 5|                5|       10|    3332|              0.954|           1206|                  7|                 8|null|\n",
            "|               0|     1020|אור עקיבא|        OR AQIVA|                 5|                5|        2|    3066|             -0.803|            305|                  3|                 3|null|\n",
            "|               0|     1020|אור עקיבא|        OR AQIVA|                 5|                5|        3|    4704|             -0.378|            439|                  5|                 4|null|\n",
            "+----------------+---------+---------+----------------+------------------+-----------------+---------+--------+-------------------+---------------+-------------------+------------------+----+\n",
            "only showing top 20 rows\n",
            "\n"
          ]
        }
      ]
    },
    {
      "cell_type": "markdown",
      "source": [
        "# clean by_code"
      ],
      "metadata": {
        "id": "nMcs7xE8WLRh"
      }
    },
    {
      "cell_type": "code",
      "source": [
        "temp=[1,11,17,19,26,27]\n",
        "\n",
        "\n",
        "# slice the column names from the DataFrame using the column indices\n",
        "selected_columns = [bycode2021.columns[i] for i in temp]\n",
        "print(selected_columns)"
      ],
      "metadata": {
        "colab": {
          "base_uri": "https://localhost:8080/"
        },
        "id": "t0UnhrmQl1EQ",
        "outputId": "29bf1ed9-1957-4b58-b490-b8e232f419aa"
      },
      "execution_count": null,
      "outputs": [
        {
          "output_type": "stream",
          "name": "stdout",
          "text": [
            "['סמל יישוב', 'דת יישוב', 'צורת יישוב שוטפת', 'קואורדינטות', 'long', 'lat']\n"
          ]
        }
      ]
    },
    {
      "cell_type": "code",
      "source": [
        "bycode2021.columns"
      ],
      "metadata": {
        "colab": {
          "base_uri": "https://localhost:8080/"
        },
        "id": "TUFTCQdAlCi1",
        "outputId": "aab1c832-f0a6-4920-d601-2177d03d78ed"
      },
      "execution_count": null,
      "outputs": [
        {
          "output_type": "execute_result",
          "data": {
            "text/plain": [
              "['שם יישוב',\n",
              " 'סמל יישוב',\n",
              " 'תעתיק',\n",
              " 'סמל מחוז',\n",
              " 'שם מחוז',\n",
              " 'סמל נפה',\n",
              " 'שם נפה',\n",
              " 'אזור טבעי',\n",
              " 'סמל מעמד מונציפאלי',\n",
              " 'שם מעמד מונציפאלי',\n",
              " 'שיוך מטרופוליני',\n",
              " 'דת יישוב',\n",
              " 'סך הכל אוכלוסייה 2021',\n",
              " 'יהודים ואחרים',\n",
              " 'מזה: יהודים',\n",
              " 'ערבים',\n",
              " 'שנת ייסוד',\n",
              " 'צורת יישוב שוטפת',\n",
              " 'השתייכות ארגונית',\n",
              " 'קואורדינטות',\n",
              " 'גובה ממוצע',\n",
              " 'ועדת תכנון',\n",
              " 'תחנת משטרה',\n",
              " 'שנה',\n",
              " 'שם יישוב באנגלית',\n",
              " 'אשכול רשויות מקומיות',\n",
              " 'long',\n",
              " 'lat']"
            ]
          },
          "metadata": {},
          "execution_count": 110
        }
      ]
    },
    {
      "cell_type": "code",
      "source": [
        "bycode2021 = bycode2021.withColumnRenamed('סמל יישוב', \"town_code\")\n",
        "bycode2021 = bycode2021.withColumnRenamed('דת יישוב', \"relgion_code\")\n",
        "bycode2021 = bycode2021.withColumnRenamed('צורת יישוב שוטפת', \"setelment_code\")\n",
        "bycode2021 = bycode2021.withColumnRenamed('קואורדינטות', 'geo_cordints')\n"
      ],
      "metadata": {
        "id": "37quF_xFkwzm"
      },
      "execution_count": null,
      "outputs": []
    },
    {
      "cell_type": "markdown",
      "source": [
        "# 4 data crunching"
      ],
      "metadata": {
        "id": "I16YuzTpsB8U"
      }
    },
    {
      "cell_type": "code",
      "execution_count": null,
      "metadata": {
        "id": "pJGdCFF4jrpK"
      },
      "outputs": [],
      "source": [
        "df=sum_per_day"
      ]
    },
    {
      "cell_type": "code",
      "source": [
        "print(type(df))"
      ],
      "metadata": {
        "colab": {
          "base_uri": "https://localhost:8080/"
        },
        "id": "XgtN2PxWGNxa",
        "outputId": "6105d932-a929-412f-d0d3-8c6fa420426e"
      },
      "execution_count": null,
      "outputs": [
        {
          "output_type": "stream",
          "name": "stdout",
          "text": [
            "<class 'pyspark.sql.dataframe.DataFrame'>\n"
          ]
        }
      ]
    },
    {
      "cell_type": "code",
      "source": [
        "\n",
        "print(df.columns[4:19])"
      ],
      "metadata": {
        "colab": {
          "base_uri": "https://localhost:8080/"
        },
        "id": "GCkiRaPwD9vV",
        "outputId": "02d3eeda-d755-4102-b90b-874f43c3249c"
      },
      "execution_count": null,
      "outputs": [
        {
          "output_type": "stream",
          "name": "stdout",
          "text": [
            "['accumulated_cases', 'new_cases_on_date', 'accumulated_recoveries', 'new_recoveries_on_date', 'accumulated_hospitalized', 'new_hospitalized_on_date', 'accumulated_deaths', 'new_deaths_on_date', 'accumulated_diagnostic_tests', 'new_diagnostic_tests_on_date', 'accumulated_vaccination_first_dose', 'new_vacc_first_dose_on_date', 'accumulated_vaccination_second_dose', 'new_vacc_second_dose_on_date', 'accumulated_vaccination_third_dose']\n"
          ]
        }
      ]
    },
    {
      "cell_type": "code",
      "source": [
        "df.show()"
      ],
      "metadata": {
        "colab": {
          "base_uri": "https://localhost:8080/"
        },
        "id": "GDkcZEhVXPTx",
        "outputId": "924b90cb-5f36-4b97-84f2-6d7a9c17022f"
      },
      "execution_count": null,
      "outputs": [
        {
          "output_type": "stream",
          "name": "stdout",
          "text": [
            "+---------+---------+--------+-------------------+-----------------+-----------------+----------------------+----------------------+------------------------+------------------------+------------------+------------------+----------------------------+----------------------------+----------------------------------+---------------------------+-----------------------------------+----------------------------+----------------------------------+---------------------------+\n",
            "|town_code|agas_code|    town|               date|accumulated_cases|new_cases_on_date|accumulated_recoveries|new_recoveries_on_date|accumulated_hospitalized|new_hospitalized_on_date|accumulated_deaths|new_deaths_on_date|accumulated_diagnostic_tests|new_diagnostic_tests_on_date|accumulated_vaccination_first_dose|new_vacc_first_dose_on_date|accumulated_vaccination_second_dose|new_vacc_second_dose_on_date|accumulated_vaccination_third_dose|new_vacc_third_dose_on_date|\n",
            "+---------+---------+--------+-------------------+-----------------+-----------------+----------------------+----------------------+------------------------+------------------------+------------------+------------------+----------------------------+----------------------------+----------------------------------+---------------------------+-----------------------------------+----------------------------+----------------------------------+---------------------------+\n",
            "|       26|       NA|ראש פינה|2020-03-11 00:00:00|                0|                0|                     0|                     0|                       0|                       0|                 0|                 0|                           0|                           0|                               0.0|                      false|                                  0|                           0|                               0.0|                      false|\n",
            "|       26|       NA|ראש פינה|2020-03-12 00:00:00|                0|                0|                     0|                     0|                       0|                       0|                 0|                 0|                           0|                           0|                               0.0|                      false|                                  0|                           0|                               0.0|                      false|\n",
            "|       26|       NA|ראש פינה|2020-03-13 00:00:00|                0|                0|                     0|                     0|                       0|                       0|                 0|                 0|                           0|                           0|                               0.0|                      false|                                  0|                           0|                               0.0|                      false|\n",
            "|       26|       NA|ראש פינה|2020-03-14 00:00:00|                0|                0|                     0|                     0|                       0|                       0|                 0|                 0|                           0|                           0|                               0.0|                      false|                                  0|                           0|                               0.0|                      false|\n",
            "|       26|       NA|ראש פינה|2020-03-15 00:00:00|                0|                0|                     0|                     0|                       0|                       0|                 0|                 0|                           0|                           0|                               0.0|                      false|                                  0|                           0|                               0.0|                      false|\n",
            "|       26|       NA|ראש פינה|2020-03-16 00:00:00|                0|                0|                     0|                     0|                       0|                       0|                 0|                 0|                           0|                           0|                               0.0|                      false|                                  0|                           0|                               0.0|                      false|\n",
            "|       26|       NA|ראש פינה|2020-03-17 00:00:00|                0|                0|                     0|                     0|                       0|                       0|                 0|                 0|                           0|                           0|                               0.0|                      false|                                  0|                           0|                               0.0|                      false|\n",
            "|       26|       NA|ראש פינה|2020-03-18 00:00:00|                0|                0|                     0|                     0|                       0|                       0|                 0|                 0|                           0|                           0|                               0.0|                      false|                                  0|                           0|                               0.0|                      false|\n",
            "|       26|       NA|ראש פינה|2020-03-19 00:00:00|                0|                0|                     0|                     0|                       0|                       0|                 0|                 0|                           0|                           0|                               0.0|                      false|                                  0|                           0|                               0.0|                      false|\n",
            "|       26|       NA|ראש פינה|2020-03-20 00:00:00|                0|                0|                     0|                     0|                       0|                       0|                 0|                 0|                           0|                           0|                               0.0|                      false|                                  0|                           0|                               0.0|                      false|\n",
            "|       26|       NA|ראש פינה|2020-03-21 00:00:00|                0|                0|                     0|                     0|                       0|                       0|                 0|                 0|                           0|                           0|                               0.0|                      false|                                  0|                           0|                               0.0|                      false|\n",
            "|       26|       NA|ראש פינה|2020-03-22 00:00:00|                0|                0|                     0|                     0|                       0|                       0|                 0|                 0|                           0|                           0|                               0.0|                      false|                                  0|                           0|                               0.0|                      false|\n",
            "|       26|       NA|ראש פינה|2020-03-23 00:00:00|                0|                0|                     0|                     0|                       0|                       0|                 0|                 0|                           7|                           7|                               0.0|                      false|                                  0|                           0|                               0.0|                      false|\n",
            "|       26|       NA|ראש פינה|2020-03-24 00:00:00|                0|                0|                     0|                     0|                       0|                       0|                 0|                 0|                           7|                           0|                               0.0|                      false|                                  0|                           0|                               0.0|                      false|\n",
            "|       26|       NA|ראש פינה|2020-03-25 00:00:00|                0|                0|                     0|                     0|                       0|                       0|                 0|                 0|                           7|                           0|                               0.0|                      false|                                  0|                           0|                               0.0|                      false|\n",
            "|       26|       NA|ראש פינה|2020-03-26 00:00:00|                0|                0|                     0|                     0|                       0|                       0|                 0|                 0|                           7|                           0|                               0.0|                      false|                                  0|                           0|                               0.0|                      false|\n",
            "|       26|       NA|ראש פינה|2020-03-27 00:00:00|                0|                0|                     0|                     0|                       0|                       0|                 0|                 0|                           7|                           0|                               0.0|                      false|                                  0|                           0|                               0.0|                      false|\n",
            "|       26|       NA|ראש פינה|2020-03-28 00:00:00|                0|                0|                     0|                     0|                       0|                       0|                 0|                 0|                           7|                           0|                               0.0|                      false|                                  0|                           0|                               0.0|                      false|\n",
            "|       26|       NA|ראש פינה|2020-03-29 00:00:00|                0|                0|                     0|                     0|                       0|                       0|                 0|                 0|                          16|                           9|                               0.0|                      false|                                  0|                           0|                               0.0|                      false|\n",
            "|       26|       NA|ראש פינה|2020-03-30 00:00:00|                0|                0|                     0|                     0|                       0|                       0|                 0|                 0|                          17|                           1|                               0.0|                      false|                                  0|                           0|                               0.0|                      false|\n",
            "+---------+---------+--------+-------------------+-----------------+-----------------+----------------------+----------------------+------------------------+------------------------+------------------+------------------+----------------------------+----------------------------+----------------------------------+---------------------------+-----------------------------------+----------------------------+----------------------------------+---------------------------+\n",
            "only showing top 20 rows\n",
            "\n"
          ]
        }
      ]
    },
    {
      "cell_type": "code",
      "source": [
        "df.count()"
      ],
      "metadata": {
        "colab": {
          "base_uri": "https://localhost:8080/"
        },
        "id": "5iPGSVIJYOgj",
        "outputId": "1a297910-9511-4ab1-9570-4c870819e492"
      },
      "execution_count": null,
      "outputs": [
        {
          "output_type": "execute_result",
          "data": {
            "text/plain": [
              "1689768"
            ]
          },
          "metadata": {},
          "execution_count": 198
        }
      ]
    },
    {
      "cell_type": "code",
      "source": [
        "from pyspark.sql.functions import monotonically_increasing_id\n",
        "\n",
        "df = df.withColumn(\"row_number\", monotonically_increasing_id())\n"
      ],
      "metadata": {
        "id": "_KzTjibtZTg2"
      },
      "execution_count": null,
      "outputs": []
    },
    {
      "cell_type": "code",
      "source": [
        "df.show()"
      ],
      "metadata": {
        "colab": {
          "base_uri": "https://localhost:8080/"
        },
        "id": "xIkONJBQMjFD",
        "outputId": "0463c144-ae38-449a-93b5-2a78ae7649f3"
      },
      "execution_count": null,
      "outputs": [
        {
          "output_type": "stream",
          "name": "stdout",
          "text": [
            "+---------+---------+--------+-------------------+-----------------+-----------------+----------------------+----------------------+------------------------+------------------------+------------------+------------------+----------------------------+----------------------------+----------------------------------+---------------------------+-----------------------------------+----------------------------+----------------------------------+---------------------------+----------+\n",
            "|town_code|agas_code|    town|               date|accumulated_cases|new_cases_on_date|accumulated_recoveries|new_recoveries_on_date|accumulated_hospitalized|new_hospitalized_on_date|accumulated_deaths|new_deaths_on_date|accumulated_diagnostic_tests|new_diagnostic_tests_on_date|accumulated_vaccination_first_dose|new_vacc_first_dose_on_date|accumulated_vaccination_second_dose|new_vacc_second_dose_on_date|accumulated_vaccination_third_dose|new_vacc_third_dose_on_date|row_number|\n",
            "+---------+---------+--------+-------------------+-----------------+-----------------+----------------------+----------------------+------------------------+------------------------+------------------+------------------+----------------------------+----------------------------+----------------------------------+---------------------------+-----------------------------------+----------------------------+----------------------------------+---------------------------+----------+\n",
            "|       26|       NA|ראש פינה|2020-03-11 00:00:00|                0|                0|                     0|                     0|                       0|                       0|                 0|                 0|                           0|                           0|                               0.0|                      false|                                  0|                           0|                               0.0|                      false|         0|\n",
            "|       26|       NA|ראש פינה|2020-03-12 00:00:00|                0|                0|                     0|                     0|                       0|                       0|                 0|                 0|                           0|                           0|                               0.0|                      false|                                  0|                           0|                               0.0|                      false|         1|\n",
            "|       26|       NA|ראש פינה|2020-03-13 00:00:00|                0|                0|                     0|                     0|                       0|                       0|                 0|                 0|                           0|                           0|                               0.0|                      false|                                  0|                           0|                               0.0|                      false|         2|\n",
            "|       26|       NA|ראש פינה|2020-03-14 00:00:00|                0|                0|                     0|                     0|                       0|                       0|                 0|                 0|                           0|                           0|                               0.0|                      false|                                  0|                           0|                               0.0|                      false|         3|\n",
            "|       26|       NA|ראש פינה|2020-03-15 00:00:00|                0|                0|                     0|                     0|                       0|                       0|                 0|                 0|                           0|                           0|                               0.0|                      false|                                  0|                           0|                               0.0|                      false|         4|\n",
            "|       26|       NA|ראש פינה|2020-03-16 00:00:00|                0|                0|                     0|                     0|                       0|                       0|                 0|                 0|                           0|                           0|                               0.0|                      false|                                  0|                           0|                               0.0|                      false|         5|\n",
            "|       26|       NA|ראש פינה|2020-03-17 00:00:00|                0|                0|                     0|                     0|                       0|                       0|                 0|                 0|                           0|                           0|                               0.0|                      false|                                  0|                           0|                               0.0|                      false|         6|\n",
            "|       26|       NA|ראש פינה|2020-03-18 00:00:00|                0|                0|                     0|                     0|                       0|                       0|                 0|                 0|                           0|                           0|                               0.0|                      false|                                  0|                           0|                               0.0|                      false|         7|\n",
            "|       26|       NA|ראש פינה|2020-03-19 00:00:00|                0|                0|                     0|                     0|                       0|                       0|                 0|                 0|                           0|                           0|                               0.0|                      false|                                  0|                           0|                               0.0|                      false|         8|\n",
            "|       26|       NA|ראש פינה|2020-03-20 00:00:00|                0|                0|                     0|                     0|                       0|                       0|                 0|                 0|                           0|                           0|                               0.0|                      false|                                  0|                           0|                               0.0|                      false|         9|\n",
            "|       26|       NA|ראש פינה|2020-03-21 00:00:00|                0|                0|                     0|                     0|                       0|                       0|                 0|                 0|                           0|                           0|                               0.0|                      false|                                  0|                           0|                               0.0|                      false|        10|\n",
            "|       26|       NA|ראש פינה|2020-03-22 00:00:00|                0|                0|                     0|                     0|                       0|                       0|                 0|                 0|                           0|                           0|                               0.0|                      false|                                  0|                           0|                               0.0|                      false|        11|\n",
            "|       26|       NA|ראש פינה|2020-03-23 00:00:00|                0|                0|                     0|                     0|                       0|                       0|                 0|                 0|                           7|                           7|                               0.0|                      false|                                  0|                           0|                               0.0|                      false|        12|\n",
            "|       26|       NA|ראש פינה|2020-03-24 00:00:00|                0|                0|                     0|                     0|                       0|                       0|                 0|                 0|                           7|                           0|                               0.0|                      false|                                  0|                           0|                               0.0|                      false|        13|\n",
            "|       26|       NA|ראש פינה|2020-03-25 00:00:00|                0|                0|                     0|                     0|                       0|                       0|                 0|                 0|                           7|                           0|                               0.0|                      false|                                  0|                           0|                               0.0|                      false|        14|\n",
            "|       26|       NA|ראש פינה|2020-03-26 00:00:00|                0|                0|                     0|                     0|                       0|                       0|                 0|                 0|                           7|                           0|                               0.0|                      false|                                  0|                           0|                               0.0|                      false|        15|\n",
            "|       26|       NA|ראש פינה|2020-03-27 00:00:00|                0|                0|                     0|                     0|                       0|                       0|                 0|                 0|                           7|                           0|                               0.0|                      false|                                  0|                           0|                               0.0|                      false|        16|\n",
            "|       26|       NA|ראש פינה|2020-03-28 00:00:00|                0|                0|                     0|                     0|                       0|                       0|                 0|                 0|                           7|                           0|                               0.0|                      false|                                  0|                           0|                               0.0|                      false|        17|\n",
            "|       26|       NA|ראש פינה|2020-03-29 00:00:00|                0|                0|                     0|                     0|                       0|                       0|                 0|                 0|                          16|                           9|                               0.0|                      false|                                  0|                           0|                               0.0|                      false|        18|\n",
            "|       26|       NA|ראש פינה|2020-03-30 00:00:00|                0|                0|                     0|                     0|                       0|                       0|                 0|                 0|                          17|                           1|                               0.0|                      false|                                  0|                           0|                               0.0|                      false|        19|\n",
            "+---------+---------+--------+-------------------+-----------------+-----------------+----------------------+----------------------+------------------------+------------------------+------------------+------------------+----------------------------+----------------------------+----------------------------------+---------------------------+-----------------------------------+----------------------------+----------------------------------+---------------------------+----------+\n",
            "only showing top 20 rows\n",
            "\n"
          ]
        }
      ]
    },
    {
      "cell_type": "code",
      "source": [
        "from pyspark.sql.functions import col\n",
        "\n",
        "df.filter(col(\"row_number\").between(100,200)).show()"
      ],
      "metadata": {
        "colab": {
          "base_uri": "https://localhost:8080/"
        },
        "id": "hc9NeJVVZqqS",
        "outputId": "f6db55ac-1cad-4523-f0e0-239138cd8783"
      },
      "execution_count": null,
      "outputs": [
        {
          "output_type": "stream",
          "name": "stdout",
          "text": [
            "+---------+---------+--------+-------------------+-----------------+-----------------+----------------------+----------------------+------------------------+------------------------+------------------+------------------+----------------------------+----------------------------+----------------------------------+---------------------------+-----------------------------------+----------------------------+----------------------------------+---------------------------+----------+\n",
            "|town_code|agas_code|    town|               date|accumulated_cases|new_cases_on_date|accumulated_recoveries|new_recoveries_on_date|accumulated_hospitalized|new_hospitalized_on_date|accumulated_deaths|new_deaths_on_date|accumulated_diagnostic_tests|new_diagnostic_tests_on_date|accumulated_vaccination_first_dose|new_vacc_first_dose_on_date|accumulated_vaccination_second_dose|new_vacc_second_dose_on_date|accumulated_vaccination_third_dose|new_vacc_third_dose_on_date|row_number|\n",
            "+---------+---------+--------+-------------------+-----------------+-----------------+----------------------+----------------------+------------------------+------------------------+------------------+------------------+----------------------------+----------------------------+----------------------------------+---------------------------+-----------------------------------+----------------------------+----------------------------------+---------------------------+----------+\n",
            "|       26|       NA|ראש פינה|2020-06-19 00:00:00|                0|                0|                     0|                     0|                       0|                       0|                 0|                 0|                         157|                           4|                               0.0|                      false|                                  0|                           0|                               0.0|                      false|       100|\n",
            "|       26|       NA|ראש פינה|2020-06-20 00:00:00|                0|                0|                     0|                     0|                       0|                       0|                 0|                 0|                         158|                           1|                               0.0|                      false|                                  0|                           0|                               0.0|                      false|       101|\n",
            "|       26|       NA|ראש פינה|2020-06-21 00:00:00|                0|                0|                     0|                     0|                       0|                       0|                 0|                 0|                         158|                           0|                               0.0|                      false|                                  0|                           0|                               0.0|                      false|       102|\n",
            "|       26|       NA|ראש פינה|2020-06-22 00:00:00|                0|                0|                     0|                     0|                       0|                       0|                 0|                 0|                         163|                           5|                               0.0|                      false|                                  0|                           0|                               0.0|                      false|       103|\n",
            "|       26|       NA|ראש פינה|2020-06-23 00:00:00|                0|                0|                     0|                     0|                       0|                       0|                 0|                 0|                         164|                           1|                               0.0|                      false|                                  0|                           0|                               0.0|                      false|       104|\n",
            "|       26|       NA|ראש פינה|2020-06-24 00:00:00|                0|                0|                     0|                     0|                       0|                       0|                 0|                 0|                         172|                           8|                               0.0|                      false|                                  0|                           0|                               0.0|                      false|       105|\n",
            "|       26|       NA|ראש פינה|2020-06-25 00:00:00|                7|                7|                     0|                     0|                       0|                       0|                 0|                 0|                         175|                           3|                               0.0|                      false|                                  0|                           0|                               0.0|                      false|       106|\n",
            "|       26|       NA|ראש פינה|2020-06-26 00:00:00|                7|                0|                     0|                     0|                       7|                       7|                 0|                 0|                         180|                           5|                               0.0|                      false|                                  0|                           0|                               0.0|                      false|       107|\n",
            "|       26|       NA|ראש פינה|2020-06-27 00:00:00|                7|                0|                     0|                     0|                       7|                       0|                 0|                 0|                         181|                           1|                               0.0|                      false|                                  0|                           0|                               0.0|                      false|       108|\n",
            "|       26|       NA|ראש פינה|2020-06-28 00:00:00|                7|                0|                     0|                     0|                       7|                       0|                 0|                 0|                         183|                           2|                               0.0|                      false|                                  0|                           0|                               0.0|                      false|       109|\n",
            "|       26|       NA|ראש פינה|2020-06-29 00:00:00|                7|                0|                     0|                     0|                       7|                       0|                 0|                 0|                         188|                           5|                               0.0|                      false|                                  0|                           0|                               0.0|                      false|       110|\n",
            "|       26|       NA|ראש פינה|2020-06-30 00:00:00|                7|                0|                     0|                     0|                       7|                       0|                 0|                 0|                         189|                           1|                               0.0|                      false|                                  0|                           0|                               0.0|                      false|       111|\n",
            "|       26|       NA|ראש פינה|2020-07-01 00:00:00|                7|                0|                     0|                     0|                       7|                       0|                 0|                 0|                         191|                           2|                               0.0|                      false|                                  0|                           0|                               0.0|                      false|       112|\n",
            "|       26|       NA|ראש פינה|2020-07-02 00:00:00|                7|                0|                     0|                     0|                       7|                       0|                 0|                 0|                         194|                           3|                               0.0|                      false|                                  0|                           0|                               0.0|                      false|       113|\n",
            "|       26|       NA|ראש פינה|2020-07-03 00:00:00|                7|                0|                     0|                     0|                       7|                       0|                 0|                 0|                         197|                           3|                               0.0|                      false|                                  0|                           0|                               0.0|                      false|       114|\n",
            "|       26|       NA|ראש פינה|2020-07-04 00:00:00|                7|                0|                     0|                     0|                       7|                       0|                 0|                 0|                         199|                           2|                               0.0|                      false|                                  0|                           0|                               0.0|                      false|       115|\n",
            "|       26|       NA|ראש פינה|2020-07-05 00:00:00|                7|                0|                     0|                     0|                       7|                       0|                 0|                 0|                         199|                           0|                               0.0|                      false|                                  0|                           0|                               0.0|                      false|       116|\n",
            "|       26|       NA|ראש פינה|2020-07-06 00:00:00|                7|                0|                     0|                     0|                       7|                       0|                 0|                 0|                         205|                           6|                               0.0|                      false|                                  0|                           0|                               0.0|                      false|       117|\n",
            "|       26|       NA|ראש פינה|2020-07-07 00:00:00|                7|                0|                     0|                     0|                       7|                       0|                 0|                 0|                         209|                           4|                               0.0|                      false|                                  0|                           0|                               0.0|                      false|       118|\n",
            "|       26|       NA|ראש פינה|2020-07-08 00:00:00|                7|                0|                     0|                     0|                       7|                       0|                 0|                 0|                         212|                           3|                               0.0|                      false|                                  0|                           0|                               0.0|                      false|       119|\n",
            "+---------+---------+--------+-------------------+-----------------+-----------------+----------------------+----------------------+------------------------+------------------------+------------------+------------------+----------------------------+----------------------------+----------------------------------+---------------------------+-----------------------------------+----------------------------+----------------------------------+---------------------------+----------+\n",
            "only showing top 20 rows\n",
            "\n"
          ]
        }
      ]
    },
    {
      "cell_type": "code",
      "source": [
        "print(df.count())"
      ],
      "metadata": {
        "colab": {
          "base_uri": "https://localhost:8080/"
        },
        "id": "PJtP697k7T3N",
        "outputId": "d8375c2f-830d-46ba-8c74-e84e52adb376"
      },
      "execution_count": null,
      "outputs": [
        {
          "output_type": "stream",
          "name": "stdout",
          "text": [
            "1689768\n"
          ]
        }
      ]
    },
    {
      "cell_type": "code",
      "source": [
        "from pyspark.sql.functions import max\n",
        "\n",
        "# find the max date = last date\n",
        "max_date = df.agg(max(\"date\")).collect()[0][0]\n",
        "print(max_date)"
      ],
      "metadata": {
        "colab": {
          "base_uri": "https://localhost:8080/"
        },
        "id": "8-LhaV8gO1I2",
        "outputId": "7a17fcba-58df-417a-a387-223710528a87"
      },
      "execution_count": null,
      "outputs": [
        {
          "output_type": "stream",
          "name": "stdout",
          "text": [
            "2022-12-25 00:00:00\n"
          ]
        }
      ]
    },
    {
      "cell_type": "code",
      "source": [
        "from pyspark.sql.functions import col, lit\n",
        "\n",
        "# filter the data to the last date - this will find the acumulated sick people in each town and area\n",
        "last_date_df = df.filter(col(\"date\") == lit(max_date))"
      ],
      "metadata": {
        "id": "O8-UcIttfg4X"
      },
      "execution_count": null,
      "outputs": []
    },
    {
      "cell_type": "code",
      "source": [
        "last_date_df.count()"
      ],
      "metadata": {
        "colab": {
          "base_uri": "https://localhost:8080/"
        },
        "id": "U-i5eYEOfgyG",
        "outputId": "1cb754ce-2d56-4904-fd0f-8a76a8d16309"
      },
      "execution_count": null,
      "outputs": [
        {
          "output_type": "execute_result",
          "data": {
            "text/plain": [
              "1659"
            ]
          },
          "metadata": {},
          "execution_count": 204
        }
      ]
    },
    {
      "cell_type": "code",
      "source": [
        "last_date_df.show()"
      ],
      "metadata": {
        "colab": {
          "base_uri": "https://localhost:8080/"
        },
        "id": "4FZnig2qfgoZ",
        "outputId": "6359cad1-e674-4514-8287-ff1c62f7acc2"
      },
      "execution_count": null,
      "outputs": [
        {
          "output_type": "stream",
          "name": "stdout",
          "text": [
            "+---------+---------+----------+-------------------+-----------------+-----------------+----------------------+----------------------+------------------------+------------------------+------------------+------------------+----------------------------+----------------------------+----------------------------------+---------------------------+-----------------------------------+----------------------------+----------------------------------+---------------------------+----------+\n",
            "|town_code|agas_code|      town|               date|accumulated_cases|new_cases_on_date|accumulated_recoveries|new_recoveries_on_date|accumulated_hospitalized|new_hospitalized_on_date|accumulated_deaths|new_deaths_on_date|accumulated_diagnostic_tests|new_diagnostic_tests_on_date|accumulated_vaccination_first_dose|new_vacc_first_dose_on_date|accumulated_vaccination_second_dose|new_vacc_second_dose_on_date|accumulated_vaccination_third_dose|new_vacc_third_dose_on_date|row_number|\n",
            "+---------+---------+----------+-------------------+-----------------+-----------------+----------------------+----------------------+------------------------+------------------------+------------------+------------------+----------------------------+----------------------------+----------------------------------+---------------------------+-----------------------------------+----------------------------+----------------------------------+---------------------------+----------+\n",
            "|       26|       NA|  ראש פינה|2022-12-25 00:00:00|             1632|                1|                  1626|                     0|                      18|                       0|                 7|                 0|                       19475|                           1|                            2370.0|                      false|                               2279|                           0|                            1793.0|                      false|      1019|\n",
            "|       28|       NA|מזכרת בתיה|2022-12-25 00:00:00|             9767|                2|                  9746|                     2|                      73|                       0|                 7|                 0|                      118537|                           9|                           13601.0|                      false|                              13013|                           0|                           10039.0|                      false|      2039|\n",
            "|       31|     0001|    אופקים|2022-12-25 00:00:00|             2514|                0|                  2496|                     1|                      30|                       0|                 7|                 0|                       29620|                           2|                            3281.0|                      false|                               3028|                           0|                            2246.0|                      false|      3059|\n",
            "|       31|     0002|    אופקים|2022-12-25 00:00:00|             1620|                1|                  1611|                     0|                      45|                       0|                 7|                 0|                       18358|                          15|                            2220.0|                      false|                               2068|                           0|                            1556.0|                      false|      4079|\n",
            "|       31|     0003|    אופקים|2022-12-25 00:00:00|             1178|                0|                  1172|                     0|                      23|                       0|                 7|                 0|                       13109|                           1|                            1570.0|                      false|                               1424|                           0|                            1028.0|                      false|      5099|\n",
            "|       31|     0004|    אופקים|2022-12-25 00:00:00|             1484|                0|                  1480|                     0|                       7|                       0|                 7|                 0|                       14147|                           0|                            1547.0|                      false|                               1297|                           0|                             885.0|                      false|      6119|\n",
            "|       31|     0006|    אופקים|2022-12-25 00:00:00|             2634|                1|                  2634|                     0|                      30|                       0|                 7|                 0|                       19746|                           4|                            2295.0|                      false|                               1816|                           0|                            1042.0|                      false|      7139|\n",
            "|       31|     0007|    אופקים|2022-12-25 00:00:00|             7940|                0|                  7924|                     1|                      65|                       0|                 7|                 0|                       79522|                           3|                            7654.0|                      false|                               6866|                           0|                            4800.0|                      false|      8159|\n",
            "|       31|       NA|    אופקים|2022-12-25 00:00:00|             2126|                1|                  2109|                     0|                      45|                       1|                 7|                 0|                       22910|                           2|                            2648.0|                      false|                               2332|                           0|                            1628.0|                      false|      9179|\n",
            "|       41|       NA|    אליכין|2022-12-25 00:00:00|             2013|                1|                  2003|                     0|                      23|                       0|                 7|                 0|                       21849|                           1|                            2506.0|                      false|                               2390|                           0|                            1809.0|                      false|     10199|\n",
            "|       46|       NA|     יבנאל|2022-12-25 00:00:00|             1520|                1|                  1511|                     0|                      35|                       0|                 7|                 0|                       15925|                           3|                            1796.0|                      false|                               1605|                           0|                            1094.0|                      false|     11219|\n",
            "|       47|       NA|  כפר תבור|2022-12-25 00:00:00|             2670|                2|                  2668|                     1|                      20|                       0|                 0|                 0|                       33225|                           5|                            3855.0|                      false|                               3669|                           0|                            2918.0|                      false|     12239|\n",
            "|       53|       NA|     עתלית|2022-12-25 00:00:00|             5394|                2|                  5374|                     0|                      64|                       0|                 7|                 0|                       58516|                           5|                            7173.0|                      false|                               6843|                           0|                            5213.0|                      false|     13259|\n",
            "|       70|     0122|     אשדוד|2022-12-25 00:00:00|             1371|                0|                  1358|                     0|                      31|                       0|                 7|                 0|                       22647|                           4|                            2378.0|                      false|                               2280|                           0|                            1862.0|                      false|     14279|\n",
            "|       70|     0123|     אשדוד|2022-12-25 00:00:00|             1986|                2|                  1962|                     1|                      78|                       0|                 7|                 0|                       28055|                          25|                            2887.0|                      false|                               2684|                           0|                            2032.0|                      false|     15299|\n",
            "|       70|     0125|     אשדוד|2022-12-25 00:00:00|             1013|                1|                   998|                     0|                      58|                       0|                 7|                 0|                       12587|                          17|                            1508.0|                      false|                               1414|                           0|                            1060.0|                      false|     16319|\n",
            "|       70|     0126|     אשדוד|2022-12-25 00:00:00|             1965|                0|                  1941|                     0|                      74|                       1|                18|                 0|                       31422|                          16|                            3064.0|                      false|                               2877|                           0|                            2201.0|                      false|     17339|\n",
            "|       70|     0131|     אשדוד|2022-12-25 00:00:00|              909|                1|                   895|                     1|                      23|                       0|                 7|                 0|                       12040|                           6|                            1395.0|                      false|                               1308|                           0|                             992.0|                      false|     18359|\n",
            "|       70|     0133|     אשדוד|2022-12-25 00:00:00|             1922|                0|                  1903|                     0|                      73|                       0|                 7|                 0|                       23546|                          33|                            2730.0|                      false|                               2528|                           0|                            1810.0|                      false|     19379|\n",
            "|       70|     0141|     אשדוד|2022-12-25 00:00:00|             1991|                0|                  1988|                     0|                      63|                       0|                 7|                 0|                       14461|                           2|                            2669.0|                      false|                               1971|                           0|                             881.0|                      false|     20399|\n",
            "+---------+---------+----------+-------------------+-----------------+-----------------+----------------------+----------------------+------------------------+------------------------+------------------+------------------+----------------------------+----------------------------+----------------------------------+---------------------------+-----------------------------------+----------------------------+----------------------------------+---------------------------+----------+\n",
            "only showing top 20 rows\n",
            "\n"
          ]
        }
      ]
    },
    {
      "cell_type": "code",
      "source": [
        "from pyspark.sql.functions import sum, col\n",
        "\n",
        "\n",
        "# create a filtered for \"Ofakim\" town and last date\n",
        "town_code_date_df = last_date_df.filter(col(\"town_code\") == \"31\")\n"
      ],
      "metadata": {
        "id": "ntzbFWivfgh-"
      },
      "execution_count": null,
      "outputs": []
    },
    {
      "cell_type": "code",
      "source": [
        "town_code_date_df.show()"
      ],
      "metadata": {
        "colab": {
          "base_uri": "https://localhost:8080/"
        },
        "id": "QXGOQeNKcu_9",
        "outputId": "2d77df89-bb4a-4e82-a040-fe9abf24542a"
      },
      "execution_count": null,
      "outputs": [
        {
          "output_type": "stream",
          "name": "stdout",
          "text": [
            "+---------+---------+------+-------------------+-----------------+-----------------+----------------------+----------------------+------------------------+------------------------+------------------+------------------+----------------------------+----------------------------+----------------------------------+---------------------------+-----------------------------------+----------------------------+----------------------------------+---------------------------+----------+\n",
            "|town_code|agas_code|  town|               date|accumulated_cases|new_cases_on_date|accumulated_recoveries|new_recoveries_on_date|accumulated_hospitalized|new_hospitalized_on_date|accumulated_deaths|new_deaths_on_date|accumulated_diagnostic_tests|new_diagnostic_tests_on_date|accumulated_vaccination_first_dose|new_vacc_first_dose_on_date|accumulated_vaccination_second_dose|new_vacc_second_dose_on_date|accumulated_vaccination_third_dose|new_vacc_third_dose_on_date|row_number|\n",
            "+---------+---------+------+-------------------+-----------------+-----------------+----------------------+----------------------+------------------------+------------------------+------------------+------------------+----------------------------+----------------------------+----------------------------------+---------------------------+-----------------------------------+----------------------------+----------------------------------+---------------------------+----------+\n",
            "|       31|     0001|אופקים|2022-12-25 00:00:00|             2514|                0|                  2496|                     1|                      30|                       0|                 7|                 0|                       29620|                           2|                            3281.0|                      false|                               3028|                           0|                            2246.0|                      false|      3059|\n",
            "|       31|     0002|אופקים|2022-12-25 00:00:00|             1620|                1|                  1611|                     0|                      45|                       0|                 7|                 0|                       18358|                          15|                            2220.0|                      false|                               2068|                           0|                            1556.0|                      false|      4079|\n",
            "|       31|     0003|אופקים|2022-12-25 00:00:00|             1178|                0|                  1172|                     0|                      23|                       0|                 7|                 0|                       13109|                           1|                            1570.0|                      false|                               1424|                           0|                            1028.0|                      false|      5099|\n",
            "|       31|     0004|אופקים|2022-12-25 00:00:00|             1484|                0|                  1480|                     0|                       7|                       0|                 7|                 0|                       14147|                           0|                            1547.0|                      false|                               1297|                           0|                             885.0|                      false|      6119|\n",
            "|       31|     0006|אופקים|2022-12-25 00:00:00|             2634|                1|                  2634|                     0|                      30|                       0|                 7|                 0|                       19746|                           4|                            2295.0|                      false|                               1816|                           0|                            1042.0|                      false|      7139|\n",
            "|       31|     0007|אופקים|2022-12-25 00:00:00|             7940|                0|                  7924|                     1|                      65|                       0|                 7|                 0|                       79522|                           3|                            7654.0|                      false|                               6866|                           0|                            4800.0|                      false|      8159|\n",
            "|       31|       NA|אופקים|2022-12-25 00:00:00|             2126|                1|                  2109|                     0|                      45|                       1|                 7|                 0|                       22910|                           2|                            2648.0|                      false|                               2332|                           0|                            1628.0|                      false|      9179|\n",
            "+---------+---------+------+-------------------+-----------------+-----------------+----------------------+----------------------+------------------------+------------------------+------------------+------------------+----------------------------+----------------------------+----------------------------------+---------------------------+-----------------------------------+----------------------------+----------------------------------+---------------------------+----------+\n",
            "\n"
          ]
        }
      ]
    },
    {
      "cell_type": "code",
      "source": [
        "#sum all the acumulated cases in ofakim sub areas\n",
        "sum_df = town_code_date_df.agg(sum(\"accumulated_cases\")).collect()\n",
        "print(sum_df)\n"
      ],
      "metadata": {
        "colab": {
          "base_uri": "https://localhost:8080/"
        },
        "id": "vXiQ5DsocQdX",
        "outputId": "c2a145f4-a0a8-4514-e54a-8a95b5f0cdab"
      },
      "execution_count": null,
      "outputs": [
        {
          "output_type": "stream",
          "name": "stdout",
          "text": [
            "[Row(sum(accumulated_cases)=19496)]\n"
          ]
        }
      ]
    },
    {
      "cell_type": "code",
      "source": [
        "last_date_df.columns"
      ],
      "metadata": {
        "colab": {
          "base_uri": "https://localhost:8080/"
        },
        "id": "FWFcJvg3DPpl",
        "outputId": "0120a339-f10f-47bb-86ab-7009de891299"
      },
      "execution_count": null,
      "outputs": [
        {
          "output_type": "execute_result",
          "data": {
            "text/plain": [
              "['town_code',\n",
              " 'agas_code',\n",
              " 'town',\n",
              " 'date',\n",
              " 'accumulated_cases',\n",
              " 'new_cases_on_date',\n",
              " 'accumulated_recoveries',\n",
              " 'new_recoveries_on_date',\n",
              " 'accumulated_hospitalized',\n",
              " 'new_hospitalized_on_date',\n",
              " 'accumulated_deaths',\n",
              " 'new_deaths_on_date',\n",
              " 'accumulated_diagnostic_tests',\n",
              " 'new_diagnostic_tests_on_date',\n",
              " 'accumulated_vaccination_first_dose',\n",
              " 'new_vacc_first_dose_on_date',\n",
              " 'accumulated_vaccination_second_dose',\n",
              " 'new_vacc_second_dose_on_date',\n",
              " 'accumulated_vaccination_third_dose',\n",
              " 'new_vacc_third_dose_on_date',\n",
              " 'row_number']"
            ]
          },
          "metadata": {},
          "execution_count": 209
        }
      ]
    },
    {
      "cell_type": "code",
      "source": [
        "# join last_date_df and sub_socio_rank_pop based on town_code and agas_code\n",
        "joined_df = last_date_df.join(sub_socio_rank_pop.select('town_code', 'agas_code', 'pop_2019', 'socio_rank_2019'), [\"town_code\", \"agas_code\"], \"left\")\n",
        "\n",
        "# select the desired columns\n",
        "#selected_df = joined_df.select(\"town_code\", \"agas_code\", \"pop_2019\", \"socio_rank_2019\")\n",
        "\n",
        "\n",
        "#new_df = joined_df.join(bycode2021.select(\"town_code\", \"some_col1\", \"some_col2\", \"some_col3\"), [\"town_code\"], \"left\")\n"
      ],
      "metadata": {
        "id": "iL3G2RLh9HPg"
      },
      "execution_count": null,
      "outputs": []
    },
    {
      "cell_type": "code",
      "source": [
        "joined_df.show()"
      ],
      "metadata": {
        "colab": {
          "base_uri": "https://localhost:8080/"
        },
        "id": "3WQiNmWUTy9p",
        "outputId": "67a3ab44-cbd9-4d94-96c0-296f46bc3c01"
      },
      "execution_count": null,
      "outputs": [
        {
          "output_type": "stream",
          "name": "stdout",
          "text": [
            "+---------+---------+----------+-------------------+-----------------+-----------------+----------------------+----------------------+------------------------+------------------------+------------------+------------------+----------------------------+----------------------------+----------------------------------+---------------------------+-----------------------------------+----------------------------+----------------------------------+---------------------------+----------+--------+---------------+\n",
            "|town_code|agas_code|      town|               date|accumulated_cases|new_cases_on_date|accumulated_recoveries|new_recoveries_on_date|accumulated_hospitalized|new_hospitalized_on_date|accumulated_deaths|new_deaths_on_date|accumulated_diagnostic_tests|new_diagnostic_tests_on_date|accumulated_vaccination_first_dose|new_vacc_first_dose_on_date|accumulated_vaccination_second_dose|new_vacc_second_dose_on_date|accumulated_vaccination_third_dose|new_vacc_third_dose_on_date|row_number|pop_2019|socio_rank_2019|\n",
            "+---------+---------+----------+-------------------+-----------------+-----------------+----------------------+----------------------+------------------------+------------------------+------------------+------------------+----------------------------+----------------------------+----------------------------------+---------------------------+-----------------------------------+----------------------------+----------------------------------+---------------------------+----------+--------+---------------+\n",
            "|       26|       NA|  ראש פינה|2022-12-25 00:00:00|             1632|                1|                  1626|                     0|                      18|                       0|                 7|                 0|                       19475|                           1|                            2370.0|                      false|                               2279|                           0|                            1793.0|                      false|      1019|    null|           null|\n",
            "|       28|       NA|מזכרת בתיה|2022-12-25 00:00:00|             9767|                2|                  9746|                     2|                      73|                       0|                 7|                 0|                      118537|                           9|                           13601.0|                      false|                              13013|                           0|                           10039.0|                      false|      2039|    null|           null|\n",
            "|       31|     0001|    אופקים|2022-12-25 00:00:00|             2514|                0|                  2496|                     1|                      30|                       0|                 7|                 0|                       29620|                           2|                            3281.0|                      false|                               3028|                           0|                            2246.0|                      false|      3059|    5246|            376|\n",
            "|       31|     0002|    אופקים|2022-12-25 00:00:00|             1620|                1|                  1611|                     0|                      45|                       0|                 7|                 0|                       18358|                          15|                            2220.0|                      false|                               2068|                           0|                            1556.0|                      false|      4079|    2773|            375|\n",
            "|       31|     0003|    אופקים|2022-12-25 00:00:00|             1178|                0|                  1172|                     0|                      23|                       0|                 7|                 0|                       13109|                           1|                            1570.0|                      false|                               1424|                           0|                            1028.0|                      false|      5099|    3045|            254|\n",
            "|       31|     0004|    אופקים|2022-12-25 00:00:00|             1484|                0|                  1480|                     0|                       7|                       0|                 7|                 0|                       14147|                           0|                            1547.0|                      false|                               1297|                           0|                             885.0|                      false|      6119|    3044|            271|\n",
            "|       31|     0006|    אופקים|2022-12-25 00:00:00|             2634|                1|                  2634|                     0|                      30|                       0|                 7|                 0|                       19746|                           4|                            2295.0|                      false|                               1816|                           0|                            1042.0|                      false|      7139|    6123|            106|\n",
            "|       31|     0007|    אופקים|2022-12-25 00:00:00|             7940|                0|                  7924|                     1|                      65|                       0|                 7|                 0|                       79522|                           3|                            7654.0|                      false|                               6866|                           0|                            4800.0|                      false|      8159|   10424|            611|\n",
            "|       31|       NA|    אופקים|2022-12-25 00:00:00|             2126|                1|                  2109|                     0|                      45|                       1|                 7|                 0|                       22910|                           2|                            2648.0|                      false|                               2332|                           0|                            1628.0|                      false|      9179|    null|           null|\n",
            "|       41|       NA|    אליכין|2022-12-25 00:00:00|             2013|                1|                  2003|                     0|                      23|                       0|                 7|                 0|                       21849|                           1|                            2506.0|                      false|                               2390|                           0|                            1809.0|                      false|     10199|    null|           null|\n",
            "|       46|       NA|     יבנאל|2022-12-25 00:00:00|             1520|                1|                  1511|                     0|                      35|                       0|                 7|                 0|                       15925|                           3|                            1796.0|                      false|                               1605|                           0|                            1094.0|                      false|     11219|    null|           null|\n",
            "|       47|       NA|  כפר תבור|2022-12-25 00:00:00|             2670|                2|                  2668|                     1|                      20|                       0|                 0|                 0|                       33225|                           5|                            3855.0|                      false|                               3669|                           0|                            2918.0|                      false|     12239|    null|           null|\n",
            "|       53|       NA|     עתלית|2022-12-25 00:00:00|             5394|                2|                  5374|                     0|                      64|                       0|                 7|                 0|                       58516|                           5|                            7173.0|                      false|                               6843|                           0|                            5213.0|                      false|     13259|    null|           null|\n",
            "|       70|     0122|     אשדוד|2022-12-25 00:00:00|             1371|                0|                  1358|                     0|                      31|                       0|                 7|                 0|                       22647|                           4|                            2378.0|                      false|                               2280|                           0|                            1862.0|                      false|     14279|    2811|            367|\n",
            "|       70|     0123|     אשדוד|2022-12-25 00:00:00|             1986|                2|                  1962|                     1|                      78|                       0|                 7|                 0|                       28055|                          25|                            2887.0|                      false|                               2684|                           0|                            2032.0|                      false|     15299|    3994|            429|\n",
            "|       70|     0125|     אשדוד|2022-12-25 00:00:00|             1013|                1|                   998|                     0|                      58|                       0|                 7|                 0|                       12587|                          17|                            1508.0|                      false|                               1414|                           0|                            1060.0|                      false|     16319|    2272|            303|\n",
            "|       70|     0126|     אשדוד|2022-12-25 00:00:00|             1965|                0|                  1941|                     0|                      74|                       1|                18|                 0|                       31422|                          16|                            3064.0|                      false|                               2877|                           0|                            2201.0|                      false|     17339|    3860|            304|\n",
            "|       70|     0131|     אשדוד|2022-12-25 00:00:00|              909|                1|                   895|                     1|                      23|                       0|                 7|                 0|                       12040|                           6|                            1395.0|                      false|                               1308|                           0|                             992.0|                      false|     18359|    2089|            338|\n",
            "|       70|     0133|     אשדוד|2022-12-25 00:00:00|             1922|                0|                  1903|                     0|                      73|                       0|                 7|                 0|                       23546|                          33|                            2730.0|                      false|                               2528|                           0|                            1810.0|                      false|     19379|    3994|            268|\n",
            "|       70|     0141|     אשדוד|2022-12-25 00:00:00|             1991|                0|                  1988|                     0|                      63|                       0|                 7|                 0|                       14461|                           2|                            2669.0|                      false|                               1971|                           0|                             881.0|                      false|     20399|    5929|             63|\n",
            "+---------+---------+----------+-------------------+-----------------+-----------------+----------------------+----------------------+------------------------+------------------------+------------------+------------------+----------------------------+----------------------------+----------------------------------+---------------------------+-----------------------------------+----------------------------+----------------------------------+---------------------------+----------+--------+---------------+\n",
            "only showing top 20 rows\n",
            "\n"
          ]
        }
      ]
    },
    {
      "cell_type": "code",
      "source": [
        "#add ['relgion_code', 'setelment_code', 'geo_cordints'] from by code \n",
        "\n",
        "# join last_date_df and bycode data based on town_code and agas_code\n",
        "joined_df = joined_df.join(bycode2021.select('relgion_code', 'setelment_code', 'geo_cordints','town_code'), [\"town_code\"], \"left\")\n",
        "\n"
      ],
      "metadata": {
        "id": "VTxj83G0o3l-"
      },
      "execution_count": null,
      "outputs": []
    },
    {
      "cell_type": "code",
      "source": [
        "joined_df.show()"
      ],
      "metadata": {
        "colab": {
          "base_uri": "https://localhost:8080/"
        },
        "id": "Zaofr2h0o6iA",
        "outputId": "3cd47746-2fca-46cd-a565-f97658da183c"
      },
      "execution_count": null,
      "outputs": [
        {
          "output_type": "stream",
          "name": "stdout",
          "text": [
            "+---------+---------+----------+-------------------+-----------------+-----------------+----------------------+----------------------+------------------------+------------------------+------------------+------------------+----------------------------+----------------------------+----------------------------------+---------------------------+-----------------------------------+----------------------------+----------------------------------+---------------------------+----------+--------+---------------+------------+--------------+-------------+\n",
            "|town_code|agas_code|      town|               date|accumulated_cases|new_cases_on_date|accumulated_recoveries|new_recoveries_on_date|accumulated_hospitalized|new_hospitalized_on_date|accumulated_deaths|new_deaths_on_date|accumulated_diagnostic_tests|new_diagnostic_tests_on_date|accumulated_vaccination_first_dose|new_vacc_first_dose_on_date|accumulated_vaccination_second_dose|new_vacc_second_dose_on_date|accumulated_vaccination_third_dose|new_vacc_third_dose_on_date|row_number|pop_2019|socio_rank_2019|relgion_code|setelment_code| geo_cordints|\n",
            "+---------+---------+----------+-------------------+-----------------+-----------------+----------------------+----------------------+------------------------+------------------------+------------------+------------------+----------------------------+----------------------------+----------------------------------+---------------------------+-----------------------------------+----------------------------+----------------------------------+---------------------------+----------+--------+---------------+------------+--------------+-------------+\n",
            "|       26|       NA|  ראש פינה|2022-12-25 00:00:00|             1632|                1|                  1626|                     0|                      18|                       0|                 7|                 0|                       19475|                           1|                            2370.0|                      false|                               2279|                           0|                            1793.0|                      false|      1019|    null|           null|         1.0|           190|2.510676372E9|\n",
            "|       28|       NA|מזכרת בתיה|2022-12-25 00:00:00|             9767|                2|                  9746|                     2|                      73|                       0|                 7|                 0|                      118537|                           9|                           13601.0|                      false|                              13013|                           0|                           10039.0|                      false|      2039|    null|           null|         1.0|           170|1.852963987E9|\n",
            "|       31|     0001|    אופקים|2022-12-25 00:00:00|             2514|                0|                  2496|                     1|                      30|                       0|                 7|                 0|                       29620|                           2|                            3281.0|                      false|                               3028|                           0|                            2246.0|                      false|      3059|    5246|            376|         1.0|           160|1.637757969E9|\n",
            "|       31|     0002|    אופקים|2022-12-25 00:00:00|             1620|                1|                  1611|                     0|                      45|                       0|                 7|                 0|                       18358|                          15|                            2220.0|                      false|                               2068|                           0|                            1556.0|                      false|      4079|    2773|            375|         1.0|           160|1.637757969E9|\n",
            "|       31|     0003|    אופקים|2022-12-25 00:00:00|             1178|                0|                  1172|                     0|                      23|                       0|                 7|                 0|                       13109|                           1|                            1570.0|                      false|                               1424|                           0|                            1028.0|                      false|      5099|    3045|            254|         1.0|           160|1.637757969E9|\n",
            "|       31|     0004|    אופקים|2022-12-25 00:00:00|             1484|                0|                  1480|                     0|                       7|                       0|                 7|                 0|                       14147|                           0|                            1547.0|                      false|                               1297|                           0|                             885.0|                      false|      6119|    3044|            271|         1.0|           160|1.637757969E9|\n",
            "|       31|     0006|    אופקים|2022-12-25 00:00:00|             2634|                1|                  2634|                     0|                      30|                       0|                 7|                 0|                       19746|                           4|                            2295.0|                      false|                               1816|                           0|                            1042.0|                      false|      7139|    6123|            106|         1.0|           160|1.637757969E9|\n",
            "|       31|     0007|    אופקים|2022-12-25 00:00:00|             7940|                0|                  7924|                     1|                      65|                       0|                 7|                 0|                       79522|                           3|                            7654.0|                      false|                               6866|                           0|                            4800.0|                      false|      8159|   10424|            611|         1.0|           160|1.637757969E9|\n",
            "|       31|       NA|    אופקים|2022-12-25 00:00:00|             2126|                1|                  2109|                     0|                      45|                       1|                 7|                 0|                       22910|                           2|                            2648.0|                      false|                               2332|                           0|                            1628.0|                      false|      9179|    null|           null|         1.0|           160|1.637757969E9|\n",
            "|       41|       NA|    אליכין|2022-12-25 00:00:00|             2013|                1|                  2003|                     0|                      23|                       0|                 7|                 0|                       21849|                           1|                            2506.0|                      false|                               2390|                           0|                            1809.0|                      false|     10199|    null|           null|         1.0|           190|1.931870156E9|\n",
            "|       46|       NA|     יבנאל|2022-12-25 00:00:00|             1520|                1|                  1511|                     0|                      35|                       0|                 7|                 0|                       15925|                           3|                            1796.0|                      false|                               1605|                           0|                            1094.0|                      false|     11219|    null|           null|         1.0|           190|2.475073496E9|\n",
            "|       47|       NA|  כפר תבור|2022-12-25 00:00:00|             2670|                2|                  2668|                     1|                      20|                       0|                 0|                 0|                       33225|                           5|                            3855.0|                      false|                               3669|                           0|                            2918.0|                      false|     12239|    null|           null|         1.0|           190| 2.39727325E9|\n",
            "|       53|       NA|     עתלית|2022-12-25 00:00:00|             5394|                2|                  5374|                     0|                      64|                       0|                 7|                 0|                       58516|                           5|                            7173.0|                      false|                               6843|                           0|                            5213.0|                      false|     13259|    null|           null|         1.0|           170|1.949373301E9|\n",
            "|       70|     0122|     אשדוד|2022-12-25 00:00:00|             1371|                0|                  1358|                     0|                      31|                       0|                 7|                 0|                       22647|                           4|                            2378.0|                      false|                               2280|                           0|                            1862.0|                      false|     14279|    2811|            367|         1.0|           130|1.669063377E9|\n",
            "|       70|     0123|     אשדוד|2022-12-25 00:00:00|             1986|                2|                  1962|                     1|                      78|                       0|                 7|                 0|                       28055|                          25|                            2887.0|                      false|                               2684|                           0|                            2032.0|                      false|     15299|    3994|            429|         1.0|           130|1.669063377E9|\n",
            "|       70|     0125|     אשדוד|2022-12-25 00:00:00|             1013|                1|                   998|                     0|                      58|                       0|                 7|                 0|                       12587|                          17|                            1508.0|                      false|                               1414|                           0|                            1060.0|                      false|     16319|    2272|            303|         1.0|           130|1.669063377E9|\n",
            "|       70|     0126|     אשדוד|2022-12-25 00:00:00|             1965|                0|                  1941|                     0|                      74|                       1|                18|                 0|                       31422|                          16|                            3064.0|                      false|                               2877|                           0|                            2201.0|                      false|     17339|    3860|            304|         1.0|           130|1.669063377E9|\n",
            "|       70|     0131|     אשדוד|2022-12-25 00:00:00|              909|                1|                   895|                     1|                      23|                       0|                 7|                 0|                       12040|                           6|                            1395.0|                      false|                               1308|                           0|                             992.0|                      false|     18359|    2089|            338|         1.0|           130|1.669063377E9|\n",
            "|       70|     0133|     אשדוד|2022-12-25 00:00:00|             1922|                0|                  1903|                     0|                      73|                       0|                 7|                 0|                       23546|                          33|                            2730.0|                      false|                               2528|                           0|                            1810.0|                      false|     19379|    3994|            268|         1.0|           130|1.669063377E9|\n",
            "|       70|     0141|     אשדוד|2022-12-25 00:00:00|             1991|                0|                  1988|                     0|                      63|                       0|                 7|                 0|                       14461|                           2|                            2669.0|                      false|                               1971|                           0|                             881.0|                      false|     20399|    5929|             63|         1.0|           130|1.669063377E9|\n",
            "+---------+---------+----------+-------------------+-----------------+-----------------+----------------------+----------------------+------------------------+------------------------+------------------+------------------+----------------------------+----------------------------+----------------------------------+---------------------------+-----------------------------------+----------------------------+----------------------------------+---------------------------+----------+--------+---------------+------------+--------------+-------------+\n",
            "only showing top 20 rows\n",
            "\n"
          ]
        }
      ]
    },
    {
      "cell_type": "code",
      "source": [
        "# filter out the rows with null values in the \"pop_2019\" and \"socio_rank_2019\" columns\n",
        "filtered_df = joined_df.na.drop(subset=[\"pop_2019\", \"socio_rank_2019\"])\n",
        "\n",
        "# show the resulting DataFrame\n",
        "filtered_df.show()"
      ],
      "metadata": {
        "colab": {
          "base_uri": "https://localhost:8080/"
        },
        "id": "OsIES0u9svpo",
        "outputId": "1a1a1477-ef75-4a66-c7a2-b00f1a939f9e"
      },
      "execution_count": null,
      "outputs": [
        {
          "output_type": "stream",
          "name": "stdout",
          "text": [
            "+---------+---------+------+-------------------+-----------------+-----------------+----------------------+----------------------+------------------------+------------------------+------------------+------------------+----------------------------+----------------------------+----------------------------------+---------------------------+-----------------------------------+----------------------------+----------------------------------+---------------------------+----------+--------+---------------+------------+--------------+-------------+\n",
            "|town_code|agas_code|  town|               date|accumulated_cases|new_cases_on_date|accumulated_recoveries|new_recoveries_on_date|accumulated_hospitalized|new_hospitalized_on_date|accumulated_deaths|new_deaths_on_date|accumulated_diagnostic_tests|new_diagnostic_tests_on_date|accumulated_vaccination_first_dose|new_vacc_first_dose_on_date|accumulated_vaccination_second_dose|new_vacc_second_dose_on_date|accumulated_vaccination_third_dose|new_vacc_third_dose_on_date|row_number|pop_2019|socio_rank_2019|relgion_code|setelment_code| geo_cordints|\n",
            "+---------+---------+------+-------------------+-----------------+-----------------+----------------------+----------------------+------------------------+------------------------+------------------+------------------+----------------------------+----------------------------+----------------------------------+---------------------------+-----------------------------------+----------------------------+----------------------------------+---------------------------+----------+--------+---------------+------------+--------------+-------------+\n",
            "|       31|     0001|אופקים|2022-12-25 00:00:00|             2514|                0|                  2496|                     1|                      30|                       0|                 7|                 0|                       29620|                           2|                            3281.0|                      false|                               3028|                           0|                            2246.0|                      false|      3059|    5246|            376|         1.0|           160|1.637757969E9|\n",
            "|       31|     0002|אופקים|2022-12-25 00:00:00|             1620|                1|                  1611|                     0|                      45|                       0|                 7|                 0|                       18358|                          15|                            2220.0|                      false|                               2068|                           0|                            1556.0|                      false|      4079|    2773|            375|         1.0|           160|1.637757969E9|\n",
            "|       31|     0003|אופקים|2022-12-25 00:00:00|             1178|                0|                  1172|                     0|                      23|                       0|                 7|                 0|                       13109|                           1|                            1570.0|                      false|                               1424|                           0|                            1028.0|                      false|      5099|    3045|            254|         1.0|           160|1.637757969E9|\n",
            "|       31|     0004|אופקים|2022-12-25 00:00:00|             1484|                0|                  1480|                     0|                       7|                       0|                 7|                 0|                       14147|                           0|                            1547.0|                      false|                               1297|                           0|                             885.0|                      false|      6119|    3044|            271|         1.0|           160|1.637757969E9|\n",
            "|       31|     0006|אופקים|2022-12-25 00:00:00|             2634|                1|                  2634|                     0|                      30|                       0|                 7|                 0|                       19746|                           4|                            2295.0|                      false|                               1816|                           0|                            1042.0|                      false|      7139|    6123|            106|         1.0|           160|1.637757969E9|\n",
            "|       31|     0007|אופקים|2022-12-25 00:00:00|             7940|                0|                  7924|                     1|                      65|                       0|                 7|                 0|                       79522|                           3|                            7654.0|                      false|                               6866|                           0|                            4800.0|                      false|      8159|   10424|            611|         1.0|           160|1.637757969E9|\n",
            "|       70|     0122| אשדוד|2022-12-25 00:00:00|             1371|                0|                  1358|                     0|                      31|                       0|                 7|                 0|                       22647|                           4|                            2378.0|                      false|                               2280|                           0|                            1862.0|                      false|     14279|    2811|            367|         1.0|           130|1.669063377E9|\n",
            "|       70|     0123| אשדוד|2022-12-25 00:00:00|             1986|                2|                  1962|                     1|                      78|                       0|                 7|                 0|                       28055|                          25|                            2887.0|                      false|                               2684|                           0|                            2032.0|                      false|     15299|    3994|            429|         1.0|           130|1.669063377E9|\n",
            "|       70|     0125| אשדוד|2022-12-25 00:00:00|             1013|                1|                   998|                     0|                      58|                       0|                 7|                 0|                       12587|                          17|                            1508.0|                      false|                               1414|                           0|                            1060.0|                      false|     16319|    2272|            303|         1.0|           130|1.669063377E9|\n",
            "|       70|     0126| אשדוד|2022-12-25 00:00:00|             1965|                0|                  1941|                     0|                      74|                       1|                18|                 0|                       31422|                          16|                            3064.0|                      false|                               2877|                           0|                            2201.0|                      false|     17339|    3860|            304|         1.0|           130|1.669063377E9|\n",
            "|       70|     0131| אשדוד|2022-12-25 00:00:00|              909|                1|                   895|                     1|                      23|                       0|                 7|                 0|                       12040|                           6|                            1395.0|                      false|                               1308|                           0|                             992.0|                      false|     18359|    2089|            338|         1.0|           130|1.669063377E9|\n",
            "|       70|     0133| אשדוד|2022-12-25 00:00:00|             1922|                0|                  1903|                     0|                      73|                       0|                 7|                 0|                       23546|                          33|                            2730.0|                      false|                               2528|                           0|                            1810.0|                      false|     19379|    3994|            268|         1.0|           130|1.669063377E9|\n",
            "|       70|     0141| אשדוד|2022-12-25 00:00:00|             1991|                0|                  1988|                     0|                      63|                       0|                 7|                 0|                       14461|                           2|                            2669.0|                      false|                               1971|                           0|                             881.0|                      false|     20399|    5929|             63|         1.0|           130|1.669063377E9|\n",
            "|       70|     0142| אשדוד|2022-12-25 00:00:00|             1596|                0|                  1589|                     0|                      38|                       0|                 7|                 0|                       14658|                           6|                            1846.0|                      false|                               1580|                           0|                            1005.0|                      false|     21419|    3365|            139|         1.0|           130|1.669063377E9|\n",
            "|       70|     0143| אשדוד|2022-12-25 00:00:00|             2632|                1|                  2620|                     1|                      63|                       0|                 7|                 0|                       20890|                           8|                            2380.0|                      false|                               1937|                           0|                            1238.0|                      false|     22439|    4718|            156|         1.0|           130|1.669063377E9|\n",
            "|       70|     0144| אשדוד|2022-12-25 00:00:00|             3137|                3|                  3109|                     1|                     119|                       0|                16|                 0|                       31573|                          23|                            3383.0|                      false|                               2755|                           0|                            1788.0|                      false|     23459|    7155|            112|         1.0|           130|1.669063377E9|\n",
            "|       70|     0211| אשדוד|2022-12-25 00:00:00|             5109|                2|                  5101|                     0|                      91|                       0|                 7|                 0|                       37060|                           9|                            6682.0|                      false|                               4733|                           0|                            2228.0|                      false|     24479|    7577|             98|         1.0|           130|1.669063377E9|\n",
            "|       70|     0212| אשדוד|2022-12-25 00:00:00|             3108|                0|                  3107|                     0|                      53|                       0|                 7|                 0|                       22013|                           0|                            4269.0|                      false|                               2975|                           0|                            1486.0|                      false|     25499|    7356|            114|         1.0|           130|1.669063377E9|\n",
            "|       70|     0221| אשדוד|2022-12-25 00:00:00|             1718|                0|                  1705|                     0|                      44|                       0|                 7|                 0|                       15718|                           6|                            2005.0|                      false|                               1708|                           0|                            1113.0|                      false|     26519|    3356|            174|         1.0|           130|1.669063377E9|\n",
            "|       70|     0222| אשדוד|2022-12-25 00:00:00|             1811|                1|                  1803|                     0|                      58|                       0|                 7|                 0|                       17762|                          14|                            2201.0|                      false|                               1942|                           0|                            1275.0|                      false|     27539|    4002|            217|         1.0|           130|1.669063377E9|\n",
            "+---------+---------+------+-------------------+-----------------+-----------------+----------------------+----------------------+------------------------+------------------------+------------------+------------------+----------------------------+----------------------------+----------------------------------+---------------------------+-----------------------------------+----------------------------+----------------------------------+---------------------------+----------+--------+---------------+------------+--------------+-------------+\n",
            "only showing top 20 rows\n",
            "\n"
          ]
        }
      ]
    },
    {
      "cell_type": "code",
      "source": [
        "filtered_df.count()"
      ],
      "metadata": {
        "colab": {
          "base_uri": "https://localhost:8080/"
        },
        "id": "Rsu50eiC8PEn",
        "outputId": "b1b81207-5cda-4e84-ac08-3569d80acc81"
      },
      "execution_count": null,
      "outputs": [
        {
          "output_type": "execute_result",
          "data": {
            "text/plain": [
              "1397"
            ]
          },
          "metadata": {},
          "execution_count": 226
        }
      ]
    },
    {
      "cell_type": "code",
      "source": [
        "# filter out the rows with null values in the \"pop_2019\" and \"socio_rank_2019\" columns\n",
        "filtered_df2 = joined_df.na.drop(subset=[ \"socio_rank_2019\"])\n",
        "filtered_df3 = filtered_df2.na.drop(subset=[ \"pop_2019\"])\n",
        "\n",
        "# show the resulting DataFrame\n",
        "#filtered_df2.show()"
      ],
      "metadata": {
        "id": "RlCru_ptvctj"
      },
      "execution_count": null,
      "outputs": []
    },
    {
      "cell_type": "code",
      "source": [
        "filtered_df3.show()"
      ],
      "metadata": {
        "colab": {
          "base_uri": "https://localhost:8080/"
        },
        "id": "FlAA944d_4NR",
        "outputId": "dc1019ee-d5e0-4913-831d-3af965a27f27"
      },
      "execution_count": null,
      "outputs": [
        {
          "output_type": "stream",
          "name": "stdout",
          "text": [
            "+---------+---------+------+-------------------+-----------------+-----------------+----------------------+----------------------+------------------------+------------------------+------------------+------------------+----------------------------+----------------------------+----------------------------------+---------------------------+-----------------------------------+----------------------------+----------------------------------+---------------------------+----------+--------+---------------+------------+--------------+-------------+\n",
            "|town_code|agas_code|  town|               date|accumulated_cases|new_cases_on_date|accumulated_recoveries|new_recoveries_on_date|accumulated_hospitalized|new_hospitalized_on_date|accumulated_deaths|new_deaths_on_date|accumulated_diagnostic_tests|new_diagnostic_tests_on_date|accumulated_vaccination_first_dose|new_vacc_first_dose_on_date|accumulated_vaccination_second_dose|new_vacc_second_dose_on_date|accumulated_vaccination_third_dose|new_vacc_third_dose_on_date|row_number|pop_2019|socio_rank_2019|relgion_code|setelment_code| geo_cordints|\n",
            "+---------+---------+------+-------------------+-----------------+-----------------+----------------------+----------------------+------------------------+------------------------+------------------+------------------+----------------------------+----------------------------+----------------------------------+---------------------------+-----------------------------------+----------------------------+----------------------------------+---------------------------+----------+--------+---------------+------------+--------------+-------------+\n",
            "|       31|     0001|אופקים|2022-12-25 00:00:00|             2514|                0|                  2496|                     1|                      30|                       0|                 7|                 0|                       29620|                           2|                            3281.0|                      false|                               3028|                           0|                            2246.0|                      false|      3059|    5246|            376|         1.0|           160|1.637757969E9|\n",
            "|       31|     0002|אופקים|2022-12-25 00:00:00|             1620|                1|                  1611|                     0|                      45|                       0|                 7|                 0|                       18358|                          15|                            2220.0|                      false|                               2068|                           0|                            1556.0|                      false|      4079|    2773|            375|         1.0|           160|1.637757969E9|\n",
            "|       31|     0003|אופקים|2022-12-25 00:00:00|             1178|                0|                  1172|                     0|                      23|                       0|                 7|                 0|                       13109|                           1|                            1570.0|                      false|                               1424|                           0|                            1028.0|                      false|      5099|    3045|            254|         1.0|           160|1.637757969E9|\n",
            "|       31|     0004|אופקים|2022-12-25 00:00:00|             1484|                0|                  1480|                     0|                       7|                       0|                 7|                 0|                       14147|                           0|                            1547.0|                      false|                               1297|                           0|                             885.0|                      false|      6119|    3044|            271|         1.0|           160|1.637757969E9|\n",
            "|       31|     0006|אופקים|2022-12-25 00:00:00|             2634|                1|                  2634|                     0|                      30|                       0|                 7|                 0|                       19746|                           4|                            2295.0|                      false|                               1816|                           0|                            1042.0|                      false|      7139|    6123|            106|         1.0|           160|1.637757969E9|\n",
            "|       31|     0007|אופקים|2022-12-25 00:00:00|             7940|                0|                  7924|                     1|                      65|                       0|                 7|                 0|                       79522|                           3|                            7654.0|                      false|                               6866|                           0|                            4800.0|                      false|      8159|   10424|            611|         1.0|           160|1.637757969E9|\n",
            "|       70|     0122| אשדוד|2022-12-25 00:00:00|             1371|                0|                  1358|                     0|                      31|                       0|                 7|                 0|                       22647|                           4|                            2378.0|                      false|                               2280|                           0|                            1862.0|                      false|     14279|    2811|            367|         1.0|           130|1.669063377E9|\n",
            "|       70|     0123| אשדוד|2022-12-25 00:00:00|             1986|                2|                  1962|                     1|                      78|                       0|                 7|                 0|                       28055|                          25|                            2887.0|                      false|                               2684|                           0|                            2032.0|                      false|     15299|    3994|            429|         1.0|           130|1.669063377E9|\n",
            "|       70|     0125| אשדוד|2022-12-25 00:00:00|             1013|                1|                   998|                     0|                      58|                       0|                 7|                 0|                       12587|                          17|                            1508.0|                      false|                               1414|                           0|                            1060.0|                      false|     16319|    2272|            303|         1.0|           130|1.669063377E9|\n",
            "|       70|     0126| אשדוד|2022-12-25 00:00:00|             1965|                0|                  1941|                     0|                      74|                       1|                18|                 0|                       31422|                          16|                            3064.0|                      false|                               2877|                           0|                            2201.0|                      false|     17339|    3860|            304|         1.0|           130|1.669063377E9|\n",
            "|       70|     0131| אשדוד|2022-12-25 00:00:00|              909|                1|                   895|                     1|                      23|                       0|                 7|                 0|                       12040|                           6|                            1395.0|                      false|                               1308|                           0|                             992.0|                      false|     18359|    2089|            338|         1.0|           130|1.669063377E9|\n",
            "|       70|     0133| אשדוד|2022-12-25 00:00:00|             1922|                0|                  1903|                     0|                      73|                       0|                 7|                 0|                       23546|                          33|                            2730.0|                      false|                               2528|                           0|                            1810.0|                      false|     19379|    3994|            268|         1.0|           130|1.669063377E9|\n",
            "|       70|     0141| אשדוד|2022-12-25 00:00:00|             1991|                0|                  1988|                     0|                      63|                       0|                 7|                 0|                       14461|                           2|                            2669.0|                      false|                               1971|                           0|                             881.0|                      false|     20399|    5929|             63|         1.0|           130|1.669063377E9|\n",
            "|       70|     0142| אשדוד|2022-12-25 00:00:00|             1596|                0|                  1589|                     0|                      38|                       0|                 7|                 0|                       14658|                           6|                            1846.0|                      false|                               1580|                           0|                            1005.0|                      false|     21419|    3365|            139|         1.0|           130|1.669063377E9|\n",
            "|       70|     0143| אשדוד|2022-12-25 00:00:00|             2632|                1|                  2620|                     1|                      63|                       0|                 7|                 0|                       20890|                           8|                            2380.0|                      false|                               1937|                           0|                            1238.0|                      false|     22439|    4718|            156|         1.0|           130|1.669063377E9|\n",
            "|       70|     0144| אשדוד|2022-12-25 00:00:00|             3137|                3|                  3109|                     1|                     119|                       0|                16|                 0|                       31573|                          23|                            3383.0|                      false|                               2755|                           0|                            1788.0|                      false|     23459|    7155|            112|         1.0|           130|1.669063377E9|\n",
            "|       70|     0211| אשדוד|2022-12-25 00:00:00|             5109|                2|                  5101|                     0|                      91|                       0|                 7|                 0|                       37060|                           9|                            6682.0|                      false|                               4733|                           0|                            2228.0|                      false|     24479|    7577|             98|         1.0|           130|1.669063377E9|\n",
            "|       70|     0212| אשדוד|2022-12-25 00:00:00|             3108|                0|                  3107|                     0|                      53|                       0|                 7|                 0|                       22013|                           0|                            4269.0|                      false|                               2975|                           0|                            1486.0|                      false|     25499|    7356|            114|         1.0|           130|1.669063377E9|\n",
            "|       70|     0221| אשדוד|2022-12-25 00:00:00|             1718|                0|                  1705|                     0|                      44|                       0|                 7|                 0|                       15718|                           6|                            2005.0|                      false|                               1708|                           0|                            1113.0|                      false|     26519|    3356|            174|         1.0|           130|1.669063377E9|\n",
            "|       70|     0222| אשדוד|2022-12-25 00:00:00|             1811|                1|                  1803|                     0|                      58|                       0|                 7|                 0|                       17762|                          14|                            2201.0|                      false|                               1942|                           0|                            1275.0|                      false|     27539|    4002|            217|         1.0|           130|1.669063377E9|\n",
            "+---------+---------+------+-------------------+-----------------+-----------------+----------------------+----------------------+------------------------+------------------------+------------------+------------------+----------------------------+----------------------------+----------------------------------+---------------------------+-----------------------------------+----------------------------+----------------------------------+---------------------------+----------+--------+---------------+------------+--------------+-------------+\n",
            "only showing top 20 rows\n",
            "\n"
          ]
        }
      ]
    },
    {
      "cell_type": "code",
      "source": [
        "filtered_df3.count()"
      ],
      "metadata": {
        "colab": {
          "base_uri": "https://localhost:8080/"
        },
        "id": "hoMweWO08Z6R",
        "outputId": "b5dc1ccd-7b64-46f3-af2c-2633497e5bd4"
      },
      "execution_count": null,
      "outputs": [
        {
          "output_type": "execute_result",
          "data": {
            "text/plain": [
              "1397"
            ]
          },
          "metadata": {},
          "execution_count": 227
        }
      ]
    },
    {
      "cell_type": "code",
      "source": [
        "from pyspark.sql.functions import sum\n",
        "\n",
        "# sum the \"pop_2019\" column\n",
        "pop_sum = filtered_df3.agg(sum(\"pop_2019\")).collect()[0][0]\n",
        "\n",
        "# print the result\n",
        "print(pop_sum)"
      ],
      "metadata": {
        "colab": {
          "base_uri": "https://localhost:8080/"
        },
        "id": "WUJPIBJas5sM",
        "outputId": "06889bb7-173c-4569-90ce-afc0bd5949b8"
      },
      "execution_count": null,
      "outputs": [
        {
          "output_type": "stream",
          "name": "stdout",
          "text": [
            "6294051.0\n"
          ]
        }
      ]
    },
    {
      "cell_type": "code",
      "source": [
        "# create a new column \"per_acc\" that contains the percentage of accumulated cases per population\n",
        "filtered_df3 = filtered_df3.withColumn(\"per_acc\", filtered_df3[\"accumulated_cases\"] / filtered_df3[\"pop_2019\"])\n",
        "\n",
        "# show the resulting DataFrame\n",
        "filtered_df3.show()"
      ],
      "metadata": {
        "colab": {
          "base_uri": "https://localhost:8080/"
        },
        "id": "d9EBrFAkdimN",
        "outputId": "8eb304c3-ba5c-409c-96ea-0ed3b4712488"
      },
      "execution_count": null,
      "outputs": [
        {
          "output_type": "stream",
          "name": "stdout",
          "text": [
            "+---------+---------+------+-------------------+-----------------+-----------------+----------------------+----------------------+------------------------+------------------------+------------------+------------------+----------------------------+----------------------------+----------------------------------+---------------------------+-----------------------------------+----------------------------+----------------------------------+---------------------------+----------+--------+---------------+------------+--------------+-------------+-------------------+\n",
            "|town_code|agas_code|  town|               date|accumulated_cases|new_cases_on_date|accumulated_recoveries|new_recoveries_on_date|accumulated_hospitalized|new_hospitalized_on_date|accumulated_deaths|new_deaths_on_date|accumulated_diagnostic_tests|new_diagnostic_tests_on_date|accumulated_vaccination_first_dose|new_vacc_first_dose_on_date|accumulated_vaccination_second_dose|new_vacc_second_dose_on_date|accumulated_vaccination_third_dose|new_vacc_third_dose_on_date|row_number|pop_2019|socio_rank_2019|relgion_code|setelment_code| geo_cordints|            per_acc|\n",
            "+---------+---------+------+-------------------+-----------------+-----------------+----------------------+----------------------+------------------------+------------------------+------------------+------------------+----------------------------+----------------------------+----------------------------------+---------------------------+-----------------------------------+----------------------------+----------------------------------+---------------------------+----------+--------+---------------+------------+--------------+-------------+-------------------+\n",
            "|       31|     0001|אופקים|2022-12-25 00:00:00|             2514|                0|                  2496|                     1|                      30|                       0|                 7|                 0|                       29620|                           2|                            3281.0|                      false|                               3028|                           0|                            2246.0|                      false|      3059|    5246|            376|         1.0|           160|1.637757969E9| 0.4792222645825391|\n",
            "|       31|     0002|אופקים|2022-12-25 00:00:00|             1620|                1|                  1611|                     0|                      45|                       0|                 7|                 0|                       18358|                          15|                            2220.0|                      false|                               2068|                           0|                            1556.0|                      false|      4079|    2773|            375|         1.0|           160|1.637757969E9| 0.5842048323115759|\n",
            "|       31|     0003|אופקים|2022-12-25 00:00:00|             1178|                0|                  1172|                     0|                      23|                       0|                 7|                 0|                       13109|                           1|                            1570.0|                      false|                               1424|                           0|                            1028.0|                      false|      5099|    3045|            254|         1.0|           160|1.637757969E9|  0.386863711001642|\n",
            "|       31|     0004|אופקים|2022-12-25 00:00:00|             1484|                0|                  1480|                     0|                       7|                       0|                 7|                 0|                       14147|                           0|                            1547.0|                      false|                               1297|                           0|                             885.0|                      false|      6119|    3044|            271|         1.0|           160|1.637757969E9|0.48751642575558474|\n",
            "|       31|     0006|אופקים|2022-12-25 00:00:00|             2634|                1|                  2634|                     0|                      30|                       0|                 7|                 0|                       19746|                           4|                            2295.0|                      false|                               1816|                           0|                            1042.0|                      false|      7139|    6123|            106|         1.0|           160|1.637757969E9| 0.4301812836844684|\n",
            "|       31|     0007|אופקים|2022-12-25 00:00:00|             7940|                0|                  7924|                     1|                      65|                       0|                 7|                 0|                       79522|                           3|                            7654.0|                      false|                               6866|                           0|                            4800.0|                      false|      8159|   10424|            611|         1.0|           160|1.637757969E9| 0.7617037605525709|\n",
            "|       70|     0122| אשדוד|2022-12-25 00:00:00|             1371|                0|                  1358|                     0|                      31|                       0|                 7|                 0|                       22647|                           4|                            2378.0|                      false|                               2280|                           0|                            1862.0|                      false|     14279|    2811|            367|         1.0|           130|1.669063377E9|0.48772678762006405|\n",
            "|       70|     0123| אשדוד|2022-12-25 00:00:00|             1986|                2|                  1962|                     1|                      78|                       0|                 7|                 0|                       28055|                          25|                            2887.0|                      false|                               2684|                           0|                            2032.0|                      false|     15299|    3994|            429|         1.0|           130|1.669063377E9| 0.4972458688032048|\n",
            "|       70|     0125| אשדוד|2022-12-25 00:00:00|             1013|                1|                   998|                     0|                      58|                       0|                 7|                 0|                       12587|                          17|                            1508.0|                      false|                               1414|                           0|                            1060.0|                      false|     16319|    2272|            303|         1.0|           130|1.669063377E9|  0.445862676056338|\n",
            "|       70|     0126| אשדוד|2022-12-25 00:00:00|             1965|                0|                  1941|                     0|                      74|                       1|                18|                 0|                       31422|                          16|                            3064.0|                      false|                               2877|                           0|                            2201.0|                      false|     17339|    3860|            304|         1.0|           130|1.669063377E9| 0.5090673575129534|\n",
            "|       70|     0131| אשדוד|2022-12-25 00:00:00|              909|                1|                   895|                     1|                      23|                       0|                 7|                 0|                       12040|                           6|                            1395.0|                      false|                               1308|                           0|                             992.0|                      false|     18359|    2089|            338|         1.0|           130|1.669063377E9| 0.4351364289133557|\n",
            "|       70|     0133| אשדוד|2022-12-25 00:00:00|             1922|                0|                  1903|                     0|                      73|                       0|                 7|                 0|                       23546|                          33|                            2730.0|                      false|                               2528|                           0|                            1810.0|                      false|     19379|    3994|            268|         1.0|           130|1.669063377E9|0.48122183274912367|\n",
            "|       70|     0141| אשדוד|2022-12-25 00:00:00|             1991|                0|                  1988|                     0|                      63|                       0|                 7|                 0|                       14461|                           2|                            2669.0|                      false|                               1971|                           0|                             881.0|                      false|     20399|    5929|             63|         1.0|           130|1.669063377E9| 0.3358070500927644|\n",
            "|       70|     0142| אשדוד|2022-12-25 00:00:00|             1596|                0|                  1589|                     0|                      38|                       0|                 7|                 0|                       14658|                           6|                            1846.0|                      false|                               1580|                           0|                            1005.0|                      false|     21419|    3365|            139|         1.0|           130|1.669063377E9| 0.4742942050520059|\n",
            "|       70|     0143| אשדוד|2022-12-25 00:00:00|             2632|                1|                  2620|                     1|                      63|                       0|                 7|                 0|                       20890|                           8|                            2380.0|                      false|                               1937|                           0|                            1238.0|                      false|     22439|    4718|            156|         1.0|           130|1.669063377E9| 0.5578635014836796|\n",
            "|       70|     0144| אשדוד|2022-12-25 00:00:00|             3137|                3|                  3109|                     1|                     119|                       0|                16|                 0|                       31573|                          23|                            3383.0|                      false|                               2755|                           0|                            1788.0|                      false|     23459|    7155|            112|         1.0|           130|1.669063377E9| 0.4384346610761705|\n",
            "|       70|     0211| אשדוד|2022-12-25 00:00:00|             5109|                2|                  5101|                     0|                      91|                       0|                 7|                 0|                       37060|                           9|                            6682.0|                      false|                               4733|                           0|                            2228.0|                      false|     24479|    7577|             98|         1.0|           130|1.669063377E9| 0.6742774185033654|\n",
            "|       70|     0212| אשדוד|2022-12-25 00:00:00|             3108|                0|                  3107|                     0|                      53|                       0|                 7|                 0|                       22013|                           0|                            4269.0|                      false|                               2975|                           0|                            1486.0|                      false|     25499|    7356|            114|         1.0|           130|1.669063377E9|0.42251223491027734|\n",
            "|       70|     0221| אשדוד|2022-12-25 00:00:00|             1718|                0|                  1705|                     0|                      44|                       0|                 7|                 0|                       15718|                           6|                            2005.0|                      false|                               1708|                           0|                            1113.0|                      false|     26519|    3356|            174|         1.0|           130|1.669063377E9| 0.5119189511323003|\n",
            "|       70|     0222| אשדוד|2022-12-25 00:00:00|             1811|                1|                  1803|                     0|                      58|                       0|                 7|                 0|                       17762|                          14|                            2201.0|                      false|                               1942|                           0|                            1275.0|                      false|     27539|    4002|            217|         1.0|           130|1.669063377E9|0.45252373813093455|\n",
            "+---------+---------+------+-------------------+-----------------+-----------------+----------------------+----------------------+------------------------+------------------------+------------------+------------------+----------------------------+----------------------------+----------------------------------+---------------------------+-----------------------------------+----------------------------+----------------------------------+---------------------------+----------+--------+---------------+------------+--------------+-------------+-------------------+\n",
            "only showing top 20 rows\n",
            "\n"
          ]
        }
      ]
    },
    {
      "cell_type": "code",
      "source": [
        "\n",
        "# Select the relevant columns\n",
        "selected_df = filtered_df3.select(col(\"per_acc\"), col(\"socio_rank_2019\"))\n",
        "\n",
        "# Calculate the correlation between the columns\n",
        "correlation = selected_df.corr(\"per_acc\", \"socio_rank_2019\")\n",
        "\n",
        "print(f\"Correlation between per_acc and socio_rank_2019: {correlation}\")"
      ],
      "metadata": {
        "colab": {
          "base_uri": "https://localhost:8080/"
        },
        "id": "a_XhoiKAfzgw",
        "outputId": "2f6a9736-fbe5-452b-94b3-ccfaf974adac"
      },
      "execution_count": null,
      "outputs": [
        {
          "output_type": "stream",
          "name": "stdout",
          "text": [
            "Correlation between per_acc and socio_rank_2019: 0.3518834224502849\n"
          ]
        }
      ]
    },
    {
      "cell_type": "code",
      "source": [
        "\n",
        "import matplotlib.pyplot as plt\n",
        "import pyspark.sql.functions as F\n",
        "\n",
        "# Select the relevant columns\n",
        "selected_df = filtered_df3.select(\"per_acc\", \"socio_rank_2019\")\n",
        "\n",
        "# Convert the DataFrame to a Pandas DataFrame\n",
        "pandas_df = selected_df.toPandas()\n",
        "\n",
        "# Create a scatter plot using Matplotlib\n",
        "plt.scatter(pandas_df[\"socio_rank_2019\"], pandas_df[\"per_acc\"])\n",
        "\n",
        "# Set the axis labels\n",
        "plt.xlabel(\"Socioeconomic rank \")\n",
        "plt.ylabel(\"Percentage sick \")\n",
        "\n",
        "# Show the plot\n",
        "plt.show()"
      ],
      "metadata": {
        "colab": {
          "base_uri": "https://localhost:8080/",
          "height": 279
        },
        "id": "0zchuVG5gF4y",
        "outputId": "8c9104fc-4b27-4d34-bd30-67c28fee5ed4"
      },
      "execution_count": null,
      "outputs": [
        {
          "output_type": "display_data",
          "data": {
            "text/plain": [
              "<Figure size 432x288 with 1 Axes>"
            ],
            "image/png": "[encoded data removed]"
          },
          "metadata": {
            "needs_background": "light"
          }
        }
      ]
    },
    {
      "cell_type": "code",
      "source": [
        "\n",
        "# Select the relevant columns\n",
        "selected_df = filtered_df3.select(col(\"per_acc\"), col(\"socio_rank_2019\"))\n",
        "\n",
        "# Calculate the correlation between the columns\n",
        "correlation = selected_df.corr(\"per_acc\", \"socio_rank_2019\")\n",
        "\n",
        "print(f\"Correlation between per_acc and socio_rank_2019: {correlation}\")"
      ],
      "metadata": {
        "colab": {
          "base_uri": "https://localhost:8080/"
        },
        "id": "6eCa2FbYghwU",
        "outputId": "67bd2a43-819b-426e-8e49-4efdc582bbdb"
      },
      "execution_count": null,
      "outputs": [
        {
          "output_type": "stream",
          "name": "stdout",
          "text": [
            "Correlation between per_acc and socio_rank_2019: 0.3518834224502849\n"
          ]
        }
      ]
    },
    {
      "cell_type": "code",
      "source": [
        "# Save the DataFrame to a CSV file\n",
        "#filtered_df3.write.mode(\"overwrite\").option(\"header\", \"true\").csv(\"/content/drive/MyDrive/runi/BDP project/corona final project/filtered_df3.csv\")"
      ],
      "metadata": {
        "id": "WuYF6HorsVhw"
      },
      "execution_count": null,
      "outputs": []
    },
    {
      "cell_type": "code",
      "source": [
        "t_statistic"
      ],
      "metadata": {
        "colab": {
          "base_uri": "https://localhost:8080/"
        },
        "id": "9QyucAgUPAYq",
        "outputId": "016446c8-c17f-4015-e0ee-624e3cf9ebc7"
      },
      "execution_count": null,
      "outputs": [
        {
          "output_type": "execute_result",
          "data": {
            "text/plain": [
              "14.040731190099136"
            ]
          },
          "metadata": {},
          "execution_count": 223
        }
      ]
    },
    {
      "cell_type": "code",
      "source": [
        "from pyspark.sql.functions import col, corr, lit\n",
        "from scipy.stats import t\n",
        "\n",
        "# Select the relevant columns\n",
        "selected_df = filtered_df3.select(col(\"per_acc\"), col(\"socio_rank_2019\"))\n",
        "\n",
        "# Calculate the correlation between the columns\n",
        "correlation = selected_df.corr(\"per_acc\", \"socio_rank_2019\")\n",
        "\n",
        "# Calculate the degrees of freedom\n",
        "n = selected_df.count()\n",
        "deg_f = n - 2\n",
        "\n",
        "# Calculate the t-statistic\n",
        "t_statistic = correlation * ((n - 2) ** 0.5) / ((1 - correlation ** 2) ** 0.5)\n",
        "\n",
        "# Calculate the p-value\n",
        "p_value = t.sf(abs(float(t_statistic)), deg_f) * 2\n",
        "#p_value = t.sf(abs(t_statistic), df) * 2\n",
        "# Print the results\n",
        "if p_value < 0.05:\n",
        "    print(\"The correlation is statistically significant. p_value=\", p_value,\"correlation = \",correlation)\n",
        "else:\n",
        "    print(\"The correlation is not statistically significant.\")"
      ],
      "metadata": {
        "colab": {
          "base_uri": "https://localhost:8080/",
          "height": 398
        },
        "id": "E4CRqAd9vbpg",
        "outputId": "57a68ee7-128e-4eb6-90b3-6317b8ee9617"
      },
      "execution_count": null,
      "outputs": [
        {
          "output_type": "error",
          "ename": "TypeError",
          "evalue": "ignored",
          "traceback": [
            "\u001b[0;31m---------------------------------------------------------------------------\u001b[0m",
            "\u001b[0;31mTypeError\u001b[0m                                 Traceback (most recent call last)",
            "\u001b[0;32m<ipython-input-224-0d516efe2213>\u001b[0m in \u001b[0;36m<module>\u001b[0;34m\u001b[0m\n\u001b[1;32m     16\u001b[0m \u001b[0;34m\u001b[0m\u001b[0m\n\u001b[1;32m     17\u001b[0m \u001b[0;31m# Calculate the p-value\u001b[0m\u001b[0;34m\u001b[0m\u001b[0;34m\u001b[0m\u001b[0;34m\u001b[0m\u001b[0m\n\u001b[0;32m---> 18\u001b[0;31m \u001b[0mp_value\u001b[0m \u001b[0;34m=\u001b[0m \u001b[0mt\u001b[0m\u001b[0;34m.\u001b[0m\u001b[0msf\u001b[0m\u001b[0;34m(\u001b[0m\u001b[0mabs\u001b[0m\u001b[0;34m(\u001b[0m\u001b[0mfloat\u001b[0m\u001b[0;34m(\u001b[0m\u001b[0mt_statistic\u001b[0m\u001b[0;34m)\u001b[0m\u001b[0;34m)\u001b[0m\u001b[0;34m,\u001b[0m \u001b[0mdeg_f\u001b[0m\u001b[0;34m)\u001b[0m \u001b[0;34m*\u001b[0m \u001b[0;36m2\u001b[0m\u001b[0;34m\u001b[0m\u001b[0;34m\u001b[0m\u001b[0m\n\u001b[0m\u001b[1;32m     19\u001b[0m \u001b[0;31m#p_value = t.sf(abs(t_statistic), df) * 2\u001b[0m\u001b[0;34m\u001b[0m\u001b[0;34m\u001b[0m\u001b[0;34m\u001b[0m\u001b[0m\n\u001b[1;32m     20\u001b[0m \u001b[0;31m# Print the results\u001b[0m\u001b[0;34m\u001b[0m\u001b[0;34m\u001b[0m\u001b[0;34m\u001b[0m\u001b[0m\n",
            "\u001b[0;32m/content/spark-3.3.1-bin-hadoop3/python/pyspark/sql/functions.py\u001b[0m in \u001b[0;36mabs\u001b[0;34m(col)\u001b[0m\n\u001b[1;32m    185\u001b[0m     \u001b[0mComputes\u001b[0m \u001b[0mthe\u001b[0m \u001b[0mabsolute\u001b[0m \u001b[0mvalue\u001b[0m\u001b[0;34m.\u001b[0m\u001b[0;34m\u001b[0m\u001b[0;34m\u001b[0m\u001b[0m\n\u001b[1;32m    186\u001b[0m     \"\"\"\n\u001b[0;32m--> 187\u001b[0;31m     \u001b[0;32mreturn\u001b[0m \u001b[0m_invoke_function_over_columns\u001b[0m\u001b[0;34m(\u001b[0m\u001b[0;34m\"abs\"\u001b[0m\u001b[0;34m,\u001b[0m \u001b[0mcol\u001b[0m\u001b[0;34m)\u001b[0m\u001b[0;34m\u001b[0m\u001b[0;34m\u001b[0m\u001b[0m\n\u001b[0m\u001b[1;32m    188\u001b[0m \u001b[0;34m\u001b[0m\u001b[0m\n\u001b[1;32m    189\u001b[0m \u001b[0;34m\u001b[0m\u001b[0m\n",
            "\u001b[0;32m/content/spark-3.3.1-bin-hadoop3/python/pyspark/sql/functions.py\u001b[0m in \u001b[0;36m_invoke_function_over_columns\u001b[0;34m(name, *cols)\u001b[0m\n\u001b[1;32m     91\u001b[0m     \u001b[0;32mand\u001b[0m \u001b[0mwraps\u001b[0m \u001b[0mthe\u001b[0m \u001b[0mresult\u001b[0m \u001b[0;32mwith\u001b[0m \u001b[0;34m:\u001b[0m\u001b[0;32mclass\u001b[0m\u001b[0;34m:\u001b[0m\u001b[0;31m`\u001b[0m\u001b[0;34m~\u001b[0m\u001b[0mpyspark\u001b[0m\u001b[0;34m.\u001b[0m\u001b[0msql\u001b[0m\u001b[0;34m.\u001b[0m\u001b[0mColumn\u001b[0m\u001b[0;31m`\u001b[0m\u001b[0;34m.\u001b[0m\u001b[0;34m\u001b[0m\u001b[0;34m\u001b[0m\u001b[0m\n\u001b[1;32m     92\u001b[0m     \"\"\"\n\u001b[0;32m---> 93\u001b[0;31m     \u001b[0;32mreturn\u001b[0m \u001b[0m_invoke_function\u001b[0m\u001b[0;34m(\u001b[0m\u001b[0mname\u001b[0m\u001b[0;34m,\u001b[0m \u001b[0;34m*\u001b[0m\u001b[0;34m(\u001b[0m\u001b[0m_to_java_column\u001b[0m\u001b[0;34m(\u001b[0m\u001b[0mcol\u001b[0m\u001b[0;34m)\u001b[0m \u001b[0;32mfor\u001b[0m \u001b[0mcol\u001b[0m \u001b[0;32min\u001b[0m \u001b[0mcols\u001b[0m\u001b[0;34m)\u001b[0m\u001b[0;34m)\u001b[0m\u001b[0;34m\u001b[0m\u001b[0;34m\u001b[0m\u001b[0m\n\u001b[0m\u001b[1;32m     94\u001b[0m \u001b[0;34m\u001b[0m\u001b[0m\n\u001b[1;32m     95\u001b[0m \u001b[0;34m\u001b[0m\u001b[0m\n",
            "\u001b[0;32m/content/spark-3.3.1-bin-hadoop3/python/pyspark/sql/functions.py\u001b[0m in \u001b[0;36m<genexpr>\u001b[0;34m(.0)\u001b[0m\n\u001b[1;32m     91\u001b[0m     \u001b[0;32mand\u001b[0m \u001b[0mwraps\u001b[0m \u001b[0mthe\u001b[0m \u001b[0mresult\u001b[0m \u001b[0;32mwith\u001b[0m \u001b[0;34m:\u001b[0m\u001b[0;32mclass\u001b[0m\u001b[0;34m:\u001b[0m\u001b[0;31m`\u001b[0m\u001b[0;34m~\u001b[0m\u001b[0mpyspark\u001b[0m\u001b[0;34m.\u001b[0m\u001b[0msql\u001b[0m\u001b[0;34m.\u001b[0m\u001b[0mColumn\u001b[0m\u001b[0;31m`\u001b[0m\u001b[0;34m.\u001b[0m\u001b[0;34m\u001b[0m\u001b[0;34m\u001b[0m\u001b[0m\n\u001b[1;32m     92\u001b[0m     \"\"\"\n\u001b[0;32m---> 93\u001b[0;31m     \u001b[0;32mreturn\u001b[0m \u001b[0m_invoke_function\u001b[0m\u001b[0;34m(\u001b[0m\u001b[0mname\u001b[0m\u001b[0;34m,\u001b[0m \u001b[0;34m*\u001b[0m\u001b[0;34m(\u001b[0m\u001b[0m_to_java_column\u001b[0m\u001b[0;34m(\u001b[0m\u001b[0mcol\u001b[0m\u001b[0;34m)\u001b[0m \u001b[0;32mfor\u001b[0m \u001b[0mcol\u001b[0m \u001b[0;32min\u001b[0m \u001b[0mcols\u001b[0m\u001b[0;34m)\u001b[0m\u001b[0;34m)\u001b[0m\u001b[0;34m\u001b[0m\u001b[0;34m\u001b[0m\u001b[0m\n\u001b[0m\u001b[1;32m     94\u001b[0m \u001b[0;34m\u001b[0m\u001b[0m\n\u001b[1;32m     95\u001b[0m \u001b[0;34m\u001b[0m\u001b[0m\n",
            "\u001b[0;32m/content/spark-3.3.1-bin-hadoop3/python/pyspark/sql/column.py\u001b[0m in \u001b[0;36m_to_java_column\u001b[0;34m(col)\u001b[0m\n\u001b[1;32m     63\u001b[0m         \u001b[0mjcol\u001b[0m \u001b[0;34m=\u001b[0m \u001b[0m_create_column_from_name\u001b[0m\u001b[0;34m(\u001b[0m\u001b[0mcol\u001b[0m\u001b[0;34m)\u001b[0m\u001b[0;34m\u001b[0m\u001b[0;34m\u001b[0m\u001b[0m\n\u001b[1;32m     64\u001b[0m     \u001b[0;32melse\u001b[0m\u001b[0;34m:\u001b[0m\u001b[0;34m\u001b[0m\u001b[0;34m\u001b[0m\u001b[0m\n\u001b[0;32m---> 65\u001b[0;31m         raise TypeError(\n\u001b[0m\u001b[1;32m     66\u001b[0m             \u001b[0;34m\"Invalid argument, not a string or column: \"\u001b[0m\u001b[0;34m\u001b[0m\u001b[0;34m\u001b[0m\u001b[0m\n\u001b[1;32m     67\u001b[0m             \u001b[0;34m\"{0} of type {1}. \"\u001b[0m\u001b[0;34m\u001b[0m\u001b[0;34m\u001b[0m\u001b[0m\n",
            "\u001b[0;31mTypeError\u001b[0m: Invalid argument, not a string or column: 14.040731190099136 of type <class 'float'>. For column literals, use 'lit', 'array', 'struct' or 'create_map' function."
          ]
        }
      ]
    },
    {
      "cell_type": "code",
      "source": [
        "from pyspark.sql.functions import col, corr, lit\n",
        "from scipy.stats import t\n",
        "\n",
        "# Select the relevant columns\n",
        "selected_df = filtered_df3.select(col(\"per_acc\"), col(\"socio_rank_2019\"))\n",
        "\n",
        "# Calculate the correlation between the columns\n",
        "correlation = selected_df.corr(\"per_acc\", \"socio_rank_2019\")\n",
        "\n",
        "# Calculate the degrees of freedom\n",
        "n = selected_df.count()\n",
        "deg_f = n - 2\n",
        "\n",
        "# Calculate the t-statistic\n",
        "t_statistic = correlation * ((n - 2) ** 0.5) / ((1 - correlation ** 2) ** 0.5)\n",
        "\n",
        "# Calculate the p-value\n",
        "p_value = t.sf(abs(float(t_statistic)), deg_f) * 2\n",
        "\n",
        "# Create a PySpark column from the p-value\n",
        "p_value_col = lit(p_value)\n",
        "\n",
        "# Show the results\n",
        "result = spark.createDataFrame([(correlation, t_statistic, deg_f, p_value_col)], [\"correlation\", \"t_statistic\", \"degrees_of_freedom\", \"p_value\"])\n",
        "result.show()"
      ],
      "metadata": {
        "id": "hBn7Q30e1mjl"
      },
      "execution_count": null,
      "outputs": []
    },
    {
      "cell_type": "markdown",
      "source": [
        "# corelation between scocoi economis and 2nd and 3rd vaccination"
      ],
      "metadata": {
        "id": "UQODcnaS5VwG"
      }
    },
    {
      "cell_type": "code",
      "source": [
        "import pyspark.sql.functions as F\n",
        "\n",
        "# Create a new column for the percentage of the population that has received the second dose\n",
        "filtered_df3 = filtered_df3.withColumn(\"vac2_per\", F.col(\"accumulated_vaccination_second_dose\") / F.col(\"pop_2019\"))\n",
        "\n",
        "# Create a new column for the percentage of the population that has received the third dose\n",
        "filtered_df3 = filtered_df3.withColumn(\"vac3_per\", F.col(\"accumulated_vaccination_third_dose\") / F.col(\"pop_2019\"))\n",
        "\n"
      ],
      "metadata": {
        "id": "M1U_7laNvzO_"
      },
      "execution_count": null,
      "outputs": []
    },
    {
      "cell_type": "code",
      "source": [
        "filtered_df3.show()"
      ],
      "metadata": {
        "id": "fu1G3jCGmOjO",
        "colab": {
          "base_uri": "https://localhost:8080/"
        },
        "outputId": "b1837ca6-e9e2-4501-a710-82cf242124ef"
      },
      "execution_count": null,
      "outputs": [
        {
          "output_type": "stream",
          "name": "stdout",
          "text": [
            "+---------+---------+------+-------------------+-----------------+-----------------+----------------------+----------------------+------------------------+------------------------+------------------+------------------+----------------------------+----------------------------+----------------------------------+---------------------------+-----------------------------------+----------------------------+----------------------------------+---------------------------+----------+--------+---------------+------------+--------------+-------------+-------------------+-------------------+-------------------+\n",
            "|town_code|agas_code|  town|               date|accumulated_cases|new_cases_on_date|accumulated_recoveries|new_recoveries_on_date|accumulated_hospitalized|new_hospitalized_on_date|accumulated_deaths|new_deaths_on_date|accumulated_diagnostic_tests|new_diagnostic_tests_on_date|accumulated_vaccination_first_dose|new_vacc_first_dose_on_date|accumulated_vaccination_second_dose|new_vacc_second_dose_on_date|accumulated_vaccination_third_dose|new_vacc_third_dose_on_date|row_number|pop_2019|socio_rank_2019|relgion_code|setelment_code| geo_cordints|            per_acc|           vac2_per|           vac3_per|\n",
            "+---------+---------+------+-------------------+-----------------+-----------------+----------------------+----------------------+------------------------+------------------------+------------------+------------------+----------------------------+----------------------------+----------------------------------+---------------------------+-----------------------------------+----------------------------+----------------------------------+---------------------------+----------+--------+---------------+------------+--------------+-------------+-------------------+-------------------+-------------------+\n",
            "|       31|     0001|אופקים|2022-12-25 00:00:00|             2514|                0|                  2496|                     1|                      30|                       0|                 7|                 0|                       29620|                           2|                            3281.0|                      false|                               3028|                           0|                            2246.0|                      false|      3059|    5246|            376|         1.0|           160|1.637757969E9| 0.4792222645825391| 0.5772016774685474|  0.428135722455204|\n",
            "|       31|     0002|אופקים|2022-12-25 00:00:00|             1620|                1|                  1611|                     0|                      45|                       0|                 7|                 0|                       18358|                          15|                            2220.0|                      false|                               2068|                           0|                            1556.0|                      false|      4079|    2773|            375|         1.0|           160|1.637757969E9| 0.5842048323115759| 0.7457627118644068| 0.5611251352326001|\n",
            "|       31|     0003|אופקים|2022-12-25 00:00:00|             1178|                0|                  1172|                     0|                      23|                       0|                 7|                 0|                       13109|                           1|                            1570.0|                      false|                               1424|                           0|                            1028.0|                      false|      5099|    3045|            254|         1.0|           160|1.637757969E9|  0.386863711001642|0.46765188834154353|0.33760262725779966|\n",
            "|       31|     0004|אופקים|2022-12-25 00:00:00|             1484|                0|                  1480|                     0|                       7|                       0|                 7|                 0|                       14147|                           0|                            1547.0|                      false|                               1297|                           0|                             885.0|                      false|      6119|    3044|            271|         1.0|           160|1.637757969E9|0.48751642575558474|0.42608409986859397| 0.2907358738501971|\n",
            "|       31|     0006|אופקים|2022-12-25 00:00:00|             2634|                1|                  2634|                     0|                      30|                       0|                 7|                 0|                       19746|                           4|                            2295.0|                      false|                               1816|                           0|                            1042.0|                      false|      7139|    6123|            106|         1.0|           160|1.637757969E9| 0.4301812836844684| 0.2965866405356851| 0.1701780173117753|\n",
            "|       31|     0007|אופקים|2022-12-25 00:00:00|             7940|                0|                  7924|                     1|                      65|                       0|                 7|                 0|                       79522|                           3|                            7654.0|                      false|                               6866|                           0|                            4800.0|                      false|      8159|   10424|            611|         1.0|           160|1.637757969E9| 0.7617037605525709|  0.658672294704528| 0.4604758250191865|\n",
            "|       70|     0122| אשדוד|2022-12-25 00:00:00|             1371|                0|                  1358|                     0|                      31|                       0|                 7|                 0|                       22647|                           4|                            2378.0|                      false|                               2280|                           0|                            1862.0|                      false|     14279|    2811|            367|         1.0|           130|1.669063377E9|0.48772678762006405| 0.8110992529348986| 0.6623977232301672|\n",
            "|       70|     0123| אשדוד|2022-12-25 00:00:00|             1986|                2|                  1962|                     1|                      78|                       0|                 7|                 0|                       28055|                          25|                            2887.0|                      false|                               2684|                           0|                            2032.0|                      false|     15299|    3994|            429|         1.0|           130|1.669063377E9| 0.4972458688032048| 0.6720080120180271| 0.5087631447170756|\n",
            "|       70|     0125| אשדוד|2022-12-25 00:00:00|             1013|                1|                   998|                     0|                      58|                       0|                 7|                 0|                       12587|                          17|                            1508.0|                      false|                               1414|                           0|                            1060.0|                      false|     16319|    2272|            303|         1.0|           130|1.669063377E9|  0.445862676056338| 0.6223591549295775| 0.4665492957746479|\n",
            "|       70|     0126| אשדוד|2022-12-25 00:00:00|             1965|                0|                  1941|                     0|                      74|                       1|                18|                 0|                       31422|                          16|                            3064.0|                      false|                               2877|                           0|                            2201.0|                      false|     17339|    3860|            304|         1.0|           130|1.669063377E9| 0.5090673575129534| 0.7453367875647668| 0.5702072538860103|\n",
            "|       70|     0131| אשדוד|2022-12-25 00:00:00|              909|                1|                   895|                     1|                      23|                       0|                 7|                 0|                       12040|                           6|                            1395.0|                      false|                               1308|                           0|                             992.0|                      false|     18359|    2089|            338|         1.0|           130|1.669063377E9| 0.4351364289133557| 0.6261369076112973| 0.4748683580660603|\n",
            "|       70|     0133| אשדוד|2022-12-25 00:00:00|             1922|                0|                  1903|                     0|                      73|                       0|                 7|                 0|                       23546|                          33|                            2730.0|                      false|                               2528|                           0|                            1810.0|                      false|     19379|    3994|            268|         1.0|           130|1.669063377E9|0.48122183274912367| 0.6329494241362043| 0.4531797696544817|\n",
            "|       70|     0141| אשדוד|2022-12-25 00:00:00|             1991|                0|                  1988|                     0|                      63|                       0|                 7|                 0|                       14461|                           2|                            2669.0|                      false|                               1971|                           0|                             881.0|                      false|     20399|    5929|             63|         1.0|           130|1.669063377E9| 0.3358070500927644| 0.3324337999662675|0.14859166807218754|\n",
            "|       70|     0142| אשדוד|2022-12-25 00:00:00|             1596|                0|                  1589|                     0|                      38|                       0|                 7|                 0|                       14658|                           6|                            1846.0|                      false|                               1580|                           0|                            1005.0|                      false|     21419|    3365|            139|         1.0|           130|1.669063377E9| 0.4742942050520059|0.46953937592867756| 0.2986627043090639|\n",
            "|       70|     0143| אשדוד|2022-12-25 00:00:00|             2632|                1|                  2620|                     1|                      63|                       0|                 7|                 0|                       20890|                           8|                            2380.0|                      false|                               1937|                           0|                            1238.0|                      false|     22439|    4718|            156|         1.0|           130|1.669063377E9| 0.5578635014836796|0.41055532005086903|0.26239932174650277|\n",
            "|       70|     0144| אשדוד|2022-12-25 00:00:00|             3137|                3|                  3109|                     1|                     119|                       0|                16|                 0|                       31573|                          23|                            3383.0|                      false|                               2755|                           0|                            1788.0|                      false|     23459|    7155|            112|         1.0|           130|1.669063377E9| 0.4384346610761705|0.38504542278127185|  0.249895178197065|\n",
            "|       70|     0211| אשדוד|2022-12-25 00:00:00|             5109|                2|                  5101|                     0|                      91|                       0|                 7|                 0|                       37060|                           9|                            6682.0|                      false|                               4733|                           0|                            2228.0|                      false|     24479|    7577|             98|         1.0|           130|1.669063377E9| 0.6742774185033654| 0.6246535568166821|  0.294047776164709|\n",
            "|       70|     0212| אשדוד|2022-12-25 00:00:00|             3108|                0|                  3107|                     0|                      53|                       0|                 7|                 0|                       22013|                           0|                            4269.0|                      false|                               2975|                           0|                            1486.0|                      false|     25499|    7356|            114|         1.0|           130|1.669063377E9|0.42251223491027734|0.40443175638934203|0.20201196302338228|\n",
            "|       70|     0221| אשדוד|2022-12-25 00:00:00|             1718|                0|                  1705|                     0|                      44|                       0|                 7|                 0|                       15718|                           6|                            2005.0|                      false|                               1708|                           0|                            1113.0|                      false|     26519|    3356|            174|         1.0|           130|1.669063377E9| 0.5119189511323003| 0.5089392133492253|0.33164481525625744|\n",
            "|       70|     0222| אשדוד|2022-12-25 00:00:00|             1811|                1|                  1803|                     0|                      58|                       0|                 7|                 0|                       17762|                          14|                            2201.0|                      false|                               1942|                           0|                            1275.0|                      false|     27539|    4002|            217|         1.0|           130|1.669063377E9|0.45252373813093455| 0.4852573713143428|0.31859070464767614|\n",
            "+---------+---------+------+-------------------+-----------------+-----------------+----------------------+----------------------+------------------------+------------------------+------------------+------------------+----------------------------+----------------------------+----------------------------------+---------------------------+-----------------------------------+----------------------------+----------------------------------+---------------------------+----------+--------+---------------+------------+--------------+-------------+-------------------+-------------------+-------------------+\n",
            "only showing top 20 rows\n",
            "\n"
          ]
        }
      ]
    },
    {
      "cell_type": "code",
      "source": [
        "# Select the relevant columns\n",
        "selected_df = filtered_df3.select(\"vac2_per\", \"socio_rank_2019\")\n",
        "\n",
        "# Convert the DataFrame to a Pandas DataFrame\n",
        "pandas_df = selected_df.toPandas()\n",
        "\n",
        "# Create a scatter plot using Matplotlib\n",
        "plt.scatter(pandas_df[\"socio_rank_2019\"], pandas_df[\"vac2_per\"])\n",
        "\n",
        "# Set the axis labels\n",
        "plt.xlabel(\"Socioeconomic rank \")\n",
        "plt.ylabel(\"Percentage 2nd vacination \")\n",
        "\n",
        "# Show the plot\n",
        "plt.show()"
      ],
      "metadata": {
        "id": "C38YB1Z3mQBX",
        "colab": {
          "base_uri": "https://localhost:8080/",
          "height": 283
        },
        "outputId": "6c8c43a7-2ea7-4146-da6e-9441c2cf6b2f"
      },
      "execution_count": null,
      "outputs": [
        {
          "output_type": "display_data",
          "data": {
            "text/plain": [
              "<Figure size 432x288 with 1 Axes>"
            ],
            "image/png": "[encoded data removed]"
          },
          "metadata": {
            "needs_background": "light"
          }
        }
      ]
    },
    {
      "cell_type": "code",
      "source": [
        "from pyspark.sql.functions import col\n",
        "from pyspark.sql.functions import corr\n",
        "from scipy.stats import t\n",
        "\n",
        "# Select the relevant columns\n",
        "selected_df = filtered_df3.select(col(\"vac2_per\"), col(\"socio_rank_2019\"))\n",
        "\n",
        "# Calculate the correlation between the columns\n",
        "correlation = selected_df.corr(\"vac2_per\", \"socio_rank_2019\")\n",
        "\n",
        "# Calculate the degrees of freedom\n",
        "n = selected_df.count()\n",
        "deg_f = n - 2\n",
        "\n",
        "# Calculate the t-statistic\n",
        "t_statistic = correlation * ((n - 2) ** 0.5) / ((1 - correlation ** 2) ** 0.5)\n",
        "\n",
        "# Calculate the p-value\n",
        "p_value = t.sf(abs(t_statistic), deg_f) * 2\n",
        "\n",
        "# Print the results\n",
        "if p_value < 0.05:\n",
        "    print(\"The correlation is statistically significant. p_value=\", p_value,\"correlation = \",correlation)\n",
        "else:\n",
        "    print(\"The correlation is not statistically significant.\")\n"
      ],
      "metadata": {
        "id": "csfjvzcDnY1M"
      },
      "execution_count": null,
      "outputs": []
    },
    {
      "cell_type": "code",
      "source": [
        "# Select the relevant columns\n",
        "selected_df = filtered_df3.select(\"vac3_per\", \"socio_rank_2019\")\n",
        "\n",
        "# Convert the DataFrame to a Pandas DataFrame\n",
        "pandas_df = selected_df.toPandas()\n",
        "\n",
        "# Create a scatter plot using Matplotlib\n",
        "plt.scatter(pandas_df[\"socio_rank_2019\"], pandas_df[\"vac3_per\"])\n",
        "\n",
        "# Set the axis labels\n",
        "plt.xlabel(\"Socioeconomic rank \")\n",
        "plt.ylabel(\"Percentage 3nd vacination \")\n",
        "\n",
        "# Show the plot\n",
        "plt.show()"
      ],
      "metadata": {
        "id": "3y0zXjJJnL69",
        "colab": {
          "base_uri": "https://localhost:8080/",
          "height": 279
        },
        "outputId": "1f4bca4f-9b7f-499e-8ad4-9170327fedbd"
      },
      "execution_count": null,
      "outputs": [
        {
          "output_type": "display_data",
          "data": {
            "text/plain": [
              "<Figure size 432x288 with 1 Axes>"
            ],
            "image/png": "[encoded data removed]"
          },
          "metadata": {
            "needs_background": "light"
          }
        }
      ]
    },
    {
      "cell_type": "code",
      "source": [
        "from pyspark.sql.functions import col\n",
        "from pyspark.sql.functions import corr\n",
        "from scipy.stats import t\n",
        "\n",
        "# Select the relevant columns\n",
        "selected_df = filtered_df3.select(col(\"vac3_per\"), col(\"socio_rank_2019\"))\n",
        "\n",
        "# Calculate the correlation between the columns\n",
        "correlation = selected_df.corr(\"vac3_per\", \"socio_rank_2019\")\n",
        "\n",
        "# Calculate the degrees of freedom\n",
        "n = selected_df.count()\n",
        "deg_f = n - 2\n",
        "\n",
        "# Calculate the t-statistic\n",
        "t_statistic = correlation * ((n - 2) ** 0.5) / ((1 - correlation ** 2) ** 0.5)\n",
        "\n",
        "# Calculate the p-value\n",
        "p_value = t.sf(abs(t_statistic), deg_f) * 2\n",
        "\n",
        "# Print the results\n",
        "if p_value < 0.05:\n",
        "    print(\"The correlation is statistically significant. p_value=\", p_value,\"correlation = \",correlation)\n",
        "else:\n",
        "    print(\"The correlation is not statistically significant.\")\n"
      ],
      "metadata": {
        "id": "9fBtmJU6n9bL"
      },
      "execution_count": null,
      "outputs": []
    },
    {
      "cell_type": "code",
      "source": [
        "filtered_df3.show()"
      ],
      "metadata": {
        "id": "oZRjkPJQCDWo"
      },
      "execution_count": null,
      "outputs": []
    },
    {
      "cell_type": "markdown",
      "source": [
        "# mortality and scocial economuc corelation"
      ],
      "metadata": {
        "id": "dFeImgoq5no8"
      }
    },
    {
      "cell_type": "code",
      "source": [
        "import pyspark.sql.functions as F\n",
        "\n",
        "# Filter out rows with accumulated_deaths less than 15\n",
        "filtered_df4 = filtered_df3.filter(F.col(\"accumulated_deaths\") >= 6)\n",
        "\n",
        "# Create a new column for the percentage of the mortality in population \n",
        "filtered_df4 = filtered_df4.withColumn(\"mortal_per\", F.col(\"accumulated_deaths\") / F.col(\"pop_2019\"))\n",
        "\n"
      ],
      "metadata": {
        "id": "-UvLJWaB6kI2"
      },
      "execution_count": null,
      "outputs": []
    },
    {
      "cell_type": "code",
      "source": [
        "print(filtered_df4.count())"
      ],
      "metadata": {
        "colab": {
          "base_uri": "https://localhost:8080/"
        },
        "id": "N2hB8jLz69cl",
        "outputId": "f4583cfc-acf2-4583-fa46-c5f26426249f"
      },
      "execution_count": null,
      "outputs": [
        {
          "output_type": "stream",
          "name": "stdout",
          "text": [
            "65\n"
          ]
        }
      ]
    },
    {
      "cell_type": "code",
      "source": [
        "# Select the relevant columns\n",
        "selected_df = filtered_df4.select(\"mortal_per\", \"socio_rank_2019\")\n",
        "\n",
        "# Convert the DataFrame to a Pandas DataFrame\n",
        "pandas_df = selected_df.toPandas()\n",
        "\n",
        "# Create a scatter plot using Matplotlib\n",
        "plt.scatter(pandas_df[\"socio_rank_2019\"], pandas_df[\"mortal_per\"])\n",
        "\n",
        "# Set the axis labels\n",
        "plt.xlabel(\"Socioeconomic rank \")\n",
        "plt.ylabel(\"mortality\")\n",
        "\n",
        "# Show the plot\n",
        "plt.show()"
      ],
      "metadata": {
        "colab": {
          "base_uri": "https://localhost:8080/",
          "height": 279
        },
        "id": "xxty-Ge56vt_",
        "outputId": "dc888c9d-195e-41ed-e486-3bee9d66603d"
      },
      "execution_count": null,
      "outputs": [
        {
          "output_type": "display_data",
          "data": {
            "text/plain": [
              "<Figure size 432x288 with 1 Axes>"
            ],
            "image/png": "[encoded data removed]"
          },
          "metadata": {
            "needs_background": "light"
          }
        }
      ]
    },
    {
      "cell_type": "code",
      "source": [
        "from pyspark.sql.functions import col\n",
        "from pyspark.sql.functions import corr\n",
        "from scipy.stats import t\n",
        "\n",
        "# Select the relevant columns\n",
        "selected_df = filtered_df4.select(col(\"mortal_per\"), col(\"socio_rank_2019\"))\n",
        "\n",
        "# Calculate the correlation between the columns\n",
        "correlation = selected_df.corr(\"mortal_per\", \"socio_rank_2019\")\n",
        "print(correlation)"
      ],
      "metadata": {
        "colab": {
          "base_uri": "https://localhost:8080/"
        },
        "id": "IzVFGYlF-Hmb",
        "outputId": "24ce8b8b-491b-4014-fdac-2654127e1328"
      },
      "execution_count": null,
      "outputs": [
        {
          "output_type": "stream",
          "name": "stdout",
          "text": [
            "-0.023905778458343005\n"
          ]
        }
      ]
    },
    {
      "cell_type": "code",
      "source": [
        "#uth : 1 mortality is not corelated look at city clusters and scocial rank of 257 point and not 1344 point data in bycode\n",
        "#2 look at testing rate\n",
        "#3look at distance\n",
        "# fix p value in vacination\n"
      ],
      "metadata": {
        "id": "zhuAXLrf-md_"
      },
      "execution_count": null,
      "outputs": []
    },
    {
      "cell_type": "markdown",
      "source": [
        "#distance from hospital"
      ],
      "metadata": {
        "id": "k18vKHoBTQ7-"
      }
    },
    {
      "cell_type": "code",
      "source": [
        "from pyspark.sql.functions import radians, asin, sin, cos, sqrt\n",
        "\n",
        "# Define the Haversine formula as a UDF\n",
        "#udf(\"double\")\n",
        "def haversine(lat1, lon1, lat2, lon2):\n",
        "    \"\"\"\n",
        "    Calculate the great circle distance between two points\n",
        "    on the earth (specified in decimal degrees)\n",
        "    \"\"\"\n",
        "    # Convert decimal degrees to radians\n",
        "    lat1, lon1, lat2, lon2 = map(radians, [lat1, lon1, lat2, lon2])\n",
        "    \n",
        "    # Haversine formula\n",
        "    dlon = lon2 - lon1\n",
        "    dlat = lat2 - lat1\n",
        "    a = sin(dlat/2)**2 + cos(lat1) * cos(lat2) * sin(dlon/2)**2\n",
        "    c = 2 * asin(sqrt(a))\n",
        "    \n",
        "    # Radius of earth in kilometers is 6371\n",
        "    km = 6371 * c\n",
        "    return km\n",
        "\n",
        "# Load the data into a PySpark DataFrame\n",
        "data = spark.createDataFrame([(40.7128, -74.0060), (51.5074, -0.1278), (45.0000,34.9999),(22.9999,33.7777),(48.8566, 2.3522)], [\"lat\", \"long\"])\n",
        "\n",
        "# Create a DataFrame with the other coordinates\n",
        "others = spark.createDataFrame([(37.7749, -122.4194),(32.0000, 35.000), (35.6895, 139.6917), (55.7558, 37.6173)], [\"other_lat\", \"other_long\"])\n",
        "\n",
        "# Add a cross join to create all possible pairs of coordinates\n",
        "pairs = data.crossJoin(others)\n",
        "\n",
        "# Calculate the distance between each pair using the Haversine formula\n",
        "distances = pairs.select(\n",
        "    \"lat\", \"long\", \"other_lat\", \"other_long\",\n",
        "    haversine(\"lat\", \"long\", \"other_lat\", \"other_long\").alias(\"distance\")\n",
        ")\n",
        "\n",
        "# Sort by distance and take the top 3 shortest distances\n",
        "shortest_distances = distances.orderBy(\"distance\").limit(3)\n",
        "\n",
        "# Show the results\n",
        "shortest_distances.show()\n"
      ],
      "metadata": {
        "id": "K_oyjfUVCJAO"
      },
      "execution_count": null,
      "outputs": []
    },
    {
      "cell_type": "code",
      "source": [
        "# show the distinct distances from col 1\n",
        "shortest_distances = distances.orderBy(\"distance\")\n",
        "\n",
        "shortest_distances.select(\"lat\", \"long\").distinct().show()"
      ],
      "metadata": {
        "id": "Iu0hQHpQVaLT"
      },
      "execution_count": null,
      "outputs": []
    },
    {
      "cell_type": "code",
      "source": [
        "pairs.show()"
      ],
      "metadata": {
        "id": "RpFRti-xUB6Y"
      },
      "execution_count": null,
      "outputs": []
    },
    {
      "cell_type": "code",
      "source": [
        "shortest_distances.show()"
      ],
      "metadata": {
        "id": "OiN3AUSPTrz4"
      },
      "execution_count": null,
      "outputs": []
    },
    {
      "cell_type": "code",
      "source": [
        "distances.show()"
      ],
      "metadata": {
        "id": "9yEHyIEgTyZK"
      },
      "execution_count": null,
      "outputs": []
    },
    {
      "cell_type": "code",
      "source": [
        "# Load the data into a PySpark DataFrame\n",
        "data = spark.createDataFrame([(1, \"John\",\"a\"), (2, \"Jane\",\"b\"), (3, \"Bob\",\"c\"), (2, \"Jane\",\"d\")], [\"id\", \"name\",\"leteer\"])\n",
        " \n",
        "# Show the unique values in the \"id\" column\n",
        "data.select(\"id\").distinct().show()\n",
        "\n",
        "# Show the unique values in the \"id\" and \"name\" columns\n",
        "data.select(\"id\", \"name\").distinct().show()"
      ],
      "metadata": {
        "id": "gS5mSPmXVRun"
      },
      "execution_count": null,
      "outputs": []
    }
  ],
  "metadata": {
    "colab": {
      "provenance": [],
      "toc_visible": true
    },
    "kernelspec": {
      "display_name": "Python 3",
      "name": "python3"
    },
    "language_info": {
      "name": "python"
    }
  },
  "nbformat": 4,
  "nbformat_minor": 0
}